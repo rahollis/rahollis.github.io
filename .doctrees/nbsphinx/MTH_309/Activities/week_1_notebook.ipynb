{
 "cells": [
  {
   "cell_type": "markdown",
   "id": "3a02242f",
   "metadata": {},
   "source": [
    "# Week 1 Activity Notebook\n",
    "\n",
    "Please run the code cell below by pressing `Shift`+`Enter`.  This will download a .py file from the course website into the current working directory.  This file contains some functions I wrote for this activity."
   ]
  },
  {
   "cell_type": "code",
   "execution_count": 1,
   "id": "7233fa65",
   "metadata": {},
   "outputs": [],
   "source": [
    "import requests\n",
    "url = 'https://rahollis.github.io/_static/MTH_309/week_1_activity.py'\n",
    "r = requests.get(url)\n",
    "with open('week_1_activity.py','wb') as f:\n",
    "    f.write(r.content)\n",
    "from week_1_activity import *"
   ]
  },
  {
   "cell_type": "markdown",
   "id": "a4f54125",
   "metadata": {},
   "source": [
    "## Part 1: Exploring systems of equations\n",
    "\n",
    "We will begin by looking at several examples of real world problems we might want to solve.\n",
    "\n",
    "### Economics of manufacturing\n",
    "\n",
    "You are the production manager of a manufacturing company that makes two products, Product A and Product B.  Both of these products use the same materials (albeit in different quantities) and have different labor costs.  Image that Product A uses 7 units of materials and has a labor cost of 50, while Product B uses 10 units of materials but with half the labor cost.\n",
    "\n",
    "#### Exercise:\n",
    "\n",
    "Suppose that you have 270 units of materials on hand.  Write an equations that relates the material costs to the available stock.\n",
    "\n",
    "#### Exercise:\n",
    "\n",
    "Suppose that your labor budget is 1000.  Write an equation that relates the labor costs to the budget.\n",
    "\n",
    "#### Exercise:\n",
    "\n",
    "How many products of each type can you make?  How did you come to your answer?  What information was important?\n",
    "\n",
    "### Chemistry\n",
    "\n",
    "Consider the following chemical reaction:\n",
    "$$ C_8H_{18} + O_2 \\longrightarrow CO_2 + H_2O. $$\n",
    "This chemical reaction is *unbalanced* meaning that the number of atoms of each side is not constant. (How many carbons are there?)  In order to balance this reaction, we need to insert coefficients in front of each molecule so that there are equal numbers of each atoms on each side of the reaction.\n",
    "\n",
    "#### Exercise:\n",
    "\n",
    "Write a system of equations that describes the conditions needed to balance the reaction.  Solve.\n",
    "\n",
    "### Polynomial interpolation\n",
    "\n",
    "Consider a degree 2 polynomial $ q(x) = q_0 + q_1x + q_2x^2 $.  Write and solve a system of equations to determine the coefficients so that $ q(x) $ passes through the points (-3,1), (-1,-3), and (2,6).\n",
    "\n",
    "How many points would you need to determine the coefficients of a degree 5 polynomial?  Degree $d$?\n",
    "\n",
    "### Methods for solving a system of equations\n",
    "\n",
    "What method are you using to solve the system of equations?  Would you still be able to efficiently use that method if the system was much bigger?\n",
    "\n",
    "Consider the system for determining the coefficients of a degree 10 polynomial.  How many unknowns?\n",
    "\n",
    "#### Addition method, system matrix, and Gaussian elimination\n",
    "\n",
    "See notes."
   ]
  },
  {
   "cell_type": "markdown",
   "id": "248e3ce3",
   "metadata": {},
   "source": [
    "## Part 2: Gaussian elimination\n",
    "\n",
    "#### Practice:\n",
    "\n",
    "Use the code cell below to practice the elimination process.  When you input your row operations, use the format `operation_type,row_operation`.  Below are some examples.\n",
    "* Type I: `1,R1->R2` will exchange rows 1 and 2.\n",
    "* Type II: `2,7*R3->R3` will multiply row 3 by 7.\n",
    "* Type II: `2,(-1/3)*R2->R2` will divide row 2 by -3.  Note the parentheses around the fraction and the negative is inside.\n",
    "* Type III: `3,-0.5*R1+R3->R3` adds a multiple of row 1 to row 3.\n",
    "* Type III: `3,(1/4)*R2+R1->R1` adds a quarter of row 2 to row 1."
   ]
  },
  {
   "cell_type": "code",
   "execution_count": 2,
   "id": "cf443b89",
   "metadata": {},
   "outputs": [
    {
     "name": "stdout",
     "output_type": "stream",
     "text": [
      " _                          _\n",
      "|  -3.0   3.0 -21.0 |  44.0  |\n",
      "|   2.0  -2.0  27.0 |  20.0  |\n",
      "|_  0.0   0.0  -8.0 | -23.0 _|\n",
      "\n"
     ]
    },
    {
     "ename": "StdinNotImplementedError",
     "evalue": "raw_input was called, but this frontend does not support input requests.",
     "output_type": "error",
     "traceback": [
      "\u001b[1;31m---------------------------------------------------------------------------\u001b[0m",
      "\u001b[1;31mStdinNotImplementedError\u001b[0m                  Traceback (most recent call last)",
      "\u001b[1;32m~\\AppData\\Local\\Temp/ipykernel_22700/2054693569.py\u001b[0m in \u001b[0;36m<module>\u001b[1;34m\u001b[0m\n\u001b[0;32m      3\u001b[0m \u001b[0mInput\u001b[0m \u001b[0myour\u001b[0m \u001b[0mrow\u001b[0m \u001b[0moperations\u001b[0m \u001b[0musing\u001b[0m \u001b[0mthe\u001b[0m \u001b[0mformat\u001b[0m \u001b[0mdescribed\u001b[0m \u001b[0mabove\u001b[0m \u001b[1;32mand\u001b[0m \u001b[0mhit\u001b[0m \u001b[0mthe\u001b[0m \u001b[0menter\u001b[0m \u001b[0mkey\u001b[0m\u001b[1;33m.\u001b[0m  \u001b[0mWhen\u001b[0m \u001b[0myou\u001b[0m \u001b[0mare\u001b[0m \u001b[0mdone\u001b[0m\u001b[1;33m,\u001b[0m\u001b[1;33m\u001b[0m\u001b[1;33m\u001b[0m\u001b[0m\n\u001b[0;32m      4\u001b[0m hit the enter key without typing anything in the box.'''\n\u001b[1;32m----> 5\u001b[1;33m \u001b[0mGaussianElimination\u001b[0m\u001b[1;33m(\u001b[0m\u001b[1;36m3\u001b[0m\u001b[1;33m,\u001b[0m\u001b[1;36m4\u001b[0m\u001b[1;33m)\u001b[0m\u001b[1;33m\u001b[0m\u001b[1;33m\u001b[0m\u001b[0m\n\u001b[0m",
      "\u001b[1;32m~\\_source\\MTH_309\\Activities\\week_1_activity.py\u001b[0m in \u001b[0;36mGaussianElimination\u001b[1;34m(m, n)\u001b[0m\n\u001b[0;32m     34\u001b[0m     \u001b[0mPrintSystem\u001b[0m\u001b[1;33m(\u001b[0m\u001b[0msystem\u001b[0m\u001b[1;33m,\u001b[0m\u001b[1;36m1\u001b[0m\u001b[1;33m)\u001b[0m\u001b[1;33m\u001b[0m\u001b[1;33m\u001b[0m\u001b[0m\n\u001b[0;32m     35\u001b[0m     \u001b[1;32mwhile\u001b[0m \u001b[1;32mTrue\u001b[0m\u001b[1;33m:\u001b[0m\u001b[1;33m\u001b[0m\u001b[1;33m\u001b[0m\u001b[0m\n\u001b[1;32m---> 36\u001b[1;33m         \u001b[0muser_input\u001b[0m \u001b[1;33m=\u001b[0m \u001b[0minput\u001b[0m\u001b[1;33m(\u001b[0m\u001b[1;34m'Type a row operation.  Use the syntax type,row operation, e.g.: 3,-8*R1+R3->R3. '\u001b[0m\u001b[1;33m)\u001b[0m\u001b[1;33m\u001b[0m\u001b[1;33m\u001b[0m\u001b[0m\n\u001b[0m\u001b[0;32m     37\u001b[0m         \u001b[1;32mif\u001b[0m \u001b[0muser_input\u001b[0m \u001b[1;33m==\u001b[0m \u001b[1;34m''\u001b[0m\u001b[1;33m:\u001b[0m\u001b[1;33m\u001b[0m\u001b[1;33m\u001b[0m\u001b[0m\n\u001b[0;32m     38\u001b[0m             \u001b[1;32mbreak\u001b[0m\u001b[1;33m\u001b[0m\u001b[1;33m\u001b[0m\u001b[0m\n",
      "\u001b[1;32m~\\Anaconda3\\lib\\site-packages\\ipykernel\\kernelbase.py\u001b[0m in \u001b[0;36mraw_input\u001b[1;34m(self, prompt)\u001b[0m\n\u001b[0;32m   1001\u001b[0m         \"\"\"\n\u001b[0;32m   1002\u001b[0m         \u001b[1;32mif\u001b[0m \u001b[1;32mnot\u001b[0m \u001b[0mself\u001b[0m\u001b[1;33m.\u001b[0m\u001b[0m_allow_stdin\u001b[0m\u001b[1;33m:\u001b[0m\u001b[1;33m\u001b[0m\u001b[1;33m\u001b[0m\u001b[0m\n\u001b[1;32m-> 1003\u001b[1;33m             raise StdinNotImplementedError(\n\u001b[0m\u001b[0;32m   1004\u001b[0m                 \u001b[1;34m\"raw_input was called, but this frontend does not support input requests.\"\u001b[0m\u001b[1;33m\u001b[0m\u001b[1;33m\u001b[0m\u001b[0m\n\u001b[0;32m   1005\u001b[0m             )\n",
      "\u001b[1;31mStdinNotImplementedError\u001b[0m: raw_input was called, but this frontend does not support input requests."
     ]
    }
   ],
   "source": [
    "'''This functions allows you to perform Gaussian elimination on a randomly generated system matrix.\n",
    "The inputs are the size of the system (rows,columns).  Note that the number of columns include the RHS column.\n",
    "Input your row operations using the format described above and hit the enter key.  When you are done,\n",
    "hit the enter key without typing anything in the box.'''\n",
    "GaussianElimination(3,4)"
   ]
  },
  {
   "cell_type": "markdown",
   "id": "5b0a14df",
   "metadata": {},
   "source": [
    "## Part 3: Number of solutions\n",
    "\n",
    "#### Explore:\n",
    "Use the code below to generate several random row echelon forms.  For each, decide if the system has a solution.  If it does, write it down.  If there are more than one solution, write down all of them.  Try different sizes."
   ]
  },
  {
   "cell_type": "code",
   "execution_count": 3,
   "id": "532e80c3",
   "metadata": {},
   "outputs": [
    {
     "name": "stdout",
     "output_type": "stream",
     "text": [
      " _                          _\n",
      "|     1     8   -10 |    -5  |\n",
      "|     0     0    -6 |     8  |\n",
      "|_    0     0     1 |   -10 _|\n",
      "\n"
     ]
    }
   ],
   "source": [
    "PrintSystem(GenerateRandomREF(3,4),1)"
   ]
  },
  {
   "cell_type": "markdown",
   "id": "61849f93",
   "metadata": {},
   "source": [
    "#### Exercise:\n",
    "What are the possibilities for the exact number of solutions a system can have?  For each possibility, write down a set of conditions such that a system meeting those conditions will have that many solutions."
   ]
  },
  {
   "cell_type": "code",
   "execution_count": null,
   "id": "3467102c",
   "metadata": {},
   "outputs": [],
   "source": []
  }
 ],
 "metadata": {
  "kernelspec": {
   "display_name": "Python 3 (ipykernel)",
   "language": "python",
   "name": "python3"
  },
  "language_info": {
   "codemirror_mode": {
    "name": "ipython",
    "version": 3
   },
   "file_extension": ".py",
   "mimetype": "text/x-python",
   "name": "python",
   "nbconvert_exporter": "python",
   "pygments_lexer": "ipython3",
   "version": "3.9.7"
  },
  "varInspector": {
   "cols": {
    "lenName": 16,
    "lenType": 16,
    "lenVar": 40
   },
   "kernels_config": {
    "python": {
     "delete_cmd_postfix": "",
     "delete_cmd_prefix": "del ",
     "library": "var_list.py",
     "varRefreshCmd": "print(var_dic_list())"
    },
    "r": {
     "delete_cmd_postfix": ") ",
     "delete_cmd_prefix": "rm(",
     "library": "var_list.r",
     "varRefreshCmd": "cat(var_dic_list()) "
    }
   },
   "types_to_exclude": [
    "module",
    "function",
    "builtin_function_or_method",
    "instance",
    "_Feature"
   ],
   "window_display": false
  }
 },
 "nbformat": 4,
 "nbformat_minor": 5
}
