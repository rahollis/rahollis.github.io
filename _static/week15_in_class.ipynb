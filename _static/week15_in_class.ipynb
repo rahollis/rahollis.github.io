{
 "cells": [
  {
   "cell_type": "markdown",
   "metadata": {},
   "source": [
    "## Week 15"
   ]
  },
  {
   "cell_type": "code",
   "execution_count": 1,
   "metadata": {},
   "outputs": [],
   "source": [
    "def print_sudoku(arr): # arr is a 9x9 numpy array\n",
    "    for i in range(9):\n",
    "        for j in range(9):\n",
    "            x = arr[i, j] if arr[i, j] != 0 else \".\"\n",
    "            print(f\" {x} \", end=\"\")\n",
    "            if j in [2, 5]:\n",
    "                print(\"\\u2551\", end=\"\")\n",
    "        print(\"\")\n",
    "        if i in [2, 5]:\n",
    "            print(\"\\u2550\"*9 + \"\\u256C\" + \"\\u2550\"*9 + \"\\u256C\" + \"\\u2550\"*9)"
   ]
  },
  {
   "cell_type": "code",
   "execution_count": 2,
   "metadata": {},
   "outputs": [],
   "source": [
    "import numpy as np"
   ]
  },
  {
   "cell_type": "code",
   "execution_count": 14,
   "metadata": {},
   "outputs": [
    {
     "name": "stdout",
     "output_type": "stream",
     "text": [
      "[[6 5 9 4 6 4 7 9 7]\n",
      " [0 8 6 2 0 2 1 6 5]\n",
      " [9 4 6 0 2 6 2 5 2]\n",
      " [3 9 5 8 7 9 0 5 4]\n",
      " [6 1 3 1 4 7 7 6 9]\n",
      " [1 1 8 3 3 8 2 3 9]\n",
      " [4 9 6 7 7 2 5 7 1]\n",
      " [5 3 1 3 7 3 4 4 5]\n",
      " [2 8 1 7 7 3 7 8 3]]\n"
     ]
    }
   ],
   "source": [
    "pippo=np.random.randint(10,size=(9,9))\n",
    "print(pippo)"
   ]
  },
  {
   "cell_type": "code",
   "execution_count": 13,
   "metadata": {},
   "outputs": [
    {
     "name": "stdout",
     "output_type": "stream",
     "text": [
      " 1  3  1 ║ 3  3  4 ║ 4  2  2 \n",
      " 8  8  8 ║ 5  1  7 ║ 2  5  2 \n",
      " .  6  4 ║ 5  8  1 ║ 6  6  5 \n",
      "═════════╬═════════╬═════════\n",
      " 8  3  4 ║ 4  8  . ║ 2  6  2 \n",
      " 3  2  3 ║ 4  2  7 ║ 2  .  4 \n",
      " 6  8  1 ║ 4  4  . ║ 7  3  1 \n",
      "═════════╬═════════╬═════════\n",
      " 7  7  . ║ 4  8  5 ║ 3  5  5 \n",
      " 6  2  1 ║ 8  7  5 ║ 8  8  3 \n",
      " 8  .  3 ║ 7  7  8 ║ 3  5  6 \n"
     ]
    }
   ],
   "source": [
    "print_sudoku(pippo)"
   ]
  },
  {
   "cell_type": "markdown",
   "metadata": {},
   "source": [
    "**Hint**: create 3 helper functions that for position [i,j] they will check row i, col j, and the correct 3x3 subgrid."
   ]
  },
  {
   "cell_type": "markdown",
   "metadata": {},
   "source": [
    "### Recursion (necessary to solve harder sudokus)"
   ]
  },
  {
   "cell_type": "markdown",
   "metadata": {},
   "source": [
    "A recursive function, is a function that call itself\n",
    "\n",
    "**example** factorial: $n!=n\\cdot(n-1)\\cdot(n-2)\\cdots 2 \\cdot 1$\n",
    "\n",
    "factorial: $n!= n \\cdot (n-1)!$"
   ]
  },
  {
   "cell_type": "code",
   "execution_count": 17,
   "metadata": {},
   "outputs": [],
   "source": [
    "def fact(n):\n",
    "    if n<2:\n",
    "        return 1\n",
    "    else:\n",
    "        return n*fact(n-1)"
   ]
  },
  {
   "cell_type": "code",
   "execution_count": 18,
   "metadata": {},
   "outputs": [
    {
     "data": {
      "text/plain": [
       "24"
      ]
     },
     "execution_count": 18,
     "metadata": {},
     "output_type": "execute_result"
    }
   ],
   "source": [
    "fact(4)"
   ]
  },
  {
   "cell_type": "markdown",
   "metadata": {},
   "source": [
    "**Ex.** write a recursive function for Santa's gift delivery\n",
    "\n",
    "* Given a list of houses: `house_list`\n",
    "* if the list has 1 house on it -> deliver gifts\n",
    "* otherwise -> split list in half and find 2 more elves"
   ]
  },
  {
   "cell_type": "code",
   "execution_count": 2,
   "metadata": {},
   "outputs": [],
   "source": [
    "mylist=[\"Simone's house\",\"Rosella's house\",\"Amy's house\",\"Lucia's house\",\"Pippo's house\"]"
   ]
  },
  {
   "cell_type": "markdown",
   "metadata": {},
   "source": [
    "output:\n",
    "\n",
    "Delivery to Simone's house\n",
    "\n",
    "Delivery to Rosella's house\n",
    "\n",
    "Delivery to Amy's house\n",
    "\n",
    "...."
   ]
  },
  {
   "cell_type": "code",
   "execution_count": 4,
   "metadata": {},
   "outputs": [],
   "source": [
    "def delivery_recursive(myl):\n",
    "    \n",
    "    if len(myl)==0:\n",
    "        print('No delivery necessary')\n",
    "    elif len(myl)==1:\n",
    "        print(f'Santa is delivering present to {myl[0]}')\n",
    "    else:\n",
    "        middle=len(myl)//2\n",
    "        myl1=myl[:middle]\n",
    "        myl2=myl[middle:]\n",
    "        delivery_recursive(myl1)\n",
    "        delivery_recursive(myl2)"
   ]
  },
  {
   "cell_type": "code",
   "execution_count": 5,
   "metadata": {},
   "outputs": [
    {
     "name": "stdout",
     "output_type": "stream",
     "text": [
      "Santa is delivering present to Simone's house\n",
      "Santa is delivering present to Rosella's house\n",
      "Santa is delivering present to Amy's house\n",
      "Santa is delivering present to Lucia's house\n",
      "Santa is delivering present to Pippo's house\n"
     ]
    }
   ],
   "source": [
    "delivery_recursive(mylist)"
   ]
  },
  {
   "cell_type": "code",
   "execution_count": 82,
   "metadata": {},
   "outputs": [],
   "source": [
    "sudoku_string='''0 0 1 7 2 5 0 0 0\n",
    "0 8 0 0 1 0 0 0 6\n",
    "2 5 0 0 0 0 1 3 0\n",
    "0 7 0 0 0 0 5 0 0\n",
    "0 0 0 1 0 6 0 0 0\n",
    "0 0 9 0 0 0 0 8 0\n",
    "0 4 5 0 0 0 0 2 9\n",
    "7 0 0 0 9 0 0 6 0\n",
    "0 0 0 6 4 8 3 0 0'''"
   ]
  },
  {
   "cell_type": "markdown",
   "metadata": {},
   "source": [
    "**Function** : `sudoku_solver(sudoku_matrix)` -> **Output**: solved sudoku"
   ]
  },
  {
   "cell_type": "markdown",
   "metadata": {},
   "source": [
    "1. Put the string into 9x9 a numpy array\n",
    "2. define `check_rows`\n",
    "3. define `check_col`\n",
    "4. define `check_sq`\n",
    "5. If sudoku entry `[i,j]` =0 -> check row,col,sq to find the number that goes in position [i,j]\n",
    "6. If only one number goes in pos `[i,j]`, plug it in, otherwise don't plug in in position `[i,j]`\n",
    "7. Repeat 5-6 until all the entries are not zero"
   ]
  },
  {
   "cell_type": "code",
   "execution_count": 5,
   "metadata": {},
   "outputs": [],
   "source": [
    "import numpy as np"
   ]
  },
  {
   "cell_type": "code",
   "execution_count": 12,
   "metadata": {},
   "outputs": [],
   "source": [
    "sudoku_array=np.empty(81)\n",
    "# fill the array"
   ]
  },
  {
   "cell_type": "code",
   "execution_count": 11,
   "metadata": {},
   "outputs": [],
   "source": [
    "sudoku_matrix=sudoku_array.reshape(9,9)"
   ]
  },
  {
   "cell_type": "code",
   "execution_count": 79,
   "metadata": {},
   "outputs": [],
   "source": [
    "def check_row(i,sudoku): # i is the row index\n",
    "    num={1,2,3,4,5,6,7,8,9}-set(sudoku[i,:])\n",
    "    return num # a set of the numbers that can fit into the box\n",
    "    "
   ]
  },
  {
   "cell_type": "code",
   "execution_count": null,
   "metadata": {},
   "outputs": [],
   "source": []
  }
 ],
 "metadata": {
  "kernelspec": {
   "display_name": "Python 3",
   "language": "python",
   "name": "python3"
  },
  "language_info": {
   "codemirror_mode": {
    "name": "ipython",
    "version": 3
   },
   "file_extension": ".py",
   "mimetype": "text/x-python",
   "name": "python",
   "nbconvert_exporter": "python",
   "pygments_lexer": "ipython3",
   "version": "3.7.3"
  }
 },
 "nbformat": 4,
 "nbformat_minor": 4
}
