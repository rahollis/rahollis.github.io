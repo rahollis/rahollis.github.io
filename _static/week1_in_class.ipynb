{
 "cells": [
  {
   "cell_type": "markdown",
   "id": "338d5a55",
   "metadata": {},
   "source": [
    "# Week 1 Notes"
   ]
  },
  {
   "cell_type": "markdown",
   "id": "f9df306a",
   "metadata": {},
   "source": [
    "## Markdown\n",
    "\n",
    "Leveled headers and section titles can be produced using the `#`.  The number of `#`s indicates the level of header."
   ]
  },
  {
   "cell_type": "markdown",
   "id": "6165f39a",
   "metadata": {},
   "source": [
    "`# Level 1 header`"
   ]
  },
  {
   "cell_type": "markdown",
   "id": "fbc47c4b",
   "metadata": {},
   "source": [
    "`## Level 2 header`"
   ]
  },
  {
   "cell_type": "markdown",
   "id": "91cc8d48",
   "metadata": {},
   "source": [
    "`### Level 3 header`"
   ]
  },
  {
   "cell_type": "markdown",
   "id": "13cb4f4e",
   "metadata": {},
   "source": [
    "# Level 1 header\n",
    "## Level 2 header\n",
    "### Level 3 header"
   ]
  },
  {
   "cell_type": "markdown",
   "id": "12cb5df8",
   "metadata": {},
   "source": [
    "_Italic_ text can be produce by `_text_` or `*text*`."
   ]
  },
  {
   "cell_type": "markdown",
   "id": "cbcc34ac",
   "metadata": {},
   "source": [
    "**Bold** text is produced by `**text**`."
   ]
  },
  {
   "cell_type": "markdown",
   "id": "5380e68e",
   "metadata": {},
   "source": [
    "Select a code cell and hit the *m* key to change it to a markdown cell."
   ]
  },
  {
   "cell_type": "markdown",
   "id": "9331392a",
   "metadata": {},
   "source": [
    "Lists are easy, just start each line with number followed by period followed by a space.\n",
    "1. item 1\n",
    "2. item 2\n",
    "3. item 3\n",
    "4. etc."
   ]
  },
  {
   "cell_type": "markdown",
   "id": "8089679a",
   "metadata": {},
   "source": [
    "Bullet lists can be created using `*`, `+`, or `-`, and can be intermingled for lists within lists.  For a sublist, just enter onto a new line and put two spaces before the marker.\n",
    "* bullet 1\n",
    "* bullet 2\n",
    "  + bullet 2.1\n",
    "  + bullet 2.2\n",
    "* bullet 3"
   ]
  },
  {
   "cell_type": "markdown",
   "id": "542fb58d",
   "metadata": {},
   "source": [
    "Here is a table.  Double click this cell to see how it is created.\n",
    "\n",
    "Header 1 | Header 2 | Header 3\n",
    "---------|----------|---------\n",
    "data 1   |  data 2  |  data 3\n",
    "more data|  more    | some more"
   ]
  },
  {
   "cell_type": "markdown",
   "id": "8e2953dc",
   "metadata": {},
   "source": [
    "## Code\n",
    "### Arithmetic"
   ]
  },
  {
   "cell_type": "code",
   "execution_count": 1,
   "id": "9562f1cb",
   "metadata": {},
   "outputs": [
    {
     "data": {
      "text/plain": [
       "7"
      ]
     },
     "execution_count": 1,
     "metadata": {},
     "output_type": "execute_result"
    }
   ],
   "source": [
    "3+4"
   ]
  },
  {
   "cell_type": "code",
   "execution_count": 2,
   "id": "6c01a6a3",
   "metadata": {},
   "outputs": [
    {
     "data": {
      "text/plain": [
       "12"
      ]
     },
     "execution_count": 2,
     "metadata": {},
     "output_type": "execute_result"
    }
   ],
   "source": [
    "3*4"
   ]
  },
  {
   "cell_type": "code",
   "execution_count": 3,
   "id": "bb614238",
   "metadata": {},
   "outputs": [
    {
     "data": {
      "text/plain": [
       "-1"
      ]
     },
     "execution_count": 3,
     "metadata": {},
     "output_type": "execute_result"
    }
   ],
   "source": [
    "3-4"
   ]
  },
  {
   "cell_type": "code",
   "execution_count": 4,
   "id": "c37b5356",
   "metadata": {},
   "outputs": [
    {
     "data": {
      "text/plain": [
       "0.75"
      ]
     },
     "execution_count": 4,
     "metadata": {},
     "output_type": "execute_result"
    }
   ],
   "source": [
    "3/4"
   ]
  },
  {
   "cell_type": "markdown",
   "id": "339a6671",
   "metadata": {},
   "source": [
    "Numbers come in two flavors, integers and floats (decimals), and they are treated differently by Python."
   ]
  },
  {
   "cell_type": "code",
   "execution_count": 5,
   "id": "f399f044",
   "metadata": {},
   "outputs": [
    {
     "data": {
      "text/plain": [
       "int"
      ]
     },
     "execution_count": 5,
     "metadata": {},
     "output_type": "execute_result"
    }
   ],
   "source": [
    "type(3)"
   ]
  },
  {
   "cell_type": "code",
   "execution_count": 6,
   "id": "5ae7a7f4",
   "metadata": {},
   "outputs": [
    {
     "data": {
      "text/plain": [
       "float"
      ]
     },
     "execution_count": 6,
     "metadata": {},
     "output_type": "execute_result"
    }
   ],
   "source": [
    "type(3.0)"
   ]
  },
  {
   "cell_type": "code",
   "execution_count": 7,
   "id": "83846642",
   "metadata": {},
   "outputs": [
    {
     "data": {
      "text/plain": [
       "3.0"
      ]
     },
     "execution_count": 7,
     "metadata": {},
     "output_type": "execute_result"
    }
   ],
   "source": [
    "12/4"
   ]
  },
  {
   "cell_type": "code",
   "execution_count": 8,
   "id": "fa5557de",
   "metadata": {},
   "outputs": [
    {
     "data": {
      "text/plain": [
       "float"
      ]
     },
     "execution_count": 8,
     "metadata": {},
     "output_type": "execute_result"
    }
   ],
   "source": [
    "type(12/4)"
   ]
  },
  {
   "cell_type": "code",
   "execution_count": 9,
   "id": "63422c0c",
   "metadata": {},
   "outputs": [
    {
     "data": {
      "text/plain": [
       "3"
      ]
     },
     "execution_count": 9,
     "metadata": {},
     "output_type": "execute_result"
    }
   ],
   "source": [
    "12//4"
   ]
  },
  {
   "cell_type": "code",
   "execution_count": 10,
   "id": "ab297115",
   "metadata": {},
   "outputs": [
    {
     "data": {
      "text/plain": [
       "int"
      ]
     },
     "execution_count": 10,
     "metadata": {},
     "output_type": "execute_result"
    }
   ],
   "source": [
    "type(12//4)"
   ]
  },
  {
   "cell_type": "code",
   "execution_count": 13,
   "id": "a09e83c5",
   "metadata": {},
   "outputs": [
    {
     "data": {
      "text/plain": [
       "3"
      ]
     },
     "execution_count": 13,
     "metadata": {},
     "output_type": "execute_result"
    }
   ],
   "source": [
    "14//4"
   ]
  },
  {
   "cell_type": "code",
   "execution_count": 14,
   "id": "d299d72a",
   "metadata": {},
   "outputs": [
    {
     "data": {
      "text/plain": [
       "2"
      ]
     },
     "execution_count": 14,
     "metadata": {},
     "output_type": "execute_result"
    }
   ],
   "source": [
    "14%4"
   ]
  },
  {
   "cell_type": "code",
   "execution_count": 17,
   "id": "cb481b7f",
   "metadata": {},
   "outputs": [
    {
     "data": {
      "text/plain": [
       "-3.42"
      ]
     },
     "execution_count": 17,
     "metadata": {},
     "output_type": "execute_result"
    }
   ],
   "source": [
    "3.45 - 6.87"
   ]
  },
  {
   "cell_type": "code",
   "execution_count": 18,
   "id": "22e2c4b2",
   "metadata": {},
   "outputs": [
    {
     "data": {
      "text/plain": [
       "0.5021834061135372"
      ]
     },
     "execution_count": 18,
     "metadata": {},
     "output_type": "execute_result"
    }
   ],
   "source": [
    "3.45/6.87"
   ]
  },
  {
   "cell_type": "code",
   "execution_count": 19,
   "id": "73866b49",
   "metadata": {},
   "outputs": [
    {
     "data": {
      "text/plain": [
       "81"
      ]
     },
     "execution_count": 19,
     "metadata": {},
     "output_type": "execute_result"
    }
   ],
   "source": [
    "3**4"
   ]
  },
  {
   "cell_type": "code",
   "execution_count": 20,
   "id": "b9084989",
   "metadata": {},
   "outputs": [
    {
     "data": {
      "text/plain": [
       "81.0"
      ]
     },
     "execution_count": 20,
     "metadata": {},
     "output_type": "execute_result"
    }
   ],
   "source": [
    "3.0**4"
   ]
  },
  {
   "cell_type": "code",
   "execution_count": 21,
   "id": "b74c62b4",
   "metadata": {},
   "outputs": [
    {
     "data": {
      "text/plain": [
       "81.0"
      ]
     },
     "execution_count": 21,
     "metadata": {},
     "output_type": "execute_result"
    }
   ],
   "source": [
    "3**4.0"
   ]
  },
  {
   "cell_type": "markdown",
   "id": "06aa5ce3",
   "metadata": {},
   "source": [
    "### Strings and text"
   ]
  },
  {
   "cell_type": "code",
   "execution_count": 22,
   "id": "34ce377a",
   "metadata": {},
   "outputs": [
    {
     "data": {
      "text/plain": [
       "'This is a string.'"
      ]
     },
     "execution_count": 22,
     "metadata": {},
     "output_type": "execute_result"
    }
   ],
   "source": [
    "'This is a string.'"
   ]
  },
  {
   "cell_type": "code",
   "execution_count": 23,
   "id": "0fb02be1",
   "metadata": {},
   "outputs": [
    {
     "name": "stdout",
     "output_type": "stream",
     "text": [
      "This is a string.\n"
     ]
    }
   ],
   "source": [
    "print('This is a string.')"
   ]
  },
  {
   "cell_type": "code",
   "execution_count": 24,
   "id": "7a518c81",
   "metadata": {},
   "outputs": [
    {
     "data": {
      "text/plain": [
       "'3/4'"
      ]
     },
     "execution_count": 24,
     "metadata": {},
     "output_type": "execute_result"
    }
   ],
   "source": [
    "'3/4'"
   ]
  },
  {
   "cell_type": "code",
   "execution_count": 26,
   "id": "3ec8ef7c",
   "metadata": {},
   "outputs": [
    {
     "data": {
      "text/plain": [
       "'string 1 string 2'"
      ]
     },
     "execution_count": 26,
     "metadata": {},
     "output_type": "execute_result"
    }
   ],
   "source": [
    "'string 1' + ' ' + 'string 2'"
   ]
  },
  {
   "cell_type": "code",
   "execution_count": 29,
   "id": "763f91fa",
   "metadata": {},
   "outputs": [
    {
     "data": {
      "text/plain": [
       "'string 1 string 1 string 1 string 1 string 1 '"
      ]
     },
     "execution_count": 29,
     "metadata": {},
     "output_type": "execute_result"
    }
   ],
   "source": [
    "'string 1 ' * 5"
   ]
  },
  {
   "cell_type": "code",
   "execution_count": 30,
   "id": "d78c1776",
   "metadata": {},
   "outputs": [
    {
     "data": {
      "text/plain": [
       "'3'"
      ]
     },
     "execution_count": 30,
     "metadata": {},
     "output_type": "execute_result"
    }
   ],
   "source": [
    "str(3)"
   ]
  },
  {
   "cell_type": "code",
   "execution_count": 31,
   "id": "339a5b36",
   "metadata": {},
   "outputs": [
    {
     "data": {
      "text/plain": [
       "'3.0'"
      ]
     },
     "execution_count": 31,
     "metadata": {},
     "output_type": "execute_result"
    }
   ],
   "source": [
    "str(3.0)"
   ]
  },
  {
   "cell_type": "code",
   "execution_count": 32,
   "id": "85715237",
   "metadata": {},
   "outputs": [
    {
     "data": {
      "text/plain": [
       "3"
      ]
     },
     "execution_count": 32,
     "metadata": {},
     "output_type": "execute_result"
    }
   ],
   "source": [
    "int('3')"
   ]
  },
  {
   "cell_type": "code",
   "execution_count": 33,
   "id": "706204f9",
   "metadata": {},
   "outputs": [
    {
     "data": {
      "text/plain": [
       "3.0"
      ]
     },
     "execution_count": 33,
     "metadata": {},
     "output_type": "execute_result"
    }
   ],
   "source": [
    "float(3)"
   ]
  },
  {
   "cell_type": "code",
   "execution_count": 34,
   "id": "0f0e5716",
   "metadata": {},
   "outputs": [],
   "source": [
    "str1 = 'This is the first string.'"
   ]
  },
  {
   "cell_type": "code",
   "execution_count": 35,
   "id": "489fd2e2",
   "metadata": {},
   "outputs": [
    {
     "data": {
      "text/plain": [
       "'This is the first string.'"
      ]
     },
     "execution_count": 35,
     "metadata": {},
     "output_type": "execute_result"
    }
   ],
   "source": [
    "str1"
   ]
  },
  {
   "cell_type": "code",
   "execution_count": 36,
   "id": "bd42ee5e",
   "metadata": {},
   "outputs": [
    {
     "data": {
      "text/plain": [
       "'s'"
      ]
     },
     "execution_count": 36,
     "metadata": {},
     "output_type": "execute_result"
    }
   ],
   "source": [
    "str1[3]"
   ]
  },
  {
   "cell_type": "code",
   "execution_count": 38,
   "id": "e020ebde",
   "metadata": {},
   "outputs": [
    {
     "data": {
      "text/plain": [
       "'This'"
      ]
     },
     "execution_count": 38,
     "metadata": {},
     "output_type": "execute_result"
    }
   ],
   "source": [
    "str1[0:4]"
   ]
  },
  {
   "cell_type": "code",
   "execution_count": 40,
   "id": "6d439cb7",
   "metadata": {},
   "outputs": [
    {
     "data": {
      "text/plain": [
       "'the'"
      ]
     },
     "execution_count": 40,
     "metadata": {},
     "output_type": "execute_result"
    }
   ],
   "source": [
    "str1[8:11]"
   ]
  },
  {
   "cell_type": "code",
   "execution_count": 41,
   "id": "85afc0cc",
   "metadata": {},
   "outputs": [
    {
     "data": {
      "text/plain": [
       "'the first string.'"
      ]
     },
     "execution_count": 41,
     "metadata": {},
     "output_type": "execute_result"
    }
   ],
   "source": [
    "str1[8:]"
   ]
  },
  {
   "cell_type": "code",
   "execution_count": 42,
   "id": "48efc4ea",
   "metadata": {},
   "outputs": [
    {
     "data": {
      "text/plain": [
       "'This is '"
      ]
     },
     "execution_count": 42,
     "metadata": {},
     "output_type": "execute_result"
    }
   ],
   "source": [
    "str1[:8]"
   ]
  },
  {
   "cell_type": "code",
   "execution_count": 43,
   "id": "ac3d37f9",
   "metadata": {},
   "outputs": [
    {
     "data": {
      "text/plain": [
       "'.'"
      ]
     },
     "execution_count": 43,
     "metadata": {},
     "output_type": "execute_result"
    }
   ],
   "source": [
    "str1[-1]"
   ]
  },
  {
   "cell_type": "code",
   "execution_count": 44,
   "id": "4a28938c",
   "metadata": {},
   "outputs": [
    {
     "data": {
      "text/plain": [
       "'g'"
      ]
     },
     "execution_count": 44,
     "metadata": {},
     "output_type": "execute_result"
    }
   ],
   "source": [
    "str1[-2]"
   ]
  },
  {
   "cell_type": "markdown",
   "id": "a3381a05",
   "metadata": {},
   "source": [
    "Strings are iterables (objects with an inherent order).  Here are some more.\n",
    "### Lists"
   ]
  },
  {
   "cell_type": "code",
   "execution_count": 45,
   "id": "7893f759",
   "metadata": {},
   "outputs": [],
   "source": [
    "list1 = [3,8,90,4.7,'hello']"
   ]
  },
  {
   "cell_type": "code",
   "execution_count": 46,
   "id": "d961ddec",
   "metadata": {},
   "outputs": [
    {
     "data": {
      "text/plain": [
       "3"
      ]
     },
     "execution_count": 46,
     "metadata": {},
     "output_type": "execute_result"
    }
   ],
   "source": [
    "list1[0]"
   ]
  },
  {
   "cell_type": "code",
   "execution_count": 47,
   "id": "dc0704bb",
   "metadata": {},
   "outputs": [
    {
     "data": {
      "text/plain": [
       "[3, 8, 90]"
      ]
     },
     "execution_count": 47,
     "metadata": {},
     "output_type": "execute_result"
    }
   ],
   "source": [
    "list1[:3]"
   ]
  },
  {
   "cell_type": "code",
   "execution_count": 49,
   "id": "a9f86741",
   "metadata": {},
   "outputs": [
    {
     "data": {
      "text/plain": [
       "'e'"
      ]
     },
     "execution_count": 49,
     "metadata": {},
     "output_type": "execute_result"
    }
   ],
   "source": [
    "list1[-1][1]"
   ]
  },
  {
   "cell_type": "code",
   "execution_count": 52,
   "id": "88da3b08",
   "metadata": {},
   "outputs": [
    {
     "name": "stdout",
     "output_type": "stream",
     "text": [
      "[3, 8, 90, 4.7, 'hello', 67, 67]\n"
     ]
    }
   ],
   "source": [
    "list1.append(67)\n",
    "print(list1)"
   ]
  },
  {
   "cell_type": "code",
   "execution_count": 51,
   "id": "c55c4e75",
   "metadata": {},
   "outputs": [
    {
     "data": {
      "text/plain": [
       "[3, 8, 90, 4.7, 'hello', 67]"
      ]
     },
     "execution_count": 51,
     "metadata": {},
     "output_type": "execute_result"
    }
   ],
   "source": [
    "list1"
   ]
  },
  {
   "cell_type": "code",
   "execution_count": 53,
   "id": "9ad11adc",
   "metadata": {},
   "outputs": [
    {
     "name": "stdout",
     "output_type": "stream",
     "text": [
      "[3, 8, 90, 'hello', 67, 67]\n"
     ]
    }
   ],
   "source": [
    "list1.remove(4.7)\n",
    "print(list1)"
   ]
  },
  {
   "cell_type": "code",
   "execution_count": 54,
   "id": "4e0bf578",
   "metadata": {},
   "outputs": [
    {
     "data": {
      "text/plain": [
       "'hello'"
      ]
     },
     "execution_count": 54,
     "metadata": {},
     "output_type": "execute_result"
    }
   ],
   "source": [
    "item3 = list1.pop(3)"
   ]
  },
  {
   "cell_type": "code",
   "execution_count": 55,
   "id": "e2e861ea",
   "metadata": {},
   "outputs": [
    {
     "name": "stdout",
     "output_type": "stream",
     "text": [
      "[3, 8, 90, 67, 67]\n"
     ]
    }
   ],
   "source": [
    "print(list1)"
   ]
  },
  {
   "cell_type": "markdown",
   "id": "e9a7940f",
   "metadata": {},
   "source": [
    "### Tuples"
   ]
  },
  {
   "cell_type": "code",
   "execution_count": 56,
   "id": "ccb68758",
   "metadata": {},
   "outputs": [],
   "source": [
    "tup1 = (3,4)"
   ]
  },
  {
   "cell_type": "code",
   "execution_count": 57,
   "id": "f19dd710",
   "metadata": {},
   "outputs": [
    {
     "data": {
      "text/plain": [
       "3"
      ]
     },
     "execution_count": 57,
     "metadata": {},
     "output_type": "execute_result"
    }
   ],
   "source": [
    "tup1[0]"
   ]
  },
  {
   "cell_type": "code",
   "execution_count": 58,
   "id": "cdad425a",
   "metadata": {},
   "outputs": [
    {
     "data": {
      "text/plain": [
       "4"
      ]
     },
     "execution_count": 58,
     "metadata": {},
     "output_type": "execute_result"
    }
   ],
   "source": [
    "tup1[1]"
   ]
  },
  {
   "cell_type": "markdown",
   "id": "226ca9ad",
   "metadata": {},
   "source": [
    "Tuples are immutable (once created, they cannot be changed)."
   ]
  },
  {
   "cell_type": "code",
   "execution_count": 59,
   "id": "129a9026",
   "metadata": {},
   "outputs": [
    {
     "ename": "AttributeError",
     "evalue": "'tuple' object has no attribute 'append'",
     "output_type": "error",
     "traceback": [
      "\u001b[1;31m---------------------------------------------------------------------------\u001b[0m",
      "\u001b[1;31mAttributeError\u001b[0m                            Traceback (most recent call last)",
      "\u001b[1;32m~\\AppData\\Local\\Temp/ipykernel_14356/1424460431.py\u001b[0m in \u001b[0;36m<module>\u001b[1;34m\u001b[0m\n\u001b[1;32m----> 1\u001b[1;33m \u001b[0mtup1\u001b[0m\u001b[1;33m.\u001b[0m\u001b[0mappend\u001b[0m\u001b[1;33m(\u001b[0m\u001b[1;36m7\u001b[0m\u001b[1;33m)\u001b[0m\u001b[1;33m\u001b[0m\u001b[1;33m\u001b[0m\u001b[0m\n\u001b[0m",
      "\u001b[1;31mAttributeError\u001b[0m: 'tuple' object has no attribute 'append'"
     ]
    }
   ],
   "source": [
    "tup1.append(7)"
   ]
  },
  {
   "cell_type": "code",
   "execution_count": 60,
   "id": "b088241e",
   "metadata": {},
   "outputs": [
    {
     "ename": "AttributeError",
     "evalue": "'tuple' object has no attribute 'remove'",
     "output_type": "error",
     "traceback": [
      "\u001b[1;31m---------------------------------------------------------------------------\u001b[0m",
      "\u001b[1;31mAttributeError\u001b[0m                            Traceback (most recent call last)",
      "\u001b[1;32m~\\AppData\\Local\\Temp/ipykernel_14356/60738018.py\u001b[0m in \u001b[0;36m<module>\u001b[1;34m\u001b[0m\n\u001b[1;32m----> 1\u001b[1;33m \u001b[0mtup1\u001b[0m\u001b[1;33m.\u001b[0m\u001b[0mremove\u001b[0m\u001b[1;33m(\u001b[0m\u001b[1;36m3\u001b[0m\u001b[1;33m)\u001b[0m\u001b[1;33m\u001b[0m\u001b[1;33m\u001b[0m\u001b[0m\n\u001b[0m",
      "\u001b[1;31mAttributeError\u001b[0m: 'tuple' object has no attribute 'remove'"
     ]
    }
   ],
   "source": [
    "tup1.remove(3)"
   ]
  },
  {
   "cell_type": "markdown",
   "id": "7cf349d7",
   "metadata": {},
   "source": [
    "### Dictionaries\n",
    "Dictionaries are used to store data that is not indexed by the natural numbers."
   ]
  },
  {
   "cell_type": "code",
   "execution_count": 61,
   "id": "ce14a0d9",
   "metadata": {},
   "outputs": [],
   "source": [
    "dictionary1 = {'key1':'item1','key2':[1,2,3],5:'item3'}"
   ]
  },
  {
   "cell_type": "code",
   "execution_count": 62,
   "id": "787f7ecc",
   "metadata": {},
   "outputs": [
    {
     "data": {
      "text/plain": [
       "'item1'"
      ]
     },
     "execution_count": 62,
     "metadata": {},
     "output_type": "execute_result"
    }
   ],
   "source": [
    "dictionary1['key1']"
   ]
  },
  {
   "cell_type": "code",
   "execution_count": 63,
   "id": "00686151",
   "metadata": {},
   "outputs": [
    {
     "data": {
      "text/plain": [
       "'item3'"
      ]
     },
     "execution_count": 63,
     "metadata": {},
     "output_type": "execute_result"
    }
   ],
   "source": [
    "dictionary1[5]"
   ]
  },
  {
   "cell_type": "code",
   "execution_count": 64,
   "id": "34c268e8",
   "metadata": {},
   "outputs": [
    {
     "data": {
      "text/plain": [
       "dict_keys(['key1', 'key2', 5])"
      ]
     },
     "execution_count": 64,
     "metadata": {},
     "output_type": "execute_result"
    }
   ],
   "source": [
    "dictionary1.keys()"
   ]
  },
  {
   "cell_type": "code",
   "execution_count": 71,
   "id": "495d9653",
   "metadata": {},
   "outputs": [
    {
     "data": {
      "text/plain": [
       "dict_items([('key1', 'item1'), ('key2', [1, 2, 3]), (5, 'item3'), (67, 'hello')])"
      ]
     },
     "execution_count": 71,
     "metadata": {},
     "output_type": "execute_result"
    }
   ],
   "source": [
    "dictionary1.items()"
   ]
  },
  {
   "cell_type": "code",
   "execution_count": 70,
   "id": "0170d01e",
   "metadata": {},
   "outputs": [],
   "source": [
    "dictionary1[67] = 'hello'"
   ]
  },
  {
   "cell_type": "markdown",
   "id": "9f299a9d",
   "metadata": {},
   "source": [
    "## Importing Libraries"
   ]
  },
  {
   "cell_type": "code",
   "execution_count": 72,
   "id": "ce34e35d",
   "metadata": {},
   "outputs": [
    {
     "ename": "NameError",
     "evalue": "name 'sin' is not defined",
     "output_type": "error",
     "traceback": [
      "\u001b[1;31m---------------------------------------------------------------------------\u001b[0m",
      "\u001b[1;31mNameError\u001b[0m                                 Traceback (most recent call last)",
      "\u001b[1;32m~\\AppData\\Local\\Temp/ipykernel_14356/2845774939.py\u001b[0m in \u001b[0;36m<module>\u001b[1;34m\u001b[0m\n\u001b[1;32m----> 1\u001b[1;33m \u001b[0msin\u001b[0m\u001b[1;33m(\u001b[0m\u001b[1;36m30\u001b[0m\u001b[1;33m)\u001b[0m\u001b[1;33m\u001b[0m\u001b[1;33m\u001b[0m\u001b[0m\n\u001b[0m",
      "\u001b[1;31mNameError\u001b[0m: name 'sin' is not defined"
     ]
    }
   ],
   "source": [
    "sin(30)"
   ]
  },
  {
   "cell_type": "code",
   "execution_count": 76,
   "id": "64b92338",
   "metadata": {},
   "outputs": [],
   "source": [
    "from math import sin,pi"
   ]
  },
  {
   "cell_type": "code",
   "execution_count": 77,
   "id": "973c881e",
   "metadata": {},
   "outputs": [
    {
     "data": {
      "text/plain": [
       "0.49999999999999994"
      ]
     },
     "execution_count": 77,
     "metadata": {},
     "output_type": "execute_result"
    }
   ],
   "source": [
    "sin(pi/6)"
   ]
  },
  {
   "cell_type": "code",
   "execution_count": 78,
   "id": "8e185325",
   "metadata": {},
   "outputs": [],
   "source": [
    "import math"
   ]
  },
  {
   "cell_type": "code",
   "execution_count": 79,
   "id": "604ee9ac",
   "metadata": {},
   "outputs": [
    {
     "ename": "NameError",
     "evalue": "name 'cos' is not defined",
     "output_type": "error",
     "traceback": [
      "\u001b[1;31m---------------------------------------------------------------------------\u001b[0m",
      "\u001b[1;31mNameError\u001b[0m                                 Traceback (most recent call last)",
      "\u001b[1;32m~\\AppData\\Local\\Temp/ipykernel_14356/2524266362.py\u001b[0m in \u001b[0;36m<module>\u001b[1;34m\u001b[0m\n\u001b[1;32m----> 1\u001b[1;33m \u001b[0mcos\u001b[0m\u001b[1;33m(\u001b[0m\u001b[0mpi\u001b[0m\u001b[1;33m/\u001b[0m\u001b[1;36m6\u001b[0m\u001b[1;33m)\u001b[0m\u001b[1;33m\u001b[0m\u001b[1;33m\u001b[0m\u001b[0m\n\u001b[0m",
      "\u001b[1;31mNameError\u001b[0m: name 'cos' is not defined"
     ]
    }
   ],
   "source": [
    "cos(pi/6)"
   ]
  },
  {
   "cell_type": "code",
   "execution_count": 80,
   "id": "28dda3c9",
   "metadata": {},
   "outputs": [
    {
     "data": {
      "text/plain": [
       "0.8660254037844387"
      ]
     },
     "execution_count": 80,
     "metadata": {},
     "output_type": "execute_result"
    }
   ],
   "source": [
    "math.cos(pi/6)"
   ]
  },
  {
   "cell_type": "code",
   "execution_count": 81,
   "id": "dae4ed37",
   "metadata": {},
   "outputs": [],
   "source": [
    "import math as m"
   ]
  },
  {
   "cell_type": "code",
   "execution_count": 82,
   "id": "53a55612",
   "metadata": {},
   "outputs": [
    {
     "data": {
      "text/plain": [
       "15.154262241479262"
      ]
     },
     "execution_count": 82,
     "metadata": {},
     "output_type": "execute_result"
    }
   ],
   "source": [
    "m.exp(m.e)"
   ]
  },
  {
   "cell_type": "code",
   "execution_count": 83,
   "id": "6916c34a",
   "metadata": {},
   "outputs": [],
   "source": [
    "import random"
   ]
  },
  {
   "cell_type": "code",
   "execution_count": 89,
   "id": "216f7b6e",
   "metadata": {},
   "outputs": [
    {
     "data": {
      "text/plain": [
       "0.555765818253865"
      ]
     },
     "execution_count": 89,
     "metadata": {},
     "output_type": "execute_result"
    }
   ],
   "source": [
    "random.random()"
   ]
  },
  {
   "cell_type": "code",
   "execution_count": 90,
   "id": "20da3f3e",
   "metadata": {},
   "outputs": [],
   "source": [
    "import matplotlib.pyplot as plt "
   ]
  },
  {
   "cell_type": "markdown",
   "id": "aac03a38",
   "metadata": {},
   "source": [
    "## Finding this file on your computer"
   ]
  },
  {
   "cell_type": "code",
   "execution_count": 91,
   "id": "51ea1829",
   "metadata": {},
   "outputs": [
    {
     "data": {
      "text/plain": [
       "'C:\\\\Users\\\\rahollis\\\\Documents\\\\Teaching\\\\MTH 337\\\\2022 - Spring'"
      ]
     },
     "execution_count": 91,
     "metadata": {},
     "output_type": "execute_result"
    }
   ],
   "source": [
    "pwd"
   ]
  },
  {
   "cell_type": "markdown",
   "id": "64392cfa",
   "metadata": {},
   "source": [
    "## LaTeX in Markdown"
   ]
  },
  {
   "cell_type": "markdown",
   "id": "67444bbe",
   "metadata": {},
   "source": [
    "Here is a simple quadratic equation $y=x^2 + 2x - 1$."
   ]
  },
  {
   "cell_type": "markdown",
   "id": "ca172420",
   "metadata": {},
   "source": [
    "Here is the same equation displayed $$y = x^2 + 2x - 1$$"
   ]
  },
  {
   "cell_type": "markdown",
   "id": "14a45501",
   "metadata": {},
   "source": [
    "Square roots:  `\\sqrt{}`  $$ \\sqrt{x^2+1} $$"
   ]
  },
  {
   "cell_type": "markdown",
   "id": "200644a2",
   "metadata": {},
   "source": [
    "Trig functions: `\\sin()`  $$ \\sin(\\pi/2) $$"
   ]
  },
  {
   "cell_type": "markdown",
   "id": "72aebdfd",
   "metadata": {},
   "source": [
    "Fractions: `\\frac{}{}`  $$ \\sin(\\frac{\\pi}{2}) $$"
   ]
  },
  {
   "cell_type": "markdown",
   "id": "3f0e84cc",
   "metadata": {},
   "source": [
    "Auto-size delimiters:  `\\left(` and `\\right)`  $$ \\sin\\left(\\frac{\\pi}{2}\\right) $$"
   ]
  },
  {
   "cell_type": "markdown",
   "id": "b5a51f47",
   "metadata": {},
   "source": [
    "Piecewise function:  `\\begin{cases} \\end{cases}`  $$ f(x) = \\begin{cases} 1, \\text{ if }x > 0 \\\\ -1, \\text{ if } x < 0 \\end{cases} $$"
   ]
  },
  {
   "cell_type": "markdown",
   "id": "8a36038a",
   "metadata": {},
   "source": [
    "## Loops"
   ]
  },
  {
   "cell_type": "markdown",
   "id": "f884b059",
   "metadata": {},
   "source": [
    "### For loops"
   ]
  },
  {
   "cell_type": "code",
   "execution_count": 6,
   "id": "d7325679",
   "metadata": {},
   "outputs": [
    {
     "name": "stdout",
     "output_type": "stream",
     "text": [
      "1\n",
      "2\n",
      "8\n",
      "9\n",
      "7\n",
      "banana\n",
      "18.5\n",
      "3\n",
      "4\n",
      "5\n"
     ]
    }
   ],
   "source": [
    "for item in [1,2,8,9,7,'banana',18.5,3,4,5]:\n",
    "    print(item)"
   ]
  },
  {
   "cell_type": "code",
   "execution_count": 7,
   "id": "efbb6408",
   "metadata": {},
   "outputs": [
    {
     "name": "stdout",
     "output_type": "stream",
     "text": [
      "H\n",
      "e\n",
      "r\n",
      "e\n",
      " \n",
      "i\n",
      "s\n",
      " \n",
      "a\n",
      " \n",
      "s\n",
      "t\n",
      "r\n",
      "i\n",
      "n\n",
      "g\n",
      ".\n"
     ]
    }
   ],
   "source": [
    "for char in 'Here is a string.':\n",
    "    print(char)"
   ]
  },
  {
   "cell_type": "code",
   "execution_count": 11,
   "id": "f3cadfb2",
   "metadata": {},
   "outputs": [],
   "source": [
    "total_sum = 0\n",
    "for num in range(101):\n",
    "    total_sum = total_sum + num"
   ]
  },
  {
   "cell_type": "code",
   "execution_count": 12,
   "id": "6f2f5c89",
   "metadata": {},
   "outputs": [
    {
     "data": {
      "text/plain": [
       "5050"
      ]
     },
     "execution_count": 12,
     "metadata": {},
     "output_type": "execute_result"
    }
   ],
   "source": [
    "total_sum"
   ]
  },
  {
   "cell_type": "code",
   "execution_count": 17,
   "id": "9a37b5c7",
   "metadata": {},
   "outputs": [],
   "source": [
    "new_sum = 0\n",
    "for num in range(-1,-100,-2):\n",
    "    new_sum += num"
   ]
  },
  {
   "cell_type": "code",
   "execution_count": 18,
   "id": "f6d4b325",
   "metadata": {},
   "outputs": [
    {
     "data": {
      "text/plain": [
       "-2500"
      ]
     },
     "execution_count": 18,
     "metadata": {},
     "output_type": "execute_result"
    }
   ],
   "source": [
    "new_sum"
   ]
  },
  {
   "cell_type": "markdown",
   "id": "112f566d",
   "metadata": {},
   "source": [
    "### Boolean Statements"
   ]
  },
  {
   "cell_type": "code",
   "execution_count": 19,
   "id": "6dda819a",
   "metadata": {},
   "outputs": [
    {
     "data": {
      "text/plain": [
       "False"
      ]
     },
     "execution_count": 19,
     "metadata": {},
     "output_type": "execute_result"
    }
   ],
   "source": [
    "1==2"
   ]
  },
  {
   "cell_type": "code",
   "execution_count": 20,
   "id": "7ecc7039",
   "metadata": {},
   "outputs": [
    {
     "data": {
      "text/plain": [
       "True"
      ]
     },
     "execution_count": 20,
     "metadata": {},
     "output_type": "execute_result"
    }
   ],
   "source": [
    "1==1"
   ]
  },
  {
   "cell_type": "code",
   "execution_count": 21,
   "id": "8def1377",
   "metadata": {},
   "outputs": [
    {
     "data": {
      "text/plain": [
       "True"
      ]
     },
     "execution_count": 21,
     "metadata": {},
     "output_type": "execute_result"
    }
   ],
   "source": [
    "1==1.0"
   ]
  },
  {
   "cell_type": "code",
   "execution_count": 22,
   "id": "872c68c2",
   "metadata": {},
   "outputs": [
    {
     "data": {
      "text/plain": [
       "True"
      ]
     },
     "execution_count": 22,
     "metadata": {},
     "output_type": "execute_result"
    }
   ],
   "source": [
    "3 != 4"
   ]
  },
  {
   "cell_type": "code",
   "execution_count": 23,
   "id": "1fc2fd80",
   "metadata": {},
   "outputs": [
    {
     "data": {
      "text/plain": [
       "True"
      ]
     },
     "execution_count": 23,
     "metadata": {},
     "output_type": "execute_result"
    }
   ],
   "source": [
    "-1 < 2"
   ]
  },
  {
   "cell_type": "code",
   "execution_count": 24,
   "id": "d69752ad",
   "metadata": {},
   "outputs": [
    {
     "data": {
      "text/plain": [
       "False"
      ]
     },
     "execution_count": 24,
     "metadata": {},
     "output_type": "execute_result"
    }
   ],
   "source": [
    "-1 >= 2"
   ]
  },
  {
   "cell_type": "code",
   "execution_count": 25,
   "id": "fd3a9343",
   "metadata": {},
   "outputs": [
    {
     "data": {
      "text/plain": [
       "False"
      ]
     },
     "execution_count": 25,
     "metadata": {},
     "output_type": "execute_result"
    }
   ],
   "source": [
    "2 < 2"
   ]
  },
  {
   "cell_type": "code",
   "execution_count": 26,
   "id": "4c8fffdd",
   "metadata": {},
   "outputs": [
    {
     "data": {
      "text/plain": [
       "True"
      ]
     },
     "execution_count": 26,
     "metadata": {},
     "output_type": "execute_result"
    }
   ],
   "source": [
    "2 <= 2"
   ]
  },
  {
   "cell_type": "code",
   "execution_count": 27,
   "id": "9fd65a58",
   "metadata": {},
   "outputs": [
    {
     "data": {
      "text/plain": [
       "bool"
      ]
     },
     "execution_count": 27,
     "metadata": {},
     "output_type": "execute_result"
    }
   ],
   "source": [
    "type(2<2)"
   ]
  },
  {
   "cell_type": "code",
   "execution_count": 32,
   "id": "27b513b0",
   "metadata": {},
   "outputs": [
    {
     "data": {
      "text/plain": [
       "True"
      ]
     },
     "execution_count": 32,
     "metadata": {},
     "output_type": "execute_result"
    }
   ],
   "source": [
    "2 < 4 and 2 > 0"
   ]
  },
  {
   "cell_type": "code",
   "execution_count": 35,
   "id": "8b78a17a",
   "metadata": {},
   "outputs": [
    {
     "data": {
      "text/plain": [
       "False"
      ]
     },
     "execution_count": 35,
     "metadata": {},
     "output_type": "execute_result"
    }
   ],
   "source": [
    "2 < 1 or 2 > 3"
   ]
  },
  {
   "cell_type": "code",
   "execution_count": 41,
   "id": "44dea4bf",
   "metadata": {},
   "outputs": [
    {
     "data": {
      "text/plain": [
       "False"
      ]
     },
     "execution_count": 41,
     "metadata": {},
     "output_type": "execute_result"
    }
   ],
   "source": [
    "x = 0\n",
    "(x%2 == 1) or (x > 0 and x < 10)"
   ]
  },
  {
   "cell_type": "code",
   "execution_count": 42,
   "id": "13d873ca",
   "metadata": {},
   "outputs": [
    {
     "name": "stdout",
     "output_type": "stream",
     "text": [
      "0\n",
      "2\n",
      "4\n",
      "6\n",
      "8\n",
      "10\n"
     ]
    }
   ],
   "source": [
    "for num in range(11):\n",
    "    if num%2 == 0:\n",
    "        print(num)"
   ]
  },
  {
   "cell_type": "code",
   "execution_count": 43,
   "id": "9aaeff4a",
   "metadata": {},
   "outputs": [
    {
     "name": "stdout",
     "output_type": "stream",
     "text": [
      "e\n",
      "e\n",
      "i\n",
      "a\n",
      "i\n"
     ]
    }
   ],
   "source": [
    "for char in 'Here is a string.':   # looping through the characters in a string\n",
    "    if char in 'aeiou':            # check if the character is a vowel\n",
    "        print(char)                # if it is, print it"
   ]
  },
  {
   "cell_type": "code",
   "execution_count": 44,
   "id": "bc6feeaa",
   "metadata": {},
   "outputs": [
    {
     "data": {
      "text/plain": [
       "(5, 12)"
      ]
     },
     "execution_count": 44,
     "metadata": {},
     "output_type": "execute_result"
    }
   ],
   "source": [
    "num_vowels = 0                     # Initialize variable for counting vowels\n",
    "num_consonants = 0                 # Initialize variable for counting consonants\n",
    "for char in 'Here is a string.':   # looping through the characters in a string\n",
    "    if char in 'aeiou':            # check if the character is a vowel\n",
    "        num_vowels += 1            # if it is, add 1 to the vowel count\n",
    "    else:\n",
    "        num_consonants += 1        # if it's not, add 1 to the consonant count\n",
    "num_vowels,num_consonants          # return the counts"
   ]
  },
  {
   "cell_type": "code",
   "execution_count": 46,
   "id": "ef667f23",
   "metadata": {},
   "outputs": [
    {
     "data": {
      "text/plain": [
       "(5, 8, 4)"
      ]
     },
     "execution_count": 46,
     "metadata": {},
     "output_type": "execute_result"
    }
   ],
   "source": [
    "num_vowels = 0                     # Initialize variable for counting vowels\n",
    "num_consonants = 0                 # Initialize variable for counting consonants\n",
    "num_spec_char = 0                  # Variable for counting special characters\n",
    "for char in 'Here is a string.':   # looping through the characters in a string\n",
    "    if char in 'aeiou':            # check if the character is a vowel\n",
    "        num_vowels += 1            # if it is, add 1 to the vowel count\n",
    "    elif char in '.!?,:; ':        # check if the character is a special character\n",
    "        num_spec_char += 1         # if it is, add 1 to the special character count\n",
    "    else:\n",
    "        num_consonants += 1        # if it's not, add 1 to the consonant count\n",
    "num_vowels,num_consonants,num_spec_char          # return the counts"
   ]
  },
  {
   "cell_type": "markdown",
   "id": "2b38c63d",
   "metadata": {},
   "source": [
    "### Code Comments\n",
    "Code comments allow the writer to efficiently and effectively convey the purpose of each line of code to the reader.\n",
    "\n",
    "A code comment should\n",
    "* be short--it should not run off the screen causing the reader to have to scroll to the right,\n",
    "* use basic English--that means no code terminology or slang,\n",
    "* accurately convey the purpose of the line of code."
   ]
  },
  {
   "cell_type": "markdown",
   "id": "0c66c23f",
   "metadata": {},
   "source": [
    "### While Loops"
   ]
  },
  {
   "cell_type": "code",
   "execution_count": 52,
   "id": "878e9628",
   "metadata": {},
   "outputs": [
    {
     "data": {
      "text/plain": [
       "(7, 2)"
      ]
     },
     "execution_count": 52,
     "metadata": {},
     "output_type": "execute_result"
    }
   ],
   "source": [
    "# This code is meant to divide 23 by 3 to get the quotient and remainder.\n",
    "remainder = 23            # Begin with the remainder as 23\n",
    "quotient = 0              # Begin with the quotient equal to 0\n",
    "while remainder >= 3:     # Execute the loop as long as the remiander is at least 3\n",
    "    remainder -= 3        # subtract 3 from the remiander\n",
    "    quotient += 1         # and add 1 to the quotient\n",
    "quotient,remainder        # return the quotient and remainder"
   ]
  },
  {
   "cell_type": "markdown",
   "id": "186e65f5",
   "metadata": {},
   "source": [
    "### Nbextensions"
   ]
  },
  {
   "cell_type": "code",
   "execution_count": null,
   "id": "fe07fa23",
   "metadata": {},
   "outputs": [],
   "source": [
    "# Run this cell to install the jupyter notebook extensions that includes a spell checker.\n",
    "pip install jupyter_contrib_nbextensions\n",
    "# Then close out the Jupyter windows complete and re-open.  You should now have a tab called Nbextensions in the window\n",
    "# where you select your files."
   ]
  },
  {
   "cell_type": "markdown",
   "id": "6da7502d",
   "metadata": {},
   "source": [
    "You may need to open an Anaconda command prompt window (system search for \"Anaconda\" and select the \"Anaconda Prompt\") and run the following commands.\n",
    "\n",
    "`pip install jupyter_contrib_nbextensions`\n",
    "\n",
    "`jupyter contrib nbextension install --user`\n",
    "\n",
    "`jupyter nbextension enable varInspector/main`\n",
    "\n",
    "Then restart Jupyter."
   ]
  },
  {
   "cell_type": "code",
   "execution_count": null,
   "id": "4d30dd59",
   "metadata": {},
   "outputs": [],
   "source": []
  }
 ],
 "metadata": {
  "kernelspec": {
   "display_name": "Python 3 (ipykernel)",
   "language": "python",
   "name": "python3"
  },
  "language_info": {
   "codemirror_mode": {
    "name": "ipython",
    "version": 3
   },
   "file_extension": ".py",
   "mimetype": "text/x-python",
   "name": "python",
   "nbconvert_exporter": "python",
   "pygments_lexer": "ipython3",
   "version": "3.9.7"
  },
  "varInspector": {
   "cols": {
    "lenName": 16,
    "lenType": 16,
    "lenVar": 40
   },
   "kernels_config": {
    "python": {
     "delete_cmd_postfix": "",
     "delete_cmd_prefix": "del ",
     "library": "var_list.py",
     "varRefreshCmd": "print(var_dic_list())"
    },
    "r": {
     "delete_cmd_postfix": ") ",
     "delete_cmd_prefix": "rm(",
     "library": "var_list.r",
     "varRefreshCmd": "cat(var_dic_list()) "
    }
   },
   "types_to_exclude": [
    "module",
    "function",
    "builtin_function_or_method",
    "instance",
    "_Feature"
   ],
   "window_display": false
  }
 },
 "nbformat": 4,
 "nbformat_minor": 5
}
