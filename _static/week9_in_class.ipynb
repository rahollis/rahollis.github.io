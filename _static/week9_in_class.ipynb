{
 "cells": [
  {
   "cell_type": "markdown",
   "metadata": {},
   "source": [
    "# Week 9 notes"
   ]
  },
  {
   "cell_type": "code",
   "execution_count": 1,
   "metadata": {},
   "outputs": [],
   "source": [
    "f=open('text_sample.txt')"
   ]
  },
  {
   "cell_type": "code",
   "execution_count": 2,
   "metadata": {},
   "outputs": [],
   "source": [
    "file_string = f.read()"
   ]
  },
  {
   "cell_type": "code",
   "execution_count": 3,
   "metadata": {},
   "outputs": [
    {
     "data": {
      "text/plain": [
       "\"November 9, 2020\\n\\nToday I am teaching my MTH 337 students about reading and writing text files!  Will they learn much?\\nThis text file will be used as an example during the class.\\nThere are several nice things to explore in this file. For example, there are several lines in the file, and each line contains at least one sentence with many words.\\nMy students will also learn how text files use can be broken down in python to a list of words.  We will then count those words to determine if I met the 200 word count requirement.\\nIn addition to counting the words and word frequencies, there are other interesting things one can do with a text file, including encryption, but we aren't quite there yet.\\n\""
      ]
     },
     "execution_count": 3,
     "metadata": {},
     "output_type": "execute_result"
    }
   ],
   "source": [
    "file_string"
   ]
  },
  {
   "cell_type": "code",
   "execution_count": 4,
   "metadata": {},
   "outputs": [
    {
     "name": "stdout",
     "output_type": "stream",
     "text": [
      "November 9, 2020\n",
      "\n",
      "Today I am teaching my MTH 337 students about reading and writing text files!  Will they learn much?\n",
      "This text file will be used as an example during the class.\n",
      "There are several nice things to explore in this file. For example, there are several lines in the file, and each line contains at least one sentence with many words.\n",
      "My students will also learn how text files use can be broken down in python to a list of words.  We will then count those words to determine if I met the 200 word count requirement.\n",
      "In addition to counting the words and word frequencies, there are other interesting things one can do with a text file, including encryption, but we aren't quite there yet.\n",
      "\n"
     ]
    }
   ],
   "source": [
    "print(file_string)"
   ]
  },
  {
   "cell_type": "code",
   "execution_count": 5,
   "metadata": {},
   "outputs": [],
   "source": [
    "f.close()"
   ]
  },
  {
   "cell_type": "code",
   "execution_count": 6,
   "metadata": {},
   "outputs": [
    {
     "ename": "ValueError",
     "evalue": "I/O operation on closed file.",
     "output_type": "error",
     "traceback": [
      "\u001b[1;31m---------------------------------------------------------------------------\u001b[0m",
      "\u001b[1;31mValueError\u001b[0m                                Traceback (most recent call last)",
      "\u001b[1;32m<ipython-input-6-62a2a53ca9fa>\u001b[0m in \u001b[0;36m<module>\u001b[1;34m\u001b[0m\n\u001b[1;32m----> 1\u001b[1;33m \u001b[0mstring2\u001b[0m \u001b[1;33m=\u001b[0m \u001b[0mf\u001b[0m\u001b[1;33m.\u001b[0m\u001b[0mread\u001b[0m\u001b[1;33m(\u001b[0m\u001b[1;33m)\u001b[0m\u001b[1;33m\u001b[0m\u001b[1;33m\u001b[0m\u001b[0m\n\u001b[0m",
      "\u001b[1;31mValueError\u001b[0m: I/O operation on closed file."
     ]
    }
   ],
   "source": [
    "string2 = f.read()"
   ]
  },
  {
   "cell_type": "code",
   "execution_count": 8,
   "metadata": {},
   "outputs": [
    {
     "data": {
      "text/plain": [
       "['November 9, 2020\\n',\n",
       " '\\n',\n",
       " 'Today I am teaching my MTH 337 students about reading and writing text files!  Will they learn much?\\n',\n",
       " 'This text file will be used as an example during the class.\\n',\n",
       " 'There are several nice things to explore in this file. For example, there are several lines in the file, and each line contains at least one sentence with many words.\\n',\n",
       " 'My students will also learn how text files use can be broken down in python to a list of words.  We will then count those words to determine if I met the 200 word count requirement.\\n',\n",
       " \"In addition to counting the words and word frequencies, there are other interesting things one can do with a text file, including encryption, but we aren't quite there yet.\\n\"]"
      ]
     },
     "execution_count": 8,
     "metadata": {},
     "output_type": "execute_result"
    }
   ],
   "source": [
    "list_of_lines = []\n",
    "with open('text_sample.txt') as f:\n",
    "    for line in f:\n",
    "        list_of_lines.append(line)\n",
    "list_of_lines"
   ]
  },
  {
   "cell_type": "code",
   "execution_count": 10,
   "metadata": {},
   "outputs": [
    {
     "data": {
      "text/plain": [
       "\" November 9, 2020  Today I am teaching my MTH 337 students about reading and writing text files!  Will they learn much? This text file will be used as an example during the class. There are several nice things to explore in this file. For example, there are several lines in the file, and each line contains at least one sentence with many words. My students will also learn how text files use can be broken down in python to a list of words.  We will then count those words to determine if I met the 200 word count requirement. In addition to counting the words and word frequencies, there are other interesting things one can do with a text file, including encryption, but we aren't quite there yet.\""
      ]
     },
     "execution_count": 10,
     "metadata": {},
     "output_type": "execute_result"
    }
   ],
   "source": [
    "string_of_lines = ''\n",
    "for line in list_of_lines:\n",
    "    line1 = line.strip('\\n')\n",
    "    string_of_lines += ' ' + line1\n",
    "string_of_lines"
   ]
  },
  {
   "cell_type": "code",
   "execution_count": 11,
   "metadata": {},
   "outputs": [],
   "source": [
    "with open('text_sample1.txt','w') as f:\n",
    "    f.write(string_of_lines)\n"
   ]
  },
  {
   "cell_type": "code",
   "execution_count": null,
   "metadata": {},
   "outputs": [],
   "source": []
  },
  {
   "cell_type": "code",
   "execution_count": 14,
   "metadata": {},
   "outputs": [],
   "source": [
    "def make_dictionary(file):\n",
    "    list_of_words = []\n",
    "    with open(file) as f:\n",
    "        list_of_lines = []\n",
    "        for line in f:\n",
    "            line1 = line.strip('\\n')\n",
    "            list_of_lines.append(line1)\n",
    "    list_of_word_strings = []\n",
    "    for line in list_of_lines:\n",
    "        line_list = line.split()\n",
    "        for word in line_list:\n",
    "            list_of_word_strings.append(word)\n",
    "    for string in list_of_word_strings:\n",
    "        word = string.strip('.,!?0123456789').lower()\n",
    "        list_of_words.append(word)\n",
    "    return list_of_words"
   ]
  },
  {
   "cell_type": "code",
   "execution_count": 15,
   "metadata": {
    "scrolled": false
   },
   "outputs": [
    {
     "data": {
      "text/plain": [
       "['november',\n",
       " '',\n",
       " '',\n",
       " 'today',\n",
       " 'i',\n",
       " 'am',\n",
       " 'teaching',\n",
       " 'my',\n",
       " 'mth',\n",
       " '',\n",
       " 'students',\n",
       " 'about',\n",
       " 'reading',\n",
       " 'and',\n",
       " 'writing',\n",
       " 'text',\n",
       " 'files',\n",
       " 'will',\n",
       " 'they',\n",
       " 'learn',\n",
       " 'much',\n",
       " 'this',\n",
       " 'text',\n",
       " 'file',\n",
       " 'will',\n",
       " 'be',\n",
       " 'used',\n",
       " 'as',\n",
       " 'an',\n",
       " 'example',\n",
       " 'during',\n",
       " 'the',\n",
       " 'class',\n",
       " 'there',\n",
       " 'are',\n",
       " 'several',\n",
       " 'nice',\n",
       " 'things',\n",
       " 'to',\n",
       " 'explore',\n",
       " 'in',\n",
       " 'this',\n",
       " 'file',\n",
       " 'for',\n",
       " 'example',\n",
       " 'there',\n",
       " 'are',\n",
       " 'several',\n",
       " 'lines',\n",
       " 'in',\n",
       " 'the',\n",
       " 'file',\n",
       " 'and',\n",
       " 'each',\n",
       " 'line',\n",
       " 'contains',\n",
       " 'at',\n",
       " 'least',\n",
       " 'one',\n",
       " 'sentence',\n",
       " 'with',\n",
       " 'many',\n",
       " 'words',\n",
       " 'my',\n",
       " 'students',\n",
       " 'will',\n",
       " 'also',\n",
       " 'learn',\n",
       " 'how',\n",
       " 'text',\n",
       " 'files',\n",
       " 'use',\n",
       " 'can',\n",
       " 'be',\n",
       " 'broken',\n",
       " 'down',\n",
       " 'in',\n",
       " 'python',\n",
       " 'to',\n",
       " 'a',\n",
       " 'list',\n",
       " 'of',\n",
       " 'words',\n",
       " 'we',\n",
       " 'will',\n",
       " 'then',\n",
       " 'count',\n",
       " 'those',\n",
       " 'words',\n",
       " 'to',\n",
       " 'determine',\n",
       " 'if',\n",
       " 'i',\n",
       " 'met',\n",
       " 'the',\n",
       " '',\n",
       " 'word',\n",
       " 'count',\n",
       " 'requirement',\n",
       " 'in',\n",
       " 'addition',\n",
       " 'to',\n",
       " 'counting',\n",
       " 'the',\n",
       " 'words',\n",
       " 'and',\n",
       " 'word',\n",
       " 'frequencies',\n",
       " 'there',\n",
       " 'are',\n",
       " 'other',\n",
       " 'interesting',\n",
       " 'things',\n",
       " 'one',\n",
       " 'can',\n",
       " 'do',\n",
       " 'with',\n",
       " 'a',\n",
       " 'text',\n",
       " 'file',\n",
       " 'including',\n",
       " 'encryption',\n",
       " 'but',\n",
       " 'we',\n",
       " \"aren't\",\n",
       " 'quite',\n",
       " 'there',\n",
       " 'yet']"
      ]
     },
     "execution_count": 15,
     "metadata": {},
     "output_type": "execute_result"
    }
   ],
   "source": [
    "make_dictionary('text_sample.txt')"
   ]
  },
  {
   "cell_type": "code",
   "execution_count": null,
   "metadata": {},
   "outputs": [],
   "source": []
  }
 ],
 "metadata": {
  "kernelspec": {
   "display_name": "Python 3",
   "language": "python",
   "name": "python3"
  },
  "language_info": {
   "codemirror_mode": {
    "name": "ipython",
    "version": 3
   },
   "file_extension": ".py",
   "mimetype": "text/x-python",
   "name": "python",
   "nbconvert_exporter": "python",
   "pygments_lexer": "ipython3",
   "version": "3.7.6"
  },
  "latex_envs": {
   "LaTeX_envs_menu_present": true,
   "autoclose": false,
   "autocomplete": true,
   "bibliofile": "biblio.bib",
   "cite_by": "apalike",
   "current_citInitial": 1,
   "eqLabelWithNumbers": true,
   "eqNumInitial": 1,
   "hotkeys": {
    "equation": "Ctrl-E",
    "itemize": "Ctrl-I"
   },
   "labels_anchors": false,
   "latex_user_defs": false,
   "report_style_numbering": false,
   "user_envs_cfg": false
  }
 },
 "nbformat": 4,
 "nbformat_minor": 4
}
