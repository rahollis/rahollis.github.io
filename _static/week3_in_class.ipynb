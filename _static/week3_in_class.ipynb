{
 "cells": [
  {
   "cell_type": "markdown",
   "id": "b42af9d5",
   "metadata": {},
   "source": [
    "# Week 3\n",
    "\n",
    "## Quiz 2\n",
    "\n",
    "1. Write code comments for the following code block."
   ]
  },
  {
   "cell_type": "code",
   "execution_count": 1,
   "id": "ad7e0477",
   "metadata": {},
   "outputs": [],
   "source": [
    "def CoinToss(p):                # define a function with input is probability of landing on heads (float [0,1])\n",
    "    from random import random   # importing the random function from random library\n",
    "    x = random()                # generates a random number between 0 and 1 as x\n",
    "    if x < p:                   # checking if x is less than p (p*100% of the time it will be)\n",
    "        coin_toss = 'H'         # set return variable equal to heads\n",
    "    else:                       # if x >= p\n",
    "        coin_toss = 'T'         # set return variable equal to tails\n",
    "    return coin_toss            # return the result"
   ]
  },
  {
   "cell_type": "markdown",
   "id": "14b0fd8c",
   "metadata": {},
   "source": [
    "2. Modify the above function to allow the user to input the probability of returning `'H'`.\n",
    "3. Reproduce the LaTeX code for the following equation. $$ d(x,y) = \\left(\\frac{1}{x} + \\frac{1}{y}\\right)^{-1} $$"
   ]
  },
  {
   "cell_type": "markdown",
   "id": "18854d21",
   "metadata": {},
   "source": [
    "## Notes"
   ]
  },
  {
   "cell_type": "markdown",
   "id": "053c4254",
   "metadata": {},
   "source": [
    "### Introduction\n",
    "1. Give a detailed introduction to the problem (description of the problem and motivation for studying it).\n",
    "2. Clearly state the end goals of your investigation.\n",
    "3. Lay out a plan for how you are going to accomplish your goals."
   ]
  },
  {
   "cell_type": "markdown",
   "id": "40ea0030",
   "metadata": {},
   "source": [
    "### Body of the Report\n",
    "* Your report should be organized in a thoughtful manner\n",
    "  * Break your report up into sections.\n",
    "  * Descriptive section titles\n",
    "* Narrative should tell a story\n",
    "  * Every section should have an introduction\n",
    "  * Code cells should dispersed amongst the narrative\n",
    "  * Each code cell should have its own introduction\n",
    "  * Code cell introduction should not be just a description of the code (thats what comments are for)\n",
    "* Results displayed in an easy to understand way.\n",
    "  * Output that is more than 20 lines should be suppressed "
   ]
  },
  {
   "cell_type": "markdown",
   "id": "fe786866",
   "metadata": {},
   "source": [
    "### Conclusion\n",
    "1. Restate the problem.\n",
    "2. Restate your goals.\n",
    "3. Restate your methods.\n",
    "4. Summarize your results."
   ]
  },
  {
   "cell_type": "markdown",
   "id": "b65c0281",
   "metadata": {},
   "source": [
    "### References\n",
    "* Anything that does not come from your brain needs to be cited and referenced here.\n",
    "  * Authors, \"Title of source\", _publisher_, issue number (url for webpage): page numbers, year.\n",
    "  * You must cite references in the text of the project report immediately following the referenced info.\n",
    "  * Typically citations are just `[3]` numbers in brackets."
   ]
  },
  {
   "cell_type": "code",
   "execution_count": null,
   "id": "a3856ab8",
   "metadata": {},
   "outputs": [],
   "source": []
  }
 ],
 "metadata": {
  "kernelspec": {
   "display_name": "Python 3 (ipykernel)",
   "language": "python",
   "name": "python3"
  },
  "language_info": {
   "codemirror_mode": {
    "name": "ipython",
    "version": 3
   },
   "file_extension": ".py",
   "mimetype": "text/x-python",
   "name": "python",
   "nbconvert_exporter": "python",
   "pygments_lexer": "ipython3",
   "version": "3.9.7"
  },
  "varInspector": {
   "cols": {
    "lenName": 16,
    "lenType": 16,
    "lenVar": 40
   },
   "kernels_config": {
    "python": {
     "delete_cmd_postfix": "",
     "delete_cmd_prefix": "del ",
     "library": "var_list.py",
     "varRefreshCmd": "print(var_dic_list())"
    },
    "r": {
     "delete_cmd_postfix": ") ",
     "delete_cmd_prefix": "rm(",
     "library": "var_list.r",
     "varRefreshCmd": "cat(var_dic_list()) "
    }
   },
   "types_to_exclude": [
    "module",
    "function",
    "builtin_function_or_method",
    "instance",
    "_Feature"
   ],
   "window_display": false
  }
 },
 "nbformat": 4,
 "nbformat_minor": 5
}
