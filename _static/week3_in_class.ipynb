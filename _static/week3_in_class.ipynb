{
 "cells": [
  {
   "cell_type": "markdown",
   "id": "6c4dc9b7",
   "metadata": {},
   "source": [
    "# Week 3\n",
    "\n",
    "## Quiz\n",
    "\n",
    "1. What are the key components of a good introduction (for a project report)?\n",
    "2. Identify and correct the error in the following code."
   ]
  },
  {
   "cell_type": "code",
   "execution_count": null,
   "id": "d6bc8a55",
   "metadata": {},
   "outputs": [],
   "source": [
    "s=0\n",
    "for i in range(100):\n",
    "s += i"
   ]
  },
  {
   "cell_type": "markdown",
   "id": "fe397e9d",
   "metadata": {},
   "source": [
    "3. What command is used to add a label to the x-axis of a graph?\n",
    "4. Explain the purpose of the **first line of code** below."
   ]
  },
  {
   "cell_type": "code",
   "execution_count": null,
   "id": "1beeca17",
   "metadata": {},
   "outputs": [],
   "source": [
    "plt.figure(figsize=[10,5])\n",
    "plt.plot(inputs,outputs)"
   ]
  },
  {
   "cell_type": "markdown",
   "id": "8816310b",
   "metadata": {},
   "source": [
    "### Answers"
   ]
  },
  {
   "cell_type": "markdown",
   "id": "c831671c",
   "metadata": {},
   "source": [
    "1. Definitions of things to be investigated.  The goals of the project.  Examples or applications of the things being investigated.  Plan for the project.\n",
    "2. Line 3 needs to be indented.\n",
    "3. `plt.xlabel('label')`\n",
    "4. Resizes the graph to have width 10 inches and height is 5 inches."
   ]
  },
  {
   "cell_type": "markdown",
   "id": "330b3f45",
   "metadata": {},
   "source": [
    "## Notes\n",
    "### Random Library"
   ]
  },
  {
   "cell_type": "code",
   "execution_count": 1,
   "id": "86a96511",
   "metadata": {},
   "outputs": [],
   "source": [
    "import random"
   ]
  },
  {
   "cell_type": "code",
   "execution_count": 8,
   "id": "ea43ce5c",
   "metadata": {},
   "outputs": [
    {
     "data": {
      "text/plain": [
       "0.14883704302973666"
      ]
     },
     "execution_count": 8,
     "metadata": {},
     "output_type": "execute_result"
    }
   ],
   "source": [
    "random.random()"
   ]
  },
  {
   "cell_type": "code",
   "execution_count": 14,
   "id": "6c1bbede",
   "metadata": {},
   "outputs": [
    {
     "name": "stdout",
     "output_type": "stream",
     "text": [
      "False\n"
     ]
    }
   ],
   "source": [
    "p = 0.7\n",
    "if random.random() < p:\n",
    "    print('True')\n",
    "else:\n",
    "    print('False')"
   ]
  },
  {
   "cell_type": "code",
   "execution_count": 33,
   "id": "1c5240ea",
   "metadata": {},
   "outputs": [
    {
     "data": {
      "text/plain": [
       "4"
      ]
     },
     "execution_count": 33,
     "metadata": {},
     "output_type": "execute_result"
    }
   ],
   "source": [
    "random.randint(1,6)"
   ]
  },
  {
   "cell_type": "code",
   "execution_count": 35,
   "id": "15a6c3f7",
   "metadata": {},
   "outputs": [
    {
     "name": "stdout",
     "output_type": "stream",
     "text": [
      "3\n",
      "5\n",
      "6\n",
      "1\n",
      "2\n",
      "4\n",
      "2\n",
      "1\n",
      "2\n",
      "4\n",
      "2\n",
      "5\n"
     ]
    }
   ],
   "source": [
    "for i in range(12):\n",
    "    print(random.randint(1,6))"
   ]
  },
  {
   "cell_type": "code",
   "execution_count": 36,
   "id": "19f3b41f",
   "metadata": {},
   "outputs": [
    {
     "data": {
      "text/plain": [
       "'blue'"
      ]
     },
     "execution_count": 36,
     "metadata": {},
     "output_type": "execute_result"
    }
   ],
   "source": [
    "random.choice(['red','blue','blue','blue','green','green'])"
   ]
  },
  {
   "cell_type": "markdown",
   "id": "27ac864d",
   "metadata": {},
   "source": [
    "### Shuffle Example"
   ]
  },
  {
   "cell_type": "code",
   "execution_count": 24,
   "id": "9202304c",
   "metadata": {},
   "outputs": [],
   "source": [
    "def top_in_at_random(deck):\n",
    "    shuffled_deck = deck.copy()\n",
    "    first_card = shuffled_deck.pop(0)\n",
    "    new_index = random.randint(1,len(shuffled_deck))\n",
    "    shuffled_deck.insert(new_index,first_card)\n",
    "    return shuffled_deck"
   ]
  },
  {
   "cell_type": "code",
   "execution_count": 25,
   "id": "8266f365",
   "metadata": {},
   "outputs": [
    {
     "data": {
      "text/plain": [
       "[1, 2, 3, 4, 5, 0]"
      ]
     },
     "execution_count": 25,
     "metadata": {},
     "output_type": "execute_result"
    }
   ],
   "source": [
    "test_deck = [0,1,2,3,4,5]\n",
    "top_in_at_random(test_deck)"
   ]
  },
  {
   "cell_type": "code",
   "execution_count": 26,
   "id": "d27ea6f1",
   "metadata": {},
   "outputs": [
    {
     "data": {
      "text/plain": [
       "[0, 1, 2, 3, 4, 5]"
      ]
     },
     "execution_count": 26,
     "metadata": {},
     "output_type": "execute_result"
    }
   ],
   "source": [
    "test_deck"
   ]
  },
  {
   "cell_type": "code",
   "execution_count": 14,
   "id": "47a5be83",
   "metadata": {},
   "outputs": [],
   "source": [
    "import matplotlib.pyplot as plt"
   ]
  },
  {
   "cell_type": "code",
   "execution_count": 27,
   "id": "b911a580",
   "metadata": {},
   "outputs": [
    {
     "data": {
      "image/png": "[encoded data removed]",
      "text/plain": [
       "<Figure size 432x288 with 1 Axes>"
      ]
     },
     "metadata": {
      "needs_background": "light"
     },
     "output_type": "display_data"
    }
   ],
   "source": [
    "inputs = top_in_at_random(test_deck)\n",
    "outputs = test_deck\n",
    "plt.plot(inputs,outputs,'ro')\n",
    "plt.xlabel('original position')\n",
    "plt.ylabel('shuffled position')\n",
    "plt.show()"
   ]
  },
  {
   "cell_type": "code",
   "execution_count": 20,
   "id": "9c6f55fe",
   "metadata": {},
   "outputs": [
    {
     "data": {
      "text/plain": [
       "[1, 2, 0, 3, 4, 5]"
      ]
     },
     "execution_count": 20,
     "metadata": {},
     "output_type": "execute_result"
    }
   ],
   "source": [
    "inputs"
   ]
  },
  {
   "cell_type": "code",
   "execution_count": 21,
   "id": "fe304314",
   "metadata": {},
   "outputs": [
    {
     "data": {
      "text/plain": [
       "[1, 2, 0, 3, 4, 5]"
      ]
     },
     "execution_count": 21,
     "metadata": {},
     "output_type": "execute_result"
    }
   ],
   "source": [
    "outputs"
   ]
  },
  {
   "cell_type": "code",
   "execution_count": 40,
   "id": "8146bcb4",
   "metadata": {},
   "outputs": [],
   "source": [
    "shuffled_deck = top_in_at_random(shuffled_deck)"
   ]
  },
  {
   "cell_type": "code",
   "execution_count": 41,
   "id": "e76f0cee",
   "metadata": {},
   "outputs": [
    {
     "data": {
      "image/png": "[encoded data removed]",
      "text/plain": [
       "<Figure size 432x288 with 1 Axes>"
      ]
     },
     "metadata": {
      "needs_background": "light"
     },
     "output_type": "display_data"
    }
   ],
   "source": [
    "plt.plot(shuffled_deck,outputs,'ro')\n",
    "plt.show()"
   ]
  },
  {
   "cell_type": "markdown",
   "id": "987d5369",
   "metadata": {},
   "source": [
    "## One more useful function\n",
    "\n",
    "The following function is called the binomial probability function, and it is based on the binomial distribution in statistics.  Without going into complicated details, this is what the function does.\n",
    "\n",
    "But first, import it using the following."
   ]
  },
  {
   "cell_type": "code",
   "execution_count": 1,
   "id": "b71e1fb2",
   "metadata": {},
   "outputs": [],
   "source": [
    "from numpy.random import binomial"
   ]
  },
  {
   "cell_type": "markdown",
   "id": "5cc4c1fc",
   "metadata": {},
   "source": [
    "The function takes two inputs, a positive integer (number of trials) and a number between 0 and 1 (probability).  The output is another positive integer less than or equal to the input."
   ]
  },
  {
   "cell_type": "code",
   "execution_count": 2,
   "id": "cf801d36",
   "metadata": {},
   "outputs": [
    {
     "data": {
      "text/plain": [
       "48"
      ]
     },
     "execution_count": 2,
     "metadata": {},
     "output_type": "execute_result"
    }
   ],
   "source": [
    "binomial(100,0.5)"
   ]
  },
  {
   "cell_type": "markdown",
   "id": "3527fa9c",
   "metadata": {},
   "source": [
    "This function models repeated trials of flipping a coin, counting the number of heads.  The input integer is the number of trials, and the float in the probability of landing on heads.  For a fair coin toss, you use 0.5, and you expect the function to return about half of the number of trials, as above.  In general, if the number of trials is $ n $ and the probability of landing on heads is $ p $, you can expect the function to return about $ np $, on average."
   ]
  },
  {
   "cell_type": "code",
   "execution_count": 3,
   "id": "71d407d4",
   "metadata": {},
   "outputs": [
    {
     "data": {
      "text/plain": [
       "28"
      ]
     },
     "execution_count": 3,
     "metadata": {},
     "output_type": "execute_result"
    }
   ],
   "source": [
    "binomial(100,0.33)"
   ]
  },
  {
   "cell_type": "markdown",
   "id": "4c26fb0c",
   "metadata": {},
   "source": [
    "This function can be used to divide a deck of cards in a number of stacks that are \"about equal\" in size.  The rest is up to you."
   ]
  },
  {
   "cell_type": "code",
   "execution_count": null,
   "id": "1210fc93",
   "metadata": {},
   "outputs": [],
   "source": []
  }
 ],
 "metadata": {
  "kernelspec": {
   "display_name": "Python 3 (ipykernel)",
   "language": "python",
   "name": "python3"
  },
  "language_info": {
   "codemirror_mode": {
    "name": "ipython",
    "version": 3
   },
   "file_extension": ".py",
   "mimetype": "text/x-python",
   "name": "python",
   "nbconvert_exporter": "python",
   "pygments_lexer": "ipython3",
   "version": "3.9.7"
  },
  "varInspector": {
   "cols": {
    "lenName": 16,
    "lenType": 16,
    "lenVar": 40
   },
   "kernels_config": {
    "python": {
     "delete_cmd_postfix": "",
     "delete_cmd_prefix": "del ",
     "library": "var_list.py",
     "varRefreshCmd": "print(var_dic_list())"
    },
    "r": {
     "delete_cmd_postfix": ") ",
     "delete_cmd_prefix": "rm(",
     "library": "var_list.r",
     "varRefreshCmd": "cat(var_dic_list()) "
    }
   },
   "types_to_exclude": [
    "module",
    "function",
    "builtin_function_or_method",
    "instance",
    "_Feature"
   ],
   "window_display": false
  }
 },
 "nbformat": 4,
 "nbformat_minor": 5
}
