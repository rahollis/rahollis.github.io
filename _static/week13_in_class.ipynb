{
 "cells": [
  {
   "cell_type": "markdown",
   "metadata": {},
   "source": [
    "## Week 13"
   ]
  },
  {
   "cell_type": "code",
   "execution_count": 1,
   "metadata": {},
   "outputs": [],
   "source": [
    "import requests"
   ]
  },
  {
   "cell_type": "code",
   "execution_count": 4,
   "metadata": {},
   "outputs": [],
   "source": [
    "carrol=requests.get('http://www.gutenberg.org/cache/epub/35688/pg35688.txt').text\n",
    "\n",
    "skip='\",.:;[]()-_?!\\r\\n/*&' # all the char's we want to replace\n",
    "for k in skip:\n",
    "    carrol=carrol.replace(k,' ')\n",
    "#print(bookl)\n",
    "booklist=[k for k in carrol.split(' ') if k!=''] # list of separated"
   ]
  },
  {
   "cell_type": "code",
   "execution_count": 28,
   "metadata": {},
   "outputs": [],
   "source": [
    "words={} # empty dictionary\n",
    "\n",
    "for k in booklist:\n",
    "    if k in words:\n",
    "        words[k]+=1 # incrementing count by one\n",
    "    else:\n",
    "        words[k]=1"
   ]
  },
  {
   "cell_type": "code",
   "execution_count": 29,
   "metadata": {},
   "outputs": [
    {
     "name": "stdout",
     "output_type": "stream",
     "text": [
      "{'\\ufeffThe': 1, 'Project': 83, 'Gutenberg': 82, 'EBook': 2, 'of': 342, 'Alice': 32, 'in': 217, 'Wonderland': 10, 'by': 52, 'Gerstenberg': 6, 'This': 11, 'eBook': 6, 'is': 129, 'for': 78, 'the': 752, 'use': 16, 'anyone': 7, 'anywhere': 3, 'at': 110, 'no': 42, 'cost': 3, 'and': 437, 'with': 139, 'almost': 5, 'restrictions': 2, 'whatsoever': 2, 'You': 59, 'may': 30, 'copy': 12, 'it': 235, 'give': 11, 'away': 16, 'or': 93, 're': 2, 'under': 9, 'terms': 20, 'License': 10, 'included': 3, 'this': 63, 'online': 4, 'www': 8, 'gutenberg': 6, 'net': 7, 'Title': 1, 'A': 27, 'Dramatization': 1, 'Lewis': 2, \"Carroll's\": 2, \"Alice's\": 6, 'Adventures': 2, 'Through': 2, 'Looking': 4, 'Glass': 3, 'Author': 2, 'Release': 1, 'Date': 1, 'March': 9, '26': 1, '2011': 1, '#35688': 1, 'Language': 1, 'English': 4, 'START': 2, 'OF': 23, 'THIS': 5, 'PROJECT': 4, 'GUTENBERG': 4, 'EBOOK': 2, 'ALICE': 358, 'IN': 4, 'WONDERLAND': 3, 'Produced': 2, 'The': 118, 'Online': 2, 'Distributed': 2, 'Proofreading': 2, 'Team': 2, 'http': 10, 'pgdp': 2, 'file': 4, 'was': 57, 'produced': 4, 'from': 48, 'images': 2, 'generously': 2, 'made': 7, 'available': 4, 'Internet': 2, 'Archive': 15, 'Illustration': 20, \"You're\": 8, 'Humpty': 3, 'Dumpty': 3, 'Just': 6, 'like': 55, 'an': 32, 'egg': 4, 'Page': 1, '24': 1, 'dramatization': 1, 'By': 3, 'Conscience': 1, 'Sarah': 1, 'Platt': 1, 'Unquenched': 1, 'Fire': 1, 'Little': 1, 'World': 1, 'etc': 1, 'Chicago': 8, 'C': 5, 'Mc': 1, 'Clurg': 1, 'Co': 1, '1915': 5, 'Copyright': 2, 'McCLURG': 1, 'CO': 1, 'Published': 1, 'December': 1, 'Rights': 1, 'to': 395, 'produce': 2, 'play': 12, 'all': 104, 'countries': 2, 'world': 5, 'are': 70, 'reserved': 1, 'W': 4, 'F': 12, 'MAEL': 1, 'PRINTING': 1, 'COMPANY': 1, 'CHICAGO': 1, 'TO': 3, 'THE': 8, 'MEMORY': 1, 'LEWIS': 3, 'CARROLL': 18, 'dramatic': 1, 'rendering': 1, 'Players': 1, 'Producing': 1, 'Company': 1, 'Aline': 1, 'Barnsdall': 1, 'Arthur': 1, 'Bissell': 1, 'Fine': 1, 'Arts': 1, 'Theater': 2, 'February': 1, '11': 1, 'After': 2, 'a': 372, 'successful': 1, 'run': 5, 'opened': 2, 'Booth': 1, 'New': 1, 'York': 1, '23': 1, 'scenery': 2, 'costumes': 2, 'were': 28, 'designed': 2, 'William': 1, 'Penhallow': 1, 'Henderson': 1, 'music': 13, 'written': 8, 'Eric': 1, 'De': 1, 'Lamarter': 1, 'advertising': 1, 'posters': 1, 'cards': 7, 'Jerome': 1, 'Blum': 1, 'illustrations': 2, 'characters': 5, 'book': 5, 'drawn': 1, 'J': 2, 'Allen': 1, 'St': 1, 'John': 3, 'photographs': 1, 'Victor': 1, 'Georg': 1, 'H': 1, 'Gilmore': 1, 'staged': 1, 'following': 4, 'cast': 1, 'Frank': 1, 'Stirling': 1, 'Vivian': 1, 'Tobin': 1, 'RED': 50, 'QUEEN': 139, 'Florence': 1, 'LeClercq': 1, 'WHITE': 85, 'Mary': 1, 'Servoss': 1, 'RABBIT': 42, 'Donald': 1, 'Gallaher': 1, 'HUMPTY': 23, 'DUMPTY': 23, 'Alfred': 2, 'Donohoe': 2, 'GRYPHON': 35, 'Fred': 2, 'Permain': 2, 'MOCK': 47, 'TURTLE': 47, 'Geoffrey': 2, 'Stein': 2, 'MAD': 1, 'HATTER': 55, 'MARCH': 39, 'HARE': 38, 'DORMOUSE': 22, 'Gunnis': 1, 'Davis': 1, 'FROG': 30, 'FOOTMAN': 1, 'Walter': 2, 'Kingsford': 2, 'DUCHESS': 46, 'Kenyon': 1, 'Bishop': 1, 'CHESHIRE': 1, 'CAT': 21, 'KING': 66, 'HEARTS': 9, 'Frederick': 1, 'Annerly': 1, 'Winifred': 1, 'Hanley': 1, 'KNAVE': 17, 'Foxhall': 1, 'Daingerfield': 1, 'CATERPILLAR': 13, 'TWO': 10, 'SPADES': 3, 'Rule': 1, 'Pyott': 1, 'FIVE': 9, 'France': 1, 'Bendtsen': 1, 'SEVEN': 9, 'Rice': 1, 'SCENES': 1, 'ACT': 6, 'I': 358, 'Scene': 9, 'Home': 2, 'II': 4, 'Room': 1, 'III': 4, 'Hall': 1, 'Doors': 1, 'IV': 1, 'Sea': 1, 'Shore': 1, \"Hare's\": 3, 'Garden': 2, 'Flowers': 1, 'Court': 1, 'Hearts': 8, 'Miss': 3, \"Gerstenberg's\": 1, 'manuscript': 1, 'called': 5, 'after': 11, 'Tenniel': 1, 'simple': 2, 'imaginative': 1, 'type': 1, 'new': 6, 'art': 1, 'theater': 1, 'SCENE': 8, 'ONE': 3, \"ALICE'S\": 6, 'home': 7, 'discovered': 2, 'playing': 8, 'chess': 2, 'Golden': 1, 'haired': 1, 'little': 24, 'blue': 2, 'dress': 1, 'black': 4, 'kitten': 1, 'her': 85, 'arms': 4, 'stands': 4, 'watching': 1, 'him': 30, \"That's\": 19, 'funny': 5, 'game': 7, 'uncle': 2, 'What': 41, 'did': 28, 'you': 409, 'do': 83, 'then': 22, 'red': 10, 'pawn': 5, 'took': 4, 'white': 8, 'way': 31, 'see': 36, 'chessboard': 3, 'divided': 1, 'into': 26, 'sixty': 1, 'four': 5, 'squares': 3, 'army': 3, 'tries': 6, 'win': 3, \"It's\": 38, 'battle': 2, 'With': 5, 'soldiers': 2, 'Yes': 13, 'here': 26, 'Kings': 1, 'Queens': 6, 'they': 53, 'fighting': 1, 'Red': 4, 'Queen': 31, \"here's\": 3, 'White': 4, 'How': 17, 'look': 21, 'See': 5, 'crowns': 1, 'on': 95, 'their': 20, 'heads': 3, 'big': 5, 'feet': 1, 'foot': 3, 'apiece': 1, \"that's\": 15, 'what': 74, 'Do': 17, 'hump': 1, 'along': 5, 'Here': 6, 'spoiling': 1, 'must': 37, 'keep': 10, 'them': 38, 'right': 16, 'want': 20, 'be': 93, 'queen': 2, 'he': 37, 'points': 4, 'small': 9, 'your': 73, 'stiff': 2, 'skirt': 1, 'And': 42, 'now': 24, 'going': 11, 'move': 4, 'Let': 2, 'me': 61, 'myself': 8, 'When': 13, 'have': 72, 'traveled': 1, 'board': 1, \"haven't\": 9, 'been': 28, 'taken': 1, 'enemy': 1, 'Why': 32, 'people': 11, 'always': 13, 'kings': 1, 'queens': 3, 'Mother': 1, 'has': 17, 'too': 22, 'Look': 4, 'goes': 18, 'mantel': 3, 'takes': 18, 'pack': 4, 'ledge': 3, \"Here's\": 1, 'King': 2, 'his': 56, 'wife': 1, \"she's\": 4, \"isn't\": 14, 'she': 44, 'cross': 3, 'looking': 11, 'wants': 5, 'bite': 5, \"one's\": 4, 'head': 31, 'off': 37, 'moves': 3, 'against': 8, 'yourself': 10, \"aren't\": 1, 'one': 54, 'keeping': 3, 'practice': 1, 'friends': 1, 'university': 1, 'who': 13, 'beat': 5, 'But': 30, 'if': 69, 'should': 23, 'think': 35, \"you'd\": 12, 'cheat': 2, 'Does': 3, 'nice': 4, 'girl': 1, 'when': 32, 'plays': 1, 'herself': 9, 'Oh': 62, 'never': 31, \"I'd\": 8, 'scold': 1, 'hard': 3, 'pretend': 2, \"I'm\": 47, 'two': 18, 'lots': 1, 'fun': 4, 'Sometimes': 1, 'alone': 5, 'walk': 8, 'up': 31, 'glass': 13, 'talk': 9, 'other': 35, \"She's\": 8, 'so': 58, 'silly': 1, 'that': 128, \"can't\": 35, 'anything': 8, 'She': 43, 'just': 30, 'mocks': 1, 'time': 30, 'laugh': 1, 'laughs': 2, 'point': 1, 'my': 47, 'finger': 5, 'stick': 1, 'tongue': 4, 'out': 70, 'sticks': 2, 'Kitty': 3, 'twin': 2, 'darling': 1, 'mirror': 4, 'show': 4, \"I'll\": 18, 'write': 6, 'some': 18, 'day': 20, 'about': 47, 'wonderland': 1, 'Child': 1, 'pure': 1, 'unclouded': 1, 'brow': 1, 'dreaming': 4, 'eyes': 10, 'wonder': 4, 'through': 16, \"Don't\": 12, 'wish': 11, 'sometimes': 3, 'could': 22, 'go': 37, 'house': 12, 'armchair': 4, 'looks': 14, \"There's\": 13, 'room': 15, 'can': 42, \"it's\": 36, 'same': 22, 'as': 80, 'our': 12, 'living': 3, 'only': 37, 'things': 29, 'but': 51, 'bit': 7, 'behind': 7, 'fireplace': 3, 'much': 19, 'know': 86, \"they've\": 1, 'fire': 5, 'there': 27, 'tell': 30, 'unless': 6, 'smokes': 1, 'Then': 16, 'smoke': 1, 'comes': 10, 'make': 17, 'had': 32, 'books': 2, 'something': 9, 'words': 7, 'wrong': 4, \"Won't\": 1, 'ever': 10, 'any': 54, 'getting': 6, 'would': 46, 'find': 7, 'milk': 2, 'digestible': 1, 'It': 39, \"doesn't\": 10, 'sound': 2, 'awful': 2, 'good': 14, 'does': 17, 'might': 13, 'leave': 5, 'lot': 3, 'mischief': 2, 'today': 6, 'found': 4, \"sister's\": 1, 'knitting': 1, 'chased': 1, 'ball': 3, 'over': 19, 'garden': 5, 'where': 17, 'sister': 1, 'croquet': 6, 'neighbors': 1, 'ran': 4, 'naughty': 1, 'thing': 23, 'until': 1, 'breath': 3, 'tired': 3, 'am': 19, 'yawns': 3, 'makes': 10, 'comfortable': 1, 'Replaces': 1, 'consults': 1, 'watch': 10, 'Take': 11, 'nap': 2, 'before': 20, 'tea': 15, 'Half': 2, 'asleep': 7, \"We're\": 1, 'mock': 1, 'turtle': 1, 'soup': 3, 'supper': 1, 'heard': 9, 'mamma': 1, 'cook': 5, 'not': 66, 'pepper': 5, 'rabbit': 3, 'nibbling': 1, 'He': 24, 'leans': 3, 'gently': 1, 'back': 9, 'chair': 2, 'seeing': 1, 'sleep': 3, 'puts': 8, 'lamp': 1, 'light': 6, 'leaves': 3, 'glow': 3, 'illumines': 1, 'Dream': 1, 'bluish': 1, 'reveals': 1, 'CHESS': 2, 'Points': 1, 'says': 4, 'mysterious': 4, 'voice': 6, 'There': 9, \"let's\": 4, 'call': 11, \"she'll\": 2, 'come': 27, 'softly': 1, 'Hist': 1, 'Hush': 2, 'wakes': 1, 'catches': 1, 'us': 19, 'BOTH': 2, 'QUEENS': 3, 'Their': 1, 'hands': 12, 'beckon': 1, 'Rises': 3, 'talks': 1, 'sleepily': 2, 'disappear': 1, 'climbs': 1, 'arm': 7, 'another': 7, 'picks': 4, 'daintily': 1, 'between': 5, 'vases': 1, \"don't\": 61, 'how': 20, 'get': 24, \"I've\": 27, 'tried': 8, 'afraid': 5, 'cutting': 3, 'fingers': 2, 'feels': 2, 'amazed': 2, 'gauze': 2, 'soft': 2, 'turning': 2, 'sort': 12, 'mist': 1, 'why': 9, 'easy': 4, 'disappears': 8, 'Is': 8, 'One': 6, 'reversed': 1, 'portieres': 5, 'radiance': 1, 'follows': 2, 'mysteriously': 1, 'As': 4, 'curtain': 5, 'rises': 7, 'steps': 1, 'down': 28, 'wonderment': 2, 'grate': 2, 'faces': 2, 'haughtily': 1, \"you're\": 17, 'Of': 19, 'course': 40, 'Where': 11, 'speak': 9, 'nicely': 1, 'twiddle': 1, 'wanted': 4, 'Perhaps': 4, 'lost': 3, 'mean': 21, 'ways': 4, 'belong': 1, 'Curtsey': 1, 'while': 5, 'thinking': 4, 'say': 35, 'saves': 2, 'try': 8, 'next': 12, 'late': 4, 'dinner': 4, 'answer': 10, 'open': 5, 'mouth': 4, 'wider': 1, 'Your': 5, 'Majesty': 13, 'suppose': 11, 'lose': 2, 'name': 16, 'No': 22, 'indeed': 5, 'yet': 16, 'convenient': 1, 'manage': 3, 'without': 14, 'For': 9, 'instance': 5, 'governess': 2, 'lessons': 10, 'because': 11, \"wouldn't\": 14, 'That': 10, 'sure': 10, 'excusing': 1, 'If': 38, \"couldn't\": 11, 'remember': 10, \"she'd\": 1, 'servants': 1, 'Well': 13, 'said': 31, \"didn't\": 15, 'more': 22, 'miss': 1, 'dare': 4, 'even': 7, 'read': 6, 'language': 2, 'hold': 5, 'will': 23, 'again': 25, 'JABBERWOCKY': 1, \"'Twas\": 1, 'brillig': 1, 'slithy': 1, 'toves': 1, 'Did': 6, 'gyre': 1, 'gimble': 1, 'wabe': 1, 'All': 6, 'mimsy': 1, 'borogoves': 1, 'mome': 1, 'raths': 1, 'outgrabe': 1, 'seems': 4, 'very': 28, 'pretty': 3, 'rather': 6, 'understand': 7, 'somehow': 1, 'fill': 1, 'ideas': 1, 'exactly': 2, 'daresay': 2, 'geography': 1, 'either': 6, 'map': 2, 'angle': 1, 'sceptre': 1, 'marked': 4, 'mind': 5, 'being': 6, 'though': 3, 'best': 7, 'easily': 3, 'managed': 1, 'eighth': 1, 'square': 2, \"you'll\": 2, 'huge': 4, 'played': 1, 'Come': 7, \"we've\": 7, 'got': 16, 'Faster': 6, 'faster': 7, 'Are': 4, 'we': 35, 'nearly': 2, 'Nearly': 2, 'passed': 2, 'ten': 1, 'minutes': 1, 'ago': 1, 'rest': 4, 'believe': 8, \"we're\": 4, 'place': 9, \"Everything's\": 3, 'country': 4, 'generally': 3, 'somewhere': 4, 'else': 6, 'fast': 7, 'long': 9, 'doing': 6, 'slow': 1, 'Now': 9, 'running': 3, 'least': 6, 'twice': 4, 'please': 21, 'quite': 11, 'content': 1, 'stay': 4, 'hot': 4, 'thirsty': 1, 'box': 1, 'pocket': 3, 'Have': 4, 'biscuit': 3, 'liking': 1, 'refuse': 1, 'curtseys': 1, 'chokes': 1, 'While': 3, 'refreshing': 1, 'take': 13, 'measurements': 1, 'ribbon': 2, 'measures': 2, 'At': 7, 'end': 13, 'yards': 2, 'shall': 16, 'directions': 1, 'thank': 1, 'enough': 7, 'Thirst': 1, 'quenched': 1, 'hope': 3, 'three': 8, 'repeat': 3, 'fear': 4, 'forgetting': 1, 'bye': 7, 'five': 2, 'Square': 4, 'belongs': 2, 'Gryphon': 3, 'Mock': 4, 'Turtle': 7, 'remark': 3, 'extremely': 2, 'kind': 2, 'however': 2, \"we'll\": 3, 'Four': 2, 'Good': 4, 'Five': 3, 'vanishes': 2, 'gust': 2, 'wind': 3, 'Rabbit': 3, 'walks': 7, 'hurriedly': 2, 'wears': 1, 'checked': 2, 'coat': 1, 'carries': 1, 'kid': 1, 'gloves': 6, 'hand': 11, 'fan': 7, 'anxiously': 1, 'Duchess': 7, \"won't\": 15, 'savage': 2, 'kept': 3, 'waiting': 2, 'seen': 5, 'waistcoat': 2, 'sir': 3, 'drops': 1, 'fright': 1, 'dashes': 3, 'playfully': 1, 'flap': 1, 'breeze': 1, 'shawl': 4, 'flies': 2, 'Catches': 1, 'owner': 5, 'meets': 1, 'glad': 3, 'happened': 4, 'Runs': 2, 'wildly': 4, 'both': 10, 'stretched': 1, 'wide': 2, 'flying': 2, 'cries': 5, 'helpless': 1, 'frightened': 3, 'Bread': 2, 'butter': 11, 'bread': 9, 'Am': 1, 'addressing': 1, 'yes': 2, 'dressing': 2, 'notion': 3, 'begin': 11, 'well': 19, 'done': 11, 'last': 6, 'hours': 4, 'Every': 1, 'single': 1, \"thing's\": 1, 'crooked': 2, 'pins': 1, 'put': 7, 'straight': 3, \"what's\": 5, 'matter': 5, 'temper': 7, 'pinned': 2, \"there's\": 13, 'pleasing': 1, 'pin': 1, 'side': 9, 'dear': 15, 'state': 7, 'hair': 9, 'brush': 2, 'entangled': 1, 'comb': 1, 'yesterday': 3, 'Takes': 5, 'arranges': 1, \"QUEEN'S\": 2, 'better': 19, 'really': 7, \"lady's\": 1, 'maid': 1, 'pleasure': 1, 'Two': 4, 'pence': 1, 'week': 4, 'jam': 8, 'every': 6, 'Who': 11, 'cannot': 5, 'help': 10, 'laughing': 1, 'hire': 1, 'care': 6, 'rate': 2, 'rule': 3, 'tomorrow': 3, 'dreadfully': 2, 'confusing': 3, 'effect': 1, 'backwards': 3, 'giddy': 2, 'first': 17, 'Living': 1, 'such': 19, 'great': 8, 'advantage': 2, 'memory': 3, 'works': 36, 'mine': 8, 'happen': 4, 'poor': 5, 'large': 9, 'piece': 5, 'plaster': 2, \"King's\": 1, 'messenger': 1, \"he's\": 5, 'prison': 1, 'punished': 4, 'trial': 3, 'till': 11, 'Wednesday': 1, 'crime': 2, 'Suppose': 2, 'commits': 1, 'Binding': 1, 'Only': 2, 'faults': 1, 'difference': 1, \"hadn't\": 3, 'still': 3, 'mistake': 2, 'Screams': 1, 'engine': 1, 'whistle': 2, 'shakes': 7, 'My': 7, \"finger's\": 1, 'bleeding': 2, 'pricked': 2, 'soon': 1, 'expect': 1, 'fasten': 1, 'brooch': 1, 'undone': 1, 'directly': 2, 'Brooch': 1, 'clutches': 1, 'holding': 2, 'Pricks': 1, 'smiles': 3, 'accounts': 2, 'scream': 2, 'screaming': 2, 'already': 2, 'having': 1, 'Not': 8, 'dizzy': 1, 'rushing': 1, 'darkness': 2, 'gasps': 2, 'stop': 5, 'replies': 1, 'drop': 1, 'THREE': 2, 'sees': 2, 'nothing': 14, 'odd': 2, 'lanterns': 1, 'orange': 2, 'lights': 4, 'hanging': 1, 'presumably': 1, 'sky': 4, 'scene': 1, 'slowly': 5, 'revealing': 1, 'seated': 2, 'cushions': 1, 'dropped': 3, 'dazed': 1, 'strange': 1, 'hall': 1, 'many': 11, 'peculiar': 1, 'doors': 4, 'knobs': 2, 'high': 3, 'reach': 3, 'staggers': 1, 'amazement': 2, 'finds': 2, 'smaller': 2, 'than': 21, 'table': 12, 'able': 3, 'curious': 4, 'feeling': 1, 'shrinking': 1, 'throws': 1, 'saved': 1, 'Mr': 2, 'fur': 2, 'whiskers': 4, \"She'll\": 5, 'executed': 4, 'ferrets': 2, 'sorry': 1, 'Picks': 2, 'patters': 1, 'chop': 3, 'ears': 3, 'trap': 4, 'door': 20, 'gives': 4, 'bang': 1, 'face': 5, 'Amazed': 1, 'hole': 2, 'fit': 5, 'shrink': 1, 'altogether': 1, 'candle': 3, 'flame': 1, 'blown': 1, 'Sits': 1, 'wall': 2, 'stand': 6, 'chattering': 1, 'business': 9, 'stupid': 3, 'Must': 1, 'means': 10, 'shape': 3, 'handsome': 1, 'yours': 3, 'provoking': 2, 'looked': 1, 'Sir': 3, 'eggs': 1, 'Some': 3, 'sense': 3, 'baby': 7, 'sit': 7, 'nobody': 5, 'Ask': 1, 'safer': 1, 'ground': 7, \"wall's\": 1, 'narrow': 1, 'tremendously': 1, 'riddles': 3, 'ask': 9, 'spoken': 3, 'king': 2, 'proud': 3, 'shake': 4, 'forward': 1, 'offer': 2, 'However': 4, 'conversation': 1, 'In': 7, 'case': 2, 'start': 2, 'fresh': 1, 'turn': 2, 'choose': 4, 'subject': 4, 'So': 14, 'question': 5, 'old': 9, 'Seven': 2, 'years': 2, 'six': 2, 'months': 1, 'Wrong': 2, 'word': 7, 'asked': 3, 'advice': 2, 'Leave': 1, 'seven': 2, 'growing': 1, 'Too': 2, 'beautiful': 6, 'belt': 3, \"you've\": 11, 'cravat': 3, 'beg': 4, 'pardon': 3, 'knew': 4, 'which': 21, 'neck': 3, 'waist': 2, 'most': 7, 'person': 6, 'ignorant': 1, 'child': 6, 'glory': 2, 'neither': 1, 'nor': 1, 'less': 4, 'whether': 1, 'different': 5, 'master': 4, 'Impenetrability': 1, 'Would': 5, 'meant': 6, 'impenetrability': 1, 'mention': 1, 'life': 3, 'deal': 5, 'work': 46, 'pay': 3, 'extra': 2, 'Ah': 6, \"'em\": 2, 'round': 15, 'Saturday': 1, 'night': 5, 'wages': 1, 'meet': 6, \"shouldn't\": 6, 'complain': 1, 'everybody': 6, 'nose': 5, 'middle': 4, 'top': 3, 'Wait': 1, 'came': 8, 'forgot': 1, 'They': 20, 'locked': 1, 'begins': 9, 'weep': 1, 'weeping': 3, 'sits': 5, 'its': 12, 'lower': 2, 'golden': 1, 'key': 1, 'surprise': 4, 'weeps': 2, 'grows': 2, 'dark': 1, 'despair': 1, 'slipping': 1, 'lake': 2, 'tears': 5, 'floating': 1, 'shows': 2, 'Drink': 1, 'sign': 2, 'around': 4, 'bottle': 2, 'floats': 1, 'panting': 1, 'edge': 1, 'poison': 1, 'sips': 1, 'Tastes': 1, 'cherry': 1, 'tart': 5, 'custard': 1, 'pineapple': 1, 'roast': 1, 'turkey': 1, 'toffy': 1, 'buttered': 2, 'toast': 1, 'together': 4, 'letting': 1, 'telescope': 1, 'lengthening': 1, 'Music': 7, 'rising': 1, 'deep': 2, 'drowning': 3, 'Help': 1, 'Hjckrrh': 6, 'green': 3, 'creature': 1, 'glittering': 2, 'wings': 2, 'appears': 4, 'reaches': 2, 'claws': 1, 'grab': 2, 'save': 4, 'FOUR': 1, 'symbolic': 1, 'wet': 3, 'rocky': 1, 'shore': 1, 'weird': 1, 'dismally': 1, 'Answers': 2, 'Drags': 1, 'Drop': 1, 'sea': 12, 'sobs': 3, 'bone': 4, 'throat': 2, 'sighs': 2, 'heart': 1, 'break': 1, 'sorrow': 2, 'terrible': 2, 'fancy': 2, \"hasn't\": 2, 'young': 4, 'lady': 4, 'history': 1, 'Sit': 1, 'finished': 4, 'finish': 3, 'Once': 2, 'real': 3, 'silence': 3, 'broken': 1, 'exclamations': 1, 'heavy': 5, 'sobbing': 1, 'went': 9, 'school': 5, 'used': 9, 'tortoise': 1, 'Tortoise': 2, \"wasn't\": 6, 'We': 8, 'taught': 4, 'dull': 1, 'ought': 8, 'ashamed': 1, 'asking': 4, 'Drive': 1, 'fellow': 2, \"tho'\": 1, \"mayn't\": 1, 'Hold': 2, 'educations': 1, 'fact': 5, \"needn't\": 2, 'extras': 1, 'learned': 2, 'French': 4, 'washing': 2, 'Certainly': 1, 'ours': 1, 'bill': 1, 'bottom': 4, 'afford': 1, 'learn': 5, 'regular': 1, 'Reeling': 1, 'writhing': 1, 'branches': 1, 'Arithmetic': 1, 'Ambition': 1, 'Distraction': 1, 'Uglification': 2, 'Derision': 1, 'Never': 4, 'uglifying': 1, 'beautify': 1, 'prettier': 1, 'uglify': 1, 'simpleton': 1, 'Mystery': 2, 'ancient': 1, 'modern': 1, 'Seaography': 1, 'Drawling': 3, 'conger': 1, 'eel': 2, 'once': 6, 'Stretching': 1, 'Fainting': 1, 'Coils': 1, \"Hadn't\": 1, 'Classical': 1, 'crab': 1, 'Laughing': 1, 'Grief': 1, 'Ten': 1, 'nine': 3, 'plan': 1, 'reason': 6, \"they're\": 7, 'lessen': 1, 'eleventh': 1, 'holiday': 1, 'twelfth': 1, 'games': 1, 'deeply': 2, 'draws': 1, 'flapper': 1, 'across': 2, 'choke': 1, 'Punching': 1, 'Same': 1, 'cheeks': 1, 'lived': 3, 'perhaps': 3, 'introduced': 1, 'lobster': 2, 'tasted': 1, 'idea': 3, 'delightful': 2, 'Lobster': 2, 'Quadrille': 2, 'dance': 13, 'form': 5, 'line': 2, 'seashore': 1, 'lines': 2, 'seals': 1, 'turtles': 2, 'salmon': 1, 'cleared': 1, 'jellyfish': 1, 'advance': 3, 'Each': 1, 'partner': 1, 'set': 11, 'partners': 1, 'Change': 2, 'lobsters': 7, 'retire': 1, 'order': 1, 'throw': 3, 'far': 6, 'Swim': 1, 'Turn': 3, 'somersault': 1, 'Back': 1, 'land': 1, 'figure': 3, 'Very': 3, 'sing': 7, 'forgotten': 1, 'Creatures': 1, 'solemnly': 1, 'treading': 2, 'toes': 1, 'waving': 1, 'fore': 1, 'paws': 1, 'mark': 1, 'sings': 2, 'First': 2, 'Verse': 2, 'Will': 3, 'whiting': 8, 'snail': 2, 'porpoise': 4, 'close': 1, 'tail': 3, 'eagerly': 1, 'shingle': 1, 'join': 6, 'Second': 1, 'replied': 1, 'gave': 8, 'askance': 1, 'Said': 2, 'thanked': 1, 'kindly': 1, 'creatures': 4, 'pushing': 1, 'forth': 9, 'protests': 1, 'finally': 2, 'escapes': 1, 'bump': 1, 'each': 5, 'Thank': 2, 'interesting': 2, 'song': 4, 'often': 4, 'din': 2, 'Checks': 1, 'hastily': 1, 'Din': 1, 'tails': 3, 'mouths': 3, 'crumbs': 4, 'wash': 2, 'shuts': 1, 'Tell': 2, 'thrown': 1, 'fall': 4, 'thought': 3, 'boots': 2, 'shoes': 6, 'shiny': 1, \"They're\": 3, 'blacking': 1, 'Boots': 1, 'Soles': 1, 'eels': 1, 'shrimp': 1, 'told': 4, 'Keep': 2, 'obliged': 1, 'wise': 1, 'fish': 2, \"Wouldn't\": 1, 'journey': 1, 'purpose': 2, 'Shall': 3, 'Or': 3, 'Um': 1, 'accounting': 1, 'tastes': 1, 'Sing': 1, 'Soup': 7, 'Sighs': 1, 'choked': 1, 'Beautiful': 2, 'rich': 1, 'Waiting': 1, 'tureen': 1, 'dainties': 1, 'stoop': 1, 'evening': 3, 'Beau': 2, 'ootiful': 2, 'Soo': 3, 'op': 1, 'oop': 2, 'e': 3, 'Enters': 2, 'stretching': 1, 'sash': 1, 'separates': 1, 'Check': 1, 'let': 8, 'coming': 4, 'fly': 4, 'air': 1, 'CURTAIN': 5, 'Curtain': 1, 'reveal': 1, 'silhouettes': 1, 'colored': 1, 'moon': 3, 'Down': 1, 'below': 4, 'shouting': 1, \"You'll\": 4, 'safe': 1, 'showing': 1, 'part': 6, \"Duchess'\": 1, 'On': 2, 'platform': 2, 'cups': 1, 'continuing': 1, 'impression': 1, 'limitless': 1, 'length': 1, 'crowded': 1, 'Finding': 1, 'bruised': 1, 'approaches': 1, 'plenty': 1, 'Hare': 2, 'Hatter': 1, 'Dormouse': 8, 'wine': 2, 'civil': 4, 'invited': 3, 'laid': 1, 'personal': 2, 'remarks': 2, 'rude': 2, 'raven': 1, 'writing': 5, 'desk': 1, 'begun': 3, 'guess': 2, 'Exactly': 2, 'eat': 3, 'breathe': 2, 'uneasily': 2, 'holds': 2, 'ear': 2, 'month': 2, 'fourth': 1, 'days': 7, 'suit': 2, 'knife': 2, 'gloomily': 1, 'dips': 1, 'cup': 2, 'tells': 2, \"o'clock\": 3, 'year': 2, 'stays': 1, 'Which': 3, 'meaning': 7, 'certainly': 3, 'Pouring': 1, \"DORMOUSE'S\": 2, 'guessed': 1, 'riddle': 1, 'slightest': 1, 'Nor': 1, 'wasting': 2, 'answers': 1, 'Time': 3, 'spoke': 2, 'beating': 1, \"he'd\": 2, 'liked': 3, 'clock': 2, 'morning': 2, \"You'd\": 4, 'whisper': 3, 'hint': 1, 'twinkling': 4, 'past': 2, 'grand': 2, 'hungry': 1, 'half': 2, 'quarreled': 1, 'mad': 11, 'concert': 1, 'given': 2, 'Twinkle': 2, 'twinkle': 3, 'bat': 1, 'hardly': 3, 'verse': 1, 'bawled': 1, \"He's\": 3, 'murdering': 1, 'Off': 11, 'since': 2, 'whiles': 1, 'moving': 1, 'beginning': 4, 'change': 2, 'vote': 1, 'story': 3, 'Wake': 2, 'pinch': 1, 'sides': 2, 'Opens': 1, 'hoarse': 1, 'feeble': 1, 'fellows': 1, 'saying': 2, 'quick': 4, 'upon': 5, 'sisters': 2, 'names': 2, 'Elsie': 1, 'Lacie': 1, 'Tillie': 1, 'live': 4, 'treacle': 5, \"they'd\": 1, 'ill': 2, 'Nobody': 7, 'opinion': 1, \"Who's\": 1, 'making': 2, 'Helps': 1, 'minute': 1, 'Sh': 2, 'humbly': 1, 'interrupt': 1, 'these': 6, 'learning': 2, 'draw': 6, 'Treacle': 2, 'clean': 1, \"Let's\": 4, 'unwillingly': 1, \"HARE'S\": 1, 'worse': 2, \"You've\": 4, 'upset': 1, 'jug': 1, 'plate': 2, 'water': 3, 'eh': 1, 'drew': 1, 'manner': 1, 'everything': 2, 'M': 3, 'silent': 1, 'confused': 1, 'pinches': 1, 'wake': 3, 'Wakes': 2, 'shriek': 1, 'continues': 3, 'mousetraps': 1, 'muchness': 3, 'drawing': 1, 'Really': 2, 'stupidest': 1, 'party': 4, 'enters': 4, 'carrying': 4, 'envelope': 2, 'seal': 1, 'crown': 5, 'pays': 3, 'attention': 4, 'raps': 1, 'loudly': 2, 'footman': 1, 'livery': 1, 'frog': 1, 'powdered': 1, 'opens': 2, 'An': 3, 'invitation': 2, 'From': 1, 'bows': 1, 'To': 16, 'sauce': 3, 'pans': 2, 'perfectly': 1, 'disgusting': 1, 'chairs': 1, 'Meanwhile': 1, 'sitting': 1, 'near': 3, 'closed': 1, 'staring': 1, 'stupidly': 1, 'timidly': 2, 'knocks': 1, 'knocking': 4, 'reasons': 1, 'secondly': 1, 'noise': 1, 'inside': 3, 'possibly': 1, 'hear': 3, 'Please': 7, 'knock': 1, 'skims': 1, \"FROG'S\": 1, 'grazes': 1, 'breaks': 1, 'pieces': 1, 'acts': 1, 'maybe': 1, 'dreadful': 2, 'argue': 1, 'drive': 1, 'crazy': 1, 'Anything': 2, \"Where's\": 1, 'servant': 1, 'whose': 1, 'rubs': 1, 'thumb': 1, 'paint': 3, \"What's\": 7, 'speaks': 2, 'deaf': 2, 'Nothing': 3, \"Shouldn't\": 1, 'vexes': 1, 'kicks': 1, \"it'll\": 1, 'talking': 3, 'starts': 2, 'pig': 6, \"baby's\": 1, 'clothes': 1, 'sneezes': 19, 'minded': 2, 'own': 5, 'Sneeze': 1, 'rid': 1, 'giving': 1, 'violent': 1, 'lullaby': 2, 'Speak': 2, 'roughly': 2, 'boy': 3, 'sneeze': 3, 'annoy': 1, 'Because': 1, 'knows': 1, 'teases': 1, 'severely': 2, 'thoroughly': 1, 'enjoy': 1, 'pleases': 1, 'tremendous': 1, 'jumps': 2, 'aside': 1, 'kettles': 1, 'pots': 2, 'calls': 1, 'Another': 2, 'pan': 2, 'hits': 1, 'precious': 1, 'earth': 1, 'twenty': 1, 'axis': 1, 'Talking': 1, 'axes': 1, 'grinning': 1, 'Cheshire': 5, 'cat': 5, 'tree': 1, 'above': 2, 'Cat': 2, 'grin': 2, 'Pig': 1, 'cats': 2, 'grinned': 1, 'nurse': 1, 'Flings': 1, 'ready': 3, 'kill': 2, 'Puss': 1, 'depends': 2, 'among': 1, 'Goes': 1, 'scrutinize': 1, 'left': 5, 'nowhere': 1, 'dream': 2, \"dog's\": 2, 'grant': 1, 'dog': 5, 'growls': 1, 'angry': 2, 'wags': 1, 'pleased': 3, 'growl': 1, 'wag': 1, 'Therefore': 1, 'purring': 1, 'growling': 1, 'Call': 4, 'Vanishes': 2, 'squirming': 1, 'ugly': 1, 'grunt': 1, 'Footman': 1, 'dignity': 1, 'whistles': 1, 'kettle': 1, 'bounding': 1, 'crawls': 2, 'Appearing': 1, 'became': 1, 'turned': 1, 'hedgehogs': 2, 'flamingoes': 5, 'Reappearing': 1, 'fig': 1, 'appearing': 2, 'vanishing': 1, 'suddenly': 1, 'reenters': 1, 'examining': 1, 'curiously': 2, 'TWEEDLEDUM': 1, 'TWEEDLEDEE': 1, \"other's\": 1, 'sidestep': 1, 'Turns': 1, 'involuntarily': 1, 'whispers': 1, 'Tweedle': 1, 'dee': 3, 'DUM': 16, 'Dum': 1, 'DEE': 20, 'waxworks': 1, 'Contrariwise': 1, 'alive': 2, 'visit': 3, \"d'ye\": 1, 'brothers': 1, 'hug': 2, 'free': 6, 'shaking': 1, 'hurting': 1, 'feelings': 1, 'ring': 1, 'naturally': 1, 'mulberry': 1, 'bush': 1, 'road': 5, 'leads': 1, 'Walrus': 6, 'Carpenter': 4, 'longest': 1, 'Gives': 2, 'brother': 1, 'affectionate': 1, 'sun': 1, 'shining': 2, 'sulkily': 1, 'O': 2, 'Oysters': 6, 'beseech': 1, 'Looks': 6, 'pleasant': 3, 'Along': 1, 'briny': 1, 'beach': 1, 'eldest': 1, 'Oyster': 1, 'winked': 1, 'eye': 1, 'shook': 1, 'Meaning': 1, 'oyster': 1, 'bed': 1, 'hurried': 1, 'thick': 1, 'Walked': 1, 'mile': 1, 'rested': 1, 'rock': 1, 'Conveniently': 1, 'low': 2, 'stood': 1, 'waited': 2, 'row': 1, 'loaf': 2, 'chiefly': 1, 'need': 2, 'feed': 1, 'cried': 1, 'Turning': 1, 'fine': 2, 'admire': 1, 'view': 1, 'Cut': 9, 'slice': 1, 'shame': 1, 'trick': 1, 'brought': 2, 'trot': 1, 'trotting': 1, 'none': 3, 'scarcely': 2, \"They'd\": 1, 'eaten': 1, 'Interrupts': 1, 'passion': 1, 'pointing': 2, 'rattle': 4, 'Stamps': 1, 'spoilt': 1, 'agree': 9, 'collects': 1, 'fight': 1, 'Hears': 1, 'backs': 6, 'stage': 7, 'respectfully': 1, 'enter': 3, 'followed': 2, \"KING'S\": 2, 'crimson': 1, 'velvet': 1, 'cushion': 1, 'others': 6, 'opposite': 1, 'Bows': 1, 'times': 2, 'giggles': 1, 'Idiot': 1, 'Nonsense': 1, 'Consider': 4, 'Can': 5, 'Get': 3, 'places': 2, 'mallets': 1, 'execute': 1, 'flamingo': 2, 'uses': 1, 'mallet': 1, 'hedgehog': 2, 'doubles': 1, 'himself': 3, 'arch': 5, 'followers': 2, 'offers': 2, 'Even': 2, 'notice': 3, 'position': 1, 'shouts': 3, 'intervals': 2, 'Chess': 3, 'Under': 1, 'sentence': 3, 'execution': 1, 'pity': 2, 'boxed': 1, \"Queen's\": 2, 'laughter': 1, 'hush': 1, 'hears': 1, 'hurries': 1, 'Noticing': 1, 'pretends': 1, 'quietly': 1, 'downwards': 2, 'body': 2, 'happens': 1, 'working': 1, 'inventing': 1, 'wood': 1, 'several': 3, 'thousand': 2, 'hundred': 1, 'exact': 1, 'number': 4, 'send': 2, 'horses': 2, 'sent': 3, 'messengers': 3, 'war': 1, 'whole': 2, 'man': 5, 'thirteen': 1, 'hearts': 1, 'SPOT': 19, 'NINE': 2, 'distance': 1, 'somebody': 3, 'attitudes': 2, 'skipping': 1, 'wriggling': 1, 'those': 2, 'Anglo': 1, 'Saxon': 1, 'happy': 1, 'respectable': 1, 'fetch': 2, 'carry': 3, 'pants': 1, 'waves': 1, 'fearful': 1, 'alarm': 1, 'feel': 1, 'faint': 2, 'ham': 1, 'sandwich': 2, 'hay': 2, 'Hay': 1, 'eating': 1, 'throwing': 1, 'cold': 1, 'pass': 1, 'Quite': 1, 'saw': 3, 'slower': 1, 'town': 1, 'Much': 1, 'earthquake': 1, 'Give': 3, 'details': 1, 'SPOTS': 1, 'tucks': 1, 'affectionately': 1, 'forget': 2, 'moral': 8, 'Tut': 1, 'tut': 1, 'Squeezes': 1, 'closely': 1, 'digs': 1, 'chin': 2, 'shoulder': 3, 'drags': 1, \"game's\": 1, \"'Tis\": 1, \"'tis\": 2, 'love': 2, 'Somebody': 1, 'minding': 1, 'sounds': 1, 'themselves': 3, 'fond': 1, 'finding': 1, 'morals': 1, 'wondering': 1, 'doubtful': 1, 'experiment': 1, 'true': 3, 'mustard': 3, 'Birds': 1, 'feather': 1, 'flock': 1, 'bird': 1, 'Right': 2, 'usual': 3, 'clear': 1, 'putting': 3, 'mineral': 1, 'vegetable': 1, 'Be': 1, 'seem': 3, 'simply': 1, 'imagine': 1, 'otherwise': 3, 'appear': 2, 'appeared': 1, 'follow': 2, 'chose': 1, 'Pray': 1, 'trouble': 3, 'longer': 1, 'present': 2, 'Uhm': 1, 'Thinking': 1, 'pigs': 1, 'tremble': 1, 'dies': 1, 'folded': 1, 'frowning': 1, 'thunderstorm': 2, 'fair': 1, 'warning': 1, 'choice': 1, 'meekly': 1, 'speaking': 1, 'fairly': 1, 'quarrel': 2, 'rules': 3, 'particular': 3, 'walking': 2, 'croqueted': 1, 'entire': 1, 'court': 9, 'stops': 3, 'questioningly': 1, 'propitiate': 1, 'likely': 1, 'worth': 1, 'finishing': 1, 'passes': 1, 'friend': 1, 'allow': 2, 'introduce': 1, 'kiss': 1, 'likes': 1, 'impertinent': 1, 'removed': 4, 'cut': 5, 'beheaded': 2, 'lie': 1, 'grins': 1, 'escape': 1, 'gone': 6, 'EVERYBODY': 2, 'Save': 2, 'Shouts': 1, 'safety': 1, 'Seeing': 1, 'moment': 1, 'hers': 4, 'OTHERS': 1, 'Glad': 1, 'distract': 1, 'Cries': 1, 'leaving': 3, 'crowd': 3, 'circling': 1, 'bridge': 2, 'built': 1, 'footlights': 2, 'stairs': 2, 'leading': 1, 'orchestra': 1, 'pit': 1, 'chasing': 1, 'onto': 1, 'falling': 1, 'dividing': 1, 'appeals': 1, 'audience': 1, 'runs': 2, 'conventional': 1, 'artificial': 1, 'flowers': 2, 'mushroom': 7, 'smoking': 1, 'hookah': 2, 'whirling': 1, 'trying': 2, 'equilibrium': 1, 'conscious': 1, 'size': 4, 'gazes': 1, 'wonderingly': 2, 'lazily': 1, 'languid': 1, 'awfully': 1, 'tunnel': 1, 'changed': 2, 'Explain': 1, 'explain': 2, 'Being': 1, 'sizes': 1, 'turns': 2, 'important': 9, 'puffs': 1, 'unfolds': 1, 'caterpillar': 1, 'Rears': 1, 'angrily': 1, 'height': 2, 'offended': 1, 'compares': 1, 'tall': 1, 'slides': 1, 'grow': 2, 'taller': 1, 'shorter': 1, 'hesitates': 1, 'embraces': 1, 'Three': 1, 'gardeners': 2, 'representing': 1, 'spades': 1, 'brushes': 1, 'cans': 1, 'splashing': 1, 'jogged': 1, 'elbow': 1, 'lay': 1, 'blame': 1, 'deserved': 1, 'bringing': 2, 'tulip': 1, 'roots': 1, 'instead': 2, 'onions': 1, 'unjust': 1, 'Sees': 1, 'bow': 1, 'Could': 1, 'paints': 1, 'rose': 2, 'thumping': 1, 'louder': 2, 'Run': 1, 'nonsense': 3, 'ALL': 1, 'GARDENERS': 2, 'Go': 2, 'Re': 1, 'dismay': 1, 'cry': 1, 'flat': 1, 'May': 1, 'Examines': 1, 'Begone': 1, 'rush': 1, 'gold': 1, 'scepter': 1, 'immediately': 1, 'appropriates': 1, 'superciliously': 1, 'proudly': 1, 'exclaiming': 1, 'elation': 1, 'bowing': 1, 'homage': 1, 'imaginary': 1, 'subjects': 1, 'repeats': 1, 'daring': 1, 'Ridiculous': 1, \"Isn't\": 2, 'Eighth': 1, 'proper': 1, 'examination': 1, 'sooner': 1, 'obeyed': 1, 'Preposterous': 1, 'Moans': 1, 'wrings': 1, 'truth': 1, 'afterwards': 2, 'complained': 1, 'joke': 2, \"child's\": 1, 'deny': 5, 'nasty': 1, 'vicious': 1, 'invite': 3, 'afternoon': 1, 'guests': 1, 'opportunity': 2, 'manners': 1, 'Manners': 1, 'teach': 1, 'sums': 3, 'addition': 4, 'count': 1, 'subtraction': 4, 'eight': 2, 'Nine': 1, 'division': 1, 'Divide': 1, 'Try': 1, 'sum': 1, 'remains': 1, 'remain': 7, 'circumstances': 1, 'B': 3, 'secret': 2, 'letter': 4, 'discouraged': 1, 'useful': 1, 'questions': 2, 'flour': 1, 'pick': 1, 'flower': 1, 'hedges': 1, 'picked': 2, 'acres': 1, \"mustn't\": 1, 'Fan': 1, 'feverish': 1, 'bunches': 1, 'blow': 1, 'languages': 1, 'fiddle': 2, 'de': 3, 'Fiddle': 1, \"dee's\": 1, 'bargains': 1, 'cause': 4, 'lightning': 2, 'thunder': 2, 'correct': 1, 'fixes': 1, 'consequences': 1, 'Tuesday': 1, 'Part': 1, 'roof': 1, 'rolling': 1, 'lumps': 1, 'tables': 1, 'accident': 1, 'excuse': 1, 'foolish': 1, 'general': 2, 'amazing': 1, 'tempered': 1, 'Pat': 1, 'kindness': 1, 'papers': 1, 'wonders': 1, 'sigh': 1, 'sleepy': 2, 'smooth': 1, 'lend': 1, 'cap': 2, 'soothing': 2, 'lullabies': 1, 'lap': 1, 'Till': 1, \"feast's\": 2, 'Both': 1, 'snore': 1, 'Blows': 3, 'trumpet': 4, \"trial's\": 3, 'stole': 2, 'tarts': 7, 'ate': 1, 'suggesting': 1, 'jurymen': 2, 'kinds': 1, 'throne': 1, 'chains': 2, 'scroll': 2, 'parchment': 3, 'dish': 1, 'blasts': 2, 'Silence': 2, 'Watches': 1, 'busily': 1, 'slates': 2, 'Stupid': 2, 'JURORS': 2, 'Write': 2, 'chorus': 2, 'JUROR': 1, 'spell': 1, 'muddle': 1, 'pencil': 1, 'squeaking': 1, 'Squeaking': 1, 'Wears': 1, 'wig': 1, 'spectacles': 2, 'Herald': 1, 'accusation': 1, 'unrolls': 1, 'reads': 1, 'summer': 1, 'Knave': 1, 'verdict': 5, 'witness': 7, 'Comes': 1, 'teacup': 3, 'Fourteenth': 1, 'Fifteenth': 1, 'Sixteenth': 1, 'JURY': 3, 'Fourteen': 1, 'fifteen': 1, 'sixteen': 1, 'forty': 1, 'Reduce': 1, 'shillings': 1, 'hat': 1, 'Stolen': 2, 'sell': 1, 'hatter': 1, 'Puts': 2, 'stares': 1, 'fidgets': 1, 'uncomfortably': 1, 'evidence': 4, 'nervous': 1, 'spot': 1, 'shift': 1, 'nervously': 1, 'trembles': 1, 'confusion': 2, 'bites': 1, 'thin': 1, 'began': 1, 'T': 1, 'dunce': 1, 'twinkled': 1, 'denies': 1, 'Drops': 1, 'knee': 2, 'floor': 1, 'Nonchalantly': 1, 'officer': 2, 'outside': 5, 'sight': 1, 'Next': 1, 'pot': 3, 'Everybody': 2, 'rushes': 1, \"Shan't\": 1, 'examine': 2, 'Pepper': 1, 'Collar': 1, 'Behead': 1, 'Suppress': 1, 'Pinch': 1, 'settling': 1, 'COURT': 1, 'tone': 1, 'forehead': 1, 'ache': 1, 'Fumbles': 2, 'shrill': 1, 'whatever': 1, 'jury': 7, 'Un': 2, 'Important': 1, 'unimportant': 3, 'paper': 3, 'prisoner': 1, 'directed': 2, 'tiny': 1, 'verses': 2, \"prisoner's\": 1, 'handwriting': 1, 'brightens': 1, \"KNAVE'S\": 1, 'hides': 1, 'queerest': 1, 'puzzled': 1, 'imitated': 1, \"else's\": 1, 'prove': 1, 'signed': 2, 'honest': 1, 'clapping': 1, 'proves': 2, 'guilt': 1, 'Read': 1, 'monocle': 1, 'Begin': 1, 'mentioned': 1, 'character': 1, 'swim': 3, 'returned': 2, 'Though': 1, 'Before': 1, 'obstacle': 1, 'Him': 1, 'ourselves': 1, 'Between': 1, 'sixpence': 1, 'atom': 2, 'Spreads': 1, 'studies': 1, 'Shakes': 1, 'sadly': 1, 'Triumphantly': 1, 'clearer': 1, 'fits': 1, 'dead': 1, 'smile': 1, 'pun': 1, 'consider': 1, 'Sentence': 1, 'Stuff': 1, 'Furiously': 1, 'cares': 1, 'falls': 1, 'positions': 1, 'petrified': 1, 'suffusing': 1, 'characteristic': 1, 'fading': 1, 'shower': 1, 'End': 1, \"Gutenberg's\": 1, 'END': 1, 'named': 1, '35688': 3, 'txt': 1, 'zip': 1, 'associated': 8, 'files': 2, 'various': 1, 'formats': 2, 'org': 8, '3': 12, '5': 4, '6': 3, '8': 5, 'Updated': 1, 'editions': 4, 'replace': 1, 'previous': 1, 'renamed': 1, 'Creating': 1, 'public': 8, 'domain': 7, 'print': 1, 'owns': 2, 'United': 10, 'States': 10, 'copyright': 13, 'Foundation': 21, 'distribute': 5, 'permission': 7, 'paying': 2, 'royalties': 2, 'Special': 1, 'General': 3, 'Terms': 2, 'Use': 2, 'license': 4, 'apply': 1, 'copying': 4, 'distributing': 7, 'tm': 56, 'electronic': 27, 'protect': 2, 'concept': 2, 'trademark': 10, 'registered': 2, 'charge': 6, 'eBooks': 7, 'receive': 3, 'specific': 1, 'copies': 7, 'complying': 3, 'creation': 1, 'derivative': 3, 'reports': 1, 'performances': 1, 'research': 2, 'modified': 1, 'printed': 2, 'practically': 1, 'ANYTHING': 1, 'Redistribution': 1, 'especially': 1, 'commercial': 1, 'redistribution': 1, 'FULL': 2, 'LICENSE': 2, 'PLEASE': 1, 'READ': 1, 'BEFORE': 1, 'YOU': 6, 'DISTRIBUTE': 1, 'OR': 6, 'USE': 1, 'WORK': 1, 'mission': 3, 'promoting': 2, 'distribution': 6, 'using': 4, 'phrase': 4, 'comply': 6, 'Full': 1, 'Section': 7, '1': 45, 'Redistributing': 1, 'reading': 1, 'indicate': 1, 'accept': 1, 'intellectual': 2, 'property': 2, 'agreement': 17, 'abide': 1, 'cease': 1, 'return': 3, 'destroy': 2, 'possession': 1, 'paid': 6, 'fee': 8, 'obtaining': 2, 'access': 10, 'bound': 2, 'obtain': 3, 'refund': 8, 'entity': 3, 'whom': 1, 'paragraph': 10, 'E': 22, 'few': 1, 'full': 10, 'preserve': 1, 'future': 3, 'Literary': 13, 'PGLAF': 1, 'compilation': 1, 'collection': 4, 'individual': 4, 'located': 4, 'claim': 1, 'prevent': 1, 'performing': 3, 'displaying': 4, 'creating': 3, 'based': 2, 'references': 2, 'support': 4, 'freely': 4, 'sharing': 1, 'compliance': 4, 'format': 4, 'attached': 1, 'share': 1, 'D': 1, 'laws': 8, 'also': 2, 'govern': 1, 'constant': 1, 'check': 2, 'downloading': 1, 'representations': 1, 'concerning': 2, 'status': 4, 'Unless': 1, 'active': 2, 'links': 3, 'immediate': 2, 'prominently': 2, 'whenever': 1, 'accessed': 1, 'displayed': 1, 'performed': 1, 'viewed': 1, 'copied': 2, 'distributed': 4, '2': 3, 'derived': 1, 'contain': 2, 'indicating': 1, 'posted': 5, 'holder': 4, 'fees': 4, 'charges': 1, 'redistributing': 1, 'providing': 4, 'requirements': 4, 'paragraphs': 3, '7': 3, '9': 3, 'additional': 3, 'imposed': 1, 'Additional': 1, 'linked': 1, '4': 5, 'unlink': 1, 'detach': 1, 'remove': 1, 'containing': 1, 'display': 1, 'perform': 1, 'redistribute': 1, 'convert': 1, 'binary': 1, 'compressed': 1, 'nonproprietary': 1, 'proprietary': 1, 'including': 8, 'processing': 1, 'hypertext': 1, 'provide': 7, 'Plain': 2, 'Vanilla': 2, 'ASCII': 2, 'official': 3, 'version': 1, 'web': 3, 'site': 4, 'expense': 1, 'user': 3, 'exporting': 1, 'request': 1, 'original': 1, 'Any': 1, 'alternate': 1, 'include': 1, 'specified': 2, 'viewing': 1, 'reasonable': 1, 'provided': 3, 'royalty': 1, '20%': 1, 'gross': 1, 'profits': 1, 'derive': 1, 'calculated': 1, 'method': 1, 'calculate': 1, 'applicable': 3, 'taxes': 1, 'owed': 1, 'agreed': 1, 'donate': 4, 'Royalty': 2, 'payments': 3, 'within': 4, '60': 1, 'date': 2, 'prepare': 2, 'legally': 1, 'required': 1, 'periodic': 1, 'tax': 6, 'returns': 1, 'clearly': 1, 'address': 1, 'Information': 5, 'donations': 12, 'money': 3, 'notifies': 1, 'mail': 1, '30': 1, 'receipt': 2, 's': 1, 'require': 1, 'possessed': 1, 'physical': 2, 'medium': 5, 'discontinue': 1, 'accordance': 2, 'replacement': 3, 'defect': 2, 'reported': 1, '90': 2, 'group': 1, 'Michael': 2, 'Hart': 2, 'Contact': 1, 'volunteers': 5, 'employees': 2, 'expend': 1, 'considerable': 2, 'effort': 2, 'identify': 1, 'transcribe': 1, 'proofread': 1, 'Despite': 1, 'efforts': 3, 'stored': 1, 'Defects': 1, 'limited': 2, 'incomplete': 1, 'inaccurate': 1, 'corrupt': 1, 'data': 1, 'transcription': 1, 'errors': 1, 'infringement': 1, 'defective': 3, 'damaged': 1, 'disk': 1, 'computer': 2, 'virus': 1, 'codes': 1, 'damage': 1, 'equipment': 3, 'LIMITED': 3, 'WARRANTY': 2, 'DISCLAIMER': 1, 'DAMAGES': 2, 'Except': 2, 'Replacement': 1, 'Refund': 1, 'described': 1, 'disclaim': 1, 'liability': 2, 'damages': 2, 'costs': 2, 'expenses': 2, 'legal': 2, 'AGREE': 2, 'THAT': 2, 'HAVE': 1, 'NO': 2, 'REMEDIES': 1, 'FOR': 3, 'NEGLIGENCE': 1, 'STRICT': 1, 'LIABILITY': 1, 'BREACH': 2, 'CONTRACT': 1, 'EXCEPT': 1, 'THOSE': 1, 'PROVIDED': 1, 'PARAGRAPH': 1, 'FOUNDATION': 1, 'TRADEMARK': 1, 'OWNER': 1, 'AND': 1, 'ANY': 3, 'DISTRIBUTOR': 1, 'UNDER': 1, 'AGREEMENT': 1, 'WILL': 1, 'NOT': 2, 'BE': 1, 'LIABLE': 1, 'ACTUAL': 1, 'DIRECT': 1, 'INDIRECT': 1, 'CONSEQUENTIAL': 1, 'PUNITIVE': 1, 'INCIDENTAL': 1, 'EVEN': 1, 'IF': 1, 'GIVE': 1, 'NOTICE': 1, 'POSSIBILITY': 1, 'SUCH': 1, 'DAMAGE': 1, 'RIGHT': 1, 'REPLACEMENT': 1, 'REFUND': 1, 'discover': 1, 'receiving': 1, 'sending': 1, 'explanation': 2, 'received': 5, 'elect': 1, 'lieu': 2, 'electronically': 2, 'second': 2, 'demand': 1, 'further': 1, 'opportunities': 1, 'fix': 1, 'problem': 1, \"'AS\": 1, \"IS'\": 1, 'WITH': 1, 'OTHER': 1, 'WARRANTIES': 2, 'KIND': 1, 'EXPRESS': 1, 'IMPLIED': 1, 'INCLUDING': 1, 'BUT': 1, 'MERCHANTIBILITY': 1, 'FITNESS': 1, 'PURPOSE': 1, 'states': 4, 'disclaimers': 1, 'certain': 2, 'implied': 1, 'warranties': 1, 'exclusion': 1, 'limitation': 3, 'types': 1, 'disclaimer': 2, 'violates': 1, 'law': 2, 'interpreted': 1, 'maximum': 1, 'permitted': 2, 'invalidity': 1, 'unenforceability': 1, 'provision': 1, 'void': 1, 'remaining': 1, 'provisions': 1, 'INDEMNITY': 1, 'indemnify': 1, 'agent': 1, 'employee': 1, 'production': 1, 'promotion': 1, 'harmless': 1, 'arise': 1, 'indirectly': 1, 'occur': 1, 'b': 1, 'alteration': 1, 'modification': 1, 'additions': 1, 'deletions': 1, 'c': 3, 'Defect': 1, 'Mission': 1, 'synonymous': 1, 'readable': 2, 'widest': 2, 'variety': 1, 'computers': 2, 'obsolete': 1, 'aged': 1, 'exists': 1, 'hundreds': 1, 'Volunteers': 1, 'financial': 1, 'assistance': 1, 'critical': 1, 'reaching': 1, \"tm's\": 1, 'goals': 1, 'ensuring': 1, 'generations': 2, '2001': 1, 'created': 2, 'secure': 1, 'permanent': 1, 'Sections': 1, 'page': 2, 'pglaf': 5, 'non': 1, 'profit': 1, '501': 2, 'educational': 1, 'corporation': 1, 'organized': 1, 'Mississippi': 1, 'granted': 1, 'exempt': 2, 'Internal': 1, 'Revenue': 1, 'Service': 1, \"Foundation's\": 3, 'EIN': 1, 'federal': 2, 'identification': 1, '64': 1, '6221541': 1, 'Its': 2, 'fundraising': 1, 'Contributions': 1, 'deductible': 1, 'extent': 1, 'U': 3, 'S': 5, \"state's\": 1, 'principal': 1, 'office': 2, '4557': 1, 'Melan': 1, 'Dr': 2, 'Fairbanks': 1, 'AK': 1, '99712': 1, 'scattered': 1, 'throughout': 1, 'numerous': 1, 'locations': 2, '809': 1, 'North': 1, '1500': 1, 'West': 1, 'Salt': 1, 'Lake': 1, 'City': 1, 'UT': 1, '84116': 1, '801': 1, '596': 1, '1887': 1, 'email': 2, 'business@pglaf': 1, 'Email': 1, 'contact': 3, 'information': 3, 'Gregory': 1, 'Newby': 1, 'Chief': 1, 'Executive': 1, 'Director': 1, 'gbnewby@pglaf': 1, 'Donations': 2, 'survive': 1, 'spread': 1, 'increasing': 1, 'licensed': 1, 'machine': 1, 'accessible': 1, 'array': 1, 'outdated': 1, 'Many': 1, '$1': 1, '$5': 1, '000': 1, 'particularly': 1, 'maintaining': 1, 'IRS': 1, 'committed': 1, 'regulating': 1, 'charities': 1, 'charitable': 1, '50': 1, 'Compliance': 1, 'uniform': 1, 'paperwork': 1, 'solicit': 2, 'confirmation': 1, 'SEND': 1, 'DONATIONS': 1, 'determine': 1, 'contributions': 1, 'met': 1, 'solicitation': 1, 'prohibition': 1, 'accepting': 1, 'unsolicited': 1, 'donors': 1, 'approach': 1, 'International': 1, 'gratefully': 1, 'accepted': 2, 'statements': 1, 'treatment': 1, 'swamp': 1, 'staff': 1, 'Web': 3, 'pages': 1, 'current': 1, 'donation': 1, 'methods': 1, 'addresses': 1, 'checks': 1, 'credit': 1, 'card': 1, 'About': 1, 'Professor': 1, 'originator': 1, 'library': 1, 'shared': 1, 'thirty': 1, 'loose': 1, 'network': 1, 'volunteer': 1, 'confirmed': 1, 'Public': 1, 'Domain': 1, 'Thus': 1, 'necessarily': 1, 'edition': 1, 'Most': 1, 'main': 1, 'PG': 1, 'search': 1, 'facility': 1, 'includes': 1, 'subscribe': 1, 'newsletter': 1}\n"
     ]
    }
   ],
   "source": [
    "print(words)BeYo"
   ]
  },
  {
   "cell_type": "code",
   "execution_count": 8,
   "metadata": {},
   "outputs": [
    {
     "name": "stdout",
     "output_type": "stream",
     "text": [
      "['how', 'much', 'wood', 'would', 'a', 'woodchuck', 'chuck', 'if', 'a', 'woodchuck', 'could', 'chuck', 'wood']\n"
     ]
    }
   ],
   "source": [
    "mystr='how much wood would a woodchuck chuck if a woodchuck could chuck wood'\n",
    "mylist=mystr.split(' ')\n",
    "print(mylist)"
   ]
  },
  {
   "cell_type": "code",
   "execution_count": 26,
   "metadata": {},
   "outputs": [
    {
     "name": "stdout",
     "output_type": "stream",
     "text": [
      "{'how': 1, 'much': 1, 'wood': 2, 'would': 1, 'a': 2, 'woodchuck': 2, 'chuck': 2, 'if': 1, 'could': 1}\n",
      "{'how': 1, 'much': 1, 'wood': 2, 'would': 1, 'a': 2, 'woodchuck': 2, 'chuck': 2, 'if': 1, 'could': 1}\n",
      "{'how': 1, 'much': 1, 'wood': 2, 'would': 1, 'a': 2, 'woodchuck': 2, 'chuck': 2, 'if': 1, 'could': 1}\n",
      "{'how': 1, 'much': 1, 'wood': 2, 'would': 1, 'a': 2, 'woodchuck': 2, 'chuck': 2, 'if': 1, 'could': 1}\n",
      "{'how': 1, 'much': 1, 'wood': 2, 'would': 1, 'a': 2, 'woodchuck': 2, 'chuck': 2, 'if': 1, 'could': 1}\n",
      "{'how': 1, 'much': 1, 'wood': 2, 'would': 1, 'a': 2, 'woodchuck': 2, 'chuck': 2, 'if': 1, 'could': 1}\n",
      "{'how': 1, 'much': 1, 'wood': 2, 'would': 1, 'a': 2, 'woodchuck': 2, 'chuck': 2, 'if': 1, 'could': 1}\n",
      "{'how': 1, 'much': 1, 'wood': 2, 'would': 1, 'a': 2, 'woodchuck': 2, 'chuck': 2, 'if': 1, 'could': 1}\n",
      "{'how': 1, 'much': 1, 'wood': 2, 'would': 1, 'a': 2, 'woodchuck': 2, 'chuck': 2, 'if': 1, 'could': 1}\n",
      "{'how': 1, 'much': 1, 'wood': 2, 'would': 1, 'a': 2, 'woodchuck': 2, 'chuck': 2, 'if': 1, 'could': 1}\n",
      "{'how': 1, 'much': 1, 'wood': 2, 'would': 1, 'a': 2, 'woodchuck': 2, 'chuck': 2, 'if': 1, 'could': 1}\n",
      "{'how': 1, 'much': 1, 'wood': 2, 'would': 1, 'a': 2, 'woodchuck': 2, 'chuck': 2, 'if': 1, 'could': 1}\n",
      "{'how': 1, 'much': 1, 'wood': 2, 'would': 1, 'a': 2, 'woodchuck': 2, 'chuck': 2, 'if': 1, 'could': 1}\n"
     ]
    }
   ],
   "source": [
    "mywords={} # empty dictionary\n",
    "\n",
    "for k in mylist:\n",
    "    if k in mywords:\n",
    "        mywords[k]+=1 # incrementing count by one\n",
    "    else:\n",
    "        mywords[k]=1\n",
    "    print(words)"
   ]
  },
  {
   "cell_type": "markdown",
   "metadata": {},
   "source": [
    "The function `sorted()` return an ordered list."
   ]
  },
  {
   "cell_type": "code",
   "execution_count": 27,
   "metadata": {},
   "outputs": [
    {
     "data": {
      "text/plain": [
       "['how',\n",
       " 'much',\n",
       " 'wood',\n",
       " 'would',\n",
       " 'a',\n",
       " 'woodchuck',\n",
       " 'chuck',\n",
       " 'if',\n",
       " 'a',\n",
       " 'woodchuck',\n",
       " 'could',\n",
       " 'chuck',\n",
       " 'wood']"
      ]
     },
     "execution_count": 27,
     "metadata": {},
     "output_type": "execute_result"
    }
   ],
   "source": [
    "mylist"
   ]
  },
  {
   "cell_type": "code",
   "execution_count": 14,
   "metadata": {},
   "outputs": [
    {
     "name": "stdout",
     "output_type": "stream",
     "text": [
      "['a', 'a', 'chuck', 'chuck', 'could', 'how', 'if', 'much', 'wood', 'wood', 'woodchuck', 'woodchuck', 'would']\n"
     ]
    }
   ],
   "source": [
    "smylist=sorted(mylist)\n",
    "print(smylist)"
   ]
  },
  {
   "cell_type": "code",
   "execution_count": 15,
   "metadata": {},
   "outputs": [
    {
     "name": "stdout",
     "output_type": "stream",
     "text": [
      "['would', 'woodchuck', 'woodchuck', 'wood', 'wood', 'much', 'if', 'how', 'could', 'chuck', 'chuck', 'a', 'a']\n"
     ]
    }
   ],
   "source": [
    "smylist=sorted(mylist,reverse=True)\n",
    "print(smylist)"
   ]
  },
  {
   "cell_type": "code",
   "execution_count": 17,
   "metadata": {},
   "outputs": [],
   "source": [
    "grades=[[10,8,9],[3,2,5],[8,5,6],[0,10,7]]"
   ]
  },
  {
   "cell_type": "code",
   "execution_count": 18,
   "metadata": {},
   "outputs": [
    {
     "data": {
      "text/plain": [
       "[[0, 10, 7], [3, 2, 5], [8, 5, 6], [10, 8, 9]]"
      ]
     },
     "execution_count": 18,
     "metadata": {},
     "output_type": "execute_result"
    }
   ],
   "source": [
    "sorted(grades)"
   ]
  },
  {
   "cell_type": "markdown",
   "metadata": {},
   "source": [
    "to sort more complex data, we can use a `key`"
   ]
  },
  {
   "cell_type": "code",
   "execution_count": 19,
   "metadata": {},
   "outputs": [],
   "source": [
    "def tot_avg(mylist):\n",
    "    return (mylist[0]+mylist[1]+mylist[2])/3"
   ]
  },
  {
   "cell_type": "code",
   "execution_count": 20,
   "metadata": {},
   "outputs": [
    {
     "data": {
      "text/plain": [
       "[[3, 2, 5], [0, 10, 7], [8, 5, 6], [10, 8, 9]]"
      ]
     },
     "execution_count": 20,
     "metadata": {},
     "output_type": "execute_result"
    }
   ],
   "source": [
    "sorted(grades,key=tot_avg)"
   ]
  },
  {
   "cell_type": "code",
   "execution_count": 31,
   "metadata": {},
   "outputs": [
    {
     "name": "stdout",
     "output_type": "stream",
     "text": [
      "{'how': 1, 'much': 1, 'wood': 2, 'would': 1, 'a': 2, 'woodchuck': 2, 'chuck': 2, 'if': 1, 'could': 1}\n"
     ]
    }
   ],
   "source": [
    "print(mywords)"
   ]
  },
  {
   "cell_type": "code",
   "execution_count": 32,
   "metadata": {},
   "outputs": [],
   "source": [
    "mylist=list(words.items())"
   ]
  },
  {
   "cell_type": "markdown",
   "metadata": {},
   "source": [
    "**Ex.** sort the words from the one occuring the most, to the one occuring the least number of times"
   ]
  },
  {
   "cell_type": "code",
   "execution_count": 33,
   "metadata": {},
   "outputs": [],
   "source": [
    "def second(myl):\n",
    "    return myl[1]"
   ]
  },
  {
   "cell_type": "code",
   "execution_count": 36,
   "metadata": {},
   "outputs": [
    {
     "data": {
      "text/plain": [
       "[('the', 752),\n",
       " ('and', 437),\n",
       " ('you', 409),\n",
       " ('to', 395),\n",
       " ('a', 372),\n",
       " ('ALICE', 358),\n",
       " ('I', 358),\n",
       " ('of', 342),\n",
       " ('it', 235),\n",
       " ('in', 217),\n",
       " ('with', 139),\n",
       " ('QUEEN', 139),\n",
       " ('is', 129),\n",
       " ('that', 128),\n",
       " ('The', 118),\n",
       " ('at', 110),\n",
       " ('all', 104),\n",
       " ('on', 95),\n",
       " ('or', 93),\n",
       " ('be', 93),\n",
       " ('know', 86),\n",
       " ('WHITE', 85),\n",
       " ('her', 85),\n",
       " ('Project', 83),\n",
       " ('do', 83),\n",
       " ('Gutenberg', 82),\n",
       " ('as', 80),\n",
       " ('for', 78),\n",
       " ('what', 74),\n",
       " ('your', 73),\n",
       " ('have', 72),\n",
       " ('are', 70),\n",
       " ('out', 70),\n",
       " ('if', 69),\n",
       " ('KING', 66),\n",
       " ('not', 66),\n",
       " ('this', 63),\n",
       " ('Oh', 62),\n",
       " ('me', 61),\n",
       " (\"don't\", 61),\n",
       " ('You', 59),\n",
       " ('so', 58),\n",
       " ('was', 57),\n",
       " ('his', 56),\n",
       " ('tm', 56),\n",
       " ('like', 55),\n",
       " ('HATTER', 55),\n",
       " ('one', 54),\n",
       " ('any', 54),\n",
       " ('they', 53),\n",
       " ('by', 52),\n",
       " ('but', 51),\n",
       " ('RED', 50),\n",
       " ('from', 48),\n",
       " ('MOCK', 47),\n",
       " ('TURTLE', 47),\n",
       " (\"I'm\", 47),\n",
       " ('my', 47),\n",
       " ('about', 47),\n",
       " ('DUCHESS', 46),\n",
       " ('would', 46),\n",
       " ('work', 46),\n",
       " ('1', 45),\n",
       " ('she', 44),\n",
       " ('She', 43),\n",
       " ('no', 42),\n",
       " ('RABBIT', 42),\n",
       " ('And', 42),\n",
       " ('can', 42),\n",
       " ('What', 41),\n",
       " ('course', 40),\n",
       " ('MARCH', 39),\n",
       " ('It', 39),\n",
       " ('HARE', 38),\n",
       " (\"It's\", 38),\n",
       " ('them', 38),\n",
       " ('If', 38),\n",
       " ('must', 37),\n",
       " ('he', 37),\n",
       " ('off', 37),\n",
       " ('go', 37),\n",
       " ('only', 37),\n",
       " ('see', 36),\n",
       " (\"it's\", 36),\n",
       " ('works', 36),\n",
       " ('GRYPHON', 35),\n",
       " ('think', 35),\n",
       " ('other', 35),\n",
       " (\"can't\", 35),\n",
       " ('say', 35),\n",
       " ('we', 35),\n",
       " ('Alice', 32),\n",
       " ('an', 32),\n",
       " ('Why', 32),\n",
       " ('when', 32),\n",
       " ('had', 32),\n",
       " ('way', 31),\n",
       " ('Queen', 31),\n",
       " ('head', 31),\n",
       " ('never', 31),\n",
       " ('up', 31),\n",
       " ('said', 31),\n",
       " ('may', 30),\n",
       " ('FROG', 30),\n",
       " ('him', 30),\n",
       " ('But', 30),\n",
       " ('just', 30),\n",
       " ('time', 30),\n",
       " ('tell', 30),\n",
       " ('things', 29),\n",
       " ('were', 28),\n",
       " ('did', 28),\n",
       " ('been', 28),\n",
       " ('down', 28),\n",
       " ('very', 28),\n",
       " ('A', 27),\n",
       " ('there', 27),\n",
       " ('come', 27),\n",
       " (\"I've\", 27),\n",
       " ('electronic', 27),\n",
       " ('into', 26),\n",
       " ('here', 26),\n",
       " ('again', 25),\n",
       " ('little', 24),\n",
       " ('now', 24),\n",
       " ('He', 24),\n",
       " ('get', 24),\n",
       " ('OF', 23),\n",
       " ('HUMPTY', 23),\n",
       " ('DUMPTY', 23),\n",
       " ('should', 23),\n",
       " ('thing', 23),\n",
       " ('will', 23),\n",
       " ('DORMOUSE', 22),\n",
       " ('then', 22),\n",
       " ('too', 22),\n",
       " ('could', 22),\n",
       " ('same', 22),\n",
       " ('No', 22),\n",
       " ('more', 22),\n",
       " ('E', 22),\n",
       " ('CAT', 21),\n",
       " ('look', 21),\n",
       " ('mean', 21),\n",
       " ('please', 21),\n",
       " ('than', 21),\n",
       " ('which', 21),\n",
       " ('Foundation', 21),\n",
       " ('terms', 20),\n",
       " ('Illustration', 20),\n",
       " ('their', 20),\n",
       " ('want', 20),\n",
       " ('day', 20),\n",
       " ('before', 20),\n",
       " ('how', 20),\n",
       " ('door', 20),\n",
       " ('They', 20),\n",
       " ('DEE', 20),\n",
       " (\"That's\", 19),\n",
       " ('much', 19),\n",
       " ('over', 19),\n",
       " ('am', 19),\n",
       " ('us', 19),\n",
       " ('Of', 19),\n",
       " ('well', 19),\n",
       " ('better', 19),\n",
       " ('such', 19),\n",
       " ('sneezes', 19),\n",
       " ('SPOT', 19),\n",
       " ('CARROLL', 18),\n",
       " ('goes', 18),\n",
       " ('takes', 18),\n",
       " ('two', 18),\n",
       " (\"I'll\", 18),\n",
       " ('some', 18),\n",
       " ('KNAVE', 17),\n",
       " ('How', 17),\n",
       " ('Do', 17),\n",
       " ('has', 17),\n",
       " ('make', 17),\n",
       " ('does', 17),\n",
       " ('where', 17),\n",
       " (\"you're\", 17),\n",
       " ('first', 17),\n",
       " ('agreement', 17),\n",
       " ('use', 16),\n",
       " ('away', 16),\n",
       " ('right', 16),\n",
       " ('through', 16),\n",
       " ('Then', 16),\n",
       " ('name', 16),\n",
       " ('yet', 16),\n",
       " ('got', 16),\n",
       " ('shall', 16),\n",
       " ('To', 16),\n",
       " ('DUM', 16),\n",
       " ('Archive', 15),\n",
       " (\"that's\", 15),\n",
       " ('room', 15),\n",
       " ('tea', 15),\n",
       " (\"didn't\", 15),\n",
       " (\"won't\", 15),\n",
       " ('dear', 15),\n",
       " ('round', 15),\n",
       " (\"isn't\", 14),\n",
       " ('looks', 14),\n",
       " ('good', 14),\n",
       " ('without', 14),\n",
       " (\"wouldn't\", 14),\n",
       " ('nothing', 14),\n",
       " ('So', 14),\n",
       " ('music', 13),\n",
       " ('CATERPILLAR', 13),\n",
       " ('Yes', 13),\n",
       " ('When', 13),\n",
       " ('always', 13),\n",
       " ('who', 13),\n",
       " ('glass', 13),\n",
       " (\"There's\", 13),\n",
       " ('might', 13),\n",
       " ('Majesty', 13),\n",
       " ('Well', 13),\n",
       " ('take', 13),\n",
       " ('end', 13),\n",
       " (\"there's\", 13),\n",
       " ('dance', 13),\n",
       " ('copyright', 13),\n",
       " ('Literary', 13),\n",
       " ('copy', 12),\n",
       " ('play', 12),\n",
       " ('F', 12),\n",
       " (\"you'd\", 12),\n",
       " (\"Don't\", 12),\n",
       " ('house', 12),\n",
       " ('our', 12),\n",
       " ('hands', 12),\n",
       " ('sort', 12),\n",
       " ('next', 12),\n",
       " ('table', 12),\n",
       " ('its', 12),\n",
       " ('sea', 12),\n",
       " ('3', 12),\n",
       " ('donations', 12),\n",
       " ('This', 11),\n",
       " ('give', 11),\n",
       " ('after', 11),\n",
       " ('going', 11),\n",
       " ('people', 11),\n",
       " ('looking', 11),\n",
       " ('wish', 11),\n",
       " ('Take', 11),\n",
       " ('call', 11),\n",
       " ('Where', 11),\n",
       " ('suppose', 11),\n",
       " ('because', 11),\n",
       " (\"couldn't\", 11),\n",
       " ('quite', 11),\n",
       " ('hand', 11),\n",
       " ('butter', 11),\n",
       " ('begin', 11),\n",
       " ('done', 11),\n",
       " ('Who', 11),\n",
       " ('till', 11),\n",
       " ('many', 11),\n",
       " (\"you've\", 11),\n",
       " ('set', 11),\n",
       " ('mad', 11),\n",
       " ('Off', 11),\n",
       " ('Wonderland', 10),\n",
       " ('License', 10),\n",
       " ('http', 10),\n",
       " ('TWO', 10),\n",
       " ('red', 10),\n",
       " ('keep', 10),\n",
       " ('yourself', 10),\n",
       " ('eyes', 10),\n",
       " ('comes', 10),\n",
       " ('ever', 10),\n",
       " (\"doesn't\", 10),\n",
       " ('makes', 10),\n",
       " ('watch', 10),\n",
       " ('answer', 10),\n",
       " ('lessons', 10),\n",
       " ('That', 10),\n",
       " ('sure', 10),\n",
       " ('remember', 10),\n",
       " ('both', 10),\n",
       " ('help', 10),\n",
       " ('means', 10),\n",
       " ('United', 10),\n",
       " ('States', 10),\n",
       " ('trademark', 10),\n",
       " ('access', 10),\n",
       " ('paragraph', 10),\n",
       " ('full', 10),\n",
       " ('under', 9),\n",
       " ('March', 9),\n",
       " ('HEARTS', 9),\n",
       " ('FIVE', 9),\n",
       " ('SEVEN', 9),\n",
       " ('Scene', 9),\n",
       " ('small', 9),\n",
       " (\"haven't\", 9),\n",
       " ('herself', 9),\n",
       " ('talk', 9),\n",
       " ('something', 9),\n",
       " ('heard', 9),\n",
       " ('back', 9),\n",
       " ('There', 9),\n",
       " ('why', 9),\n",
       " ('speak', 9),\n",
       " ('For', 9),\n",
       " ('place', 9),\n",
       " ('long', 9),\n",
       " ('Now', 9),\n",
       " ('bread', 9),\n",
       " ('side', 9),\n",
       " ('hair', 9),\n",
       " ('large', 9),\n",
       " ('business', 9),\n",
       " ('ask', 9),\n",
       " ('old', 9),\n",
       " ('begins', 9),\n",
       " ('went', 9),\n",
       " ('used', 9),\n",
       " ('forth', 9),\n",
       " ('Cut', 9),\n",
       " ('agree', 9),\n",
       " ('court', 9),\n",
       " ('important', 9),\n",
       " ('www', 8),\n",
       " (\"You're\", 8),\n",
       " ('Chicago', 8),\n",
       " ('THE', 8),\n",
       " ('written', 8),\n",
       " ('Hearts', 8),\n",
       " ('SCENE', 8),\n",
       " ('playing', 8),\n",
       " ('white', 8),\n",
       " ('myself', 8),\n",
       " ('against', 8),\n",
       " (\"I'd\", 8),\n",
       " ('walk', 8),\n",
       " (\"She's\", 8),\n",
       " ('anything', 8),\n",
       " ('puts', 8),\n",
       " ('tried', 8),\n",
       " ('disappears', 8),\n",
       " ('Is', 8),\n",
       " ('try', 8),\n",
       " ('believe', 8),\n",
       " ('three', 8),\n",
       " ('jam', 8),\n",
       " ('great', 8),\n",
       " ('mine', 8),\n",
       " ('Not', 8),\n",
       " ('came', 8),\n",
       " ('We', 8),\n",
       " ('ought', 8),\n",
       " ('whiting', 8),\n",
       " ('gave', 8),\n",
       " ('let', 8),\n",
       " ('Dormouse', 8),\n",
       " ('moral', 8),\n",
       " ('associated', 8),\n",
       " ('org', 8),\n",
       " ('public', 8),\n",
       " ('fee', 8),\n",
       " ('refund', 8),\n",
       " ('laws', 8),\n",
       " ('including', 8),\n",
       " ('anyone', 7),\n",
       " ('net', 7),\n",
       " ('made', 7),\n",
       " ('cards', 7),\n",
       " ('home', 7),\n",
       " ('game', 7),\n",
       " ('bit', 7),\n",
       " ('behind', 7),\n",
       " ('words', 7),\n",
       " ('find', 7),\n",
       " ('asleep', 7),\n",
       " ('arm', 7),\n",
       " ('another', 7),\n",
       " ('rises', 7),\n",
       " ('even', 7),\n",
       " ('understand', 7),\n",
       " ('best', 7),\n",
       " ('Come', 7),\n",
       " (\"we've\", 7),\n",
       " ('faster', 7),\n",
       " ('fast', 7),\n",
       " ('At', 7),\n",
       " ('enough', 7),\n",
       " ('bye', 7),\n",
       " ('Turtle', 7),\n",
       " ('walks', 7),\n",
       " ('fan', 7),\n",
       " ('Duchess', 7),\n",
       " ('put', 7),\n",
       " ('temper', 7),\n",
       " ('state', 7),\n",
       " ('really', 7),\n",
       " ('shakes', 7),\n",
       " ('My', 7),\n",
       " ('baby', 7),\n",
       " ('sit', 7),\n",
       " ('ground', 7),\n",
       " ('In', 7),\n",
       " ('word', 7),\n",
       " ('most', 7),\n",
       " ('Music', 7),\n",
       " (\"they're\", 7),\n",
       " ('lobsters', 7),\n",
       " ('sing', 7),\n",
       " ('Soup', 7),\n",
       " ('days', 7),\n",
       " ('meaning', 7),\n",
       " ('Nobody', 7),\n",
       " ('Please', 7),\n",
       " (\"What's\", 7),\n",
       " ('stage', 7),\n",
       " ('mushroom', 7),\n",
       " ('remain', 7),\n",
       " ('tarts', 7),\n",
       " ('witness', 7),\n",
       " ('jury', 7),\n",
       " ('domain', 7),\n",
       " ('permission', 7),\n",
       " ('distributing', 7),\n",
       " ('eBooks', 7),\n",
       " ('copies', 7),\n",
       " ('Section', 7),\n",
       " ('provide', 7),\n",
       " ('Gerstenberg', 6),\n",
       " ('eBook', 6),\n",
       " ('gutenberg', 6),\n",
       " (\"Alice's\", 6),\n",
       " ('Just', 6),\n",
       " ('ACT', 6),\n",
       " ('new', 6),\n",
       " (\"ALICE'S\", 6),\n",
       " ('tries', 6),\n",
       " ('Queens', 6),\n",
       " ('Here', 6),\n",
       " ('write', 6),\n",
       " ('unless', 6),\n",
       " ('getting', 6),\n",
       " ('today', 6),\n",
       " ('croquet', 6),\n",
       " ('light', 6),\n",
       " ('voice', 6),\n",
       " ('One', 6),\n",
       " ('read', 6),\n",
       " ('Did', 6),\n",
       " ('All', 6),\n",
       " ('rather', 6),\n",
       " ('either', 6),\n",
       " ('being', 6),\n",
       " ('Faster', 6),\n",
       " ('else', 6),\n",
       " ('doing', 6),\n",
       " ('least', 6),\n",
       " ('gloves', 6),\n",
       " ('last', 6),\n",
       " ('every', 6),\n",
       " ('care', 6),\n",
       " ('stand', 6),\n",
       " ('beautiful', 6),\n",
       " ('person', 6),\n",
       " ('child', 6),\n",
       " ('meant', 6),\n",
       " ('Ah', 6),\n",
       " ('meet', 6),\n",
       " (\"shouldn't\", 6),\n",
       " ('everybody', 6),\n",
       " ('Hjckrrh', 6),\n",
       " (\"wasn't\", 6),\n",
       " ('once', 6),\n",
       " ('reason', 6),\n",
       " ('far', 6),\n",
       " ('join', 6),\n",
       " ('shoes', 6),\n",
       " ('part', 6),\n",
       " ('these', 6),\n",
       " ('draw', 6),\n",
       " ('pig', 6),\n",
       " ('free', 6),\n",
       " ('Walrus', 6),\n",
       " ('Oysters', 6),\n",
       " ('Looks', 6),\n",
       " ('backs', 6),\n",
       " ('others', 6),\n",
       " ('gone', 6),\n",
       " ('charge', 6),\n",
       " ('YOU', 6),\n",
       " ('OR', 6),\n",
       " ('distribution', 6),\n",
       " ('comply', 6),\n",
       " ('paid', 6),\n",
       " ('tax', 6),\n",
       " ('almost', 5),\n",
       " ('THIS', 5),\n",
       " ('C', 5),\n",
       " ('1915', 5),\n",
       " ('world', 5),\n",
       " ('run', 5),\n",
       " ('characters', 5),\n",
       " ('book', 5),\n",
       " ('called', 5),\n",
       " ('funny', 5),\n",
       " ('pawn', 5),\n",
       " ('four', 5),\n",
       " ('With', 5),\n",
       " ('See', 5),\n",
       " ('big', 5),\n",
       " ('along', 5),\n",
       " ('wants', 5),\n",
       " ('bite', 5),\n",
       " ('beat', 5),\n",
       " ('alone', 5),\n",
       " ('finger', 5),\n",
       " ('fire', 5),\n",
       " ('leave', 5),\n",
       " ('garden', 5),\n",
       " ('cook', 5),\n",
       " ('pepper', 5),\n",
       " ('between', 5),\n",
       " ('afraid', 5),\n",
       " ('portieres', 5),\n",
       " ('curtain', 5),\n",
       " ('while', 5),\n",
       " ('open', 5),\n",
       " ('Your', 5),\n",
       " ('indeed', 5),\n",
       " ('instance', 5),\n",
       " ('hold', 5),\n",
       " ('mind', 5),\n",
       " ('seen', 5),\n",
       " ('owner', 5),\n",
       " ('cries', 5),\n",
       " (\"what's\", 5),\n",
       " ('matter', 5),\n",
       " ('Takes', 5),\n",
       " ('cannot', 5),\n",
       " ('poor', 5),\n",
       " ('piece', 5),\n",
       " (\"he's\", 5),\n",
       " ('stop', 5),\n",
       " ('slowly', 5),\n",
       " (\"She'll\", 5),\n",
       " ('face', 5),\n",
       " ('fit', 5),\n",
       " ('nobody', 5),\n",
       " ('question', 5),\n",
       " ('different', 5),\n",
       " ('Would', 5),\n",
       " ('deal', 5),\n",
       " ('night', 5),\n",
       " ('nose', 5),\n",
       " ('sits', 5),\n",
       " ('tears', 5),\n",
       " ('tart', 5),\n",
       " ('heavy', 5),\n",
       " ('school', 5),\n",
       " ('fact', 5),\n",
       " ('learn', 5),\n",
       " ('form', 5),\n",
       " ('each', 5),\n",
       " ('CURTAIN', 5),\n",
       " ('writing', 5),\n",
       " ('upon', 5),\n",
       " ('treacle', 5),\n",
       " ('crown', 5),\n",
       " ('own', 5),\n",
       " ('Cheshire', 5),\n",
       " ('cat', 5),\n",
       " ('left', 5),\n",
       " ('dog', 5),\n",
       " ('flamingoes', 5),\n",
       " ('road', 5),\n",
       " ('Can', 5),\n",
       " ('arch', 5),\n",
       " ('man', 5),\n",
       " ('cut', 5),\n",
       " ('deny', 5),\n",
       " ('verdict', 5),\n",
       " ('outside', 5),\n",
       " ('8', 5),\n",
       " ('distribute', 5),\n",
       " ('posted', 5),\n",
       " ('4', 5),\n",
       " ('Information', 5),\n",
       " ('medium', 5),\n",
       " ('volunteers', 5),\n",
       " ('received', 5),\n",
       " ('pglaf', 5),\n",
       " ('S', 5),\n",
       " ('online', 4),\n",
       " ('Looking', 4),\n",
       " ('English', 4),\n",
       " ('PROJECT', 4),\n",
       " ('GUTENBERG', 4),\n",
       " ('IN', 4),\n",
       " ('file', 4),\n",
       " ('produced', 4),\n",
       " ('available', 4),\n",
       " ('egg', 4),\n",
       " ('W', 4),\n",
       " ('following', 4),\n",
       " ('II', 4),\n",
       " ('III', 4),\n",
       " ('black', 4),\n",
       " ('arms', 4),\n",
       " ('stands', 4),\n",
       " ('took', 4),\n",
       " ('Red', 4),\n",
       " ('White', 4),\n",
       " ('points', 4),\n",
       " ('move', 4),\n",
       " ('Look', 4),\n",
       " ('pack', 4),\n",
       " (\"she's\", 4),\n",
       " (\"one's\", 4),\n",
       " ('nice', 4),\n",
       " ('fun', 4),\n",
       " ('tongue', 4),\n",
       " ('mirror', 4),\n",
       " ('show', 4),\n",
       " ('dreaming', 4),\n",
       " ('wonder', 4),\n",
       " ('armchair', 4),\n",
       " ('wrong', 4),\n",
       " ('found', 4),\n",
       " ('ran', 4),\n",
       " ('says', 4),\n",
       " ('mysterious', 4),\n",
       " (\"let's\", 4),\n",
       " ('picks', 4),\n",
       " ('easy', 4),\n",
       " ('As', 4),\n",
       " ('wanted', 4),\n",
       " ('Perhaps', 4),\n",
       " ('ways', 4),\n",
       " ('thinking', 4),\n",
       " ('late', 4),\n",
       " ('dinner', 4),\n",
       " ('mouth', 4),\n",
       " ('dare', 4),\n",
       " ('seems', 4),\n",
       " ('marked', 4),\n",
       " ('huge', 4),\n",
       " ('Are', 4),\n",
       " ('rest', 4),\n",
       " (\"we're\", 4),\n",
       " ('country', 4),\n",
       " ('somewhere', 4),\n",
       " ('twice', 4),\n",
       " ('stay', 4),\n",
       " ('hot', 4),\n",
       " ('Have', 4),\n",
       " ('fear', 4),\n",
       " ('Square', 4),\n",
       " ('Mock', 4),\n",
       " ('Good', 4),\n",
       " ('shawl', 4),\n",
       " ('happened', 4),\n",
       " ('wildly', 4),\n",
       " ('hours', 4),\n",
       " ('Two', 4),\n",
       " ('week', 4),\n",
       " ('happen', 4),\n",
       " ('punished', 4),\n",
       " ('lights', 4),\n",
       " ('sky', 4),\n",
       " ('doors', 4),\n",
       " ('curious', 4),\n",
       " ('whiskers', 4),\n",
       " ('executed', 4),\n",
       " ('trap', 4),\n",
       " ('gives', 4),\n",
       " ('shake', 4),\n",
       " ('However', 4),\n",
       " ('choose', 4),\n",
       " ('subject', 4),\n",
       " ('beg', 4),\n",
       " ('knew', 4),\n",
       " ('less', 4),\n",
       " ('master', 4),\n",
       " ('middle', 4),\n",
       " ('surprise', 4),\n",
       " ('around', 4),\n",
       " ('together', 4),\n",
       " ('appears', 4),\n",
       " ('save', 4),\n",
       " ('bone', 4),\n",
       " ('young', 4),\n",
       " ('lady', 4),\n",
       " ('finished', 4),\n",
       " ('taught', 4),\n",
       " ('asking', 4),\n",
       " ('French', 4),\n",
       " ('bottom', 4),\n",
       " ('Never', 4),\n",
       " ('porpoise', 4),\n",
       " ('creatures', 4),\n",
       " ('song', 4),\n",
       " ('often', 4),\n",
       " ('crumbs', 4),\n",
       " ('fall', 4),\n",
       " ('told', 4),\n",
       " ('coming', 4),\n",
       " ('fly', 4),\n",
       " ('below', 4),\n",
       " (\"You'll\", 4),\n",
       " ('civil', 4),\n",
       " (\"You'd\", 4),\n",
       " ('twinkling', 4),\n",
       " ('beginning', 4),\n",
       " ('quick', 4),\n",
       " ('live', 4),\n",
       " (\"Let's\", 4),\n",
       " (\"You've\", 4),\n",
       " ('party', 4),\n",
       " ('enters', 4),\n",
       " ('carrying', 4),\n",
       " ('attention', 4),\n",
       " ('knocking', 4),\n",
       " ('Call', 4),\n",
       " ('Carpenter', 4),\n",
       " ('rattle', 4),\n",
       " ('Consider', 4),\n",
       " ('number', 4),\n",
       " ('removed', 4),\n",
       " ('hers', 4),\n",
       " ('size', 4),\n",
       " ('addition', 4),\n",
       " ('subtraction', 4),\n",
       " ('letter', 4),\n",
       " ('cause', 4),\n",
       " ('trumpet', 4),\n",
       " ('evidence', 4),\n",
       " ('5', 4),\n",
       " ('editions', 4),\n",
       " ('license', 4),\n",
       " ('copying', 4),\n",
       " ('using', 4),\n",
       " ('phrase', 4),\n",
       " ('collection', 4),\n",
       " ('individual', 4),\n",
       " ('located', 4),\n",
       " ('displaying', 4),\n",
       " ('support', 4),\n",
       " ('freely', 4),\n",
       " ('compliance', 4),\n",
       " ('format', 4),\n",
       " ('status', 4),\n",
       " ('distributed', 4),\n",
       " ('holder', 4),\n",
       " ('fees', 4),\n",
       " ('providing', 4),\n",
       " ('requirements', 4),\n",
       " ('site', 4),\n",
       " ('donate', 4),\n",
       " ('within', 4),\n",
       " ('states', 4),\n",
       " ('anywhere', 3),\n",
       " ('cost', 3),\n",
       " ('included', 3),\n",
       " ('Glass', 3),\n",
       " ('WONDERLAND', 3),\n",
       " ('Humpty', 3),\n",
       " ('Dumpty', 3),\n",
       " ('By', 3),\n",
       " ('TO', 3),\n",
       " ('LEWIS', 3),\n",
       " ('John', 3),\n",
       " ('SPADES', 3),\n",
       " (\"Hare's\", 3),\n",
       " ('Miss', 3),\n",
       " ('ONE', 3),\n",
       " ('chessboard', 3),\n",
       " ('squares', 3),\n",
       " ('army', 3),\n",
       " ('win', 3),\n",
       " (\"here's\", 3),\n",
       " ('heads', 3),\n",
       " ('foot', 3),\n",
       " ('queens', 3),\n",
       " ('mantel', 3),\n",
       " ('ledge', 3),\n",
       " ('cross', 3),\n",
       " ('moves', 3),\n",
       " ('keeping', 3),\n",
       " ('Does', 3),\n",
       " ('hard', 3),\n",
       " ('Kitty', 3),\n",
       " ('sometimes', 3),\n",
       " ('living', 3),\n",
       " ('fireplace', 3),\n",
       " ('lot', 3),\n",
       " ('ball', 3),\n",
       " ('breath', 3),\n",
       " ('tired', 3),\n",
       " ('yawns', 3),\n",
       " ('soup', 3),\n",
       " ('rabbit', 3),\n",
       " ('leans', 3),\n",
       " ('sleep', 3),\n",
       " ('leaves', 3),\n",
       " ('glow', 3),\n",
       " ('QUEENS', 3),\n",
       " ('Rises', 3),\n",
       " ('cutting', 3),\n",
       " ('lost', 3),\n",
       " ('manage', 3),\n",
       " ('pretty', 3),\n",
       " ('though', 3),\n",
       " ('easily', 3),\n",
       " (\"Everything's\", 3),\n",
       " ('generally', 3),\n",
       " ('running', 3),\n",
       " ('pocket', 3),\n",
       " ('biscuit', 3),\n",
       " ('While', 3),\n",
       " ('hope', 3),\n",
       " ('repeat', 3),\n",
       " ('Gryphon', 3),\n",
       " ('remark', 3),\n",
       " (\"we'll\", 3),\n",
       " ('Five', 3),\n",
       " ('wind', 3),\n",
       " ('Rabbit', 3),\n",
       " ('kept', 3),\n",
       " ('sir', 3),\n",
       " ('dashes', 3),\n",
       " ('glad', 3),\n",
       " ('frightened', 3),\n",
       " ('notion', 3),\n",
       " ('straight', 3),\n",
       " ('yesterday', 3),\n",
       " ('rule', 3),\n",
       " ('tomorrow', 3),\n",
       " ('confusing', 3),\n",
       " ('backwards', 3),\n",
       " ('memory', 3),\n",
       " ('trial', 3),\n",
       " (\"hadn't\", 3),\n",
       " ('still', 3),\n",
       " ('smiles', 3),\n",
       " ('dropped', 3),\n",
       " ('high', 3),\n",
       " ('reach', 3),\n",
       " ('able', 3),\n",
       " ('chop', 3),\n",
       " ('ears', 3),\n",
       " ('candle', 3),\n",
       " ('stupid', 3),\n",
       " ('shape', 3),\n",
       " ('yours', 3),\n",
       " ('Sir', 3),\n",
       " ('Some', 3),\n",
       " ('sense', 3),\n",
       " ('riddles', 3),\n",
       " ('spoken', 3),\n",
       " ('proud', 3),\n",
       " ('asked', 3),\n",
       " ('belt', 3),\n",
       " ('cravat', 3),\n",
       " ('pardon', 3),\n",
       " ('neck', 3),\n",
       " ('life', 3),\n",
       " ('pay', 3),\n",
       " ('top', 3),\n",
       " ('weeping', 3),\n",
       " ('drowning', 3),\n",
       " ('green', 3),\n",
       " ('wet', 3),\n",
       " ('sobs', 3),\n",
       " ('finish', 3),\n",
       " ('real', 3),\n",
       " ('silence', 3),\n",
       " ('Drawling', 3),\n",
       " ('nine', 3),\n",
       " ('lived', 3),\n",
       " ('perhaps', 3),\n",
       " ('idea', 3),\n",
       " ('advance', 3),\n",
       " ('throw', 3),\n",
       " ('Turn', 3),\n",
       " ('figure', 3),\n",
       " ('Very', 3),\n",
       " ('Will', 3),\n",
       " ('tail', 3),\n",
       " ('tails', 3),\n",
       " ('mouths', 3),\n",
       " ('thought', 3),\n",
       " (\"They're\", 3),\n",
       " ('Shall', 3),\n",
       " ('Or', 3),\n",
       " ('evening', 3),\n",
       " ('Soo', 3),\n",
       " ('e', 3),\n",
       " ('moon', 3),\n",
       " ('invited', 3),\n",
       " ('begun', 3),\n",
       " ('eat', 3),\n",
       " (\"o'clock\", 3),\n",
       " ('Which', 3),\n",
       " ('certainly', 3),\n",
       " ('Time', 3),\n",
       " ('liked', 3),\n",
       " ('whisper', 3),\n",
       " ('twinkle', 3),\n",
       " ('hardly', 3),\n",
       " (\"He's\", 3),\n",
       " ('story', 3),\n",
       " ('water', 3),\n",
       " ('M', 3),\n",
       " ('wake', 3),\n",
       " ('continues', 3),\n",
       " ('muchness', 3),\n",
       " ('pays', 3),\n",
       " ('An', 3),\n",
       " ('sauce', 3),\n",
       " ('near', 3),\n",
       " ('inside', 3),\n",
       " ('hear', 3),\n",
       " ('paint', 3),\n",
       " ('Nothing', 3),\n",
       " ('talking', 3),\n",
       " ('boy', 3),\n",
       " ('sneeze', 3),\n",
       " ('ready', 3),\n",
       " ('pleased', 3),\n",
       " ('dee', 3),\n",
       " ('visit', 3),\n",
       " ('pleasant', 3),\n",
       " ('none', 3),\n",
       " ('enter', 3),\n",
       " ('Get', 3),\n",
       " ('himself', 3),\n",
       " ('notice', 3),\n",
       " ('shouts', 3),\n",
       " ('Chess', 3),\n",
       " ('sentence', 3),\n",
       " ('several', 3),\n",
       " ('sent', 3),\n",
       " ('messengers', 3),\n",
       " ('somebody', 3),\n",
       " ('carry', 3),\n",
       " ('saw', 3),\n",
       " ('Give', 3),\n",
       " ('shoulder', 3),\n",
       " ('themselves', 3),\n",
       " ('true', 3),\n",
       " ('mustard', 3),\n",
       " ('usual', 3),\n",
       " ('putting', 3),\n",
       " ('seem', 3),\n",
       " ('otherwise', 3),\n",
       " ('trouble', 3),\n",
       " ('rules', 3),\n",
       " ('particular', 3),\n",
       " ('stops', 3),\n",
       " ('leaving', 3),\n",
       " ('crowd', 3),\n",
       " ('nonsense', 3),\n",
       " ('invite', 3),\n",
       " ('sums', 3),\n",
       " ('B', 3),\n",
       " ('de', 3),\n",
       " ('Blows', 3),\n",
       " (\"trial's\", 3),\n",
       " ('parchment', 3),\n",
       " ('teacup', 3),\n",
       " ('JURY', 3),\n",
       " ('pot', 3),\n",
       " ('unimportant', 3),\n",
       " ('paper', 3),\n",
       " ('swim', 3),\n",
       " ('35688', 3),\n",
       " ('6', 3),\n",
       " ('General', 3),\n",
       " ('receive', 3),\n",
       " ('complying', 3),\n",
       " ('derivative', 3),\n",
       " ('mission', 3),\n",
       " ('return', 3),\n",
       " ('obtain', 3),\n",
       " ('entity', 3),\n",
       " ('future', 3),\n",
       " ('performing', 3),\n",
       " ('creating', 3),\n",
       " ('links', 3),\n",
       " ('2', 3),\n",
       " ('paragraphs', 3),\n",
       " ('7', 3),\n",
       " ('9', 3),\n",
       " ('additional', 3),\n",
       " ...]"
      ]
     },
     "execution_count": 36,
     "metadata": {},
     "output_type": "execute_result"
    }
   ],
   "source": [
    "sorted(mylist,key=second,reverse=True)"
   ]
  },
  {
   "cell_type": "code",
   "execution_count": 39,
   "metadata": {},
   "outputs": [
    {
     "ename": "TypeError",
     "evalue": "'<' not supported between instances of 'int' and 'str'",
     "output_type": "error",
     "traceback": [
      "\u001b[1;31m---------------------------------------------------------------------------\u001b[0m",
      "\u001b[1;31mTypeError\u001b[0m                                 Traceback (most recent call last)",
      "\u001b[1;32m<ipython-input-39-4a831fa845c0>\u001b[0m in \u001b[0;36m<module>\u001b[1;34m\u001b[0m\n\u001b[1;32m----> 1\u001b[1;33m \u001b[0msorted\u001b[0m\u001b[1;33m(\u001b[0m\u001b[1;33m[\u001b[0m\u001b[1;34m'abba'\u001b[0m\u001b[1;33m,\u001b[0m\u001b[1;36m11\u001b[0m\u001b[1;33m,\u001b[0m\u001b[1;34m'pippo'\u001b[0m\u001b[1;33m]\u001b[0m\u001b[1;33m)\u001b[0m\u001b[1;33m\u001b[0m\u001b[1;33m\u001b[0m\u001b[0m\n\u001b[0m",
      "\u001b[1;31mTypeError\u001b[0m: '<' not supported between instances of 'int' and 'str'"
     ]
    }
   ],
   "source": [
    "sorted(['abba',11,'pippo'])"
   ]
  },
  {
   "cell_type": "code",
   "execution_count": 40,
   "metadata": {},
   "outputs": [
    {
     "data": {
      "text/plain": [
       "[11, 'abba', 'pippo']"
      ]
     },
     "execution_count": 40,
     "metadata": {},
     "output_type": "execute_result"
    }
   ],
   "source": [
    "sorted(['abba',11,'pippo'],key=str)"
   ]
  },
  {
   "cell_type": "code",
   "execution_count": 41,
   "metadata": {},
   "outputs": [],
   "source": [
    "mystr='I love pizza!'"
   ]
  },
  {
   "cell_type": "code",
   "execution_count": 42,
   "metadata": {},
   "outputs": [],
   "source": [
    "mystr=mystr.replace('pizza','pasta')"
   ]
  },
  {
   "cell_type": "code",
   "execution_count": 43,
   "metadata": {},
   "outputs": [
    {
     "name": "stdout",
     "output_type": "stream",
     "text": [
      "I love pasta!\n"
     ]
    }
   ],
   "source": [
    "print(mystr)"
   ]
  },
  {
   "cell_type": "code",
   "execution_count": 44,
   "metadata": {},
   "outputs": [
    {
     "name": "stdout",
     "output_type": "stream",
     "text": [
      "pasta pasta!\n"
     ]
    }
   ],
   "source": [
    "mystr='pizza pizza!'\n",
    "mystr=mystr.replace('pizza','pasta')\n",
    "print(mystr)"
   ]
  },
  {
   "cell_type": "code",
   "execution_count": 7,
   "metadata": {},
   "outputs": [
    {
     "ename": "UnicodeDecodeError",
     "evalue": "'charmap' codec can't decode byte 0x9d in position 1751: character maps to <undefined>",
     "output_type": "error",
     "traceback": [
      "\u001b[1;31m---------------------------------------------------------------------------\u001b[0m",
      "\u001b[1;31mUnicodeDecodeError\u001b[0m                        Traceback (most recent call last)",
      "\u001b[1;32m<ipython-input-7-013c234ed967>\u001b[0m in \u001b[0;36m<module>\u001b[1;34m\u001b[0m\n\u001b[0;32m      1\u001b[0m \u001b[0mf\u001b[0m\u001b[1;33m=\u001b[0m\u001b[0mopen\u001b[0m\u001b[1;33m(\u001b[0m\u001b[1;34m'tai.txt'\u001b[0m\u001b[1;33m,\u001b[0m\u001b[1;34m'r'\u001b[0m\u001b[1;33m)\u001b[0m\u001b[1;33m\u001b[0m\u001b[1;33m\u001b[0m\u001b[0m\n\u001b[1;32m----> 2\u001b[1;33m \u001b[0mmystr\u001b[0m\u001b[1;33m=\u001b[0m\u001b[0mf\u001b[0m\u001b[1;33m.\u001b[0m\u001b[0mread\u001b[0m\u001b[1;33m(\u001b[0m\u001b[1;33m)\u001b[0m\u001b[1;33m\u001b[0m\u001b[1;33m\u001b[0m\u001b[0m\n\u001b[0m\u001b[0;32m      3\u001b[0m \u001b[0mf\u001b[0m\u001b[1;33m.\u001b[0m\u001b[0mclose\u001b[0m\u001b[1;33m(\u001b[0m\u001b[1;33m)\u001b[0m\u001b[1;33m\u001b[0m\u001b[1;33m\u001b[0m\u001b[0m\n\u001b[0;32m      4\u001b[0m \u001b[1;33m\u001b[0m\u001b[0m\n\u001b[0;32m      5\u001b[0m \u001b[0mmylist\u001b[0m\u001b[1;33m=\u001b[0m\u001b[0mmystr\u001b[0m\u001b[1;33m.\u001b[0m\u001b[0msplit\u001b[0m\u001b[1;33m(\u001b[0m\u001b[1;34m'\\n'\u001b[0m\u001b[1;33m)\u001b[0m\u001b[1;33m\u001b[0m\u001b[1;33m\u001b[0m\u001b[0m\n",
      "\u001b[1;32mC:\\ProgramData\\Anaconda3\\lib\\encodings\\cp1252.py\u001b[0m in \u001b[0;36mdecode\u001b[1;34m(self, input, final)\u001b[0m\n\u001b[0;32m     21\u001b[0m \u001b[1;32mclass\u001b[0m \u001b[0mIncrementalDecoder\u001b[0m\u001b[1;33m(\u001b[0m\u001b[0mcodecs\u001b[0m\u001b[1;33m.\u001b[0m\u001b[0mIncrementalDecoder\u001b[0m\u001b[1;33m)\u001b[0m\u001b[1;33m:\u001b[0m\u001b[1;33m\u001b[0m\u001b[1;33m\u001b[0m\u001b[0m\n\u001b[0;32m     22\u001b[0m     \u001b[1;32mdef\u001b[0m \u001b[0mdecode\u001b[0m\u001b[1;33m(\u001b[0m\u001b[0mself\u001b[0m\u001b[1;33m,\u001b[0m \u001b[0minput\u001b[0m\u001b[1;33m,\u001b[0m \u001b[0mfinal\u001b[0m\u001b[1;33m=\u001b[0m\u001b[1;32mFalse\u001b[0m\u001b[1;33m)\u001b[0m\u001b[1;33m:\u001b[0m\u001b[1;33m\u001b[0m\u001b[1;33m\u001b[0m\u001b[0m\n\u001b[1;32m---> 23\u001b[1;33m         \u001b[1;32mreturn\u001b[0m \u001b[0mcodecs\u001b[0m\u001b[1;33m.\u001b[0m\u001b[0mcharmap_decode\u001b[0m\u001b[1;33m(\u001b[0m\u001b[0minput\u001b[0m\u001b[1;33m,\u001b[0m\u001b[0mself\u001b[0m\u001b[1;33m.\u001b[0m\u001b[0merrors\u001b[0m\u001b[1;33m,\u001b[0m\u001b[0mdecoding_table\u001b[0m\u001b[1;33m)\u001b[0m\u001b[1;33m[\u001b[0m\u001b[1;36m0\u001b[0m\u001b[1;33m]\u001b[0m\u001b[1;33m\u001b[0m\u001b[1;33m\u001b[0m\u001b[0m\n\u001b[0m\u001b[0;32m     24\u001b[0m \u001b[1;33m\u001b[0m\u001b[0m\n\u001b[0;32m     25\u001b[0m \u001b[1;32mclass\u001b[0m \u001b[0mStreamWriter\u001b[0m\u001b[1;33m(\u001b[0m\u001b[0mCodec\u001b[0m\u001b[1;33m,\u001b[0m\u001b[0mcodecs\u001b[0m\u001b[1;33m.\u001b[0m\u001b[0mStreamWriter\u001b[0m\u001b[1;33m)\u001b[0m\u001b[1;33m:\u001b[0m\u001b[1;33m\u001b[0m\u001b[1;33m\u001b[0m\u001b[0m\n",
      "\u001b[1;31mUnicodeDecodeError\u001b[0m: 'charmap' codec can't decode byte 0x9d in position 1751: character maps to <undefined>"
     ]
    }
   ],
   "source": [
    "f=open('tai.txt','r')\n",
    "mystr=f.read()\n",
    "f.close()\n",
    "\n",
    "mylist=mystr.split('\\n')\n",
    "\n",
    "'&&'.join(mylist)"
   ]
  },
  {
   "cell_type": "code",
   "execution_count": 12,
   "metadata": {},
   "outputs": [],
   "source": [
    "pop={'China':1436,'USA':330,'Italy':61,'Brazil':212}"
   ]
  },
  {
   "cell_type": "markdown",
   "metadata": {},
   "source": [
    "**Ex.** want to separate the keys, for the values"
   ]
  },
  {
   "cell_type": "code",
   "execution_count": 13,
   "metadata": {},
   "outputs": [],
   "source": [
    "countries=list(pop.keys())"
   ]
  },
  {
   "cell_type": "code",
   "execution_count": 14,
   "metadata": {},
   "outputs": [],
   "source": [
    "pop_count=list(pop.values())"
   ]
  },
  {
   "cell_type": "code",
   "execution_count": 15,
   "metadata": {},
   "outputs": [],
   "source": [
    "import matplotlib.pyplot as plt\n",
    "import matplotlib.cm as cm"
   ]
  },
  {
   "cell_type": "code",
   "execution_count": 16,
   "metadata": {},
   "outputs": [
    {
     "data": {
      "text/plain": [
       "[<matplotlib.lines.Line2D at 0x1c34fb72e80>]"
      ]
     },
     "execution_count": 16,
     "metadata": {},
     "output_type": "execute_result"
    },
    {
     "data": {
      "image/png": "[encoded data removed]",
      "text/plain": [
       "<Figure size 432x288 with 1 Axes>"
      ]
     },
     "metadata": {
      "needs_background": "light"
     },
     "output_type": "display_data"
    }
   ],
   "source": [
    "plt.plot(countries,pop_count)"
   ]
  },
  {
   "cell_type": "code",
   "execution_count": 18,
   "metadata": {},
   "outputs": [
    {
     "data": {
      "image/png": "[encoded data removed]",
      "text/plain": [
       "<Figure size 432x288 with 1 Axes>"
      ]
     },
     "metadata": {
      "needs_background": "light"
     },
     "output_type": "display_data"
    }
   ],
   "source": [
    "plt.bar(countries,pop_count)\n",
    "plt.show()"
   ]
  },
  {
   "cell_type": "code",
   "execution_count": 25,
   "metadata": {},
   "outputs": [
    {
     "data": {
      "image/png": "[encoded data removed]",
      "text/plain": [
       "<Figure size 720x360 with 2 Axes>"
      ]
     },
     "metadata": {
      "needs_background": "light"
     },
     "output_type": "display_data"
    }
   ],
   "source": [
    "plt.figure(figsize=(10,5))\n",
    "plt.subplots_adjust(wspace=0.5)\n",
    "\n",
    "plt.subplot(1,2,1)\n",
    "plt.bar(countries,pop_count,color=(0,1,1),width=0.8)\n",
    "plt.xticks(rotation=45)\n",
    "plt.subplot(1,2,2)\n",
    "y=plt.bar(countries,pop_count,width=0.8,tick_label=['1','2','3','4'])\n",
    "y[0].set_color(cm.viridis(0.5))\n",
    "plt.show()"
   ]
  },
  {
   "cell_type": "markdown",
   "metadata": {},
   "source": [
    "## loglog,semilogy,semilogx plotting"
   ]
  },
  {
   "cell_type": "markdown",
   "metadata": {},
   "source": [
    "$y=f(x)$"
   ]
  },
  {
   "cell_type": "code",
   "execution_count": 26,
   "metadata": {},
   "outputs": [],
   "source": [
    "import numpy as np"
   ]
  },
  {
   "cell_type": "code",
   "execution_count": 34,
   "metadata": {},
   "outputs": [],
   "source": [
    "x=np.linspace(1,10,200)"
   ]
  },
  {
   "cell_type": "markdown",
   "metadata": {},
   "source": [
    "# Linear behavior $y=\\alpha x$"
   ]
  },
  {
   "cell_type": "code",
   "execution_count": 35,
   "metadata": {},
   "outputs": [],
   "source": [
    "y=3*x"
   ]
  },
  {
   "cell_type": "code",
   "execution_count": 37,
   "metadata": {},
   "outputs": [
    {
     "data": {
      "image/png": "[encoded data removed]",
      "text/plain": [
       "<Figure size 720x360 with 4 Axes>"
      ]
     },
     "metadata": {
      "needs_background": "light"
     },
     "output_type": "display_data"
    }
   ],
   "source": [
    "plt.figure(figsize=(10,5))\n",
    "plt.subplot(141)\n",
    "plt.plot(x,y)\n",
    "plt.title('regular')\n",
    "plt.subplot(142)\n",
    "plt.plot(np.log(x),y)\n",
    "plt.title('semilog x')\n",
    "plt.subplot(143)\n",
    "plt.plot(x,np.log(y))\n",
    "plt.title('semilog y')\n",
    "plt.subplot(144)\n",
    "plt.plot(np.log(x),np.log(y))\n",
    "plt.title('log-log')\n",
    "plt.show()"
   ]
  },
  {
   "cell_type": "markdown",
   "metadata": {},
   "source": [
    "# Log. behavior $y=\\log( x^\\alpha)$"
   ]
  },
  {
   "cell_type": "code",
   "execution_count": 38,
   "metadata": {},
   "outputs": [],
   "source": [
    "y=np.log(x**3)"
   ]
  },
  {
   "cell_type": "code",
   "execution_count": 39,
   "metadata": {},
   "outputs": [
    {
     "name": "stderr",
     "output_type": "stream",
     "text": [
      "C:\\ProgramData\\Anaconda3\\lib\\site-packages\\ipykernel_launcher.py:9: RuntimeWarning: divide by zero encountered in log\n",
      "  if __name__ == '__main__':\n",
      "C:\\ProgramData\\Anaconda3\\lib\\site-packages\\ipykernel_launcher.py:12: RuntimeWarning: divide by zero encountered in log\n",
      "  if sys.path[0] == '':\n"
     ]
    },
    {
     "data": {
      "image/png": "[encoded data removed]",
      "text/plain": [
       "<Figure size 720x360 with 4 Axes>"
      ]
     },
     "metadata": {
      "needs_background": "light"
     },
     "output_type": "display_data"
    }
   ],
   "source": [
    "plt.figure(figsize=(10,5))\n",
    "plt.subplot(141)\n",
    "plt.plot(x,y)\n",
    "plt.title('regular')\n",
    "plt.subplot(142)\n",
    "plt.plot(np.log(x),y)\n",
    "plt.title('semilog x')\n",
    "plt.subplot(143)\n",
    "plt.plot(x,np.log(y))\n",
    "plt.title('semilog y')\n",
    "plt.subplot(144)\n",
    "plt.plot(np.log(x),np.log(y))\n",
    "plt.title('log-log')\n",
    "plt.show()"
   ]
  },
  {
   "cell_type": "markdown",
   "metadata": {},
   "source": [
    "# exp. behavior $y=\\alpha^x$"
   ]
  },
  {
   "cell_type": "code",
   "execution_count": 40,
   "metadata": {},
   "outputs": [],
   "source": [
    "y=3**x"
   ]
  },
  {
   "cell_type": "code",
   "execution_count": 41,
   "metadata": {},
   "outputs": [
    {
     "data": {
      "image/png": "[encoded data removed]",
      "text/plain": [
       "<Figure size 720x360 with 4 Axes>"
      ]
     },
     "metadata": {
      "needs_background": "light"
     },
     "output_type": "display_data"
    }
   ],
   "source": [
    "plt.figure(figsize=(10,5))\n",
    "plt.subplot(141)\n",
    "plt.plot(x,y)\n",
    "plt.title('regular')\n",
    "plt.subplot(142)\n",
    "plt.plot(np.log(x),y)\n",
    "plt.title('semilog x')\n",
    "plt.subplot(143)\n",
    "plt.plot(x,np.log(y))\n",
    "plt.title('semilog y')\n",
    "plt.subplot(144)\n",
    "plt.plot(np.log(x),np.log(y))\n",
    "plt.title('log-log')\n",
    "plt.show()"
   ]
  },
  {
   "cell_type": "code",
   "execution_count": 42,
   "metadata": {},
   "outputs": [],
   "source": [
    "y=3**(-x)"
   ]
  },
  {
   "cell_type": "code",
   "execution_count": 43,
   "metadata": {},
   "outputs": [
    {
     "data": {
      "image/png": "[encoded data removed]",
      "text/plain": [
       "<Figure size 720x360 with 4 Axes>"
      ]
     },
     "metadata": {
      "needs_background": "light"
     },
     "output_type": "display_data"
    }
   ],
   "source": [
    "plt.figure(figsize=(10,5))\n",
    "plt.subplot(141)\n",
    "plt.plot(x,y)\n",
    "plt.title('regular')\n",
    "plt.subplot(142)\n",
    "plt.plot(np.log(x),y)\n",
    "plt.title('semilog x')\n",
    "plt.subplot(143)\n",
    "plt.plot(x,np.log(y))\n",
    "plt.title('semilog y')\n",
    "plt.subplot(144)\n",
    "plt.plot(np.log(x),np.log(y))\n",
    "plt.title('log-log')\n",
    "plt.show()"
   ]
  },
  {
   "cell_type": "markdown",
   "metadata": {},
   "source": [
    "# Polynomial behavior $y=x^\\alpha$"
   ]
  },
  {
   "cell_type": "code",
   "execution_count": 44,
   "metadata": {},
   "outputs": [],
   "source": [
    "y=x**3"
   ]
  },
  {
   "cell_type": "code",
   "execution_count": 45,
   "metadata": {},
   "outputs": [
    {
     "data": {
      "image/png": "[encoded data removed]",
      "text/plain": [
       "<Figure size 720x360 with 4 Axes>"
      ]
     },
     "metadata": {
      "needs_background": "light"
     },
     "output_type": "display_data"
    }
   ],
   "source": [
    "plt.figure(figsize=(10,5))\n",
    "plt.subplot(141)\n",
    "plt.plot(x,y)\n",
    "plt.title('regular')\n",
    "plt.subplot(142)\n",
    "plt.plot(np.log(x),y)\n",
    "plt.title('semilog x')\n",
    "plt.subplot(143)\n",
    "plt.plot(x,np.log(y))\n",
    "plt.title('semilog y')\n",
    "plt.subplot(144)\n",
    "plt.plot(np.log(x),np.log(y))\n",
    "plt.title('log-log')\n",
    "plt.show()"
   ]
  },
  {
   "cell_type": "code",
   "execution_count": 47,
   "metadata": {},
   "outputs": [],
   "source": [
    "y=x**(-2)"
   ]
  },
  {
   "cell_type": "code",
   "execution_count": 48,
   "metadata": {},
   "outputs": [
    {
     "data": {
      "image/png": "[encoded data removed]",
      "text/plain": [
       "<Figure size 720x360 with 4 Axes>"
      ]
     },
     "metadata": {
      "needs_background": "light"
     },
     "output_type": "display_data"
    }
   ],
   "source": [
    "plt.figure(figsize=(10,5))\n",
    "plt.subplot(141)\n",
    "plt.plot(x,y)\n",
    "plt.title('regular')\n",
    "plt.subplot(142)\n",
    "plt.plot(np.log(x),y)\n",
    "plt.title('semilog x')\n",
    "plt.subplot(143)\n",
    "plt.plot(x,np.log(y))\n",
    "plt.title('semilog y')\n",
    "plt.subplot(144)\n",
    "plt.plot(np.log(x),np.log(y))\n",
    "plt.title('log-log')\n",
    "plt.show()"
   ]
  },
  {
   "cell_type": "code",
   "execution_count": null,
   "metadata": {},
   "outputs": [],
   "source": []
  }
 ],
 "metadata": {
  "kernelspec": {
   "display_name": "Python 3",
   "language": "python",
   "name": "python3"
  },
  "language_info": {
   "codemirror_mode": {
    "name": "ipython",
    "version": 3
   },
   "file_extension": ".py",
   "mimetype": "text/x-python",
   "name": "python",
   "nbconvert_exporter": "python",
   "pygments_lexer": "ipython3",
   "version": "3.7.3"
  }
 },
 "nbformat": 4,
 "nbformat_minor": 4
}
