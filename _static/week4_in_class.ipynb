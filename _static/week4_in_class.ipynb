{
 "cells": [
  {
   "cell_type": "markdown",
   "id": "5be90686",
   "metadata": {},
   "source": [
    "# Week 4\n",
    "\n",
    "## Quiz 3\n",
    "\n",
    "1. Write code to generate a list of 100 equally spaced numbers between 0 and 1.\n",
    "\n",
    "\n",
    "2. Modify the following command to generate a scatter plot with red markers. \n",
    "\n",
    "   `plt.plot(input,outputs)`\n",
    "\n",
    "\n",
    "3. What function would you use to modify the locations or labels of the tick \n",
    "\n",
    "   marks on the x-axis?  Be sure to indicate what the function requires as inputs.\n",
    "\n",
    "\n",
    "4. List three things that a graph included in your project report should always have."
   ]
  },
  {
   "cell_type": "code",
   "execution_count": 9,
   "id": "31b26e54",
   "metadata": {},
   "outputs": [],
   "source": [
    "import random\n",
    "inputs = [num/100 for num in range(100)]\n",
    "outputs = [random.random() for x in inputs]"
   ]
  },
  {
   "cell_type": "code",
   "execution_count": 4,
   "id": "6a6dcb7b",
   "metadata": {},
   "outputs": [],
   "source": [
    "import matplotlib.pyplot as plt"
   ]
  },
  {
   "cell_type": "code",
   "execution_count": 12,
   "id": "2f4018de",
   "metadata": {},
   "outputs": [
    {
     "data": {
      "text/plain": [
       "[<matplotlib.lines.Line2D at 0x1bbf6bf1bb0>]"
      ]
     },
     "execution_count": 12,
     "metadata": {},
     "output_type": "execute_result"
    },
    {
     "data": {
      "image/png": "[encoded data removed]",
      "text/plain": [
       "<Figure size 432x288 with 1 Axes>"
      ]
     },
     "metadata": {
      "needs_background": "light"
     },
     "output_type": "display_data"
    }
   ],
   "source": [
    "plt.plot(inputs,outputs,'r.')"
   ]
  },
  {
   "cell_type": "code",
   "execution_count": 15,
   "id": "b42653ba",
   "metadata": {},
   "outputs": [
    {
     "data": {
      "text/plain": [
       "<matplotlib.collections.PathCollection at 0x1bbf6e3cfd0>"
      ]
     },
     "execution_count": 15,
     "metadata": {},
     "output_type": "execute_result"
    },
    {
     "data": {
      "image/png": "[encoded data removed]",
      "text/plain": [
       "<Figure size 432x288 with 1 Axes>"
      ]
     },
     "metadata": {
      "needs_background": "light"
     },
     "output_type": "display_data"
    }
   ],
   "source": [
    "plt.scatter(inputs,outputs,color='red')"
   ]
  },
  {
   "cell_type": "code",
   "execution_count": null,
   "id": "4e064e4c",
   "metadata": {},
   "outputs": [],
   "source": [
    "plt.xticks(list_of_locations,list_of_labels)"
   ]
  },
  {
   "cell_type": "markdown",
   "id": "8741a7c0",
   "metadata": {},
   "source": [
    "* Title `plt.title('Your title')`\n",
    "* Legend if you have multiple sets of data on the same axes\n",
    "* x-axis labels\n",
    "* y-axis labels"
   ]
  },
  {
   "cell_type": "markdown",
   "id": "8320401c",
   "metadata": {},
   "source": [
    "## Notes\n",
    "\n",
    "### Integers"
   ]
  },
  {
   "cell_type": "markdown",
   "id": "37ea1f22",
   "metadata": {},
   "source": [
    "Positive and negative whole numbers 1,2,3,4,0,-2,-19,10"
   ]
  },
  {
   "cell_type": "markdown",
   "id": "a9317a84",
   "metadata": {},
   "source": [
    "* add/subtract\n",
    "* multiply\n",
    "* kinda divide, we can get quotient and a remainder"
   ]
  },
  {
   "cell_type": "code",
   "execution_count": 16,
   "id": "12e357a6",
   "metadata": {},
   "outputs": [],
   "source": [
    "N = 569\n",
    "m = 37"
   ]
  },
  {
   "cell_type": "code",
   "execution_count": 17,
   "id": "0045dbcd",
   "metadata": {},
   "outputs": [
    {
     "data": {
      "text/plain": [
       "15.378378378378379"
      ]
     },
     "execution_count": 17,
     "metadata": {},
     "output_type": "execute_result"
    }
   ],
   "source": [
    "N/m"
   ]
  },
  {
   "cell_type": "code",
   "execution_count": 18,
   "id": "75e27275",
   "metadata": {},
   "outputs": [
    {
     "data": {
      "text/plain": [
       "15"
      ]
     },
     "execution_count": 18,
     "metadata": {},
     "output_type": "execute_result"
    }
   ],
   "source": [
    "quotient = N//m\n",
    "quotient"
   ]
  },
  {
   "cell_type": "code",
   "execution_count": 19,
   "id": "789f297a",
   "metadata": {},
   "outputs": [
    {
     "data": {
      "text/plain": [
       "555"
      ]
     },
     "execution_count": 19,
     "metadata": {},
     "output_type": "execute_result"
    }
   ],
   "source": [
    "quotient * m"
   ]
  },
  {
   "cell_type": "code",
   "execution_count": 20,
   "id": "3e20dbb5",
   "metadata": {},
   "outputs": [
    {
     "data": {
      "text/plain": [
       "14"
      ]
     },
     "execution_count": 20,
     "metadata": {},
     "output_type": "execute_result"
    }
   ],
   "source": [
    "remainder = N%m\n",
    "remainder"
   ]
  },
  {
   "cell_type": "code",
   "execution_count": 21,
   "id": "a127cbbf",
   "metadata": {},
   "outputs": [
    {
     "data": {
      "text/plain": [
       "569"
      ]
     },
     "execution_count": 21,
     "metadata": {},
     "output_type": "execute_result"
    }
   ],
   "source": [
    "quotient * m + remainder"
   ]
  },
  {
   "cell_type": "markdown",
   "id": "12d32f17",
   "metadata": {},
   "source": [
    "   Given $ n $ and $ m $, we can divide $ n $ by $ m $ to get a quotient $ q $ and remainder $ r $ such that $$ n = qm + r $$"
   ]
  },
  {
   "cell_type": "markdown",
   "id": "0d5f523b",
   "metadata": {},
   "source": [
    "The integer $ n $ is divisible by $ m $ is the remainder is 0 when dividing.  $$ n = qm $$"
   ]
  },
  {
   "cell_type": "markdown",
   "id": "b69847a1",
   "metadata": {},
   "source": [
    "A prime number is an integer $ p $ that is not divisible by anything other than itself and 1. $$ 2,3,5,7,11,13,17,19,... $$"
   ]
  },
  {
   "cell_type": "markdown",
   "id": "9534095b",
   "metadata": {},
   "source": [
    "Every integer $ n $ can be written as a unique product of prime factors $$ n = p_1^{c_1}p_2^{c_2} \\dotsm p_k^{c_k} $$"
   ]
  },
  {
   "cell_type": "markdown",
   "id": "9bed1984",
   "metadata": {},
   "source": [
    "Two integers $ n $ and $ m $ are coprime if they don't share any prime divisors."
   ]
  },
  {
   "cell_type": "markdown",
   "id": "4c76a635",
   "metadata": {},
   "source": [
    "The greatest common divisor (GCD) of $ n $ and $ m $ is the product of all the prime divisors they have in common."
   ]
  },
  {
   "cell_type": "markdown",
   "id": "235b4376",
   "metadata": {},
   "source": [
    "Assume that $ n > m $, we can divide $ n $ by $ m $ to get quotient and remainder such that\n",
    "$$ n = q_1m + r_1 $$"
   ]
  },
  {
   "cell_type": "markdown",
   "id": "cc748cdb",
   "metadata": {},
   "source": [
    "with $ r_1 < m $.  If $ r_1 = 0 $ we are done with $ GCD(n,m) = m $.  If not, divide $ m $ by $ r_1 $\n",
    "$$ m = q_2r_1 + r_2 $$\n",
    "with $ r_2 < r_1 $."
   ]
  },
  {
   "cell_type": "markdown",
   "id": "0947dd1c",
   "metadata": {},
   "source": [
    "If $ r_2 = 0 $, then $ r_1 $ divides $ m $ and\n",
    "$$ n = q_1m + r_1 = q_1(q_2r_1) + r_1 = (q_1q_2 + 1)r_1 $$"
   ]
  },
  {
   "cell_type": "markdown",
   "id": "e4db0f67",
   "metadata": {},
   "source": [
    "So $ r_1 $ does divide $ n $, and is thus the GCD."
   ]
  },
  {
   "cell_type": "markdown",
   "id": "2403f513",
   "metadata": {},
   "source": [
    "If $ r_2 > 0 $, then divide $ r_1 $ by $ r_2 $ and continue this process."
   ]
  },
  {
   "cell_type": "code",
   "execution_count": null,
   "id": "483f8d90",
   "metadata": {},
   "outputs": [],
   "source": []
  }
 ],
 "metadata": {
  "kernelspec": {
   "display_name": "Python 3 (ipykernel)",
   "language": "python",
   "name": "python3"
  },
  "language_info": {
   "codemirror_mode": {
    "name": "ipython",
    "version": 3
   },
   "file_extension": ".py",
   "mimetype": "text/x-python",
   "name": "python",
   "nbconvert_exporter": "python",
   "pygments_lexer": "ipython3",
   "version": "3.9.7"
  },
  "varInspector": {
   "cols": {
    "lenName": 16,
    "lenType": 16,
    "lenVar": 40
   },
   "kernels_config": {
    "python": {
     "delete_cmd_postfix": "",
     "delete_cmd_prefix": "del ",
     "library": "var_list.py",
     "varRefreshCmd": "print(var_dic_list())"
    },
    "r": {
     "delete_cmd_postfix": ") ",
     "delete_cmd_prefix": "rm(",
     "library": "var_list.r",
     "varRefreshCmd": "cat(var_dic_list()) "
    }
   },
   "types_to_exclude": [
    "module",
    "function",
    "builtin_function_or_method",
    "instance",
    "_Feature"
   ],
   "window_display": false
  }
 },
 "nbformat": 4,
 "nbformat_minor": 5
}
