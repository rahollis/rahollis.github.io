{
 "cells": [
  {
   "cell_type": "markdown",
   "id": "3567100b",
   "metadata": {},
   "source": [
    "# Week 4\n",
    "\n",
    "## Quiz\n",
    "\n",
    "1. Write a function that will \"flip a coin\" $ n $ times, and returns the number of \"heads\".\n",
    "\n",
    "2. What function would you call if you wanted to randomly select an item from a list?\n",
    "\n",
    "3. What should be included in the conclusion of your project report?\n",
    "\n",
    "4. Given a list of integers $ [n_0,n_2,...,n_k] $, what is a potential problem with using the randomness metric below?\n",
    "$$ \\sum_{i=1}^k |n_i - n_{i-1}| $$\n",
    "\n",
    "### Answers"
   ]
  },
  {
   "cell_type": "code",
   "execution_count": null,
   "id": "7e47aa2a",
   "metadata": {},
   "outputs": [],
   "source": [
    "import random\n",
    "def fun1(n):\n",
    "    heads = 0\n",
    "    for i in range(n):\n",
    "        if random.randint(1,2) == 1:\n",
    "            heads += 1\n",
    "    return heads"
   ]
  },
  {
   "cell_type": "code",
   "execution_count": null,
   "id": "e8e95b04",
   "metadata": {},
   "outputs": [],
   "source": [
    "fun1(100)"
   ]
  },
  {
   "cell_type": "code",
   "execution_count": null,
   "id": "fd80ab01",
   "metadata": {},
   "outputs": [],
   "source": [
    "from numpy.random import binomial"
   ]
  },
  {
   "cell_type": "code",
   "execution_count": null,
   "id": "10f895ff",
   "metadata": {},
   "outputs": [],
   "source": [
    "binomial(52,0.5)"
   ]
  },
  {
   "cell_type": "code",
   "execution_count": null,
   "id": "f9d0b9ee",
   "metadata": {},
   "outputs": [],
   "source": [
    "random.choice(['banana','apple','cherry'])"
   ]
  },
  {
   "cell_type": "markdown",
   "id": "0433ca16",
   "metadata": {},
   "source": [
    "+ Tell them what you were trying to do:\n",
    "  * Briefly revisit the goals of the project.\n",
    "+ Tell them what you did:\n",
    "  * Briefly remind the reader of the steps you took.\n",
    "  * Difficulties along the way\n",
    "+ Tell them what you found out:\n",
    "  * Briefly reiterate your findings.\n",
    "  * What was achieved.\n",
    "  * What is left unknown."
   ]
  },
  {
   "cell_type": "markdown",
   "id": "21c8b8bb",
   "metadata": {},
   "source": [
    "$ [1,12,2,13,3,14,....,11,22] $"
   ]
  },
  {
   "cell_type": "markdown",
   "id": "9d0b77cc",
   "metadata": {},
   "source": [
    "## Notes\n",
    "### Population models\n",
    "\n",
    "$$ P(t+1) = \\alpha * P(t) $$"
   ]
  },
  {
   "cell_type": "code",
   "execution_count": 6,
   "id": "1bb6604e",
   "metadata": {},
   "outputs": [],
   "source": [
    "years = [year for year in range(10)]\n",
    "initial_pop = 100\n",
    "alpha = 1.05\n",
    "population = [100]\n",
    "for i in range(9):\n",
    "    population.append(population[i]*alpha)"
   ]
  },
  {
   "cell_type": "code",
   "execution_count": 7,
   "id": "53245887",
   "metadata": {},
   "outputs": [
    {
     "name": "stdout",
     "output_type": "stream",
     "text": [
      "[100, 105.0, 110.25, 115.7625, 121.55062500000001, 127.62815625000002, 134.00956406250003, 140.71004226562505, 147.74554437890632, 155.13282159785163]\n"
     ]
    }
   ],
   "source": [
    "print(population)"
   ]
  },
  {
   "cell_type": "code",
   "execution_count": 4,
   "id": "3de09ef6",
   "metadata": {},
   "outputs": [],
   "source": [
    "import matplotlib.pyplot as plt"
   ]
  },
  {
   "cell_type": "code",
   "execution_count": 8,
   "id": "070d8b7b",
   "metadata": {},
   "outputs": [
    {
     "data": {
      "image/png": "[encoded data removed]",
      "text/plain": [
       "<Figure size 432x288 with 1 Axes>"
      ]
     },
     "metadata": {
      "needs_background": "light"
     },
     "output_type": "display_data"
    }
   ],
   "source": [
    "plt.plot(years,population)\n",
    "plt.show()"
   ]
  },
  {
   "cell_type": "code",
   "execution_count": 11,
   "id": "e6e6c453",
   "metadata": {},
   "outputs": [],
   "source": [
    "def basic_population(T,initial_pop,growth_factor):\n",
    "    years = [year for year in range(T+1)]\n",
    "    population = [initial_pop]\n",
    "    for i in range(T):\n",
    "        population.append(population[i]*growth_factor)\n",
    "    #plt.plot(years,population)\n",
    "    #plt.show()\n",
    "    return population"
   ]
  },
  {
   "cell_type": "code",
   "execution_count": 10,
   "id": "9fb8c1a4",
   "metadata": {},
   "outputs": [
    {
     "data": {
      "image/png": "[encoded data removed]",
      "text/plain": [
       "<Figure size 432x288 with 1 Axes>"
      ]
     },
     "metadata": {
      "needs_background": "light"
     },
     "output_type": "display_data"
    },
    {
     "data": {
      "text/plain": [
       "[100,\n",
       " 120.0,\n",
       " 144.0,\n",
       " 172.79999999999998,\n",
       " 207.35999999999999,\n",
       " 248.83199999999997,\n",
       " 298.59839999999997,\n",
       " 358.31807999999995,\n",
       " 429.98169599999994,\n",
       " 515.9780351999999,\n",
       " 619.1736422399998]"
      ]
     },
     "execution_count": 10,
     "metadata": {},
     "output_type": "execute_result"
    }
   ],
   "source": [
    "basic_population(10,100,1.2)"
   ]
  },
  {
   "cell_type": "markdown",
   "id": "5e31f8fd",
   "metadata": {},
   "source": [
    "### Bifurcation diagram\n",
    "\n",
    "How does the output of the model change as **one** of the parameters changes.\n",
    "* inputs are values of the parameter\n",
    "* outputs are final value of the model (population P(T))"
   ]
  },
  {
   "cell_type": "code",
   "execution_count": 14,
   "id": "a02148c0",
   "metadata": {},
   "outputs": [],
   "source": [
    "growth_factors = [i/100 for i in range(90,111)]"
   ]
  },
  {
   "cell_type": "code",
   "execution_count": 15,
   "id": "c7eb0f7c",
   "metadata": {},
   "outputs": [
    {
     "name": "stdout",
     "output_type": "stream",
     "text": [
      "[0.9, 0.91, 0.92, 0.93, 0.94, 0.95, 0.96, 0.97, 0.98, 0.99, 1.0, 1.01, 1.02, 1.03, 1.04, 1.05, 1.06, 1.07, 1.08, 1.09, 1.1]\n"
     ]
    }
   ],
   "source": [
    "print(growth_factors)"
   ]
  },
  {
   "cell_type": "code",
   "execution_count": 16,
   "id": "37588d06",
   "metadata": {},
   "outputs": [],
   "source": [
    "final_populations = [basic_population(10,100,growth_factor)[-1] for growth_factor in growth_factors]"
   ]
  },
  {
   "cell_type": "code",
   "execution_count": 17,
   "id": "37e1aad5",
   "metadata": {},
   "outputs": [
    {
     "data": {
      "image/png": "[encoded data removed]",
      "text/plain": [
       "<Figure size 432x288 with 1 Axes>"
      ]
     },
     "metadata": {
      "needs_background": "light"
     },
     "output_type": "display_data"
    }
   ],
   "source": [
    "plt.plot(growth_factors,final_populations)\n",
    "plt.show()"
   ]
  },
  {
   "cell_type": "code",
   "execution_count": null,
   "id": "151ee504",
   "metadata": {},
   "outputs": [],
   "source": []
  }
 ],
 "metadata": {
  "kernelspec": {
   "display_name": "Python 3 (ipykernel)",
   "language": "python",
   "name": "python3"
  },
  "language_info": {
   "codemirror_mode": {
    "name": "ipython",
    "version": 3
   },
   "file_extension": ".py",
   "mimetype": "text/x-python",
   "name": "python",
   "nbconvert_exporter": "python",
   "pygments_lexer": "ipython3",
   "version": "3.9.7"
  },
  "varInspector": {
   "cols": {
    "lenName": 16,
    "lenType": 16,
    "lenVar": 40
   },
   "kernels_config": {
    "python": {
     "delete_cmd_postfix": "",
     "delete_cmd_prefix": "del ",
     "library": "var_list.py",
     "varRefreshCmd": "print(var_dic_list())"
    },
    "r": {
     "delete_cmd_postfix": ") ",
     "delete_cmd_prefix": "rm(",
     "library": "var_list.r",
     "varRefreshCmd": "cat(var_dic_list()) "
    }
   },
   "types_to_exclude": [
    "module",
    "function",
    "builtin_function_or_method",
    "instance",
    "_Feature"
   ],
   "window_display": false
  }
 },
 "nbformat": 4,
 "nbformat_minor": 5
}
