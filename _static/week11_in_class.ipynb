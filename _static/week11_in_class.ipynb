{
 "cells": [
  {
   "cell_type": "markdown",
   "metadata": {},
   "source": [
    "# Text files"
   ]
  },
  {
   "cell_type": "code",
   "execution_count": 9,
   "metadata": {},
   "outputs": [],
   "source": [
    "f = open('text_sample.txt')"
   ]
  },
  {
   "cell_type": "code",
   "execution_count": 10,
   "metadata": {},
   "outputs": [
    {
     "name": "stdout",
     "output_type": "stream",
     "text": [
      "November 9, 2020\n",
      "\n",
      "\n",
      "\n",
      "Today I am teaching my MTH 337 students about reading and writing text files!  Will they learn much?\n",
      "\n",
      "This text file will be used as an example during the class.\n",
      "\n",
      "There are several nice things to explore in this file. For example, there are several lines in the file, and each line contains at least one sentence with many words.\n",
      "\n",
      "My students will also learn how text files use can be broken down in python to a list of words.  We will then count those words to determine if I met the 200 word count requirement.\n",
      "\n",
      "In addition to counting the words and word frequencies, there are other interesting things one can do with a text file, including encryption, but we aren't quite there yet.\n",
      "\n"
     ]
    }
   ],
   "source": [
    "for line in f:\n",
    "    print(line)"
   ]
  },
  {
   "cell_type": "code",
   "execution_count": 18,
   "metadata": {},
   "outputs": [],
   "source": [
    "f=open('text_sample.txt')\n",
    "list_of_lines = []\n",
    "for line in f:\n",
    "    list_of_lines.append(line)"
   ]
  },
  {
   "cell_type": "code",
   "execution_count": 21,
   "metadata": {},
   "outputs": [
    {
     "name": "stdout",
     "output_type": "stream",
     "text": [
      "November 9, 2020\n",
      "\n",
      "Today I am teaching my MTH 337 students about reading and writing text files!  Will they learn much?\n",
      "This text file will be used as an example during the class.\n",
      "There are several nice things to explore in this file. For example, there are several lines in the file, and each line contains at least one sentence with many words.\n",
      "My students will also learn how text files use can be broken down in python to a list of words.  We will then count those words to determine if I met the 200 word count requirement.\n",
      "In addition to counting the words and word frequencies, there are other interesting things one can do with a text file, including encryption, but we aren't quite there yet.\n"
     ]
    }
   ],
   "source": [
    "for line in list_of_lines:\n",
    "    print(line,end='')"
   ]
  },
  {
   "cell_type": "code",
   "execution_count": 22,
   "metadata": {},
   "outputs": [
    {
     "data": {
      "text/plain": [
       "'November 9, 2020\\n'"
      ]
     },
     "execution_count": 22,
     "metadata": {},
     "output_type": "execute_result"
    }
   ],
   "source": [
    "list_of_lines[0]"
   ]
  },
  {
   "cell_type": "code",
   "execution_count": 23,
   "metadata": {},
   "outputs": [],
   "source": [
    "line2 = list_of_lines[2]"
   ]
  },
  {
   "cell_type": "code",
   "execution_count": 24,
   "metadata": {},
   "outputs": [
    {
     "data": {
      "text/plain": [
       "'Today I am teaching my MTH 337 students about reading and writing text files!  Will they learn much?\\n'"
      ]
     },
     "execution_count": 24,
     "metadata": {},
     "output_type": "execute_result"
    }
   ],
   "source": [
    "line2"
   ]
  },
  {
   "cell_type": "code",
   "execution_count": 25,
   "metadata": {},
   "outputs": [],
   "source": [
    "line2 = line2.strip('\\n')"
   ]
  },
  {
   "cell_type": "code",
   "execution_count": 26,
   "metadata": {},
   "outputs": [
    {
     "data": {
      "text/plain": [
       "'Today I am teaching my MTH 337 students about reading and writing text files!  Will they learn much?'"
      ]
     },
     "execution_count": 26,
     "metadata": {},
     "output_type": "execute_result"
    }
   ],
   "source": [
    "line2"
   ]
  },
  {
   "cell_type": "code",
   "execution_count": 27,
   "metadata": {},
   "outputs": [],
   "source": [
    "line2_list = line2.split()"
   ]
  },
  {
   "cell_type": "code",
   "execution_count": 28,
   "metadata": {},
   "outputs": [
    {
     "data": {
      "text/plain": [
       "['Today',\n",
       " 'I',\n",
       " 'am',\n",
       " 'teaching',\n",
       " 'my',\n",
       " 'MTH',\n",
       " '337',\n",
       " 'students',\n",
       " 'about',\n",
       " 'reading',\n",
       " 'and',\n",
       " 'writing',\n",
       " 'text',\n",
       " 'files!',\n",
       " 'Will',\n",
       " 'they',\n",
       " 'learn',\n",
       " 'much?']"
      ]
     },
     "execution_count": 28,
     "metadata": {},
     "output_type": "execute_result"
    }
   ],
   "source": [
    "line2_list"
   ]
  },
  {
   "cell_type": "code",
   "execution_count": 29,
   "metadata": {},
   "outputs": [],
   "source": [
    "for i in range(len(line2_list)):\n",
    "    line2_list[i] = line2_list[i].strip('.,!?')\n",
    "    line2_list[i] = line2_list[i].lower()\n",
    "    "
   ]
  },
  {
   "cell_type": "code",
   "execution_count": 30,
   "metadata": {},
   "outputs": [
    {
     "data": {
      "text/plain": [
       "['today',\n",
       " 'i',\n",
       " 'am',\n",
       " 'teaching',\n",
       " 'my',\n",
       " 'mth',\n",
       " '337',\n",
       " 'students',\n",
       " 'about',\n",
       " 'reading',\n",
       " 'and',\n",
       " 'writing',\n",
       " 'text',\n",
       " 'files',\n",
       " 'will',\n",
       " 'they',\n",
       " 'learn',\n",
       " 'much']"
      ]
     },
     "execution_count": 30,
     "metadata": {},
     "output_type": "execute_result"
    }
   ],
   "source": [
    "line2_list"
   ]
  },
  {
   "cell_type": "code",
   "execution_count": 31,
   "metadata": {},
   "outputs": [],
   "source": [
    "f.close()"
   ]
  },
  {
   "cell_type": "markdown",
   "metadata": {},
   "source": [
    "## Writing to a text file"
   ]
  },
  {
   "cell_type": "code",
   "execution_count": 32,
   "metadata": {},
   "outputs": [],
   "source": [
    "f = open('sample_file.txt','w')\n",
    "f.write('This is a string of text.')\n",
    "f.close()"
   ]
  },
  {
   "cell_type": "markdown",
   "metadata": {},
   "source": [
    "### Exercise\n",
    "Write a function that will copy and input file to a new file.  The input should be a string containing the name of the file to be copied, and the function should then open that file, copy the contents to a new file, and then close both files."
   ]
  },
  {
   "cell_type": "code",
   "execution_count": 2,
   "metadata": {},
   "outputs": [],
   "source": [
    "def copy_file(file_name):\n",
    "    f_input = open(file_name)\n",
    "    f_output = open(file_name.strip('.txt') + '_copy.txt','w')\n",
    "    for line in f_input:\n",
    "        f_output.write(line)\n",
    "    f_output.close()\n",
    "    f_input.close()"
   ]
  },
  {
   "cell_type": "code",
   "execution_count": 3,
   "metadata": {},
   "outputs": [],
   "source": [
    "copy_file('text_sample.txt')"
   ]
  },
  {
   "cell_type": "code",
   "execution_count": 4,
   "metadata": {},
   "outputs": [
    {
     "name": "stdout",
     "output_type": "stream",
     "text": [
      " Volume in drive C has no label.\n",
      " Volume Serial Number is 2891-7C63\n",
      "\n",
      " Directory of C:\\Users\\Richard\\Documents\\Teaching\\UB\\MTH 337\\2020 - Fall\\Lecture notes\n",
      "\n",
      "11/11/2020  10:46 AM    <DIR>          .\n",
      "11/11/2020  10:46 AM    <DIR>          ..\n",
      "11/09/2020  08:18 AM    <DIR>          .ipynb_checkpoints\n",
      "11/02/2020  09:04 AM         2,353,051 anim.html\n",
      "11/06/2020  02:51 PM           182,076 Epidemic_model.ipynb\n",
      "09/28/2020  08:31 AM               142 example-inferno.png\n",
      "09/30/2020  10:42 AM           211,719 example-interno.png\n",
      "09/28/2020  10:15 AM           211,797 example-interno1.png\n",
      "11/11/2020  10:46 AM               708 ext_sample_copy.txt\n",
      "11/09/2020  09:55 AM                25 sample_file.txt\n",
      "11/09/2020  08:32 AM               708 text_sample.txt\n",
      "10/08/2020  03:03 PM            17,865 Untitled.ipynb\n",
      "09/02/2020  11:04 AM           382,510 week1_in_class.html\n",
      "09/02/2020  11:04 AM            59,144 week1_in_class.ipynb\n",
      "11/06/2020  11:54 PM         5,050,876 Week10_in_class.html\n",
      "11/06/2020  11:54 PM         5,554,307 Week10_in_class.ipynb\n",
      "11/11/2020  10:45 AM             8,245 week11_in_class.ipynb\n",
      "09/09/2020  02:01 PM           339,239 week2_in_class.html\n",
      "09/09/2020  02:01 PM            33,381 week2_in_class.ipynb\n",
      "09/16/2020  10:46 AM           433,710 week3_in_class.html\n",
      "09/16/2020  10:45 AM           139,254 week3_in_class.ipynb\n",
      "09/27/2020  12:59 PM           455,888 week4_in_class.html\n",
      "09/27/2020  12:59 PM           167,209 week4_in_class.ipynb\n",
      "09/30/2020  10:43 AM           423,581 week5_in_class.html\n",
      "10/07/2020  01:47 PM           135,818 week5_in_class.ipynb\n",
      "10/12/2020  09:01 AM           284,583 week6_in_class.html\n",
      "10/09/2020  04:37 PM             5,167 week6_in_class.ipynb\n",
      "10/19/2020  09:26 AM           287,523 week7_in_class.html\n",
      "10/19/2020  09:26 AM             7,355 week7_in_class.ipynb\n",
      "10/21/2020  10:25 AM           468,237 week8_in_class.html\n",
      "10/21/2020  10:25 AM           171,057 week8_in_class.ipynb\n",
      "10/28/2020  10:23 AM           426,673 week9_in_class.html\n",
      "10/28/2020  10:23 AM           128,136 week9_in_class.ipynb\n",
      "              30 File(s)     17,939,984 bytes\n",
      "               3 Dir(s)  13,499,412,480 bytes free\n"
     ]
    }
   ],
   "source": [
    "ls"
   ]
  },
  {
   "cell_type": "code",
   "execution_count": null,
   "metadata": {},
   "outputs": [],
   "source": []
  }
 ],
 "metadata": {
  "kernelspec": {
   "display_name": "Python 3",
   "language": "python",
   "name": "python3"
  },
  "language_info": {
   "codemirror_mode": {
    "name": "ipython",
    "version": 3
   },
   "file_extension": ".py",
   "mimetype": "text/x-python",
   "name": "python",
   "nbconvert_exporter": "python",
   "pygments_lexer": "ipython3",
   "version": "3.7.6"
  },
  "latex_envs": {
   "LaTeX_envs_menu_present": true,
   "autoclose": false,
   "autocomplete": true,
   "bibliofile": "biblio.bib",
   "cite_by": "apalike",
   "current_citInitial": 1,
   "eqLabelWithNumbers": true,
   "eqNumInitial": 1,
   "hotkeys": {
    "equation": "Ctrl-E",
    "itemize": "Ctrl-I"
   },
   "labels_anchors": false,
   "latex_user_defs": false,
   "report_style_numbering": false,
   "user_envs_cfg": false
  }
 },
 "nbformat": 4,
 "nbformat_minor": 4
}
