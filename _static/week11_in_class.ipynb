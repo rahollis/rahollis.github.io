{
 "cells": [
  {
   "cell_type": "markdown",
   "metadata": {},
   "source": [
    "# Week 11 Notes\n",
    "\n",
    "## Encrypting a message\n",
    "\n",
    "### Basic shift cipher"
   ]
  },
  {
   "cell_type": "code",
   "execution_count": 2,
   "metadata": {},
   "outputs": [],
   "source": [
    "message = 'Luke, I am your father!'"
   ]
  },
  {
   "cell_type": "code",
   "execution_count": 14,
   "metadata": {},
   "outputs": [],
   "source": [
    "character_alphabet = 'ABCDEFGHIJKLMNOPQRSTUVWXYZabcdefghijklmnopqrstuvwxyz ,.!?'"
   ]
  },
  {
   "cell_type": "code",
   "execution_count": 15,
   "metadata": {},
   "outputs": [
    {
     "data": {
      "text/plain": [
       "57"
      ]
     },
     "execution_count": 15,
     "metadata": {},
     "output_type": "execute_result"
    }
   ],
   "source": [
    "alphabet_length = len(character_alphabet)\n",
    "alphabet_length"
   ]
  },
  {
   "cell_type": "code",
   "execution_count": 16,
   "metadata": {},
   "outputs": [
    {
     "data": {
      "text/plain": [
       "{'A': 0,\n",
       " 'B': 1,\n",
       " 'C': 2,\n",
       " 'D': 3,\n",
       " 'E': 4,\n",
       " 'F': 5,\n",
       " 'G': 6,\n",
       " 'H': 7,\n",
       " 'I': 8,\n",
       " 'J': 9,\n",
       " 'K': 10,\n",
       " 'L': 11,\n",
       " 'M': 12,\n",
       " 'N': 13,\n",
       " 'O': 14,\n",
       " 'P': 15,\n",
       " 'Q': 16,\n",
       " 'R': 17,\n",
       " 'S': 18,\n",
       " 'T': 19,\n",
       " 'U': 20,\n",
       " 'V': 21,\n",
       " 'W': 22,\n",
       " 'X': 23,\n",
       " 'Y': 24,\n",
       " 'Z': 25,\n",
       " 'a': 26,\n",
       " 'b': 27,\n",
       " 'c': 28,\n",
       " 'd': 29,\n",
       " 'e': 30,\n",
       " 'f': 31,\n",
       " 'g': 32,\n",
       " 'h': 33,\n",
       " 'i': 34,\n",
       " 'j': 35,\n",
       " 'k': 36,\n",
       " 'l': 37,\n",
       " 'm': 38,\n",
       " 'n': 39,\n",
       " 'o': 40,\n",
       " 'p': 41,\n",
       " 'q': 42,\n",
       " 'r': 43,\n",
       " 's': 44,\n",
       " 't': 45,\n",
       " 'u': 46,\n",
       " 'v': 47,\n",
       " 'w': 48,\n",
       " 'x': 49,\n",
       " 'y': 50,\n",
       " 'z': 51,\n",
       " ' ': 52,\n",
       " ',': 53,\n",
       " '.': 54,\n",
       " '!': 55,\n",
       " '?': 56}"
      ]
     },
     "execution_count": 16,
     "metadata": {},
     "output_type": "execute_result"
    }
   ],
   "source": [
    "character_dictionary = {}\n",
    "for i in range(alphabet_length):\n",
    "    character_dictionary[character_alphabet[i]] = i\n",
    "character_dictionary"
   ]
  },
  {
   "cell_type": "code",
   "execution_count": 17,
   "metadata": {},
   "outputs": [
    {
     "name": "stdout",
     "output_type": "stream",
     "text": [
      "['L', 'u', 'k', 'e', ',', ' ', 'I', ' ', 'a', 'm', ' ', 'y', 'o', 'u', 'r', ' ', 'f', 'a', 't', 'h', 'e', 'r', '!']\n"
     ]
    }
   ],
   "source": [
    "list_of_characters = list(message)\n",
    "print(list_of_characters)"
   ]
  },
  {
   "cell_type": "code",
   "execution_count": 18,
   "metadata": {},
   "outputs": [
    {
     "name": "stdout",
     "output_type": "stream",
     "text": [
      "[11, 46, 36, 30, 53, 52, 8, 52, 26, 38, 52, 50, 40, 46, 43, 52, 31, 26, 45, 33, 30, 43, 55]\n"
     ]
    }
   ],
   "source": [
    "list_of_numbers = []\n",
    "for char in list_of_characters:\n",
    "    list_of_numbers.append(character_dictionary[char])\n",
    "print(list_of_numbers)"
   ]
  },
  {
   "cell_type": "code",
   "execution_count": 19,
   "metadata": {},
   "outputs": [],
   "source": [
    "key = 23"
   ]
  },
  {
   "cell_type": "code",
   "execution_count": 20,
   "metadata": {},
   "outputs": [
    {
     "name": "stdout",
     "output_type": "stream",
     "text": [
      "[34, 12, 2, 53, 19, 18, 31, 18, 49, 4, 18, 16, 6, 12, 9, 18, 54, 49, 11, 56, 53, 9, 21]\n"
     ]
    }
   ],
   "source": [
    "for i in range(len(list_of_numbers)):\n",
    "    list_of_numbers[i] = (list_of_numbers[i] + key) % alphabet_length\n",
    "print(list_of_numbers)"
   ]
  },
  {
   "cell_type": "code",
   "execution_count": 21,
   "metadata": {},
   "outputs": [
    {
     "name": "stdout",
     "output_type": "stream",
     "text": [
      "['i', 'M', 'C', ',', 'T', 'S', 'f', 'S', 'x', 'E', 'S', 'Q', 'G', 'M', 'J', 'S', '.', 'x', 'L', '?', ',', 'J', 'V']\n"
     ]
    }
   ],
   "source": [
    "encrypted_characters = []\n",
    "for num in list_of_numbers:\n",
    "    encrypted_characters.append(character_alphabet[num])\n",
    "print(encrypted_characters)"
   ]
  },
  {
   "cell_type": "code",
   "execution_count": 22,
   "metadata": {},
   "outputs": [
    {
     "data": {
      "text/plain": [
       "'iMC,TSfSxESQGMJS.xL?,JV'"
      ]
     },
     "execution_count": 22,
     "metadata": {},
     "output_type": "execute_result"
    }
   ],
   "source": [
    "encrypted_message = ''\n",
    "for char in encrypted_characters:\n",
    "    encrypted_message += char\n",
    "encrypted_message"
   ]
  },
  {
   "cell_type": "code",
   "execution_count": 27,
   "metadata": {},
   "outputs": [],
   "source": [
    "def shift_cipher_encryption(message,alphabet,key):\n",
    "    if key in alphabet:\n",
    "        alphabet_length = len(alphabet)\n",
    "        character_dictionary = {}\n",
    "        for i in range(alphabet_length):\n",
    "            character_dictionary[alphabet[i]] = i\n",
    "        list_of_characters = list(message)\n",
    "        list_of_numbers = [character_dictionary[char] for char in list_of_characters]\n",
    "        for i in range(len(list_of_numbers)):\n",
    "            list_of_numbers[i] = (list_of_numbers[i] + character_dictionary[key]) % alphabet_length\n",
    "        encrypted_characters = [alphabet[num] for num in list_of_numbers]\n",
    "        encrypted_message = ''\n",
    "        for char in encrypted_characters:\n",
    "            encrypted_message += char\n",
    "        return encrypted_message\n",
    "    else:\n",
    "        print('Invalid key.')"
   ]
  },
  {
   "cell_type": "code",
   "execution_count": 28,
   "metadata": {},
   "outputs": [
    {
     "data": {
      "text/plain": [
       "'XBwqIHUHmyHF B!HrmAtq!K'"
      ]
     },
     "execution_count": 28,
     "metadata": {},
     "output_type": "execute_result"
    }
   ],
   "source": [
    "shift_cipher_encryption(message,character_alphabet,'M')"
   ]
  },
  {
   "cell_type": "code",
   "execution_count": null,
   "metadata": {},
   "outputs": [],
   "source": []
  }
 ],
 "metadata": {
  "kernelspec": {
   "display_name": "Python 3",
   "language": "python",
   "name": "python3"
  },
  "language_info": {
   "codemirror_mode": {
    "name": "ipython",
    "version": 3
   },
   "file_extension": ".py",
   "mimetype": "text/x-python",
   "name": "python",
   "nbconvert_exporter": "python",
   "pygments_lexer": "ipython3",
   "version": "3.7.6"
  },
  "latex_envs": {
   "LaTeX_envs_menu_present": true,
   "autoclose": false,
   "autocomplete": true,
   "bibliofile": "biblio.bib",
   "cite_by": "apalike",
   "current_citInitial": 1,
   "eqLabelWithNumbers": true,
   "eqNumInitial": 1,
   "hotkeys": {
    "equation": "Ctrl-E",
    "itemize": "Ctrl-I"
   },
   "labels_anchors": false,
   "latex_user_defs": false,
   "report_style_numbering": false,
   "user_envs_cfg": false
  }
 },
 "nbformat": 4,
 "nbformat_minor": 4
}
