{
 "cells": [
  {
   "cell_type": "markdown",
   "id": "0c8b00b7",
   "metadata": {},
   "source": [
    "# Week 11\n",
    "\n",
    "## Quiz 7\n",
    "\n",
    "1.  What NetworkX command allows you to organize the nodes of a network into a circle for drawing the network?\n",
    "\n",
    "2.  Describe how to generate a random network on $n$ nodes with probability $p$.\n",
    "\n",
    "3.  What does `interval=100` mean in \n",
    "\n",
    "    `anim = FuncAnimation(fig=fig, func=animate,  interval=100, blit=True, repeat=False)`?"
   ]
  },
  {
   "cell_type": "code",
   "execution_count": 2,
   "id": "5cecd122",
   "metadata": {},
   "outputs": [
    {
     "data": {
      "image/png": "[encoded data removed]",
      "text/plain": [
       "<Figure size 432x288 with 1 Axes>"
      ]
     },
     "metadata": {},
     "output_type": "display_data"
    }
   ],
   "source": [
    "import networkx as nx\n",
    "G = nx.Graph()\n",
    "G.add_edges_from([(1,2),(3,4),(4,5),(1,5),(1,3),(2,5)])\n",
    "nx.draw(G,pos=nx.circular_layout(G))"
   ]
  },
  {
   "cell_type": "markdown",
   "id": "885322c9",
   "metadata": {},
   "source": [
    "* Start with $n$ nodes\n",
    "* Loop through all the possible edges\n",
    "* Run a probability check\n",
    "  * generate a random and check if it is less than $p$\n",
    "  * if it is, we include the edge"
   ]
  },
  {
   "cell_type": "markdown",
   "id": "55579b71",
   "metadata": {},
   "source": [
    "The interval tells Python how many milliseconds to wait before producing the next frame.  The time in milliseconds between frames."
   ]
  },
  {
   "cell_type": "markdown",
   "id": "0b99e65d",
   "metadata": {},
   "source": [
    "##  Notes:  Reading and Writing text files"
   ]
  },
  {
   "cell_type": "code",
   "execution_count": 7,
   "id": "e1f504f5",
   "metadata": {},
   "outputs": [],
   "source": [
    "f=open('sample.txt')\n",
    "text=f.read()\n",
    "f.close()"
   ]
  },
  {
   "cell_type": "code",
   "execution_count": 8,
   "id": "adf200eb",
   "metadata": {},
   "outputs": [],
   "source": [
    "g=open('sample_copy.txt','w')\n",
    "g.write(text)\n",
    "g.close()"
   ]
  },
  {
   "cell_type": "code",
   "execution_count": 9,
   "id": "2dc4b9d8",
   "metadata": {},
   "outputs": [
    {
     "data": {
      "text/plain": [
       "'April 20, 2022\\n\\nThis is a sample text file.  We will use this file as an example of text files, and what we can do with text in Python.\\nWe will open this file in Jupyter and read the contents using Python commands.  We print this file line by line in\\nand copy the contents onto a new file.  Finally, we will analyze the words in this file and use Python to generate a\\nlist of the 10 most common words used.  It is my hope that this will give you a good start for the \"Computing with Text\"\\nproject.\\n\\nGood luck!'"
      ]
     },
     "execution_count": 9,
     "metadata": {},
     "output_type": "execute_result"
    }
   ],
   "source": [
    "text"
   ]
  },
  {
   "cell_type": "code",
   "execution_count": 10,
   "id": "94686d80",
   "metadata": {},
   "outputs": [
    {
     "data": {
      "text/plain": [
       "['April',\n",
       " '20,',\n",
       " '2022',\n",
       " 'This',\n",
       " 'is',\n",
       " 'a',\n",
       " 'sample',\n",
       " 'text',\n",
       " 'file.',\n",
       " 'We',\n",
       " 'will',\n",
       " 'use',\n",
       " 'this',\n",
       " 'file',\n",
       " 'as',\n",
       " 'an',\n",
       " 'example',\n",
       " 'of',\n",
       " 'text',\n",
       " 'files,',\n",
       " 'and',\n",
       " 'what',\n",
       " 'we',\n",
       " 'can',\n",
       " 'do',\n",
       " 'with',\n",
       " 'text',\n",
       " 'in',\n",
       " 'Python.',\n",
       " 'We',\n",
       " 'will',\n",
       " 'open',\n",
       " 'this',\n",
       " 'file',\n",
       " 'in',\n",
       " 'Jupyter',\n",
       " 'and',\n",
       " 'read',\n",
       " 'the',\n",
       " 'contents',\n",
       " 'using',\n",
       " 'Python',\n",
       " 'commands.',\n",
       " 'We',\n",
       " 'print',\n",
       " 'this',\n",
       " 'file',\n",
       " 'line',\n",
       " 'by',\n",
       " 'line',\n",
       " 'in',\n",
       " 'and',\n",
       " 'copy',\n",
       " 'the',\n",
       " 'contents',\n",
       " 'onto',\n",
       " 'a',\n",
       " 'new',\n",
       " 'file.',\n",
       " 'Finally,',\n",
       " 'we',\n",
       " 'will',\n",
       " 'analyze',\n",
       " 'the',\n",
       " 'words',\n",
       " 'in',\n",
       " 'this',\n",
       " 'file',\n",
       " 'and',\n",
       " 'use',\n",
       " 'Python',\n",
       " 'to',\n",
       " 'generate',\n",
       " 'a',\n",
       " 'list',\n",
       " 'of',\n",
       " 'the',\n",
       " '10',\n",
       " 'most',\n",
       " 'common',\n",
       " 'words',\n",
       " 'used.',\n",
       " 'It',\n",
       " 'is',\n",
       " 'my',\n",
       " 'hope',\n",
       " 'that',\n",
       " 'this',\n",
       " 'will',\n",
       " 'give',\n",
       " 'you',\n",
       " 'a',\n",
       " 'good',\n",
       " 'start',\n",
       " 'for',\n",
       " 'the',\n",
       " '\"Computing',\n",
       " 'with',\n",
       " 'Text\"',\n",
       " 'project.',\n",
       " 'Good',\n",
       " 'luck!']"
      ]
     },
     "execution_count": 10,
     "metadata": {},
     "output_type": "execute_result"
    }
   ],
   "source": [
    "text.split()"
   ]
  },
  {
   "cell_type": "code",
   "execution_count": 11,
   "id": "ed8c2675",
   "metadata": {},
   "outputs": [
    {
     "data": {
      "text/plain": [
       "False"
      ]
     },
     "execution_count": 11,
     "metadata": {},
     "output_type": "execute_result"
    }
   ],
   "source": [
    "'We' == 'we'"
   ]
  },
  {
   "cell_type": "code",
   "execution_count": 14,
   "id": "4493684a",
   "metadata": {},
   "outputs": [
    {
     "data": {
      "text/plain": [
       "'python'"
      ]
     },
     "execution_count": 14,
     "metadata": {},
     "output_type": "execute_result"
    }
   ],
   "source": [
    "'<Python.>'.strip('.<>').lower()"
   ]
  },
  {
   "cell_type": "markdown",
   "id": "7376722f",
   "metadata": {},
   "source": [
    "Write a function that takes a single string variable as input, breaks it up into shorter \"words\", strips away any special characters, and makes all the letters lowercase.  Return this list of lowercase words."
   ]
  },
  {
   "cell_type": "code",
   "execution_count": null,
   "id": "fe0430db",
   "metadata": {},
   "outputs": [],
   "source": []
  }
 ],
 "metadata": {
  "kernelspec": {
   "display_name": "Python 3 (ipykernel)",
   "language": "python",
   "name": "python3"
  },
  "language_info": {
   "codemirror_mode": {
    "name": "ipython",
    "version": 3
   },
   "file_extension": ".py",
   "mimetype": "text/x-python",
   "name": "python",
   "nbconvert_exporter": "python",
   "pygments_lexer": "ipython3",
   "version": "3.9.7"
  },
  "varInspector": {
   "cols": {
    "lenName": 16,
    "lenType": 16,
    "lenVar": 40
   },
   "kernels_config": {
    "python": {
     "delete_cmd_postfix": "",
     "delete_cmd_prefix": "del ",
     "library": "var_list.py",
     "varRefreshCmd": "print(var_dic_list())"
    },
    "r": {
     "delete_cmd_postfix": ") ",
     "delete_cmd_prefix": "rm(",
     "library": "var_list.r",
     "varRefreshCmd": "cat(var_dic_list()) "
    }
   },
   "types_to_exclude": [
    "module",
    "function",
    "builtin_function_or_method",
    "instance",
    "_Feature"
   ],
   "window_display": false
  }
 },
 "nbformat": 4,
 "nbformat_minor": 5
}
