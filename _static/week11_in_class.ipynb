{
 "cells": [
  {
   "cell_type": "markdown",
   "metadata": {},
   "source": [
    "# Week 11\n",
    "\n",
    "## Text files"
   ]
  },
  {
   "cell_type": "code",
   "execution_count": 1,
   "metadata": {},
   "outputs": [
    {
     "name": "stdout",
     "output_type": "stream",
     "text": [
      "November 10, 2021\n",
      "\n",
      "This is a sample text file.  We will use this file as an example of text files, and what we can do with text in Python.\n",
      "We will open this file in Jupyter and read the contents using Python commands.  We print this file line by line in\n",
      "and copy the contents onto a new file.  Finally, we will use this file as an example of encryption using a simple shift\n",
      "cipher and the subsequent decryption process.  It is my hope that this will help you with the upcoming project on \n",
      "encryption and decryption.\n"
     ]
    }
   ],
   "source": [
    "f = open('sample.txt')\n",
    "text = f.read()\n",
    "print(text)"
   ]
  },
  {
   "cell_type": "code",
   "execution_count": 2,
   "metadata": {},
   "outputs": [
    {
     "data": {
      "text/plain": [
       "'November 10, 2021\\n\\nThis is a sample text file.  We will use this file as an example of text files, and what we can do with text in Python.\\nWe will open this file in Jupyter and read the contents using Python commands.  We print this file line by line in\\nand copy the contents onto a new file.  Finally, we will use this file as an example of encryption using a simple shift\\ncipher and the subsequent decryption process.  It is my hope that this will help you with the upcoming project on \\nencryption and decryption.'"
      ]
     },
     "execution_count": 2,
     "metadata": {},
     "output_type": "execute_result"
    }
   ],
   "source": [
    "text"
   ]
  },
  {
   "cell_type": "code",
   "execution_count": 3,
   "metadata": {},
   "outputs": [
    {
     "data": {
      "text/plain": [
       "['November 10, 2021\\n',\n",
       " '\\n',\n",
       " 'This is a sample text file.  We will use this file as an example of text files, and what we can do with text in Python.\\n',\n",
       " 'We will open this file in Jupyter and read the contents using Python commands.  We print this file line by line in\\n',\n",
       " 'and copy the contents onto a new file.  Finally, we will use this file as an example of encryption using a simple shift\\n',\n",
       " 'cipher and the subsequent decryption process.  It is my hope that this will help you with the upcoming project on \\n',\n",
       " 'encryption and decryption.']"
      ]
     },
     "execution_count": 3,
     "metadata": {},
     "output_type": "execute_result"
    }
   ],
   "source": [
    "with open('sample.txt') as f:\n",
    "    lines = [line for line in f]\n",
    "lines"
   ]
  },
  {
   "cell_type": "code",
   "execution_count": 4,
   "metadata": {},
   "outputs": [
    {
     "data": {
      "text/plain": [
       "['November 10, 2021',\n",
       " '',\n",
       " 'This is a sample text file.  We will use this file as an example of text files, and what we can do with text in Python.',\n",
       " 'We will open this file in Jupyter and read the contents using Python commands.  We print this file line by line in',\n",
       " 'and copy the contents onto a new file.  Finally, we will use this file as an example of encryption using a simple shift',\n",
       " 'cipher and the subsequent decryption process.  It is my hope that this will help you with the upcoming project on ',\n",
       " 'encryption and decryption.']"
      ]
     },
     "execution_count": 4,
     "metadata": {},
     "output_type": "execute_result"
    }
   ],
   "source": [
    "just_text = [line.strip('\\n') for line in lines]\n",
    "just_text"
   ]
  },
  {
   "cell_type": "code",
   "execution_count": 6,
   "metadata": {},
   "outputs": [
    {
     "data": {
      "text/plain": [
       "'November 10, 2021  This is a sample text file.  We will use this file as an example of text files, and what we can do with text in Python. We will open this file in Jupyter and read the contents using Python commands.  We print this file line by line in and copy the contents onto a new file.  Finally, we will use this file as an example of encryption using a simple shift cipher and the subsequent decryption process.  It is my hope that this will help you with the upcoming project on  encryption and decryption. '"
      ]
     },
     "execution_count": 6,
     "metadata": {},
     "output_type": "execute_result"
    }
   ],
   "source": [
    "one_line_of_text = ''\n",
    "for line in just_text:\n",
    "    one_line_of_text += line + ' '\n",
    "one_line_of_text"
   ]
  },
  {
   "cell_type": "code",
   "execution_count": 7,
   "metadata": {},
   "outputs": [
    {
     "data": {
      "text/plain": [
       "['November',\n",
       " '10,',\n",
       " '2021',\n",
       " 'This',\n",
       " 'is',\n",
       " 'a',\n",
       " 'sample',\n",
       " 'text',\n",
       " 'file.',\n",
       " 'We',\n",
       " 'will',\n",
       " 'use',\n",
       " 'this',\n",
       " 'file',\n",
       " 'as',\n",
       " 'an',\n",
       " 'example',\n",
       " 'of',\n",
       " 'text',\n",
       " 'files,',\n",
       " 'and',\n",
       " 'what',\n",
       " 'we',\n",
       " 'can',\n",
       " 'do',\n",
       " 'with',\n",
       " 'text',\n",
       " 'in',\n",
       " 'Python.',\n",
       " 'We',\n",
       " 'will',\n",
       " 'open',\n",
       " 'this',\n",
       " 'file',\n",
       " 'in',\n",
       " 'Jupyter',\n",
       " 'and',\n",
       " 'read',\n",
       " 'the',\n",
       " 'contents',\n",
       " 'using',\n",
       " 'Python',\n",
       " 'commands.',\n",
       " 'We',\n",
       " 'print',\n",
       " 'this',\n",
       " 'file',\n",
       " 'line',\n",
       " 'by',\n",
       " 'line',\n",
       " 'in',\n",
       " 'and',\n",
       " 'copy',\n",
       " 'the',\n",
       " 'contents',\n",
       " 'onto',\n",
       " 'a',\n",
       " 'new',\n",
       " 'file.',\n",
       " 'Finally,',\n",
       " 'we',\n",
       " 'will',\n",
       " 'use',\n",
       " 'this',\n",
       " 'file',\n",
       " 'as',\n",
       " 'an',\n",
       " 'example',\n",
       " 'of',\n",
       " 'encryption',\n",
       " 'using',\n",
       " 'a',\n",
       " 'simple',\n",
       " 'shift',\n",
       " 'cipher',\n",
       " 'and',\n",
       " 'the',\n",
       " 'subsequent',\n",
       " 'decryption',\n",
       " 'process.',\n",
       " 'It',\n",
       " 'is',\n",
       " 'my',\n",
       " 'hope',\n",
       " 'that',\n",
       " 'this',\n",
       " 'will',\n",
       " 'help',\n",
       " 'you',\n",
       " 'with',\n",
       " 'the',\n",
       " 'upcoming',\n",
       " 'project',\n",
       " 'on',\n",
       " 'encryption',\n",
       " 'and',\n",
       " 'decryption.']"
      ]
     },
     "execution_count": 7,
     "metadata": {},
     "output_type": "execute_result"
    }
   ],
   "source": [
    "list_of_words = one_line_of_text.split()\n",
    "list_of_words"
   ]
  },
  {
   "cell_type": "code",
   "execution_count": 9,
   "metadata": {},
   "outputs": [
    {
     "data": {
      "text/plain": [
       "['november',\n",
       " '',\n",
       " '',\n",
       " 'this',\n",
       " 'is',\n",
       " 'a',\n",
       " 'sample',\n",
       " 'text',\n",
       " 'file',\n",
       " 'we',\n",
       " 'will',\n",
       " 'use',\n",
       " 'this',\n",
       " 'file',\n",
       " 'as',\n",
       " 'an',\n",
       " 'example',\n",
       " 'of',\n",
       " 'text',\n",
       " 'files',\n",
       " 'and',\n",
       " 'what',\n",
       " 'we',\n",
       " 'can',\n",
       " 'do',\n",
       " 'with',\n",
       " 'text',\n",
       " 'in',\n",
       " 'python',\n",
       " 'we',\n",
       " 'will',\n",
       " 'open',\n",
       " 'this',\n",
       " 'file',\n",
       " 'in',\n",
       " 'jupyter',\n",
       " 'and',\n",
       " 'read',\n",
       " 'the',\n",
       " 'contents',\n",
       " 'using',\n",
       " 'python',\n",
       " 'commands',\n",
       " 'we',\n",
       " 'print',\n",
       " 'this',\n",
       " 'file',\n",
       " 'line',\n",
       " 'by',\n",
       " 'line',\n",
       " 'in',\n",
       " 'and',\n",
       " 'copy',\n",
       " 'the',\n",
       " 'contents',\n",
       " 'onto',\n",
       " 'a',\n",
       " 'new',\n",
       " 'file',\n",
       " 'finally',\n",
       " 'we',\n",
       " 'will',\n",
       " 'use',\n",
       " 'this',\n",
       " 'file',\n",
       " 'as',\n",
       " 'an',\n",
       " 'example',\n",
       " 'of',\n",
       " 'encryption',\n",
       " 'using',\n",
       " 'a',\n",
       " 'simple',\n",
       " 'shift',\n",
       " 'cipher',\n",
       " 'and',\n",
       " 'the',\n",
       " 'subsequent',\n",
       " 'decryption',\n",
       " 'process',\n",
       " 'it',\n",
       " 'is',\n",
       " 'my',\n",
       " 'hope',\n",
       " 'that',\n",
       " 'this',\n",
       " 'will',\n",
       " 'help',\n",
       " 'you',\n",
       " 'with',\n",
       " 'the',\n",
       " 'upcoming',\n",
       " 'project',\n",
       " 'on',\n",
       " 'encryption',\n",
       " 'and',\n",
       " 'decryption']"
      ]
     },
     "execution_count": 9,
     "metadata": {},
     "output_type": "execute_result"
    }
   ],
   "source": [
    "no_punctuation = []\n",
    "for word in list_of_words:\n",
    "    no_punctuation.append(word.strip('.,!?;:0123456789').lower())\n",
    "no_punctuation"
   ]
  },
  {
   "cell_type": "code",
   "execution_count": 11,
   "metadata": {},
   "outputs": [
    {
     "data": {
      "text/plain": [
       "'November 10, 2021\\n\\nThis is a sample text file.  We will use this file as an example of text files, and what we can do with text in Python.\\nWe will open this file in Jupyter and read the contents using Python commands.  We print this file line by line in\\nand copy the contents onto a new file.  Finally, we will use this file as an example of encryption using a simple shift\\ncipher and the subsequent decryption process.  It is my hope that this will help you with the upcoming project on \\nencryption and decryption.\\n\\nThis is a copy.'"
      ]
     },
     "execution_count": 11,
     "metadata": {},
     "output_type": "execute_result"
    }
   ],
   "source": [
    "with open('sample.txt') as f:\n",
    "    text = f.read()\n",
    "text += '\\n\\nThis is a copy.'\n",
    "text"
   ]
  },
  {
   "cell_type": "code",
   "execution_count": 12,
   "metadata": {},
   "outputs": [],
   "source": [
    "with open('sample_copy.txt','w') as f:\n",
    "    f.write(text)"
   ]
  },
  {
   "cell_type": "markdown",
   "metadata": {},
   "source": [
    "## Shift cipher"
   ]
  },
  {
   "cell_type": "code",
   "execution_count": 28,
   "metadata": {},
   "outputs": [],
   "source": [
    "message = 'Luke, I am your father'"
   ]
  },
  {
   "cell_type": "code",
   "execution_count": 18,
   "metadata": {},
   "outputs": [],
   "source": [
    "alphabet = 'ABCDEFGHIJKLMNOPQRSTUVWXYZabcdefghijklmnopqrstuvwxyz.,!? '"
   ]
  },
  {
   "cell_type": "code",
   "execution_count": 25,
   "metadata": {},
   "outputs": [],
   "source": [
    "def shift_cipher(message,alphabet,key):\n",
    "    encrypted_message = ''\n",
    "    shifted_alphabet = ''\n",
    "    for i in range(len(alphabet)):\n",
    "        shifted_alphabet += alphabet[(i+key)%len(alphabet)]\n",
    "    for char in message:\n",
    "        ind = alphabet.index(char)\n",
    "        new_char = shifted_alphabet[ind]\n",
    "        encrypted_message += new_char\n",
    "    return encrypted_message"
   ]
  },
  {
   "cell_type": "code",
   "execution_count": 26,
   "metadata": {},
   "outputs": [
    {
     "data": {
      "text/plain": [
       "'QzpjBENEfrE?tzwEkfymjw'"
      ]
     },
     "execution_count": 26,
     "metadata": {},
     "output_type": "execute_result"
    }
   ],
   "source": [
    "shift_cipher(message,alphabet,5)"
   ]
  },
  {
   "cell_type": "code",
   "execution_count": 24,
   "metadata": {},
   "outputs": [
    {
     "data": {
      "text/plain": [
       "0"
      ]
     },
     "execution_count": 24,
     "metadata": {},
     "output_type": "execute_result"
    }
   ],
   "source": [
    "alphabet.index('A')"
   ]
  },
  {
   "cell_type": "code",
   "execution_count": 27,
   "metadata": {},
   "outputs": [],
   "source": [
    "def shift_cipher1(mes,alph,key):\n",
    "    encrypted_message = ''\n",
    "    for char in mes:\n",
    "        encrypted_message += alph[(alph.index(char)+key)%len(alph)]\n",
    "    return encrypted_message"
   ]
  },
  {
   "cell_type": "code",
   "execution_count": 29,
   "metadata": {},
   "outputs": [
    {
     "data": {
      "text/plain": [
       "'QzpjBENEfrE?tzwEkfymjw'"
      ]
     },
     "execution_count": 29,
     "metadata": {},
     "output_type": "execute_result"
    }
   ],
   "source": [
    "shift_cipher1(message,alphabet,5)"
   ]
  },
  {
   "cell_type": "code",
   "execution_count": null,
   "metadata": {},
   "outputs": [],
   "source": []
  }
 ],
 "metadata": {
  "kernelspec": {
   "display_name": "Python 3",
   "language": "python",
   "name": "python3"
  },
  "language_info": {
   "codemirror_mode": {
    "name": "ipython",
    "version": 3
   },
   "file_extension": ".py",
   "mimetype": "text/x-python",
   "name": "python",
   "nbconvert_exporter": "python",
   "pygments_lexer": "ipython3",
   "version": "3.7.6"
  },
  "varInspector": {
   "cols": {
    "lenName": 16,
    "lenType": 16,
    "lenVar": 40
   },
   "kernels_config": {
    "python": {
     "delete_cmd_postfix": "",
     "delete_cmd_prefix": "del ",
     "library": "var_list.py",
     "varRefreshCmd": "print(var_dic_list())"
    },
    "r": {
     "delete_cmd_postfix": ") ",
     "delete_cmd_prefix": "rm(",
     "library": "var_list.r",
     "varRefreshCmd": "cat(var_dic_list()) "
    }
   },
   "types_to_exclude": [
    "module",
    "function",
    "builtin_function_or_method",
    "instance",
    "_Feature"
   ],
   "window_display": false
  }
 },
 "nbformat": 4,
 "nbformat_minor": 4
}
