{
 "cells": [
  {
   "cell_type": "markdown",
   "id": "1a721799",
   "metadata": {},
   "source": [
    "# Week 12\n",
    "\n",
    "## Quiz\n",
    "\n",
    "1. Complete the following code in order to extract the data from the text file."
   ]
  },
  {
   "cell_type": "code",
   "execution_count": null,
   "id": "f19836cd",
   "metadata": {},
   "outputs": [],
   "source": [
    "with open('morning_coffee.txt') as f:\n",
    "    text = _____________________"
   ]
  },
  {
   "cell_type": "markdown",
   "id": "4d6d392f",
   "metadata": {},
   "source": [
    "2. Identify and correct the error in the following code."
   ]
  },
  {
   "cell_type": "code",
   "execution_count": null,
   "id": "8a6bf866",
   "metadata": {},
   "outputs": [],
   "source": [
    "string.strip(:;,.?!/\\)"
   ]
  },
  {
   "cell_type": "markdown",
   "id": "52bbc04a",
   "metadata": {},
   "source": [
    "3. Write a function that splits a string into words, cleans the words of punctuation, and makes all the letters uppercase."
   ]
  },
  {
   "cell_type": "markdown",
   "id": "ea92f564",
   "metadata": {},
   "source": [
    "### Answers"
   ]
  },
  {
   "cell_type": "code",
   "execution_count": null,
   "id": "b8cb39e7",
   "metadata": {},
   "outputs": [],
   "source": [
    "with open('morning_coffee.txt') as f:\n",
    "    text = f.read()"
   ]
  },
  {
   "cell_type": "code",
   "execution_count": null,
   "id": "9b18bf39",
   "metadata": {},
   "outputs": [],
   "source": [
    "string.strip(':;,.?!\\/')"
   ]
  },
  {
   "cell_type": "code",
   "execution_count": null,
   "id": "54b51a31",
   "metadata": {},
   "outputs": [],
   "source": [
    "def func1(string):\n",
    "    list1 = string.split()\n",
    "    for word in list1:\n",
    "        word.strip('.,!?')\n",
    "        word.upper()\n",
    "    return list1"
   ]
  },
  {
   "cell_type": "markdown",
   "id": "9aafd68c",
   "metadata": {},
   "source": [
    "## Notes\n",
    "\n",
    "### Shift Ciphers"
   ]
  },
  {
   "cell_type": "code",
   "execution_count": 2,
   "id": "5831899c",
   "metadata": {},
   "outputs": [],
   "source": [
    "alphabet = 'ABCDEFGHIJKLMNOPQRSTUVWXYZabcdefghijklmnopqrstuvwxyz '\n",
    "message1 = 'Hello there'\n",
    "message2_encrypted = 'RyFJkAoJHyD'"
   ]
  },
  {
   "cell_type": "code",
   "execution_count": 6,
   "id": "73371721",
   "metadata": {},
   "outputs": [
    {
     "data": {
      "text/plain": [
       "7"
      ]
     },
     "execution_count": 6,
     "metadata": {},
     "output_type": "execute_result"
    }
   ],
   "source": [
    "alphabet.index('H')"
   ]
  },
  {
   "cell_type": "code",
   "execution_count": 7,
   "id": "b3465221",
   "metadata": {},
   "outputs": [
    {
     "data": {
      "text/plain": [
       "'M'"
      ]
     },
     "execution_count": 7,
     "metadata": {},
     "output_type": "execute_result"
    }
   ],
   "source": [
    "alphabet[12]"
   ]
  },
  {
   "cell_type": "code",
   "execution_count": 8,
   "id": "1ea43b6b",
   "metadata": {},
   "outputs": [],
   "source": [
    "def shift_encryption(message,alphabet,shift):\n",
    "    encrypted_message = ''\n",
    "    for char in message:\n",
    "        ind = alphabet.index(char)\n",
    "        ind += shift\n",
    "        ind = ind%len(alphabet)\n",
    "        encrypted_char = alphabet[ind]\n",
    "        encrypted_message += encrypted_char\n",
    "    return encrypted_message"
   ]
  },
  {
   "cell_type": "code",
   "execution_count": 12,
   "id": "2b868436",
   "metadata": {},
   "outputs": [
    {
     "data": {
      "text/plain": [
       "'zVccfrkYViV'"
      ]
     },
     "execution_count": 12,
     "metadata": {},
     "output_type": "execute_result"
    }
   ],
   "source": [
    "shift_encryption(message1,alphabet,-9)"
   ]
  },
  {
   "cell_type": "code",
   "execution_count": 1,
   "id": "59cb14a0",
   "metadata": {},
   "outputs": [],
   "source": [
    "with open('dictionary.txt') as f:\n",
    "    dictionary = f.read()"
   ]
  },
  {
   "cell_type": "code",
   "execution_count": 4,
   "id": "d71eee3a",
   "metadata": {},
   "outputs": [],
   "source": [
    "dict_list = [word for word in dictionary.split() if not word == word.upper()]"
   ]
  },
  {
   "cell_type": "code",
   "execution_count": 5,
   "id": "2ff48d4e",
   "metadata": {},
   "outputs": [],
   "source": [
    "import numpy as np"
   ]
  },
  {
   "cell_type": "code",
   "execution_count": 7,
   "id": "fd1405b1",
   "metadata": {},
   "outputs": [
    {
     "data": {
      "text/plain": [
       "array([['', '', '', ''],\n",
       "       ['', '', '', ''],\n",
       "       ['', '', '', '']], dtype='<U1')"
      ]
     },
     "execution_count": 7,
     "metadata": {},
     "output_type": "execute_result"
    }
   ],
   "source": [
    "arr = np.empty((3,4),dtype=str)\n",
    "arr"
   ]
  },
  {
   "cell_type": "code",
   "execution_count": 9,
   "id": "45ab1ef5",
   "metadata": {},
   "outputs": [
    {
     "data": {
      "text/plain": [
       "array([['', '', ''],\n",
       "       ['', '', ''],\n",
       "       ['', '', ''],\n",
       "       ['', '', '']], dtype='<U1')"
      ]
     },
     "execution_count": 9,
     "metadata": {},
     "output_type": "execute_result"
    }
   ],
   "source": [
    "arrT = np.transpose(arr)\n",
    "arrT"
   ]
  },
  {
   "cell_type": "code",
   "execution_count": null,
   "id": "26297c82",
   "metadata": {},
   "outputs": [],
   "source": []
  }
 ],
 "metadata": {
  "kernelspec": {
   "display_name": "Python 3 (ipykernel)",
   "language": "python",
   "name": "python3"
  },
  "language_info": {
   "codemirror_mode": {
    "name": "ipython",
    "version": 3
   },
   "file_extension": ".py",
   "mimetype": "text/x-python",
   "name": "python",
   "nbconvert_exporter": "python",
   "pygments_lexer": "ipython3",
   "version": "3.9.7"
  },
  "varInspector": {
   "cols": {
    "lenName": 16,
    "lenType": 16,
    "lenVar": 40
   },
   "kernels_config": {
    "python": {
     "delete_cmd_postfix": "",
     "delete_cmd_prefix": "del ",
     "library": "var_list.py",
     "varRefreshCmd": "print(var_dic_list())"
    },
    "r": {
     "delete_cmd_postfix": ") ",
     "delete_cmd_prefix": "rm(",
     "library": "var_list.r",
     "varRefreshCmd": "cat(var_dic_list()) "
    }
   },
   "types_to_exclude": [
    "module",
    "function",
    "builtin_function_or_method",
    "instance",
    "_Feature"
   ],
   "window_display": false
  }
 },
 "nbformat": 4,
 "nbformat_minor": 5
}
