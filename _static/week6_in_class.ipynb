{
 "cells": [
  {
   "cell_type": "code",
   "execution_count": 2,
   "metadata": {},
   "outputs": [],
   "source": [
    "import numpy as np\n",
    "import matplotlib.pyplot as plt"
   ]
  },
  {
   "cell_type": "markdown",
   "metadata": {},
   "source": [
    "## Project Plan Outline\n",
    "Here is one possible plan for this project.  You do **not** have to use this exact plan.\n",
    "1. Start with pattern\n",
    "2. Deconstruct pattern\n",
    "3. Take the info from pattern along with color dictionary to build vertical stripes as numpy arrays\n",
    "4. Concatenate the vertical stripes to make a vertical stripe array\n",
    "5. Create the array of horizontal stripes using the transpose\n",
    "6. Weave them together to make the tartan\n",
    "7. Save the image as a .png file using `imsave()`"
   ]
  },
  {
   "cell_type": "code",
   "execution_count": null,
   "metadata": {},
   "outputs": [],
   "source": [
    "def deconstruct_pattern(pattern):\n",
    "    #  Some code\n",
    "    return pattern_info              # This object should store the color_codes along with the associated widths"
   ]
  },
  {
   "cell_type": "code",
   "execution_count": 2,
   "metadata": {},
   "outputs": [],
   "source": [
    "def make_stripe(color_code,width,height):\n",
    "    #  Some code\n",
    "    return stripe   # numpy array "
   ]
  },
  {
   "cell_type": "code",
   "execution_count": 3,
   "metadata": {},
   "outputs": [],
   "source": [
    "def make_stripe_list(pattern,color_dictionary,height):\n",
    "    list_of_stripes = []\n",
    "    #  Read through pattern, make stripes as you go, append to a list\n",
    "    return list_of_stripes"
   ]
  },
  {
   "cell_type": "code",
   "execution_count": 4,
   "metadata": {},
   "outputs": [],
   "source": [
    "def combine_stripes(list_of_stripes,height):\n",
    "    #  Concatenate the stripes to make one big array\n",
    "    return vertical_stripe_array"
   ]
  },
  {
   "cell_type": "code",
   "execution_count": 5,
   "metadata": {},
   "outputs": [],
   "source": [
    "def make_tartan(pattern,color_dictionary,height):\n",
    "    #  Deconstruct pattern\n",
    "    #  Call make_stripe_list(inputs)\n",
    "    #  Call combine_stripes(inputs)\n",
    "    #np.transpose(vertical_stripe_array,(1,0,2))  #  poduces the horizontal stripes\n",
    "    tartan = np.zeros((height,height,3))\n",
    "    for i,j in [(i,j) for i in range(height) for j in range(height)]:\n",
    "        if 'conditional statement':\n",
    "            tartan[i,j,:] = vertical_stripe_array[i,j,:]\n",
    "        else:\n",
    "            #tartan[i,j,:] = horizontal_stripe_array[i,j,:]\n",
    "            tartan[i,j,:] = vertical_stripe_array[j,i,:]\n",
    "    return tartan"
   ]
  },
  {
   "cell_type": "code",
   "execution_count": null,
   "metadata": {},
   "outputs": [],
   "source": [
    "A = make_tartan(inputs)\n",
    "plt.imsave('UBITname_PN%31.png',A)   #  Example:  plt.imsave('rahollis_17.png',A)"
   ]
  },
  {
   "cell_type": "code",
   "execution_count": null,
   "metadata": {},
   "outputs": [],
   "source": []
  },
  {
   "cell_type": "code",
   "execution_count": null,
   "metadata": {},
   "outputs": [],
   "source": []
  },
  {
   "cell_type": "code",
   "execution_count": null,
   "metadata": {},
   "outputs": [],
   "source": []
  },
  {
   "cell_type": "code",
   "execution_count": null,
   "metadata": {},
   "outputs": [],
   "source": []
  },
  {
   "cell_type": "code",
   "execution_count": 3,
   "metadata": {},
   "outputs": [],
   "source": [
    "A = np.array([['v','h','v','h'],['h','v','h','v'],['v','h','v','h'],['h','v','h','v']])"
   ]
  },
  {
   "cell_type": "code",
   "execution_count": 4,
   "metadata": {},
   "outputs": [
    {
     "name": "stdout",
     "output_type": "stream",
     "text": [
      "[['v' 'h' 'v' 'h']\n",
      " ['h' 'v' 'h' 'v']\n",
      " ['v' 'h' 'v' 'h']\n",
      " ['h' 'v' 'h' 'v']]\n"
     ]
    }
   ],
   "source": [
    "print(A)"
   ]
  },
  {
   "cell_type": "code",
   "execution_count": null,
   "metadata": {},
   "outputs": [],
   "source": [
    "vertical_coordinates = [(0,0),(0,2),(1,1),(1,3),(2,0),(2,2),(3,1),(3,3)]\n",
    "horizontal_coordinates = [(0,1),(0,3),(1,0),(1,2),(2,1),(2,3),(3,0),(3,2)]"
   ]
  }
 ],
 "metadata": {
  "kernelspec": {
   "display_name": "Python 3",
   "language": "python",
   "name": "python3"
  },
  "language_info": {
   "codemirror_mode": {
    "name": "ipython",
    "version": 3
   },
   "file_extension": ".py",
   "mimetype": "text/x-python",
   "name": "python",
   "nbconvert_exporter": "python",
   "pygments_lexer": "ipython3",
   "version": "3.7.6"
  },
  "latex_envs": {
   "LaTeX_envs_menu_present": true,
   "autoclose": false,
   "autocomplete": true,
   "bibliofile": "biblio.bib",
   "cite_by": "apalike",
   "current_citInitial": 1,
   "eqLabelWithNumbers": true,
   "eqNumInitial": 1,
   "hotkeys": {
    "equation": "Ctrl-E",
    "itemize": "Ctrl-I"
   },
   "labels_anchors": false,
   "latex_user_defs": false,
   "report_style_numbering": false,
   "user_envs_cfg": false
  }
 },
 "nbformat": 4,
 "nbformat_minor": 4
}
