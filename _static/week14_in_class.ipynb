{
 "cells": [
  {
   "cell_type": "markdown",
   "metadata": {},
   "source": [
    "## Ampersand placement and recovery\n",
    "### Adding ampersands during encryption\n",
    "We can calculate the number of ampersands we need to add using only the `key` and the `message`."
   ]
  },
  {
   "cell_type": "code",
   "execution_count": 23,
   "metadata": {},
   "outputs": [],
   "source": [
    "message = 'Luke, I am your father'\n",
    "key = 3"
   ]
  },
  {
   "cell_type": "code",
   "execution_count": 24,
   "metadata": {},
   "outputs": [
    {
     "data": {
      "text/plain": [
       "2"
      ]
     },
     "execution_count": 24,
     "metadata": {},
     "output_type": "execute_result"
    }
   ],
   "source": [
    "number_of_ampersands = key - len(message)%key\n",
    "number_of_ampersands"
   ]
  },
  {
   "cell_type": "code",
   "execution_count": 25,
   "metadata": {},
   "outputs": [
    {
     "name": "stdout",
     "output_type": "stream",
     "text": [
      "Luke, I am your father&&\n"
     ]
    }
   ],
   "source": [
    "padded_message = message + '&'*number_of_ampersands\n",
    "print(padded_message)"
   ]
  },
  {
   "cell_type": "markdown",
   "metadata": {},
   "source": [
    "Now we want to create an array containing the message so we can encrypt the message."
   ]
  },
  {
   "cell_type": "code",
   "execution_count": 26,
   "metadata": {},
   "outputs": [],
   "source": [
    "import numpy as np"
   ]
  },
  {
   "cell_type": "code",
   "execution_count": 27,
   "metadata": {},
   "outputs": [
    {
     "data": {
      "text/plain": [
       "array(['L', 'u', 'k', 'e', ',', ' ', 'I', ' ', 'a', 'm', ' ', 'y', 'o',\n",
       "       'u', 'r', ' ', 'f', 'a', 't', 'h', 'e', 'r', '&', '&'], dtype='<U1')"
      ]
     },
     "execution_count": 27,
     "metadata": {},
     "output_type": "execute_result"
    }
   ],
   "source": [
    "list_of_characters = [char for char in padded_message]\n",
    "array_of_characters = np.array(list_of_characters)\n",
    "array_of_characters"
   ]
  },
  {
   "cell_type": "code",
   "execution_count": 28,
   "metadata": {},
   "outputs": [
    {
     "data": {
      "text/plain": [
       "array([['L', 'u', 'k'],\n",
       "       ['e', ',', ' '],\n",
       "       ['I', ' ', 'a'],\n",
       "       ['m', ' ', 'y'],\n",
       "       ['o', 'u', 'r'],\n",
       "       [' ', 'f', 'a'],\n",
       "       ['t', 'h', 'e'],\n",
       "       ['r', '&', '&']], dtype='<U1')"
      ]
     },
     "execution_count": 28,
     "metadata": {},
     "output_type": "execute_result"
    }
   ],
   "source": [
    "reshaped_array = np.reshape(array_of_characters,(len(padded_message)//key,key))\n",
    "reshaped_array"
   ]
  },
  {
   "cell_type": "code",
   "execution_count": 29,
   "metadata": {},
   "outputs": [
    {
     "data": {
      "text/plain": [
       "array([['L', 'e', 'I', 'm', 'o', ' ', 't', 'r', 'u', ',', ' ', ' ', 'u',\n",
       "        'f', 'h', '&', 'k', ' ', 'a', 'y', 'r', 'a', 'e', '&']],\n",
       "      dtype='<U1')"
      ]
     },
     "execution_count": 29,
     "metadata": {},
     "output_type": "execute_result"
    }
   ],
   "source": [
    "encrypted_array = np.reshape(np.transpose(reshaped_array),(1,len(padded_message)))\n",
    "encrypted_array"
   ]
  },
  {
   "cell_type": "markdown",
   "metadata": {},
   "source": [
    "We can read off the encrypted message by stepping though the 0th row of the array and ignoring any ampersands we come across."
   ]
  },
  {
   "cell_type": "code",
   "execution_count": 30,
   "metadata": {},
   "outputs": [
    {
     "name": "stdout",
     "output_type": "stream",
     "text": [
      "LeImo tru,  ufhk ayrae\n"
     ]
    }
   ],
   "source": [
    "encrypted_message = ''\n",
    "for char in encrypted_array[0]:\n",
    "    if char != '&':\n",
    "        encrypted_message += char\n",
    "print(encrypted_message)"
   ]
  },
  {
   "cell_type": "markdown",
   "metadata": {},
   "source": [
    "### Where to put ampersands when decrypting\n",
    "When decrypting a message using a given key, we need to know where to put the ampersands (end of certain rows).  This means we need to know which rows to add ampersands to and which not to."
   ]
  },
  {
   "cell_type": "code",
   "execution_count": 31,
   "metadata": {},
   "outputs": [
    {
     "data": {
      "text/plain": [
       "2"
      ]
     },
     "execution_count": 31,
     "metadata": {},
     "output_type": "execute_result"
    }
   ],
   "source": [
    "num_rows_with_ampersands = key - len(encrypted_message)%key\n",
    "num_rows_with_ampersands"
   ]
  },
  {
   "cell_type": "code",
   "execution_count": 32,
   "metadata": {},
   "outputs": [
    {
     "data": {
      "text/plain": [
       "1"
      ]
     },
     "execution_count": 32,
     "metadata": {},
     "output_type": "execute_result"
    }
   ],
   "source": [
    "num_rows_no_ampersands = len(encrypted_message)%key\n",
    "num_rows_no_ampersands"
   ]
  },
  {
   "cell_type": "markdown",
   "metadata": {},
   "source": [
    "The following code will create a list of Boolean values that indicate if the row with the current index needs an ampersand or not."
   ]
  },
  {
   "cell_type": "code",
   "execution_count": 33,
   "metadata": {},
   "outputs": [
    {
     "data": {
      "text/plain": [
       "[False, True, True]"
      ]
     },
     "execution_count": 33,
     "metadata": {},
     "output_type": "execute_result"
    }
   ],
   "source": [
    "needs_ampersand = [False for i in range(num_rows_no_ampersands)]\n",
    "for i in range(num_rows_with_ampersands):\n",
    "    needs_ampersand.append(True)\n",
    "needs_ampersand"
   ]
  },
  {
   "cell_type": "markdown",
   "metadata": {},
   "source": [
    "For each row in the array, we will check whether it needs an ampersand by consulting the above list.  Instead of starting with a numpy array, we will start with a list of lists of blank string, but we can still think about it as having rows and columns."
   ]
  },
  {
   "cell_type": "code",
   "execution_count": 34,
   "metadata": {},
   "outputs": [
    {
     "data": {
      "text/plain": [
       "[['', '', '', '', '', '', '', ''],\n",
       " ['', '', '', '', '', '', '', ''],\n",
       " ['', '', '', '', '', '', '', '']]"
      ]
     },
     "execution_count": 34,
     "metadata": {},
     "output_type": "execute_result"
    }
   ],
   "source": [
    "num_of_columns = len(encrypted_message)//key\n",
    "if len(encrypted_message)%key != 0:\n",
    "    num_of_columns += 1\n",
    "encrypted_message_list = [['' for i in range(num_of_columns)] for i in range(key)]\n",
    "encrypted_message_list"
   ]
  },
  {
   "cell_type": "code",
   "execution_count": 37,
   "metadata": {},
   "outputs": [
    {
     "name": "stdout",
     "output_type": "stream",
     "text": [
      "fill in row without ampersand\n",
      "fill in row with an ampersand at the end\n",
      "fill in row with an ampersand at the end\n"
     ]
    }
   ],
   "source": [
    "for i in range(key):\n",
    "    if needs_ampersand[i] == True:\n",
    "        print('fill in row with an ampersand at the end')\n",
    "    else:\n",
    "        print('fill in row without ampersand')"
   ]
  },
  {
   "cell_type": "code",
   "execution_count": null,
   "metadata": {},
   "outputs": [],
   "source": []
  }
 ],
 "metadata": {
  "kernelspec": {
   "display_name": "Python 3",
   "language": "python",
   "name": "python3"
  },
  "language_info": {
   "codemirror_mode": {
    "name": "ipython",
    "version": 3
   },
   "file_extension": ".py",
   "mimetype": "text/x-python",
   "name": "python",
   "nbconvert_exporter": "python",
   "pygments_lexer": "ipython3",
   "version": "3.7.6"
  },
  "latex_envs": {
   "LaTeX_envs_menu_present": true,
   "autoclose": false,
   "autocomplete": true,
   "bibliofile": "biblio.bib",
   "cite_by": "apalike",
   "current_citInitial": 1,
   "eqLabelWithNumbers": true,
   "eqNumInitial": 1,
   "hotkeys": {
    "equation": "Ctrl-E",
    "itemize": "Ctrl-I"
   },
   "labels_anchors": false,
   "latex_user_defs": false,
   "report_style_numbering": false,
   "user_envs_cfg": false
  }
 },
 "nbformat": 4,
 "nbformat_minor": 4
}
