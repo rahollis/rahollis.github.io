{
 "cells": [
  {
   "cell_type": "markdown",
   "metadata": {},
   "source": [
    "## Ampersand placement and recovery\n",
    "### Adding ampersands during encryption\n",
    "We can calculate the number of ampersands we need to add using only the `key` and the `message`."
   ]
  },
  {
   "cell_type": "code",
   "execution_count": 23,
   "metadata": {},
   "outputs": [],
   "source": [
    "message = 'Luke, I am your father'\n",
    "key = 3"
   ]
  },
  {
   "cell_type": "code",
   "execution_count": 24,
   "metadata": {},
   "outputs": [
    {
     "data": {
      "text/plain": [
       "2"
      ]
     },
     "execution_count": 24,
     "metadata": {},
     "output_type": "execute_result"
    }
   ],
   "source": [
    "number_of_ampersands = key - len(message)%key\n",
    "number_of_ampersands"
   ]
  },
  {
   "cell_type": "code",
   "execution_count": 25,
   "metadata": {},
   "outputs": [
    {
     "name": "stdout",
     "output_type": "stream",
     "text": [
      "Luke, I am your father&&\n"
     ]
    }
   ],
   "source": [
    "padded_message = message + '&'*number_of_ampersands\n",
    "print(padded_message)"
   ]
  },
  {
   "cell_type": "markdown",
   "metadata": {},
   "source": [
    "Now we want to create an array containing the message so we can encrypt the message."
   ]
  },
  {
   "cell_type": "code",
   "execution_count": 26,
   "metadata": {},
   "outputs": [],
   "source": [
    "import numpy as np"
   ]
  },
  {
   "cell_type": "code",
   "execution_count": 27,
   "metadata": {},
   "outputs": [
    {
     "data": {
      "text/plain": [
       "array(['L', 'u', 'k', 'e', ',', ' ', 'I', ' ', 'a', 'm', ' ', 'y', 'o',\n",
       "       'u', 'r', ' ', 'f', 'a', 't', 'h', 'e', 'r', '&', '&'], dtype='<U1')"
      ]
     },
     "execution_count": 27,
     "metadata": {},
     "output_type": "execute_result"
    }
   ],
   "source": [
    "list_of_characters = [char for char in padded_message]\n",
    "array_of_characters = np.array(list_of_characters)\n",
    "array_of_characters"
   ]
  },
  {
   "cell_type": "code",
   "execution_count": 28,
   "metadata": {},
   "outputs": [
    {
     "data": {
      "text/plain": [
       "array([['L', 'u', 'k'],\n",
       "       ['e', ',', ' '],\n",
       "       ['I', ' ', 'a'],\n",
       "       ['m', ' ', 'y'],\n",
       "       ['o', 'u', 'r'],\n",
       "       [' ', 'f', 'a'],\n",
       "       ['t', 'h', 'e'],\n",
       "       ['r', '&', '&']], dtype='<U1')"
      ]
     },
     "execution_count": 28,
     "metadata": {},
     "output_type": "execute_result"
    }
   ],
   "source": [
    "reshaped_array = np.reshape(array_of_characters,(len(padded_message)//key,key))\n",
    "reshaped_array"
   ]
  },
  {
   "cell_type": "code",
   "execution_count": 29,
   "metadata": {},
   "outputs": [
    {
     "data": {
      "text/plain": [
       "array([['L', 'e', 'I', 'm', 'o', ' ', 't', 'r', 'u', ',', ' ', ' ', 'u',\n",
       "        'f', 'h', '&', 'k', ' ', 'a', 'y', 'r', 'a', 'e', '&']],\n",
       "      dtype='<U1')"
      ]
     },
     "execution_count": 29,
     "metadata": {},
     "output_type": "execute_result"
    }
   ],
   "source": [
    "encrypted_array = np.reshape(np.transpose(reshaped_array),(1,len(padded_message)))\n",
    "encrypted_array"
   ]
  },
  {
   "cell_type": "markdown",
   "metadata": {},
   "source": [
    "We can read off the encrypted message by stepping though the 0th row of the array and ignoring any ampersands we come across."
   ]
  },
  {
   "cell_type": "code",
   "execution_count": 30,
   "metadata": {},
   "outputs": [
    {
     "name": "stdout",
     "output_type": "stream",
     "text": [
      "LeImo tru,  ufhk ayrae\n"
     ]
    }
   ],
   "source": [
    "encrypted_message = ''\n",
    "for char in encrypted_array[0]:\n",
    "    if char != '&':\n",
    "        encrypted_message += char\n",
    "print(encrypted_message)"
   ]
  },
  {
   "cell_type": "markdown",
   "metadata": {},
   "source": [
    "### Where to put ampersands when decrypting\n",
    "When decrypting a message using a given key, we need to know where to put the ampersands (end of certain rows).  This means we need to know which rows to add ampersands to and which not to."
   ]
  },
  {
   "cell_type": "code",
   "execution_count": 31,
   "metadata": {},
   "outputs": [
    {
     "data": {
      "text/plain": [
       "2"
      ]
     },
     "execution_count": 31,
     "metadata": {},
     "output_type": "execute_result"
    }
   ],
   "source": [
    "num_rows_with_ampersands = key - len(encrypted_message)%key\n",
    "num_rows_with_ampersands"
   ]
  },
  {
   "cell_type": "code",
   "execution_count": 32,
   "metadata": {},
   "outputs": [
    {
     "data": {
      "text/plain": [
       "1"
      ]
     },
     "execution_count": 32,
     "metadata": {},
     "output_type": "execute_result"
    }
   ],
   "source": [
    "num_rows_no_ampersands = len(encrypted_message)%key\n",
    "num_rows_no_ampersands"
   ]
  },
  {
   "cell_type": "markdown",
   "metadata": {},
   "source": [
    "The following code will create a list of Boolean values that indicate if the row with the current index needs an ampersand or not."
   ]
  },
  {
   "cell_type": "code",
   "execution_count": 33,
   "metadata": {},
   "outputs": [
    {
     "data": {
      "text/plain": [
       "[False, True, True]"
      ]
     },
     "execution_count": 33,
     "metadata": {},
     "output_type": "execute_result"
    }
   ],
   "source": [
    "needs_ampersand = [False for i in range(num_rows_no_ampersands)]\n",
    "for i in range(num_rows_with_ampersands):\n",
    "    needs_ampersand.append(True)\n",
    "needs_ampersand"
   ]
  },
  {
   "cell_type": "markdown",
   "metadata": {},
   "source": [
    "For each row in the array, we will check whether it needs an ampersand by consulting the above list.  Instead of starting with a numpy array, we will start with a list of lists of blank string, but we can still think about it as having rows and columns."
   ]
  },
  {
   "cell_type": "code",
   "execution_count": 34,
   "metadata": {},
   "outputs": [
    {
     "data": {
      "text/plain": [
       "[['', '', '', '', '', '', '', ''],\n",
       " ['', '', '', '', '', '', '', ''],\n",
       " ['', '', '', '', '', '', '', '']]"
      ]
     },
     "execution_count": 34,
     "metadata": {},
     "output_type": "execute_result"
    }
   ],
   "source": [
    "num_of_columns = len(encrypted_message)//key\n",
    "if len(encrypted_message)%key != 0:\n",
    "    num_of_columns += 1\n",
    "encrypted_message_list = [['' for i in range(num_of_columns)] for i in range(key)]\n",
    "encrypted_message_list"
   ]
  },
  {
   "cell_type": "code",
   "execution_count": 37,
   "metadata": {},
   "outputs": [
    {
     "name": "stdout",
     "output_type": "stream",
     "text": [
      "fill in row without ampersand\n",
      "fill in row with an ampersand at the end\n",
      "fill in row with an ampersand at the end\n"
     ]
    }
   ],
   "source": [
    "for i in range(key):\n",
    "    if needs_ampersand[i] == True:\n",
    "        print('fill in row with an ampersand at the end')\n",
    "    else:\n",
    "        print('fill in row without ampersand')"
   ]
  },
  {
   "cell_type": "markdown",
   "metadata": {},
   "source": [
    "# Simple Sudoku\n",
    "\n",
    "### Generating some starting configurations"
   ]
  },
  {
   "cell_type": "code",
   "execution_count": 1,
   "metadata": {},
   "outputs": [
    {
     "data": {
      "text/plain": [
       "[[],\n",
       " ['0', '4', '0', '0', '0', '0', '1', '7', '9'],\n",
       " ['0', '0', '2', '0', '0', '8', '0', '5', '4'],\n",
       " ['0', '0', '6', '0', '0', '5', '0', '0', '8'],\n",
       " ['0', '8', '0', '0', '7', '0', '9', '1', '0'],\n",
       " ['0', '5', '0', '0', '9', '0', '0', '3', '0'],\n",
       " ['0', '1', '9', '0', '6', '0', '0', '4', '0'],\n",
       " ['3', '0', '0', '4', '0', '0', '7', '0', '0'],\n",
       " ['5', '7', '0', '1', '0', '0', '2', '0', '0'],\n",
       " ['9', '2', '8', '0', '0', '0', '0', '6', '0']]"
      ]
     },
     "execution_count": 1,
     "metadata": {},
     "output_type": "execute_result"
    }
   ],
   "source": [
    "lines = []\n",
    "with open('sudokus.txt') as s:\n",
    "    for line in s:\n",
    "        lines.append(line.strip('\\n').split())\n",
    "lines[:10]"
   ]
  },
  {
   "cell_type": "code",
   "execution_count": 2,
   "metadata": {},
   "outputs": [
    {
     "data": {
      "text/plain": [
       "[array([[0, 4, 0, 0, 0, 0, 1, 7, 9],\n",
       "        [0, 0, 2, 0, 0, 8, 0, 5, 4],\n",
       "        [0, 0, 6, 0, 0, 5, 0, 0, 8],\n",
       "        [0, 8, 0, 0, 7, 0, 9, 1, 0],\n",
       "        [0, 5, 0, 0, 9, 0, 0, 3, 0],\n",
       "        [0, 1, 9, 0, 6, 0, 0, 4, 0],\n",
       "        [3, 0, 0, 4, 0, 0, 7, 0, 0],\n",
       "        [5, 7, 0, 1, 0, 0, 2, 0, 0],\n",
       "        [9, 2, 8, 0, 0, 0, 0, 6, 0]]),\n",
       " array([[8, 0, 2, 0, 5, 0, 7, 0, 1],\n",
       "        [0, 0, 7, 0, 8, 2, 4, 6, 0],\n",
       "        [0, 1, 0, 9, 0, 0, 0, 0, 0],\n",
       "        [6, 0, 0, 0, 0, 1, 8, 3, 2],\n",
       "        [5, 0, 0, 0, 0, 0, 0, 0, 9],\n",
       "        [1, 8, 4, 3, 0, 0, 0, 0, 6],\n",
       "        [0, 0, 0, 0, 0, 4, 0, 2, 0],\n",
       "        [0, 9, 5, 6, 1, 0, 3, 0, 0],\n",
       "        [3, 0, 8, 0, 9, 0, 6, 0, 7]]),\n",
       " array([[0, 0, 0, 0, 0, 0, 0, 0, 7],\n",
       "        [7, 2, 0, 3, 0, 9, 0, 0, 1],\n",
       "        [0, 0, 8, 7, 0, 5, 0, 6, 0],\n",
       "        [5, 0, 2, 8, 9, 0, 0, 0, 0],\n",
       "        [0, 4, 0, 5, 0, 1, 0, 9, 0],\n",
       "        [0, 0, 0, 0, 6, 3, 7, 0, 5],\n",
       "        [0, 3, 0, 9, 0, 6, 1, 0, 0],\n",
       "        [2, 0, 0, 1, 0, 7, 0, 5, 3],\n",
       "        [9, 0, 0, 0, 0, 0, 0, 0, 0]]),\n",
       " array([[0, 2, 5, 0, 0, 7, 0, 0, 4],\n",
       "        [0, 0, 1, 0, 0, 5, 0, 2, 0],\n",
       "        [7, 0, 0, 0, 2, 0, 5, 0, 0],\n",
       "        [5, 0, 9, 0, 0, 4, 8, 0, 0],\n",
       "        [0, 0, 0, 0, 0, 0, 0, 0, 0],\n",
       "        [0, 0, 7, 5, 0, 0, 6, 0, 9],\n",
       "        [0, 0, 3, 0, 7, 0, 0, 0, 6],\n",
       "        [0, 4, 0, 1, 0, 0, 7, 0, 0],\n",
       "        [8, 0, 0, 2, 0, 0, 9, 1, 0]]),\n",
       " array([[0, 0, 1, 7, 2, 5, 0, 0, 0],\n",
       "        [0, 8, 0, 0, 1, 0, 0, 0, 6],\n",
       "        [2, 5, 0, 0, 0, 0, 1, 3, 0],\n",
       "        [0, 7, 0, 0, 0, 0, 5, 0, 0],\n",
       "        [0, 0, 0, 1, 0, 6, 0, 0, 0],\n",
       "        [0, 0, 9, 0, 0, 0, 0, 8, 0],\n",
       "        [0, 4, 5, 0, 0, 0, 0, 2, 9],\n",
       "        [7, 0, 0, 0, 9, 0, 0, 6, 0],\n",
       "        [0, 0, 0, 6, 4, 8, 3, 0, 0]]),\n",
       " array([[0, 0, 3, 0, 2, 0, 6, 0, 0],\n",
       "        [9, 0, 0, 3, 0, 5, 0, 0, 1],\n",
       "        [0, 0, 1, 8, 0, 6, 4, 0, 0],\n",
       "        [0, 0, 8, 1, 0, 2, 9, 0, 0],\n",
       "        [7, 0, 0, 0, 0, 0, 0, 0, 8],\n",
       "        [0, 0, 6, 7, 0, 8, 2, 0, 0],\n",
       "        [0, 0, 2, 6, 0, 9, 5, 0, 0],\n",
       "        [8, 0, 0, 2, 0, 3, 0, 0, 9],\n",
       "        [0, 0, 5, 0, 1, 0, 3, 0, 0]])]"
      ]
     },
     "execution_count": 2,
     "metadata": {},
     "output_type": "execute_result"
    }
   ],
   "source": [
    "import numpy as np\n",
    "sudokus = []\n",
    "line_breaks = []\n",
    "for i in range(len(lines)//10):\n",
    "    sudoku = [[int(entry) for entry in lines[j]] for j in range(10*i+1,10*i+10)]\n",
    "    sudokus.append(np.array(sudoku))\n",
    "sudokus"
   ]
  },
  {
   "cell_type": "code",
   "execution_count": 7,
   "metadata": {},
   "outputs": [],
   "source": [
    "def print_sudoku(arr): # arr is a 9x9 numpy array\n",
    "    for i in range(9):\n",
    "        for j in range(9):\n",
    "            x = arr[i, j] if arr[i, j] != 0 else \".\"\n",
    "            print(f\" {x} \", end=\"\")\n",
    "            if j in [2, 5]:\n",
    "                print(\"\\u2551\", end=\"\")\n",
    "        print(\"\")\n",
    "        if i in [2, 5]:\n",
    "            print(\"\\u2550\"*9 + \"\\u256C\" + \"\\u2550\"*9 + \"\\u256C\" + \"\\u2550\"*9)"
   ]
  },
  {
   "cell_type": "code",
   "execution_count": 8,
   "metadata": {},
   "outputs": [
    {
     "name": "stdout",
     "output_type": "stream",
     "text": [
      " .  4  . ║ .  .  . ║ 1  7  9 \n",
      " .  .  2 ║ .  .  8 ║ .  5  4 \n",
      " .  .  6 ║ .  .  5 ║ .  .  8 \n",
      "═════════╬═════════╬═════════\n",
      " .  8  . ║ .  7  . ║ 9  1  . \n",
      " .  5  . ║ .  9  . ║ .  3  . \n",
      " .  1  9 ║ .  6  . ║ .  4  . \n",
      "═════════╬═════════╬═════════\n",
      " 3  .  . ║ 4  .  . ║ 7  .  . \n",
      " 5  7  . ║ 1  .  . ║ 2  .  . \n",
      " 9  2  8 ║ .  .  . ║ .  6  . \n"
     ]
    }
   ],
   "source": [
    "print_sudoku(sudokus[0])"
   ]
  },
  {
   "cell_type": "markdown",
   "metadata": {},
   "source": [
    "## Solving a sudoku\n",
    "How would you go about solving the above sudoku using pencil and paper?"
   ]
  },
  {
   "cell_type": "markdown",
   "metadata": {},
   "source": [
    "1. Find an entry with a lot of restrictions, e.g. (7,2)\n",
    "2. Compare the row, column, and square entries\n",
    "3. Determine what the possible values of the entry\n",
    "4. If only one possible value, fill in the entry with that value"
   ]
  },
  {
   "cell_type": "code",
   "execution_count": 10,
   "metadata": {},
   "outputs": [],
   "source": [
    "sudoku = sudokus[0]\n",
    "sudoku1 = np.copy(sudoku)\n",
    "sudoku1[7,2] = 4"
   ]
  },
  {
   "cell_type": "code",
   "execution_count": 11,
   "metadata": {},
   "outputs": [
    {
     "name": "stdout",
     "output_type": "stream",
     "text": [
      " .  4  . ║ .  .  . ║ 1  7  9 \n",
      " .  .  2 ║ .  .  8 ║ .  5  4 \n",
      " .  .  6 ║ .  .  5 ║ .  .  8 \n",
      "═════════╬═════════╬═════════\n",
      " .  8  . ║ .  7  . ║ 9  1  . \n",
      " .  5  . ║ .  9  . ║ .  3  . \n",
      " .  1  9 ║ .  6  . ║ .  4  . \n",
      "═════════╬═════════╬═════════\n",
      " 3  .  . ║ 4  .  . ║ 7  .  . \n",
      " 5  7  4 ║ 1  .  . ║ 2  .  . \n",
      " 9  2  8 ║ .  .  . ║ .  6  . \n"
     ]
    }
   ],
   "source": [
    "print_sudoku(sudoku1)"
   ]
  },
  {
   "cell_type": "markdown",
   "metadata": {},
   "source": [
    "Now we repeat"
   ]
  },
  {
   "cell_type": "code",
   "execution_count": 12,
   "metadata": {},
   "outputs": [
    {
     "name": "stdout",
     "output_type": "stream",
     "text": [
      " .  4  . ║ .  .  . ║ 1  7  9 \n",
      " .  .  2 ║ .  .  8 ║ .  5  4 \n",
      " .  .  6 ║ .  .  5 ║ .  .  8 \n",
      "═════════╬═════════╬═════════\n",
      " .  8  . ║ .  7  . ║ 9  1  . \n",
      " .  5  . ║ .  9  . ║ .  3  . \n",
      " .  1  9 ║ .  6  . ║ .  4  . \n",
      "═════════╬═════════╬═════════\n",
      " 3  6  1 ║ 4  .  . ║ 7  .  . \n",
      " 5  7  4 ║ 1  .  . ║ 2  .  . \n",
      " 9  2  8 ║ .  .  . ║ .  6  . \n"
     ]
    }
   ],
   "source": [
    "sudoku1[6,1] = 6\n",
    "sudoku1[6,2] = 1\n",
    "print_sudoku(sudoku1)"
   ]
  },
  {
   "cell_type": "markdown",
   "metadata": {},
   "source": [
    "Once the square has been determined, move on to the next square."
   ]
  },
  {
   "cell_type": "markdown",
   "metadata": {},
   "source": [
    "If you can't fill in any of the squares, try a row or column."
   ]
  }
 ],
 "metadata": {
  "kernelspec": {
   "display_name": "Python 3",
   "language": "python",
   "name": "python3"
  },
  "language_info": {
   "codemirror_mode": {
    "name": "ipython",
    "version": 3
   },
   "file_extension": ".py",
   "mimetype": "text/x-python",
   "name": "python",
   "nbconvert_exporter": "python",
   "pygments_lexer": "ipython3",
   "version": "3.7.6"
  },
  "latex_envs": {
   "LaTeX_envs_menu_present": true,
   "autoclose": false,
   "autocomplete": true,
   "bibliofile": "biblio.bib",
   "cite_by": "apalike",
   "current_citInitial": 1,
   "eqLabelWithNumbers": true,
   "eqNumInitial": 1,
   "hotkeys": {
    "equation": "Ctrl-E",
    "itemize": "Ctrl-I"
   },
   "labels_anchors": false,
   "latex_user_defs": false,
   "report_style_numbering": false,
   "user_envs_cfg": false
  }
 },
 "nbformat": 4,
 "nbformat_minor": 4
}
