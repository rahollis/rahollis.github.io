{
 "cells": [
  {
   "cell_type": "markdown",
   "id": "a99d10af",
   "metadata": {},
   "source": [
    "# Week 8\n",
    "\n",
    "## Notes:  redistricting project"
   ]
  },
  {
   "cell_type": "markdown",
   "id": "200b1498",
   "metadata": {},
   "source": [
    "### Redistricting\n",
    "\n",
    "*Redistricting* is the process by which the congressional districts are redrawn every 10 years following the census.\n",
    "* Congressional districts are made up of small *census blocks*\n",
    "  * For the purposes of the project, we will assume each census block has population 1, so the population of a district is equal to its area.\n",
    "* Congressional districts should\n",
    "  * have equal populations (we will assume this is true for the project),\n",
    "  * have centralized shapes (measured by perimeter-to-area ratio, or PAR),\n",
    "  * accurately reflect the political lean of the map.\n",
    "* The objective of redistricting is to redraw the boundaries between districts to better reflect changes to the population distribution and political lean of the state."
   ]
  },
  {
   "cell_type": "markdown",
   "id": "b30f7e56",
   "metadata": {},
   "source": [
    "### Starting information\n",
    "\n",
    "You will start the project with a map (array) of census blocks (entries) and their individual political lean (entry values of 0 or 1).  Your task is to create an initial district map (also an array) indicating which district each census block belongs to (entries are integers indicating district)."
   ]
  },
  {
   "cell_type": "code",
   "execution_count": 1,
   "id": "aff39660",
   "metadata": {},
   "outputs": [],
   "source": [
    "import numpy as np\n",
    "import matplotlib.pyplot as plt\n",
    "from matplotlib import colors"
   ]
  },
  {
   "cell_type": "code",
   "execution_count": 2,
   "id": "e3481366",
   "metadata": {},
   "outputs": [
    {
     "name": "stdout",
     "output_type": "stream",
     "text": [
      "[[0 0 0 0 1 1]\n",
      " [0 0 1 1 0 1]\n",
      " [0 0 1 1 0 0]\n",
      " [1 0 0 0 0 1]\n",
      " [1 1 0 0 1 1]\n",
      " [1 1 1 0 0 1]]\n"
     ]
    }
   ],
   "source": [
    "example_vote_map = np.array([[0,0,0,0,1,1],[0,0,1,1,0,1],[0,0,1,1,0,0],[1,0,0,0,0,1],[1,1,0,0,1,1],[1,1,1,0,0,1]])\n",
    "print(example_vote_map)"
   ]
  },
  {
   "cell_type": "code",
   "execution_count": 3,
   "id": "093a94e9",
   "metadata": {},
   "outputs": [
    {
     "data": {
      "image/png": "[encoded data removed]",
      "text/plain": [
       "<Figure size 432x288 with 1 Axes>"
      ]
     },
     "metadata": {
      "needs_background": "light"
     },
     "output_type": "display_data"
    }
   ],
   "source": [
    "plt.imshow(example_vote_map,cmap=colors.ListedColormap(['red','blue']))\n",
    "plt.show()"
   ]
  },
  {
   "cell_type": "code",
   "execution_count": 4,
   "id": "df609c8e",
   "metadata": {},
   "outputs": [
    {
     "name": "stdout",
     "output_type": "stream",
     "text": [
      "[[0 0 0 1 1 1]\n",
      " [0 0 2 2 1 1]\n",
      " [0 2 2 3 3 1]\n",
      " [2 2 4 4 3 3]\n",
      " [2 4 4 4 4 3]\n",
      " [5 5 5 5 5 5]]\n"
     ]
    }
   ],
   "source": [
    "example_dist_map = np.array([[0,0,0,1,1,1],[0,0,2,2,1,1],[0,2,2,3,3,1],[2,2,4,4,3,3],[2,4,4,4,4,3],[5,5,5,5,5,5]])\n",
    "print(example_dist_map)"
   ]
  },
  {
   "cell_type": "code",
   "execution_count": 5,
   "id": "1dd45760",
   "metadata": {},
   "outputs": [
    {
     "data": {
      "image/png": "[encoded data removed]",
      "text/plain": [
       "<Figure size 432x288 with 1 Axes>"
      ]
     },
     "metadata": {
      "needs_background": "light"
     },
     "output_type": "display_data"
    }
   ],
   "source": [
    "plt.imshow(example_dist_map)\n",
    "plt.show()"
   ]
  },
  {
   "cell_type": "markdown",
   "id": "2b8cabc3",
   "metadata": {},
   "source": [
    "### Scoring the map\n",
    "\n",
    "Our map score will take into account a shape score based on the district map array and a political score based on the vote map array.\n",
    "* Shape score:  $$ \\frac{2k\\sqrt{\\pi}}{A\\sum_{i=1}^k PAR_i} $$ if there are $ k $ districts with average area $ A $.\n",
    "* Partisan score:  $$ 1 - \\frac{|p - p_{dist}|}{p} $$ where $ p $ is the partisan lean of the vote map and $ p_{dist} $ is the partisan lean of the district map."
   ]
  },
  {
   "cell_type": "code",
   "execution_count": 7,
   "id": "97f19087",
   "metadata": {},
   "outputs": [
    {
     "name": "stdout",
     "output_type": "stream",
     "text": [
      "0.2719092904169715\n"
     ]
    }
   ],
   "source": [
    "PARs = [2,2,16/7,12/5,2,14/6]\n",
    "shape_score = (2*6*1.77)/(6*sum(PARs))\n",
    "print(shape_score)"
   ]
  },
  {
   "cell_type": "code",
   "execution_count": 8,
   "id": "79b0026a",
   "metadata": {},
   "outputs": [
    {
     "name": "stdout",
     "output_type": "stream",
     "text": [
      "0.7899159663865547\n"
     ]
    }
   ],
   "source": [
    "p = np.sum(example_vote_map)/36\n",
    "p_dist = 4/7\n",
    "part_score = 1 - abs(p - p_dist)/p\n",
    "print(part_score)"
   ]
  },
  {
   "cell_type": "markdown",
   "id": "3a44a054",
   "metadata": {},
   "source": [
    "If a district is exactly tied in the vote count (as is the case for district 1 in this toy example) it should be \"duplicated\" with one copy being counter for party A and one for party B.  This means that the total number of districts is artificially increase by 1."
   ]
  },
  {
   "cell_type": "markdown",
   "id": "6171e0ad",
   "metadata": {},
   "source": [
    "### Managing the data\n",
    "\n",
    "The most important aspect of this project is the way you are storing and managing the data needed for the various calculations.  All of this data can be obtained from the vote and district maps, but it may not be easy to do."
   ]
  },
  {
   "cell_type": "markdown",
   "id": "69385a20",
   "metadata": {},
   "source": [
    "#### Dictionaries"
   ]
  },
  {
   "cell_type": "code",
   "execution_count": 1,
   "id": "2e17dad9",
   "metadata": {},
   "outputs": [],
   "source": [
    "dict1 = {'banana':'yellow','apples':'red','grapes':'purple',4:7}"
   ]
  },
  {
   "cell_type": "code",
   "execution_count": 2,
   "id": "a5bc0631",
   "metadata": {},
   "outputs": [
    {
     "data": {
      "text/plain": [
       "'yellow'"
      ]
     },
     "execution_count": 2,
     "metadata": {},
     "output_type": "execute_result"
    }
   ],
   "source": [
    "dict1['banana']"
   ]
  },
  {
   "cell_type": "code",
   "execution_count": 3,
   "id": "17339024",
   "metadata": {},
   "outputs": [
    {
     "data": {
      "text/plain": [
       "{0.0: 0.0,\n",
       " 0.1: 0.010000000000000002,\n",
       " 0.2: 0.04000000000000001,\n",
       " 0.30000000000000004: 0.09000000000000002,\n",
       " 0.4: 0.16000000000000003,\n",
       " 0.5: 0.25,\n",
       " 0.6000000000000001: 0.3600000000000001,\n",
       " 0.7000000000000001: 0.4900000000000001,\n",
       " 0.8: 0.6400000000000001,\n",
       " 0.9: 0.81}"
      ]
     },
     "execution_count": 3,
     "metadata": {},
     "output_type": "execute_result"
    }
   ],
   "source": [
    "dict2 = {}\n",
    "for count in range(10):\n",
    "    dict2[0.1*count] = (0.1*count)**2\n",
    "dict2"
   ]
  },
  {
   "cell_type": "code",
   "execution_count": 4,
   "id": "d9902581",
   "metadata": {},
   "outputs": [
    {
     "data": {
      "text/plain": [
       "dict_keys(['banana', 'apples', 'grapes'])"
      ]
     },
     "execution_count": 4,
     "metadata": {},
     "output_type": "execute_result"
    }
   ],
   "source": [
    "dict1.keys()"
   ]
  },
  {
   "cell_type": "code",
   "execution_count": 5,
   "id": "d8e0fd4c",
   "metadata": {},
   "outputs": [
    {
     "data": {
      "text/plain": [
       "dict_values(['yellow', 'red', 'purple'])"
      ]
     },
     "execution_count": 5,
     "metadata": {},
     "output_type": "execute_result"
    }
   ],
   "source": [
    "dict1.values()"
   ]
  },
  {
   "cell_type": "code",
   "execution_count": 6,
   "id": "b60ebb25",
   "metadata": {},
   "outputs": [
    {
     "name": "stdout",
     "output_type": "stream",
     "text": [
      "yellow\n",
      "red\n",
      "purple\n"
     ]
    }
   ],
   "source": [
    "for key in dict1.keys():\n",
    "    print(dict1[key])"
   ]
  },
  {
   "cell_type": "markdown",
   "id": "104235a4",
   "metadata": {},
   "source": [
    "#### Suggestion\n",
    "\n",
    "Write a function that will take the district and the vote maps as inputs, and outputs a dictionary that stores all the necessary information for computing the map score.\n",
    "* Which blocks are in each district, and whether or not they are on the border\n",
    "* What the perimeter is\n",
    "* What the area is\n",
    "* What the PAR is\n",
    "* What the political lean is\n"
   ]
  },
  {
   "cell_type": "code",
   "execution_count": null,
   "id": "f7069701",
   "metadata": {},
   "outputs": [],
   "source": []
  }
 ],
 "metadata": {
  "kernelspec": {
   "display_name": "Python 3 (ipykernel)",
   "language": "python",
   "name": "python3"
  },
  "language_info": {
   "codemirror_mode": {
    "name": "ipython",
    "version": 3
   },
   "file_extension": ".py",
   "mimetype": "text/x-python",
   "name": "python",
   "nbconvert_exporter": "python",
   "pygments_lexer": "ipython3",
   "version": "3.9.7"
  },
  "varInspector": {
   "cols": {
    "lenName": 16,
    "lenType": 16,
    "lenVar": 40
   },
   "kernels_config": {
    "python": {
     "delete_cmd_postfix": "",
     "delete_cmd_prefix": "del ",
     "library": "var_list.py",
     "varRefreshCmd": "print(var_dic_list())"
    },
    "r": {
     "delete_cmd_postfix": ") ",
     "delete_cmd_prefix": "rm(",
     "library": "var_list.r",
     "varRefreshCmd": "cat(var_dic_list()) "
    }
   },
   "types_to_exclude": [
    "module",
    "function",
    "builtin_function_or_method",
    "instance",
    "_Feature"
   ],
   "window_display": false
  }
 },
 "nbformat": 4,
 "nbformat_minor": 5
}
