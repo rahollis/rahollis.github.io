{
 "cells": [
  {
   "cell_type": "markdown",
   "id": "26deca7d",
   "metadata": {},
   "source": [
    "# Week 8\n",
    "\n",
    "## Quiz 5"
   ]
  },
  {
   "cell_type": "markdown",
   "id": "316a8cf2",
   "metadata": {},
   "source": [
    "1. Match the following RGB colors with their Python color coordinate tuples.\n",
    "  * colors\n",
    "    + Red\n",
    "    + Yellow\n",
    "    + Cyan\n",
    "  * coordinate tuples\n",
    "    + (1,1,0)\n",
    "    + (0,1,1)\n",
    "    + (1,0,0)\n",
    "\n",
    "2. Write a function that takes an 3D color pixel array as input, extract the _red_ sheet from it, and plots the red sheet using the 'inferno' color map.\n",
    "\n",
    "3. Build the following array in Python using the `concatenate` function.\n",
    "$$ \\left[\\begin{array}{ccccccccc} 1 & 1 & 1 & 2 & 2 & 2 & 3 & 3 & 3 \\\\ 1 & 1 & 1 & 2 & 2 & 2 & 3 & 3 & 3 \\\\ 1 & 1 & 1 & 2 & 2 & 2 & 3 & 3 & 3 \\end{array}\\right] $$"
   ]
  },
  {
   "cell_type": "markdown",
   "id": "f17265a2",
   "metadata": {},
   "source": [
    "|Color|coordinate tuple|\n",
    "|-----|----------------|\n",
    "| Red | (1,0,0)        |\n",
    "| Yellow | (1,1,0)     |\n",
    "| Cyan | (0,1,1)       |"
   ]
  },
  {
   "cell_type": "code",
   "execution_count": null,
   "id": "b51b814b",
   "metadata": {},
   "outputs": [],
   "source": [
    "def plot_red(color_array):\n",
    "    red_sheet = color_array[:,:,0]\n",
    "    plt.imshow(red_sheet,cmap='inferno')"
   ]
  },
  {
   "cell_type": "code",
   "execution_count": 1,
   "id": "cef598b3",
   "metadata": {},
   "outputs": [
    {
     "data": {
      "text/plain": [
       "array([[1, 1, 1, 2, 2, 2, 3, 3, 3],\n",
       "       [1, 1, 1, 2, 2, 2, 3, 3, 3],\n",
       "       [1, 1, 1, 2, 2, 2, 3, 3, 3]])"
      ]
     },
     "execution_count": 1,
     "metadata": {},
     "output_type": "execute_result"
    }
   ],
   "source": [
    "import numpy as np\n",
    "np.concatenate([np.ones([3,3],dtype=int),2*np.ones([3,3],dtype=int),3*np.ones([3,3],dtype=int)],1)"
   ]
  },
  {
   "cell_type": "markdown",
   "id": "b6111db4",
   "metadata": {},
   "source": [
    "## Notes"
   ]
  },
  {
   "cell_type": "code",
   "execution_count": 4,
   "id": "d625b72e",
   "metadata": {},
   "outputs": [],
   "source": [
    "import numpy as np"
   ]
  },
  {
   "cell_type": "code",
   "execution_count": 29,
   "id": "cb291d03",
   "metadata": {},
   "outputs": [],
   "source": [
    "color_dict = {'DR' : [140, 0, 0],'DN' : [100, 108, 100],'K' : [0, 0, 0],'DW' : [176, 176, 176]}\n",
    "pattern = 'DR15 DN40 DW12 K8 DN20 DW44 K56 DN12 DR12 DW44 DN12 DR4 DW24 K4 DW6 DN20 DW6 K4 DW24 DR4 DN12 DW44 DR12 DN12 K56 DW44 DN20 K8 DW12 DN40 DR15'"
   ]
  },
  {
   "cell_type": "code",
   "execution_count": 30,
   "id": "420ce183",
   "metadata": {},
   "outputs": [
    {
     "data": {
      "text/plain": [
       "['DR15',\n",
       " 'DN40',\n",
       " 'DW12',\n",
       " 'K8',\n",
       " 'DN20',\n",
       " 'DW44',\n",
       " 'K56',\n",
       " 'DN12',\n",
       " 'DR12',\n",
       " 'DW44',\n",
       " 'DN12',\n",
       " 'DR4',\n",
       " 'DW24',\n",
       " 'K4',\n",
       " 'DW6',\n",
       " 'DN20',\n",
       " 'DW6',\n",
       " 'K4',\n",
       " 'DW24',\n",
       " 'DR4',\n",
       " 'DN12',\n",
       " 'DW44',\n",
       " 'DR12',\n",
       " 'DN12',\n",
       " 'K56',\n",
       " 'DW44',\n",
       " 'DN20',\n",
       " 'K8',\n",
       " 'DW12',\n",
       " 'DN40',\n",
       " 'DR15']"
      ]
     },
     "execution_count": 30,
     "metadata": {},
     "output_type": "execute_result"
    }
   ],
   "source": [
    "pattern.split()"
   ]
  },
  {
   "cell_type": "code",
   "execution_count": 2,
   "id": "35d0e5c5",
   "metadata": {},
   "outputs": [
    {
     "data": {
      "text/plain": [
       "[100, 108, 100]"
      ]
     },
     "execution_count": 2,
     "metadata": {},
     "output_type": "execute_result"
    }
   ],
   "source": [
    "color_dict['DN']"
   ]
  },
  {
   "cell_type": "code",
   "execution_count": 3,
   "id": "082b600f",
   "metadata": {},
   "outputs": [
    {
     "data": {
      "text/plain": [
       "244"
      ]
     },
     "execution_count": 3,
     "metadata": {},
     "output_type": "execute_result"
    }
   ],
   "source": [
    "32+42+32+12+8+12+32+42+32"
   ]
  },
  {
   "cell_type": "markdown",
   "id": "3de6fef4",
   "metadata": {},
   "source": [
    "1.  Set up color dictionary.\n",
    "2.  Function that takes the height `n` and the color code (e.g. `DN32`) as input and returns a single stripe.\n",
    "3.  Function that will loop through the pattern and generate all the stripes and concatenate them together."
   ]
  },
  {
   "cell_type": "code",
   "execution_count": 12,
   "id": "1be587b3",
   "metadata": {},
   "outputs": [],
   "source": [
    "A = np.zeros((3,5,2))\n",
    "B = np.ones((3,5,2))"
   ]
  },
  {
   "cell_type": "code",
   "execution_count": 17,
   "id": "206c34a7",
   "metadata": {},
   "outputs": [],
   "source": [
    "C = np.concatenate([A,B],2)"
   ]
  },
  {
   "cell_type": "code",
   "execution_count": 18,
   "id": "f24fdab7",
   "metadata": {},
   "outputs": [
    {
     "data": {
      "text/plain": [
       "(3, 5, 4)"
      ]
     },
     "execution_count": 18,
     "metadata": {},
     "output_type": "execute_result"
    }
   ],
   "source": [
    "np.shape(C)"
   ]
  },
  {
   "cell_type": "markdown",
   "id": "3bd64969",
   "metadata": {},
   "source": [
    "4. Transpose to get the horizontal stripe array.\n",
    "5. Weave them together into the final tartan."
   ]
  },
  {
   "cell_type": "code",
   "execution_count": 27,
   "id": "087f1085",
   "metadata": {},
   "outputs": [],
   "source": [
    "At = np.transpose(A,(1,0,2))"
   ]
  },
  {
   "cell_type": "code",
   "execution_count": 28,
   "id": "9cd65818",
   "metadata": {},
   "outputs": [
    {
     "data": {
      "text/plain": [
       "(5, 3, 2)"
      ]
     },
     "execution_count": 28,
     "metadata": {},
     "output_type": "execute_result"
    }
   ],
   "source": [
    "np.shape(At)"
   ]
  },
  {
   "cell_type": "code",
   "execution_count": null,
   "id": "2a801a59",
   "metadata": {},
   "outputs": [],
   "source": []
  }
 ],
 "metadata": {
  "kernelspec": {
   "display_name": "Python 3 (ipykernel)",
   "language": "python",
   "name": "python3"
  },
  "language_info": {
   "codemirror_mode": {
    "name": "ipython",
    "version": 3
   },
   "file_extension": ".py",
   "mimetype": "text/x-python",
   "name": "python",
   "nbconvert_exporter": "python",
   "pygments_lexer": "ipython3",
   "version": "3.9.7"
  },
  "varInspector": {
   "cols": {
    "lenName": 16,
    "lenType": 16,
    "lenVar": 40
   },
   "kernels_config": {
    "python": {
     "delete_cmd_postfix": "",
     "delete_cmd_prefix": "del ",
     "library": "var_list.py",
     "varRefreshCmd": "print(var_dic_list())"
    },
    "r": {
     "delete_cmd_postfix": ") ",
     "delete_cmd_prefix": "rm(",
     "library": "var_list.r",
     "varRefreshCmd": "cat(var_dic_list()) "
    }
   },
   "types_to_exclude": [
    "module",
    "function",
    "builtin_function_or_method",
    "instance",
    "_Feature"
   ],
   "window_display": false
  }
 },
 "nbformat": 4,
 "nbformat_minor": 5
}
