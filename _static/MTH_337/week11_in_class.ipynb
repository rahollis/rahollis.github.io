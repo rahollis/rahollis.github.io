{
 "cells": [
  {
   "cell_type": "code",
   "execution_count": null,
   "id": "1687ca9c",
   "metadata": {},
   "outputs": [],
   "source": [
    "import numpy as np"
   ]
  },
  {
   "cell_type": "markdown",
   "id": "ea79f6b0",
   "metadata": {},
   "source": [
    "# Week 11\n",
    "\n",
    "## Quiz\n",
    "\n",
    "1. What function allows us to add up the entries of an array?\n",
    "\n",
    "2. Explain what the command `np.roll(arr,-1,1)` does?\n",
    "\n",
    "3. What does the interval parameter in the code below control?\n",
    "\n",
    "`anim = FuncAnimation(fig=fig, func=animate,  interval=100, blit=True, repeat=False)`"
   ]
  },
  {
   "cell_type": "markdown",
   "id": "cd96b991",
   "metadata": {},
   "source": [
    "### Answers"
   ]
  },
  {
   "cell_type": "code",
   "execution_count": null,
   "id": "1e420d3c",
   "metadata": {},
   "outputs": [],
   "source": [
    "arr = np.array([[1,2,3],[4,5,6],[7,8,9]])\n",
    "np.sum(arr)"
   ]
  },
  {
   "cell_type": "code",
   "execution_count": null,
   "id": "aee5b5ef",
   "metadata": {},
   "outputs": [],
   "source": [
    "print(arr)\n",
    "print(np.roll(arr,-1,1))"
   ]
  },
  {
   "cell_type": "markdown",
   "id": "2c4850f7",
   "metadata": {},
   "source": [
    "The interval is the time in milliseconds between frames."
   ]
  },
  {
   "cell_type": "markdown",
   "id": "c1f8241a",
   "metadata": {},
   "source": [
    "## Notes\n",
    "\n",
    "A *cipher* is process by which a message is encrypted.  An example of a simple cipher is a *shift cipher* where each letter in the message is shifted by a fixed amount to a new letter in the alphabet.\n",
    "\n",
    "**Example:** If we use a shift-5 cipher on the message \"math is fun\", we get the encrypted message \"rfymenxekzs\".\n",
    "\n",
    "What do we need in order to use a shift cipher?\n",
    "\n",
    "What happens if we increase the shift to 10?  What is the new encrypted message?\n",
    "\n",
    "What do we have to do if we want to include capital letters and punctuation in the message: \"Math is fun!\""
   ]
  },
  {
   "cell_type": "markdown",
   "id": "94d432be",
   "metadata": {},
   "source": [
    "### Coding the shift cipher\n",
    "\n",
    "In order to code the shift cipher to get an encrypted message, we will be working with strings.\n",
    "\n",
    "#### Strings"
   ]
  },
  {
   "cell_type": "code",
   "execution_count": 1,
   "id": "93253fe2",
   "metadata": {},
   "outputs": [
    {
     "data": {
      "text/plain": [
       "str"
      ]
     },
     "execution_count": 1,
     "metadata": {},
     "output_type": "execute_result"
    }
   ],
   "source": [
    "message1 = 'Math is fun!'\n",
    "type(message1)"
   ]
  },
  {
   "cell_type": "code",
   "execution_count": 2,
   "id": "89a57f31",
   "metadata": {},
   "outputs": [
    {
     "data": {
      "text/plain": [
       "'h'"
      ]
     },
     "execution_count": 2,
     "metadata": {},
     "output_type": "execute_result"
    }
   ],
   "source": [
    "message1[3]"
   ]
  },
  {
   "cell_type": "code",
   "execution_count": 3,
   "id": "eb570d47",
   "metadata": {},
   "outputs": [
    {
     "data": {
      "text/plain": [
       "'Math'"
      ]
     },
     "execution_count": 3,
     "metadata": {},
     "output_type": "execute_result"
    }
   ],
   "source": [
    "message1[:4]"
   ]
  },
  {
   "cell_type": "code",
   "execution_count": 4,
   "id": "7f4260dd",
   "metadata": {},
   "outputs": [
    {
     "name": "stdout",
     "output_type": "stream",
     "text": [
      "Math is fun!\n"
     ]
    },
    {
     "data": {
      "text/plain": [
       "'Math is fun!'"
      ]
     },
     "execution_count": 4,
     "metadata": {},
     "output_type": "execute_result"
    }
   ],
   "source": [
    "print(message1)\n",
    "message1"
   ]
  },
  {
   "cell_type": "code",
   "execution_count": 5,
   "id": "4fa22f92",
   "metadata": {},
   "outputs": [
    {
     "name": "stdout",
     "output_type": "stream",
     "text": [
      "M\n",
      "a\n",
      "t\n",
      "h\n",
      " \n",
      "i\n",
      "s\n",
      " \n",
      "f\n",
      "u\n",
      "n\n",
      "!\n"
     ]
    }
   ],
   "source": [
    "for char in message1:\n",
    "    print(char)"
   ]
  },
  {
   "cell_type": "code",
   "execution_count": 6,
   "id": "65445d08",
   "metadata": {},
   "outputs": [
    {
     "name": "stdout",
     "output_type": "stream",
     "text": [
      "Isn't it?\n"
     ]
    }
   ],
   "source": [
    "message2 = 'Isn\\'t it?'\n",
    "print(message2)"
   ]
  },
  {
   "cell_type": "code",
   "execution_count": 7,
   "id": "a32974b6",
   "metadata": {},
   "outputs": [
    {
     "name": "stdout",
     "output_type": "stream",
     "text": [
      "Math is fun! Isn't it?\n"
     ]
    }
   ],
   "source": [
    "message = message1+' '+message2\n",
    "print(message)"
   ]
  },
  {
   "cell_type": "code",
   "execution_count": 8,
   "id": "fdd6b23d",
   "metadata": {},
   "outputs": [
    {
     "data": {
      "text/plain": [
       "5"
      ]
     },
     "execution_count": 8,
     "metadata": {},
     "output_type": "execute_result"
    }
   ],
   "source": [
    "message.index('i')"
   ]
  },
  {
   "cell_type": "code",
   "execution_count": 9,
   "id": "8222d183",
   "metadata": {},
   "outputs": [
    {
     "data": {
      "text/plain": [
       "22"
      ]
     },
     "execution_count": 9,
     "metadata": {},
     "output_type": "execute_result"
    }
   ],
   "source": [
    "len(message)"
   ]
  },
  {
   "cell_type": "markdown",
   "id": "d0d3cb3b",
   "metadata": {},
   "source": [
    "#### Back to the shift cipher\n",
    "\n",
    "Let's take our message \"Math is fun! Isn't it?\" and encrypt it using a shift-10 cipher."
   ]
  },
  {
   "cell_type": "code",
   "execution_count": 10,
   "id": "714420a1",
   "metadata": {},
   "outputs": [],
   "source": [
    "alphabet = ' abcdefghijklmnopqrstuvwxyzABCDEFGHIJKLMNOPQRSTUVWXYZ.,!?\\'1234567890'"
   ]
  },
  {
   "cell_type": "code",
   "execution_count": 11,
   "id": "440bc19e",
   "metadata": {},
   "outputs": [
    {
     "data": {
      "text/plain": [
       "1"
      ]
     },
     "execution_count": 11,
     "metadata": {},
     "output_type": "execute_result"
    }
   ],
   "source": [
    "alphabet.index('a')"
   ]
  },
  {
   "cell_type": "code",
   "execution_count": 12,
   "id": "f4758ecc",
   "metadata": {},
   "outputs": [
    {
     "data": {
      "text/plain": [
       "'k'"
      ]
     },
     "execution_count": 12,
     "metadata": {},
     "output_type": "execute_result"
    }
   ],
   "source": [
    "alphabet[11]"
   ]
  },
  {
   "cell_type": "code",
   "execution_count": 13,
   "id": "d15043e6",
   "metadata": {},
   "outputs": [
    {
     "data": {
      "text/plain": [
       "'WkDrjsCjpEx8jSCx0DjsD9'"
      ]
     },
     "execution_count": 13,
     "metadata": {},
     "output_type": "execute_result"
    }
   ],
   "source": [
    "encrypt_message = ''\n",
    "for char in message:\n",
    "    ind = alphabet.index(char)\n",
    "    new_ind = (ind + 10)%len(alphabet)\n",
    "    new_char = alphabet[new_ind]\n",
    "    encrypt_message += new_char\n",
    "encrypt_message"
   ]
  },
  {
   "cell_type": "markdown",
   "id": "8edc9eb8",
   "metadata": {},
   "source": [
    "**Exercise:** Turn this into a function."
   ]
  },
  {
   "cell_type": "code",
   "execution_count": 1,
   "id": "84416f8e",
   "metadata": {},
   "outputs": [],
   "source": [
    "def ShiftEncryption(message,shift,alphabet):\n",
    "    encrypted_message = ''\n",
    "    for char in message:\n",
    "        encrypted_message += alphabet[(alphabet.index(char)+shift)%len(alphabet)]\n",
    "    return encrypted_message"
   ]
  },
  {
   "cell_type": "code",
   "execution_count": 4,
   "id": "7d9cce4e",
   "metadata": {},
   "outputs": [
    {
     "data": {
      "text/plain": [
       "'y?Rk! i URDpReWd R?jRIfd fT'"
      ]
     },
     "execution_count": 4,
     "metadata": {},
     "output_type": "execute_result"
    }
   ],
   "source": [
    "ShiftEncryption('Hi there! My name is Romeo.',-9,'abcdefghijklmnopqrstuvwxyzABCDEFGHIJKLMNOPQRSTUVWXYZ ,.!?')"
   ]
  },
  {
   "cell_type": "markdown",
   "id": "68b83432",
   "metadata": {},
   "source": [
    "**Exercise:** Write a function that will decrypt a message that was encrypted using a shift cipher."
   ]
  },
  {
   "cell_type": "code",
   "execution_count": 18,
   "id": "2c8065da",
   "metadata": {},
   "outputs": [],
   "source": [
    "def ShiftDecryption(encrypted_message,shift,alphabet):\n",
    "    decrypted_message = ''\n",
    "    for char in encrypted_message:\n",
    "        decrypted_message += alphabet[(alphabet.index(char)-shift)%len(alphabet)]\n",
    "    return decrypted_message"
   ]
  },
  {
   "cell_type": "code",
   "execution_count": 16,
   "id": "d9f1a1c3",
   "metadata": {},
   "outputs": [
    {
     "name": "stdout",
     "output_type": "stream",
     "text": [
      "Rfymenxekzs3eNxs5yeny4\n"
     ]
    }
   ],
   "source": [
    "shift = 5\n",
    "encrypted_message = ShiftEncryption(message,shift,alphabet)\n",
    "print(encrypted_message)"
   ]
  },
  {
   "cell_type": "code",
   "execution_count": 19,
   "id": "1ca48774",
   "metadata": {},
   "outputs": [
    {
     "data": {
      "text/plain": [
       "\"Math is fun! Isn't it?\""
      ]
     },
     "execution_count": 19,
     "metadata": {},
     "output_type": "execute_result"
    }
   ],
   "source": [
    "ShiftDecryption(encrypted_message,shift,alphabet)"
   ]
  },
  {
   "cell_type": "markdown",
   "id": "532547b8",
   "metadata": {},
   "source": [
    "### Playing the malevolent actor\n",
    "\n",
    "How would a malevolent actor try to crack the encryption and access the message without having the key?  Put yourself in the shoes of the \"bad guy\".  How would you do it?\n",
    "* assume we are all using the same alphabet\n",
    "* the bad guy does not know the shift\n",
    "* use brute force to crack the encryption\n",
    "  + try every possible shift until you find one that works\n",
    "* can we do this without having to visually inspect each \"decrypted\" message for every shift that we try?\n",
    "  + compare \"words\" in the decrypted message to a dictionary of English words"
   ]
  },
  {
   "cell_type": "markdown",
   "id": "9567803d",
   "metadata": {},
   "source": [
    "#### Working with text files"
   ]
  },
  {
   "cell_type": "code",
   "execution_count": 20,
   "id": "52d73079",
   "metadata": {},
   "outputs": [
    {
     "data": {
      "text/plain": [
       "'C:\\\\Users\\\\rahollis\\\\Documents\\\\Teaching\\\\MTH 337\\\\2023 - Spring\\\\Class Notes'"
      ]
     },
     "execution_count": 20,
     "metadata": {},
     "output_type": "execute_result"
    }
   ],
   "source": [
    "pwd"
   ]
  },
  {
   "cell_type": "code",
   "execution_count": 21,
   "id": "54bb0caf",
   "metadata": {},
   "outputs": [
    {
     "data": {
      "text/plain": [
       "'My dearest Juliet,\\n\\nThe days here are getting shorter and colder, and each day that\\npasses brings us closer to reuniting.  Though my job here in\\nLondon keeps me busy, my thoughts turn ever to you my love and\\nour son, whom I have yet to hold.\\n\\nLast Tuesday I had a rare day off, so I decided to spend the\\nmorning in the park.  As I drank my coffee, I watched the events \\nhappening around me:  children playing, a dog running after a \\nstick thrown by its owner, an elderly couple sitting at a bench\\nacross the lawn.  As this scene evolved, I spied a young couple\\nhidden in the trees having a picnic, and it reminded me of the\\nsecret picnics of our youth in the forests between our villages.\\nThere are times I miss those days full of love and hatred, even \\nthough it was a time of great tension and hostility between our\\nfamilies, because I spent most of my time with you.\\n\\nI will see you in 10 days time when the workhouse closes down\\nfor Christmas.\\n\\nThinking of you always,\\nRomeo'"
      ]
     },
     "execution_count": 21,
     "metadata": {},
     "output_type": "execute_result"
    }
   ],
   "source": [
    "with open('letter.txt') as f:\n",
    "    text = f.read()\n",
    "text"
   ]
  },
  {
   "cell_type": "code",
   "execution_count": 22,
   "id": "8ec25c27",
   "metadata": {},
   "outputs": [
    {
     "name": "stdout",
     "output_type": "stream",
     "text": [
      "My dearest Juliet,\n",
      "\n",
      "The days here are getting shorter and colder, and each day that\n",
      "passes brings us closer to reuniting.  Though my job here in\n",
      "London keeps me busy, my thoughts turn ever to you my love and\n",
      "our son, whom I have yet to hold.\n",
      "\n",
      "Last Tuesday I had a rare day off, so I decided to spend the\n",
      "morning in the park.  As I drank my coffee, I watched the events \n",
      "happening around me:  children playing, a dog running after a \n",
      "stick thrown by its owner, an elderly couple sitting at a bench\n",
      "across the lawn.  As this scene evolved, I spied a young couple\n",
      "hidden in the trees having a picnic, and it reminded me of the\n",
      "secret picnics of our youth in the forests between our villages.\n",
      "There are times I miss those days full of love and hatred, even \n",
      "though it was a time of great tension and hostility between our\n",
      "families, because I spent most of my time with you.\n",
      "\n",
      "I will see you in 10 days time when the workhouse closes down\n",
      "for Christmas.\n",
      "\n",
      "Thinking of you always,\n",
      "Romeo\n"
     ]
    }
   ],
   "source": [
    "print(text)"
   ]
  },
  {
   "cell_type": "code",
   "execution_count": 27,
   "id": "c551c768",
   "metadata": {},
   "outputs": [
    {
     "name": "stdout",
     "output_type": "stream",
     "text": [
      "['MY', 'DEAREST', 'JULIET,', 'THE', 'DAYS', 'HERE', 'ARE', 'GETTING', 'SHORTER', 'AND', 'COLDER,', 'AND', 'EACH', 'DAY', 'THAT', 'PASSES', 'BRINGS', 'US', 'CLOSER', 'TO', 'REUNITING.', 'THOUGH', 'MY', 'JOB', 'HERE', 'IN', 'LONDON', 'KEEPS', 'ME', 'BUSY,', 'MY', 'THOUGHTS', 'TURN', 'EVER', 'TO', 'YOU', 'MY', 'LOVE', 'AND', 'OUR', 'SON,', 'WHOM', 'I', 'HAVE', 'YET', 'TO', 'HOLD.', 'LAST', 'TUESDAY', 'I', 'HAD', 'A', 'RARE', 'DAY', 'OFF,', 'SO', 'I', 'DECIDED', 'TO', 'SPEND', 'THE', 'MORNING', 'IN', 'THE', 'PARK.', 'AS', 'I', 'DRANK', 'MY', 'COFFEE,', 'I', 'WATCHED', 'THE', 'EVENTS', 'HAPPENING', 'AROUND', 'ME:', 'CHILDREN', 'PLAYING,', 'A', 'DOG', 'RUNNING', 'AFTER', 'A', 'STICK', 'THROWN', 'BY', 'ITS', 'OWNER,', 'AN', 'ELDERLY', 'COUPLE', 'SITTING', 'AT', 'A', 'BENCH', 'ACROSS', 'THE', 'LAWN.', 'AS', 'THIS', 'SCENE', 'EVOLVED,', 'I', 'SPIED', 'A', 'YOUNG', 'COUPLE', 'HIDDEN', 'IN', 'THE', 'TREES', 'HAVING', 'A', 'PICNIC,', 'AND', 'IT', 'REMINDED', 'ME', 'OF', 'THE', 'SECRET', 'PICNICS', 'OF', 'OUR', 'YOUTH', 'IN', 'THE', 'FORESTS', 'BETWEEN', 'OUR', 'VILLAGES.', 'THERE', 'ARE', 'TIMES', 'I', 'MISS', 'THOSE', 'DAYS', 'FULL', 'OF', 'LOVE', 'AND', 'HATRED,', 'EVEN', 'THOUGH', 'IT', 'WAS', 'A', 'TIME', 'OF', 'GREAT', 'TENSION', 'AND', 'HOSTILITY', 'BETWEEN', 'OUR', 'FAMILIES,', 'BECAUSE', 'I', 'SPENT', 'MOST', 'OF', 'MY', 'TIME', 'WITH', 'YOU.', 'I', 'WILL', 'SEE', 'YOU', 'IN', '10', 'DAYS', 'TIME', 'WHEN', 'THE', 'WORKHOUSE', 'CLOSES', 'DOWN', 'FOR', 'CHRISTMAS.', 'THINKING', 'OF', 'YOU', 'ALWAYS,', 'ROMEO']\n"
     ]
    }
   ],
   "source": [
    "text_list = text.upper().split()\n",
    "print(text_list)"
   ]
  },
  {
   "cell_type": "code",
   "execution_count": 32,
   "id": "a0499448",
   "metadata": {},
   "outputs": [
    {
     "data": {
      "text/plain": [
       "'JULIET'"
      ]
     },
     "execution_count": 32,
     "metadata": {},
     "output_type": "execute_result"
    }
   ],
   "source": [
    "',JULIET,.!'.strip('.,!')"
   ]
  },
  {
   "cell_type": "code",
   "execution_count": 34,
   "id": "91c4bfad",
   "metadata": {},
   "outputs": [
    {
     "name": "stdout",
     "output_type": "stream",
     "text": [
      "['MY', 'DEAREST', 'JULIET', 'THE', 'DAYS', 'HERE', 'ARE', 'GETTING', 'SHORTER', 'AND', 'COLDER', 'AND', 'EACH', 'DAY', 'THAT', 'PASSES', 'BRINGS', 'US', 'CLOSER', 'TO', 'REUNITING', 'THOUGH', 'MY', 'JOB', 'HERE', 'IN', 'LONDON', 'KEEPS', 'ME', 'BUSY', 'MY', 'THOUGHTS', 'TURN', 'EVER', 'TO', 'YOU', 'MY', 'LOVE', 'AND', 'OUR', 'SON', 'WHOM', 'I', 'HAVE', 'YET', 'TO', 'HOLD', 'LAST', 'TUESDAY', 'I', 'HAD', 'A', 'RARE', 'DAY', 'OFF', 'SO', 'I', 'DECIDED', 'TO', 'SPEND', 'THE', 'MORNING', 'IN', 'THE', 'PARK', 'AS', 'I', 'DRANK', 'MY', 'COFFEE', 'I', 'WATCHED', 'THE', 'EVENTS', 'HAPPENING', 'AROUND', 'ME', 'CHILDREN', 'PLAYING', 'A', 'DOG', 'RUNNING', 'AFTER', 'A', 'STICK', 'THROWN', 'BY', 'ITS', 'OWNER', 'AN', 'ELDERLY', 'COUPLE', 'SITTING', 'AT', 'A', 'BENCH', 'ACROSS', 'THE', 'LAWN', 'AS', 'THIS', 'SCENE', 'EVOLVED', 'I', 'SPIED', 'A', 'YOUNG', 'COUPLE', 'HIDDEN', 'IN', 'THE', 'TREES', 'HAVING', 'A', 'PICNIC', 'AND', 'IT', 'REMINDED', 'ME', 'OF', 'THE', 'SECRET', 'PICNICS', 'OF', 'OUR', 'YOUTH', 'IN', 'THE', 'FORESTS', 'BETWEEN', 'OUR', 'VILLAGES', 'THERE', 'ARE', 'TIMES', 'I', 'MISS', 'THOSE', 'DAYS', 'FULL', 'OF', 'LOVE', 'AND', 'HATRED', 'EVEN', 'THOUGH', 'IT', 'WAS', 'A', 'TIME', 'OF', 'GREAT', 'TENSION', 'AND', 'HOSTILITY', 'BETWEEN', 'OUR', 'FAMILIES', 'BECAUSE', 'I', 'SPENT', 'MOST', 'OF', 'MY', 'TIME', 'WITH', 'YOU', 'I', 'WILL', 'SEE', 'YOU', 'IN', '10', 'DAYS', 'TIME', 'WHEN', 'THE', 'WORKHOUSE', 'CLOSES', 'DOWN', 'FOR', 'CHRISTMAS', 'THINKING', 'OF', 'YOU', 'ALWAYS', 'ROMEO']\n"
     ]
    }
   ],
   "source": [
    "word_list = []\n",
    "for string in text_list:\n",
    "    word_list.append(string.strip(',.!?-\\'\\\":;'))\n",
    "print(word_list)"
   ]
  },
  {
   "cell_type": "markdown",
   "id": "0aa1cc10",
   "metadata": {},
   "source": [
    "**Exercise:** Write a function that takes the name of a text file as input and returns a list of words in that text file."
   ]
  },
  {
   "cell_type": "code",
   "execution_count": 39,
   "id": "c3a21fdf",
   "metadata": {},
   "outputs": [],
   "source": [
    "def FileToWords(file):\n",
    "    with open(file) as f:\n",
    "        text = f.read()\n",
    "    text_list = text.upper().split()\n",
    "    word_list = []\n",
    "    for string in text_list:\n",
    "        word_list.append(string.strip(',.!?-\\'\\\":;'))\n",
    "    return word_list"
   ]
  },
  {
   "cell_type": "code",
   "execution_count": 40,
   "id": "84c943ff",
   "metadata": {},
   "outputs": [
    {
     "name": "stdout",
     "output_type": "stream",
     "text": [
      " Volume in drive C is WinOS\n",
      " Volume Serial Number is FC3A-875F\n",
      "\n",
      " Directory of C:\\Users\\rahollis\\Documents\\Teaching\\MTH 337\\2023 - Spring\\Class Notes\n",
      "\n",
      "04/20/2023  11:54 AM    <DIR>          .\n",
      "04/20/2023  11:54 AM    <DIR>          ..\n",
      "04/18/2023  09:42 AM    <DIR>          .ipynb_checkpoints\n",
      "04/20/2023  09:59 AM             1,000 letter.txt\n",
      "03/28/2023  10:27 AM             4,997 tartan0-v1.png\n",
      "03/28/2023  10:27 AM             5,048 tartan0-v2.png\n",
      "04/13/2023  11:10 AM            17,541 Untitled.ipynb\n",
      "02/05/2023  01:49 PM            28,634 week1_in_class.ipynb\n",
      "04/13/2023  12:55 PM           414,715 week10_in_class.ipynb\n",
      "04/20/2023  11:54 AM           725,119 week11_in_class.ipynb\n",
      "02/09/2023  01:09 PM            92,580 week2_in_class.ipynb\n",
      "02/16/2023  02:48 PM            68,696 week3_in_class.ipynb\n",
      "02/21/2023  12:27 PM             2,317 week4_in_class.ipynb\n",
      "03/02/2023  12:22 PM           148,859 week5_in_class.ipynb\n",
      "03/09/2023  02:29 PM            17,584 week6_in_class.ipynb\n",
      "03/16/2023  11:26 AM            40,774 week7_in_class.ipynb\n",
      "03/28/2023  11:32 AM             3,398 week8_in_class.ipynb\n",
      "04/04/2023  11:30 AM           121,872 week9_in_class.ipynb\n",
      "              15 File(s)      1,693,134 bytes\n",
      "               3 Dir(s)  355,874,934,784 bytes free\n"
     ]
    }
   ],
   "source": [
    "ls"
   ]
  },
  {
   "cell_type": "code",
   "execution_count": 43,
   "id": "fdc59141",
   "metadata": {},
   "outputs": [],
   "source": [
    "dictionary_list = FileToWords('../../dictionary.txt')"
   ]
  },
  {
   "cell_type": "code",
   "execution_count": 49,
   "id": "d4f4e37c",
   "metadata": {},
   "outputs": [
    {
     "name": "stdout",
     "output_type": "stream",
     "text": [
      "True\n"
     ]
    }
   ],
   "source": [
    "if \"RICHARD\" in dictionary_list:\n",
    "    print(True)\n",
    "else:\n",
    "    print(False)"
   ]
  },
  {
   "cell_type": "markdown",
   "id": "44aed9e2",
   "metadata": {},
   "source": [
    "**Exercise:** Write a function that counts how many words in a message are in the dictionary.  Return a percentage of the words in the message."
   ]
  },
  {
   "cell_type": "code",
   "execution_count": null,
   "id": "33d75d4f",
   "metadata": {},
   "outputs": [],
   "source": [
    "def TextToWords(text):\n",
    "    text_list = text.upper().split()\n",
    "    word_list = []\n",
    "    for string in text_list:\n",
    "        word_list.append(string.strip(',.!?-\\'\\\":;'))\n",
    "    return word_list"
   ]
  },
  {
   "cell_type": "code",
   "execution_count": null,
   "id": "a5774500",
   "metadata": {},
   "outputs": [],
   "source": [
    "def WordRatio(message,dictionary_list):\n",
    "    mlist = TextToWords(message)\n",
    "    count = 0\n",
    "    for word in mlist:\n",
    "        if word in dictionary_list:\n",
    "            count += 1\n",
    "    return count/len(mlist)"
   ]
  },
  {
   "cell_type": "markdown",
   "id": "7b090794",
   "metadata": {},
   "source": [
    "**Exercise:** Decrypt using the decryption function, check how many words are in the dictionary and decide based on a threshold if the message has been decrypted.  Return True or False."
   ]
  },
  {
   "cell_type": "code",
   "execution_count": null,
   "id": "c942d451",
   "metadata": {},
   "outputs": [],
   "source": [
    "def IsDecrypted(decrypted_message,shift,alphabet,dictionary_list,threshold):\n",
    "    if WordRatio(decrypted_message,dictionary_list) > threshold:\n",
    "        return True\n",
    "    else:\n",
    "        return False"
   ]
  },
  {
   "cell_type": "markdown",
   "id": "a443203f",
   "metadata": {},
   "source": [
    "**Exercise:** Loop through all the possible shifts, check each one if the message has been decrypted, and stop when we successfully decrypt. Return the decrypted message as well as the shift."
   ]
  },
  {
   "cell_type": "code",
   "execution_count": null,
   "id": "cf6dec97",
   "metadata": {},
   "outputs": [],
   "source": [
    "def CrackShiftCipher(message,alphabet,dictionary,threshold):\n",
    "    dictionary_list = FileToWords(dictionary)\n",
    "    for shift in range(len(message)):\n",
    "        decrypted_message = ShiftDecryption(message,shift,alphabet)\n",
    "        if IsDecrypted(message,shift,alphabet,dictionary_list,threshold):\n",
    "            break\n",
    "    return decrypted_message"
   ]
  }
 ],
 "metadata": {
  "kernelspec": {
   "display_name": "Python 3 (ipykernel)",
   "language": "python",
   "name": "python3"
  },
  "language_info": {
   "codemirror_mode": {
    "name": "ipython",
    "version": 3
   },
   "file_extension": ".py",
   "mimetype": "text/x-python",
   "name": "python",
   "nbconvert_exporter": "python",
   "pygments_lexer": "ipython3",
   "version": "3.9.7"
  },
  "latex_envs": {
   "LaTeX_envs_menu_present": true,
   "autoclose": false,
   "autocomplete": false,
   "bibliofile": "biblio.bib",
   "cite_by": "apalike",
   "current_citInitial": 1,
   "eqLabelWithNumbers": true,
   "eqNumInitial": 1,
   "hotkeys": {
    "equation": "Ctrl-E",
    "itemize": "Ctrl-I"
   },
   "labels_anchors": false,
   "latex_user_defs": false,
   "report_style_numbering": false,
   "user_envs_cfg": false
  },
  "varInspector": {
   "cols": {
    "lenName": 16,
    "lenType": 16,
    "lenVar": 40
   },
   "kernels_config": {
    "python": {
     "delete_cmd_postfix": "",
     "delete_cmd_prefix": "del ",
     "library": "var_list.py",
     "varRefreshCmd": "print(var_dic_list())"
    },
    "r": {
     "delete_cmd_postfix": ") ",
     "delete_cmd_prefix": "rm(",
     "library": "var_list.r",
     "varRefreshCmd": "cat(var_dic_list()) "
    }
   },
   "types_to_exclude": [
    "module",
    "function",
    "builtin_function_or_method",
    "instance",
    "_Feature"
   ],
   "window_display": false
  }
 },
 "nbformat": 4,
 "nbformat_minor": 5
}
