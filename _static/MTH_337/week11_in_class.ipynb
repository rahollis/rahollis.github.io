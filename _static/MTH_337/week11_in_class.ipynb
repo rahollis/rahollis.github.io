{
 "cells": [
  {
   "cell_type": "markdown",
   "id": "347a336c",
   "metadata": {},
   "source": [
    "# Week 11\n",
    "\n",
    "## Quiz\n",
    "\n",
    "1. Using the alphabet `ABCDEFGHIJKLMNOPQRSTUVWXYZ_`, decrypt the message `UNHRMNM_VPRMQNK` using a shift-13 cipher.\n",
    "2. How many different ways are there to encrypt the message `MATH_IS_FUN` using a shift cipher?\n",
    "3. What function will allow me to reconfigure an existing array to have a different shape?  Include required inputs."
   ]
  },
  {
   "cell_type": "markdown",
   "id": "a642ed10",
   "metadata": {},
   "source": [
    "### Answers\n",
    "1."
   ]
  },
  {
   "cell_type": "code",
   "execution_count": 1,
   "id": "339477ce",
   "metadata": {},
   "outputs": [],
   "source": [
    "def shift_decryption(message,key,alphabet):\n",
    "    decrypted_message = ''\n",
    "    for char in message:\n",
    "        decrypted_char = alphabet[(alphabet.index(char)-key)%len(alphabet)]\n",
    "        decrypted_message += decrypted_char\n",
    "    return decrypted_message"
   ]
  },
  {
   "cell_type": "code",
   "execution_count": 3,
   "id": "a2e126cf",
   "metadata": {},
   "outputs": [
    {
     "data": {
      "text/plain": [
       "'HAVE_A_NICE_DAY'"
      ]
     },
     "execution_count": 3,
     "metadata": {},
     "output_type": "execute_result"
    }
   ],
   "source": [
    "shift_decryption('UNHRMNM_VPRMQNK',13,'ABCDEFGHIJKLMNOPQRSTUVWXYZ_')"
   ]
  },
  {
   "cell_type": "markdown",
   "id": "1ecb9098",
   "metadata": {},
   "source": [
    "2. Depends on the alphabet.  The number of unique encrypted messages is the length of the alphabet.\n",
    "3. `np.reshape`"
   ]
  },
  {
   "cell_type": "code",
   "execution_count": 4,
   "id": "cbf9e04c",
   "metadata": {},
   "outputs": [],
   "source": [
    "import numpy as np\n",
    "A = np.arange(15)"
   ]
  },
  {
   "cell_type": "code",
   "execution_count": 5,
   "id": "dabd05cb",
   "metadata": {},
   "outputs": [
    {
     "data": {
      "text/plain": [
       "array([[ 0,  1,  2,  3,  4],\n",
       "       [ 5,  6,  7,  8,  9],\n",
       "       [10, 11, 12, 13, 14]])"
      ]
     },
     "execution_count": 5,
     "metadata": {},
     "output_type": "execute_result"
    }
   ],
   "source": [
    "np.reshape(A,(3,5))"
   ]
  },
  {
   "cell_type": "markdown",
   "id": "9a0a21cb",
   "metadata": {},
   "source": [
    "## Notes"
   ]
  },
  {
   "cell_type": "code",
   "execution_count": 8,
   "id": "838f8d73",
   "metadata": {},
   "outputs": [
    {
     "data": {
      "text/plain": [
       "array([['L', 'u', 'k'],\n",
       "       ['e', ',', ' '],\n",
       "       ['I', ' ', 'a'],\n",
       "       ['m', ' ', 'y'],\n",
       "       ['o', 'u', 'r'],\n",
       "       [' ', 'f', 'a'],\n",
       "       ['t', 'h', 'e'],\n",
       "       ['r', '&', '&']], dtype='<U1')"
      ]
     },
     "execution_count": 8,
     "metadata": {},
     "output_type": "execute_result"
    }
   ],
   "source": [
    "message = 'Luke, I am your father&&'\n",
    "mlist = list(message)\n",
    "marr = np.array(mlist)\n",
    "marr = np.reshape(marr,(8,3))\n",
    "marr"
   ]
  },
  {
   "cell_type": "code",
   "execution_count": 11,
   "id": "df692127",
   "metadata": {},
   "outputs": [
    {
     "data": {
      "text/plain": [
       "array([['L', 'e', 'I', 'm', 'o', ' ', 't', 'r'],\n",
       "       ['u', ',', ' ', ' ', 'u', 'f', 'h', '&'],\n",
       "       ['k', ' ', 'a', 'y', 'r', 'a', 'e', '&']], dtype='<U1')"
      ]
     },
     "execution_count": 11,
     "metadata": {},
     "output_type": "execute_result"
    }
   ],
   "source": [
    "message_en = 'LeImo tru,  ufh&k ayrae&'\n",
    "mlist = list(message_en)\n",
    "marr = np.array(mlist)\n",
    "marr = np.reshape(marr,(3,8))\n",
    "marr"
   ]
  },
  {
   "cell_type": "code",
   "execution_count": 12,
   "id": "c9741c2c",
   "metadata": {},
   "outputs": [
    {
     "data": {
      "text/plain": [
       "array([['L', 'e', 'I', 'm', 'o', ' ', 't', 'r', 'u', ',', ' ', ' ', 'u',\n",
       "        'f', 'h', '&', 'k', ' ', 'a', 'y', 'r', 'a', 'e', '&']],\n",
       "      dtype='<U1')"
      ]
     },
     "execution_count": 12,
     "metadata": {},
     "output_type": "execute_result"
    }
   ],
   "source": [
    "marr = np.reshape(marr,(1,24))\n",
    "marr"
   ]
  },
  {
   "cell_type": "code",
   "execution_count": 15,
   "id": "3bf382fe",
   "metadata": {},
   "outputs": [
    {
     "data": {
      "text/plain": [
       "'LeImo tru,  ufh&k ayrae&'"
      ]
     },
     "execution_count": 15,
     "metadata": {},
     "output_type": "execute_result"
    }
   ],
   "source": [
    "''.join(marr[0])"
   ]
  },
  {
   "cell_type": "code",
   "execution_count": null,
   "id": "0f983b39",
   "metadata": {},
   "outputs": [],
   "source": []
  }
 ],
 "metadata": {
  "kernelspec": {
   "display_name": "Python 3 (ipykernel)",
   "language": "python",
   "name": "python3"
  },
  "language_info": {
   "codemirror_mode": {
    "name": "ipython",
    "version": 3
   },
   "file_extension": ".py",
   "mimetype": "text/x-python",
   "name": "python",
   "nbconvert_exporter": "python",
   "pygments_lexer": "ipython3",
   "version": "3.9.7"
  },
  "latex_envs": {
   "LaTeX_envs_menu_present": true,
   "autoclose": false,
   "autocomplete": false,
   "bibliofile": "biblio.bib",
   "cite_by": "apalike",
   "current_citInitial": 1,
   "eqLabelWithNumbers": true,
   "eqNumInitial": 1,
   "hotkeys": {
    "equation": "Ctrl-E",
    "itemize": "Ctrl-I"
   },
   "labels_anchors": false,
   "latex_user_defs": false,
   "report_style_numbering": false,
   "user_envs_cfg": false
  },
  "varInspector": {
   "cols": {
    "lenName": 16,
    "lenType": 16,
    "lenVar": 40
   },
   "kernels_config": {
    "python": {
     "delete_cmd_postfix": "",
     "delete_cmd_prefix": "del ",
     "library": "var_list.py",
     "varRefreshCmd": "print(var_dic_list())"
    },
    "r": {
     "delete_cmd_postfix": ") ",
     "delete_cmd_prefix": "rm(",
     "library": "var_list.r",
     "varRefreshCmd": "cat(var_dic_list()) "
    }
   },
   "types_to_exclude": [
    "module",
    "function",
    "builtin_function_or_method",
    "instance",
    "_Feature"
   ],
   "window_display": false
  }
 },
 "nbformat": 4,
 "nbformat_minor": 5
}
