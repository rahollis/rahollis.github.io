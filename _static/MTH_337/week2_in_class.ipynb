{
 "cells": [
  {
   "cell_type": "markdown",
   "id": "0e6aa6d3",
   "metadata": {},
   "source": [
    "# Week 2\n",
    "\n",
    "## Quiz\n",
    "\n",
    "1. Finish this sentence \"Project report section titles should be ...\"\n",
    "\n",
    "2. What is the difference between `12/3` and `12//3`?\n",
    "\n",
    "3. What is wrong with the following scenario.  \" Student A is working on project 1.  Their roommate took 337 last semester, so Student A asked for help with the project.  Their roommate showed Student A their project report and explained the code.  Student A then wrote their own project report and turned it in (without copying their roommate's code).\"\n",
    "\n",
    "4. Identify and correct the error."
   ]
  },
  {
   "cell_type": "code",
   "execution_count": 1,
   "id": "974c391b",
   "metadata": {
    "scrolled": true
   },
   "outputs": [
    {
     "ename": "SyntaxError",
     "evalue": "invalid syntax (Temp/ipykernel_3564/3125587736.py, line 2)",
     "output_type": "error",
     "traceback": [
      "\u001b[1;36m  File \u001b[1;32m\"C:\\Users\\rahollis\\AppData\\Local\\Temp/ipykernel_3564/3125587736.py\"\u001b[1;36m, line \u001b[1;32m2\u001b[0m\n\u001b[1;33m    if x%2 == 1\u001b[0m\n\u001b[1;37m               ^\u001b[0m\n\u001b[1;31mSyntaxError\u001b[0m\u001b[1;31m:\u001b[0m invalid syntax\n"
     ]
    }
   ],
   "source": [
    "x=37\n",
    "if x%2 == 1\n",
    "    print(\"It is odd\")"
   ]
  },
  {
   "cell_type": "markdown",
   "id": "15808dde",
   "metadata": {},
   "source": [
    "#### Answers\n",
    "\n",
    "1. Project report section titles should be short and descriptive.\n",
    "\n",
    "2. `12/3` results in the float `4.0` while `12//3` results in the integer `4`.\n",
    "\n",
    "3. Student A was getting outside help with the project.\n",
    "\n",
    "4. Missing colon at the end of line 2."
   ]
  },
  {
   "cell_type": "markdown",
   "id": "e3863b09",
   "metadata": {},
   "source": [
    "## Notes\n",
    "\n",
    "#### While loops"
   ]
  },
  {
   "cell_type": "code",
   "execution_count": 8,
   "id": "25ef571b",
   "metadata": {},
   "outputs": [
    {
     "name": "stdout",
     "output_type": "stream",
     "text": [
      "48\n",
      "45\n",
      "42\n",
      "39\n",
      "36\n",
      "33\n",
      "30\n",
      "27\n",
      "24\n",
      "21\n",
      "18\n",
      "15\n",
      "12\n",
      "9\n",
      "6\n",
      "3\n",
      "0\n",
      "17\n"
     ]
    }
   ],
   "source": [
    "x = 51\n",
    "q = 0\n",
    "while x >= 3:\n",
    "    x -= 3         # This is the same as x = x-3\n",
    "    q += 1\n",
    "    print(x)\n",
    "print(q)"
   ]
  },
  {
   "cell_type": "code",
   "execution_count": 7,
   "id": "21b1e2c9",
   "metadata": {},
   "outputs": [
    {
     "data": {
      "text/plain": [
       "48"
      ]
     },
     "execution_count": 7,
     "metadata": {},
     "output_type": "execute_result"
    }
   ],
   "source": [
    "16*3"
   ]
  },
  {
   "cell_type": "code",
   "execution_count": 3,
   "id": "551b3329",
   "metadata": {},
   "outputs": [
    {
     "data": {
      "text/plain": [
       "18"
      ]
     },
     "execution_count": 3,
     "metadata": {},
     "output_type": "execute_result"
    }
   ],
   "source": [
    "56//3"
   ]
  },
  {
   "cell_type": "code",
   "execution_count": 9,
   "id": "f8e5ba1e",
   "metadata": {},
   "outputs": [
    {
     "name": "stdout",
     "output_type": "stream",
     "text": [
      "2\n",
      "3\n",
      "5\n",
      "7\n",
      "11\n",
      "13\n"
     ]
    }
   ],
   "source": [
    "x = [2,3,5,7,11,13]\n",
    "for i in x:\n",
    "    print(i)"
   ]
  },
  {
   "cell_type": "code",
   "execution_count": 10,
   "id": "fdac9780",
   "metadata": {},
   "outputs": [
    {
     "name": "stdout",
     "output_type": "stream",
     "text": [
      "2\n",
      "3\n",
      "5\n",
      "7\n",
      "11\n",
      "13\n"
     ]
    }
   ],
   "source": [
    "for i in range(len(x)):\n",
    "    print(x[i])"
   ]
  },
  {
   "cell_type": "markdown",
   "id": "e44c1d1d",
   "metadata": {},
   "source": [
    "#### IsPrime"
   ]
  },
  {
   "cell_type": "code",
   "execution_count": 1,
   "id": "d18aaaef",
   "metadata": {},
   "outputs": [],
   "source": [
    "def IsPrime(num):\n",
    "    is_prime = True\n",
    "    for div in range(2,num):\n",
    "        if num%div == 0:\n",
    "            is_prime = False\n",
    "            break\n",
    "    return is_prime"
   ]
  },
  {
   "cell_type": "code",
   "execution_count": 3,
   "id": "e560d6ed",
   "metadata": {},
   "outputs": [
    {
     "data": {
      "text/plain": [
       "True"
      ]
     },
     "execution_count": 3,
     "metadata": {},
     "output_type": "execute_result"
    }
   ],
   "source": [
    "IsPrime(7)"
   ]
  },
  {
   "cell_type": "code",
   "execution_count": null,
   "id": "cd939f5d",
   "metadata": {},
   "outputs": [],
   "source": [
    "def IsPrime(num):\n",
    "    for div in range(2,num**0.5 +1):\n",
    "        if num%div == 0:\n",
    "            return False\n",
    "    return True"
   ]
  },
  {
   "cell_type": "markdown",
   "id": "833829c1",
   "metadata": {},
   "source": [
    "### Importing libraries"
   ]
  },
  {
   "cell_type": "code",
   "execution_count": 4,
   "id": "b8076435",
   "metadata": {},
   "outputs": [],
   "source": [
    "import math"
   ]
  },
  {
   "cell_type": "code",
   "execution_count": 5,
   "id": "81afa300",
   "metadata": {},
   "outputs": [
    {
     "data": {
      "text/plain": [
       "2.23606797749979"
      ]
     },
     "execution_count": 5,
     "metadata": {},
     "output_type": "execute_result"
    }
   ],
   "source": [
    "math.sqrt(5)"
   ]
  },
  {
   "cell_type": "code",
   "execution_count": 7,
   "id": "783c6174",
   "metadata": {},
   "outputs": [
    {
     "data": {
      "text/plain": [
       "1.2246467991473532e-16"
      ]
     },
     "execution_count": 7,
     "metadata": {},
     "output_type": "execute_result"
    }
   ],
   "source": [
    "math.sin(math.pi)"
   ]
  },
  {
   "cell_type": "code",
   "execution_count": 8,
   "id": "3344ec6d",
   "metadata": {},
   "outputs": [],
   "source": [
    "import numpy as np"
   ]
  },
  {
   "cell_type": "code",
   "execution_count": 9,
   "id": "46128cf6",
   "metadata": {},
   "outputs": [
    {
     "data": {
      "text/plain": [
       "array([ 1.        ,  1.18367347,  1.36734694,  1.55102041,  1.73469388,\n",
       "        1.91836735,  2.10204082,  2.28571429,  2.46938776,  2.65306122,\n",
       "        2.83673469,  3.02040816,  3.20408163,  3.3877551 ,  3.57142857,\n",
       "        3.75510204,  3.93877551,  4.12244898,  4.30612245,  4.48979592,\n",
       "        4.67346939,  4.85714286,  5.04081633,  5.2244898 ,  5.40816327,\n",
       "        5.59183673,  5.7755102 ,  5.95918367,  6.14285714,  6.32653061,\n",
       "        6.51020408,  6.69387755,  6.87755102,  7.06122449,  7.24489796,\n",
       "        7.42857143,  7.6122449 ,  7.79591837,  7.97959184,  8.16326531,\n",
       "        8.34693878,  8.53061224,  8.71428571,  8.89795918,  9.08163265,\n",
       "        9.26530612,  9.44897959,  9.63265306,  9.81632653, 10.        ])"
      ]
     },
     "execution_count": 9,
     "metadata": {},
     "output_type": "execute_result"
    }
   ],
   "source": [
    "np.linspace(1,10)"
   ]
  },
  {
   "cell_type": "code",
   "execution_count": 10,
   "id": "a7b95595",
   "metadata": {},
   "outputs": [],
   "source": [
    "from math import cos"
   ]
  },
  {
   "cell_type": "code",
   "execution_count": 11,
   "id": "50ff4142",
   "metadata": {},
   "outputs": [
    {
     "data": {
      "text/plain": [
       "1.0"
      ]
     },
     "execution_count": 11,
     "metadata": {},
     "output_type": "execute_result"
    }
   ],
   "source": [
    "cos(0)"
   ]
  },
  {
   "cell_type": "code",
   "execution_count": 14,
   "id": "aea23674",
   "metadata": {},
   "outputs": [],
   "source": [
    "def IsPrime(num):                               # define function IsPrime with integer input num\n",
    "    for div in range(2,int(math.sqrt(num)) +1): # loop through possible divisors of num, up to the square root\n",
    "        if num%div == 0:                        # check if the loop variable is a divisor\n",
    "            return False                        # if it is, then num is not prime and False is returned\n",
    "    return True                                 # if we get through the loop, then no divisors and num is prime"
   ]
  },
  {
   "cell_type": "code",
   "execution_count": 15,
   "id": "156ecc8f",
   "metadata": {},
   "outputs": [
    {
     "data": {
      "text/plain": [
       "False"
      ]
     },
     "execution_count": 15,
     "metadata": {},
     "output_type": "execute_result"
    }
   ],
   "source": [
    "IsPrime(5682437)"
   ]
  },
  {
   "cell_type": "markdown",
   "id": "08b6f90e",
   "metadata": {},
   "source": [
    "### Congruence in LaTeX\n",
    "\n",
    "$ m \\equiv n (\\mod k) $"
   ]
  },
  {
   "cell_type": "code",
   "execution_count": null,
   "id": "dbe6af06",
   "metadata": {},
   "outputs": [],
   "source": []
  }
 ],
 "metadata": {
  "kernelspec": {
   "display_name": "Python 3 (ipykernel)",
   "language": "python",
   "name": "python3"
  },
  "language_info": {
   "codemirror_mode": {
    "name": "ipython",
    "version": 3
   },
   "file_extension": ".py",
   "mimetype": "text/x-python",
   "name": "python",
   "nbconvert_exporter": "python",
   "pygments_lexer": "ipython3",
   "version": "3.9.7"
  },
  "latex_envs": {
   "LaTeX_envs_menu_present": true,
   "autoclose": false,
   "autocomplete": false,
   "bibliofile": "biblio.bib",
   "cite_by": "apalike",
   "current_citInitial": 1,
   "eqLabelWithNumbers": true,
   "eqNumInitial": 1,
   "hotkeys": {
    "equation": "Ctrl-E",
    "itemize": "Ctrl-I"
   },
   "labels_anchors": false,
   "latex_user_defs": false,
   "report_style_numbering": false,
   "user_envs_cfg": false
  },
  "varInspector": {
   "cols": {
    "lenName": 16,
    "lenType": 16,
    "lenVar": 40
   },
   "kernels_config": {
    "python": {
     "delete_cmd_postfix": "",
     "delete_cmd_prefix": "del ",
     "library": "var_list.py",
     "varRefreshCmd": "print(var_dic_list())"
    },
    "r": {
     "delete_cmd_postfix": ") ",
     "delete_cmd_prefix": "rm(",
     "library": "var_list.r",
     "varRefreshCmd": "cat(var_dic_list()) "
    }
   },
   "types_to_exclude": [
    "module",
    "function",
    "builtin_function_or_method",
    "instance",
    "_Feature"
   ],
   "window_display": false
  }
 },
 "nbformat": 4,
 "nbformat_minor": 5
}
