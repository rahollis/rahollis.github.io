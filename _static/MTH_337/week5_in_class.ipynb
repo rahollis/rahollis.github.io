{
 "cells": [
  {
   "cell_type": "markdown",
   "id": "34528334",
   "metadata": {},
   "source": [
    "# Week 5\n",
    "\n",
    "### Quiz\n",
    "\n",
    "1. How do you generate a bar graph in Python?\n",
    "\n",
    "2. What does the function `random.random()` do?\n",
    "\n",
    "3. If you roll two six-sided die, what is the probability of getting a sum of 4?\n",
    "\n",
    "4. Write a function that simulates rolling 2 $n$-sided die and returns the sum."
   ]
  },
  {
   "cell_type": "markdown",
   "id": "2cc6511e",
   "metadata": {},
   "source": [
    "#### Answers:\n",
    "\n",
    "1. First import the library `import matplotlib.pyplot as plt`.  Then use `plt.bar([bar locations],[heights])`.\n",
    "\n",
    "2. Gives us a random float between 0 and 1.\n",
    "\n",
    "3. 36 possible outcomes, 3 of which add up to 4, so the probability is 3/36 = 1/12."
   ]
  },
  {
   "cell_type": "code",
   "execution_count": 1,
   "id": "896514fe",
   "metadata": {},
   "outputs": [],
   "source": [
    "import random"
   ]
  },
  {
   "cell_type": "code",
   "execution_count": 2,
   "id": "ac9c2c0b",
   "metadata": {},
   "outputs": [],
   "source": [
    "\"\"\"\n",
    "n is the number of sides of the dice\n",
    "m is the number of die\n",
    "\"\"\"\n",
    "def roll_dice(m,n):\n",
    "    outcome = 0\n",
    "    for i in range(m):\n",
    "        outcome += random.randint(1,n)\n",
    "    return outcome"
   ]
  },
  {
   "cell_type": "code",
   "execution_count": 3,
   "id": "53e9cde4",
   "metadata": {},
   "outputs": [
    {
     "data": {
      "text/plain": [
       "13"
      ]
     },
     "execution_count": 3,
     "metadata": {},
     "output_type": "execute_result"
    }
   ],
   "source": [
    "roll_dice(3,6)"
   ]
  },
  {
   "cell_type": "code",
   "execution_count": 4,
   "id": "82c4cf2e",
   "metadata": {},
   "outputs": [],
   "source": [
    "\"\"\"\n",
    "m is the number of die\n",
    "n is the number of sides on each dice\n",
    "t is the number of trials\n",
    "\"\"\"\n",
    "def dice_distribution(m,n,t):\n",
    "    distribution = [0]*(m*n+1)\n",
    "    for _ in range(t):\n",
    "        trial = roll_dice(m,n)\n",
    "        distribution[trial] += 1\n",
    "    return distribution"
   ]
  },
  {
   "cell_type": "code",
   "execution_count": 5,
   "id": "9c1df5e9",
   "metadata": {},
   "outputs": [
    {
     "data": {
      "text/plain": [
       "[0, 0, 19, 60, 84, 110, 138, 176, 138, 98, 92, 57, 28]"
      ]
     },
     "execution_count": 5,
     "metadata": {},
     "output_type": "execute_result"
    }
   ],
   "source": [
    "dice_distribution(2,6,1000)"
   ]
  },
  {
   "cell_type": "code",
   "execution_count": 6,
   "id": "92df853e",
   "metadata": {},
   "outputs": [],
   "source": [
    "import matplotlib.pyplot as plt"
   ]
  },
  {
   "cell_type": "code",
   "execution_count": 7,
   "id": "33e43d09",
   "metadata": {},
   "outputs": [
    {
     "data": {
      "image/png": "[encoded data removed]",
      "text/plain": [
       "<Figure size 432x288 with 1 Axes>"
      ]
     },
     "metadata": {
      "needs_background": "light"
     },
     "output_type": "display_data"
    }
   ],
   "source": [
    "m=3\n",
    "n=6\n",
    "inputs = [i for i in range(m*n+1)]\n",
    "outputs = dice_distribution(m,n,10000)\n",
    "plt.bar(inputs,outputs)\n",
    "plt.show()"
   ]
  },
  {
   "cell_type": "markdown",
   "id": "6ba90817",
   "metadata": {},
   "source": [
    "### One card shuffle"
   ]
  },
  {
   "cell_type": "code",
   "execution_count": 29,
   "id": "54ff26fd",
   "metadata": {},
   "outputs": [],
   "source": [
    "\"\"\"\n",
    "Function: Places the top card at a random position in the deck\n",
    "Input: the deck of cards (list of number from 0 to 51)\n",
    "\"\"\"\n",
    "def one_card(deck):\n",
    "    shuffled_deck = deck.copy()\n",
    "    new_position = random.randint(0,len(deck)-1)\n",
    "    card = shuffled_deck.pop(0)\n",
    "    shuffled_deck.insert(new_position,card)\n",
    "    return shuffled_deck"
   ]
  },
  {
   "cell_type": "code",
   "execution_count": 20,
   "id": "09435b88",
   "metadata": {},
   "outputs": [],
   "source": [
    "deck = [i for i in range(10)]"
   ]
  },
  {
   "cell_type": "code",
   "execution_count": 23,
   "id": "7bfb6e56",
   "metadata": {},
   "outputs": [
    {
     "data": {
      "text/plain": [
       "[3, 1, 4, 2, 5, 6, 7, 8, 0, 9]"
      ]
     },
     "execution_count": 23,
     "metadata": {},
     "output_type": "execute_result"
    }
   ],
   "source": [
    "deck = one_card(deck)\n",
    "deck"
   ]
  },
  {
   "cell_type": "code",
   "execution_count": 24,
   "id": "28743d2e",
   "metadata": {},
   "outputs": [
    {
     "data": {
      "text/plain": [
       "234.97828543626747"
      ]
     },
     "execution_count": 24,
     "metadata": {},
     "output_type": "execute_result"
    }
   ],
   "source": [
    "shuffles = 0\n",
    "for i in range(1,52):\n",
    "    shuffles += 52/i\n",
    "shuffles"
   ]
  },
  {
   "cell_type": "code",
   "execution_count": 30,
   "id": "63e228ef",
   "metadata": {},
   "outputs": [
    {
     "data": {
      "image/png": "[encoded data removed]",
      "text/plain": [
       "<Figure size 432x288 with 1 Axes>"
      ]
     },
     "metadata": {
      "needs_background": "light"
     },
     "output_type": "display_data"
    }
   ],
   "source": [
    "deck = [i for i in range(10)]\n",
    "shuffled_deck = one_card(deck)\n",
    "plt.plot(shuffled_deck,deck,'ro')\n",
    "plt.show()"
   ]
  },
  {
   "cell_type": "code",
   "execution_count": null,
   "id": "2b8cbf5c",
   "metadata": {},
   "outputs": [],
   "source": []
  }
 ],
 "metadata": {
  "kernelspec": {
   "display_name": "Python 3 (ipykernel)",
   "language": "python",
   "name": "python3"
  },
  "language_info": {
   "codemirror_mode": {
    "name": "ipython",
    "version": 3
   },
   "file_extension": ".py",
   "mimetype": "text/x-python",
   "name": "python",
   "nbconvert_exporter": "python",
   "pygments_lexer": "ipython3",
   "version": "3.9.7"
  },
  "latex_envs": {
   "LaTeX_envs_menu_present": true,
   "autoclose": false,
   "autocomplete": false,
   "bibliofile": "biblio.bib",
   "cite_by": "apalike",
   "current_citInitial": 1,
   "eqLabelWithNumbers": true,
   "eqNumInitial": 1,
   "hotkeys": {
    "equation": "Ctrl-E",
    "itemize": "Ctrl-I"
   },
   "labels_anchors": false,
   "latex_user_defs": false,
   "report_style_numbering": false,
   "user_envs_cfg": false
  },
  "varInspector": {
   "cols": {
    "lenName": 16,
    "lenType": 16,
    "lenVar": 40
   },
   "kernels_config": {
    "python": {
     "delete_cmd_postfix": "",
     "delete_cmd_prefix": "del ",
     "library": "var_list.py",
     "varRefreshCmd": "print(var_dic_list())"
    },
    "r": {
     "delete_cmd_postfix": ") ",
     "delete_cmd_prefix": "rm(",
     "library": "var_list.r",
     "varRefreshCmd": "cat(var_dic_list()) "
    }
   },
   "types_to_exclude": [
    "module",
    "function",
    "builtin_function_or_method",
    "instance",
    "_Feature"
   ],
   "window_display": false
  }
 },
 "nbformat": 4,
 "nbformat_minor": 5
}
