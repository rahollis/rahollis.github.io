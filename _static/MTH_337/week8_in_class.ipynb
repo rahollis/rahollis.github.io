{
 "cells": [
  {
   "cell_type": "markdown",
   "id": "a8646ce4",
   "metadata": {},
   "source": [
    "# Week 8\n",
    "\n",
    "## Quiz\n",
    "\n",
    "1. What are the RGB color tuples for red, blue, white, and black?\n",
    "   \n",
    "2. Write a few lines of code to combine the arrays `red`, `green`, and `blue` into a 3D array and produce a color plot.  You can assume the arrays are already defined and the same shape.\n",
    "\n",
    "3. Why might my tartan not look like the one on the website?\n",
    "\n",
    "   Origianl Tartan     | My Tartan\n",
    "   :------------------:|:------------------:\n",
    "   ![](tartan0-v1.png) | ![](tartan0-v2.png)"
   ]
  },
  {
   "cell_type": "markdown",
   "id": "5233c409",
   "metadata": {},
   "source": [
    "### Answers\n",
    "\n",
    "1. \n",
    "   Color | Tuple\n",
    "   ------|-------\n",
    "   Red   | `(1,0,0)`\n",
    "   Green | `(0,1,0)`\n",
    "   Blue  | `(0,0,1)`\n",
    "   White | `(1,1,1)`\n",
    "   Black | `(0,0,0)`"
   ]
  },
  {
   "cell_type": "code",
   "execution_count": null,
   "id": "3b273663",
   "metadata": {},
   "outputs": [],
   "source": [
    "#  If they are 3D with shape (n,m,1)\n",
    "RGB = np.concatenate([red,green,blue],axis=2)\n",
    "plt.imshow(RGB)\n",
    "plt.show()\n",
    "\n",
    "# If they are 2D\n",
    "n,m = np.shape(red)\n",
    "RGB = np.ones((n,m,3))\n",
    "RGB[:,:,0] = red\n",
    "RGB[:,:,1] = green\n",
    "RGB[:,:,2] = blue\n",
    "plt.imshow(RGB)\n",
    "plt.show()"
   ]
  },
  {
   "cell_type": "markdown",
   "id": "7f8f9ee8",
   "metadata": {},
   "source": [
    "3. I forgot to divide by 255.  Python automatically divides by the largest value, in this case it was 176, pushing all the colors closer to white."
   ]
  },
  {
   "cell_type": "code",
   "execution_count": null,
   "id": "002d3b4b",
   "metadata": {},
   "outputs": [],
   "source": []
  }
 ],
 "metadata": {
  "kernelspec": {
   "display_name": "Python 3 (ipykernel)",
   "language": "python",
   "name": "python3"
  },
  "language_info": {
   "codemirror_mode": {
    "name": "ipython",
    "version": 3
   },
   "file_extension": ".py",
   "mimetype": "text/x-python",
   "name": "python",
   "nbconvert_exporter": "python",
   "pygments_lexer": "ipython3",
   "version": "3.9.7"
  },
  "latex_envs": {
   "LaTeX_envs_menu_present": true,
   "autoclose": false,
   "autocomplete": true,
   "bibliofile": "biblio.bib",
   "cite_by": "apalike",
   "current_citInitial": 1,
   "eqLabelWithNumbers": true,
   "eqNumInitial": 1,
   "hotkeys": {
    "equation": "Ctrl-E",
    "itemize": "Ctrl-I"
   },
   "labels_anchors": false,
   "latex_user_defs": false,
   "report_style_numbering": false,
   "user_envs_cfg": false
  },
  "varInspector": {
   "cols": {
    "lenName": 16,
    "lenType": 16,
    "lenVar": 40
   },
   "kernels_config": {
    "python": {
     "delete_cmd_postfix": "",
     "delete_cmd_prefix": "del ",
     "library": "var_list.py",
     "varRefreshCmd": "print(var_dic_list())"
    },
    "r": {
     "delete_cmd_postfix": ") ",
     "delete_cmd_prefix": "rm(",
     "library": "var_list.r",
     "varRefreshCmd": "cat(var_dic_list()) "
    }
   },
   "types_to_exclude": [
    "module",
    "function",
    "builtin_function_or_method",
    "instance",
    "_Feature"
   ],
   "window_display": false
  }
 },
 "nbformat": 4,
 "nbformat_minor": 5
}
