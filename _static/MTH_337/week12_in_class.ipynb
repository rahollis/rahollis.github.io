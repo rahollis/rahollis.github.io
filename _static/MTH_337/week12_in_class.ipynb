{
 "cells": [
  {
   "cell_type": "markdown",
   "id": "7a6ccbb7",
   "metadata": {},
   "source": [
    "# Week 12\n",
    "\n",
    "## Quiz\n",
    "\n",
    "1. What do you need in order to encrypt a message using a shift cipher?\n",
    "\n",
    "2. How would you break a sentence down into individual words using Python?\n",
    "\n",
    "3. What is wrong with the follow code?"
   ]
  },
  {
   "cell_type": "code",
   "execution_count": 1,
   "id": "9331c547",
   "metadata": {},
   "outputs": [
    {
     "ename": "FileNotFoundError",
     "evalue": "[Errno 2] No such file or directory: 'sample.txt'",
     "output_type": "error",
     "traceback": [
      "\u001b[1;31m---------------------------------------------------------------------------\u001b[0m",
      "\u001b[1;31mFileNotFoundError\u001b[0m                         Traceback (most recent call last)",
      "\u001b[1;32m~\\AppData\\Local\\Temp/ipykernel_24572/4146508717.py\u001b[0m in \u001b[0;36m<module>\u001b[1;34m\u001b[0m\n\u001b[1;32m----> 1\u001b[1;33m \u001b[1;32mwith\u001b[0m \u001b[0mopen\u001b[0m\u001b[1;33m(\u001b[0m\u001b[1;34m'sample.txt'\u001b[0m\u001b[1;33m)\u001b[0m \u001b[1;32mas\u001b[0m \u001b[0mf\u001b[0m\u001b[1;33m:\u001b[0m\u001b[1;33m\u001b[0m\u001b[1;33m\u001b[0m\u001b[0m\n\u001b[0m\u001b[0;32m      2\u001b[0m     \u001b[0mtext\u001b[0m \u001b[1;33m=\u001b[0m \u001b[0mf\u001b[0m\u001b[1;33m.\u001b[0m\u001b[0mread\u001b[0m\u001b[1;33m(\u001b[0m\u001b[1;33m)\u001b[0m\u001b[1;33m\u001b[0m\u001b[1;33m\u001b[0m\u001b[0m\n",
      "\u001b[1;31mFileNotFoundError\u001b[0m: [Errno 2] No such file or directory: 'sample.txt'"
     ]
    }
   ],
   "source": [
    "with open('sample.txt') as f:\n",
    "    text = f.read()"
   ]
  },
  {
   "cell_type": "markdown",
   "id": "73b08629",
   "metadata": {},
   "source": [
    "### Answers:\n",
    "\n",
    "1. To encrypt you need\n",
    "   * the message\n",
    "   * the alphabet\n",
    "   * the shift value\n",
    "2. To break down a sentence (a string) into words\n",
    "   * use the split method to break it apart wherever there is a space or \\n\n",
    "   * use the strip method to get rid of unwanted characters like punctuation\n",
    "3. There is nothing wrong with the code.  The problem is the text file is not in the same directory as the notebook.  To fix the problem, either move the text file into the directory containing the notebook (or vice versa) or give the full file path as the file name."
   ]
  },
  {
   "cell_type": "markdown",
   "id": "1f528669",
   "metadata": {},
   "source": [
    "## Notes\n",
    "\n",
    "Some useful functions for the decryption project."
   ]
  },
  {
   "cell_type": "code",
   "execution_count": 1,
   "id": "ddc1bbde",
   "metadata": {},
   "outputs": [],
   "source": [
    "import numpy as np"
   ]
  },
  {
   "cell_type": "code",
   "execution_count": 30,
   "id": "38828eb1",
   "metadata": {},
   "outputs": [
    {
     "data": {
      "text/plain": [
       "array([['', '', ''],\n",
       "       ['', '', ''],\n",
       "       ['', '', ''],\n",
       "       ['', '', ''],\n",
       "       ['', '', ''],\n",
       "       ['', '', ''],\n",
       "       ['', '', ''],\n",
       "       ['', '', '']], dtype='<U1')"
      ]
     },
     "execution_count": 30,
     "metadata": {},
     "output_type": "execute_result"
    }
   ],
   "source": [
    "np.empty((8,3),dtype=str)"
   ]
  },
  {
   "cell_type": "code",
   "execution_count": 16,
   "id": "3f5a84e1",
   "metadata": {},
   "outputs": [
    {
     "name": "stdout",
     "output_type": "stream",
     "text": [
      "['L', 'u', 'k', 'e', ',', ' ', 'I', ' ', 'a', 'm', ' ', 'y', 'o', 'u', 'r', ' ', 'f', 'a', 't', 'h', 'e', 'r', '&', '&']\n"
     ]
    }
   ],
   "source": [
    "message = 'Luke, I am your father&&'\n",
    "mlist = list(message)\n",
    "print(mlist)"
   ]
  },
  {
   "cell_type": "code",
   "execution_count": 17,
   "id": "f7dbe565",
   "metadata": {},
   "outputs": [
    {
     "data": {
      "text/plain": [
       "array(['L', 'u', 'k', 'e', ',', ' ', 'I', ' ', 'a', 'm', ' ', 'y', 'o',\n",
       "       'u', 'r', ' ', 'f', 'a', 't', 'h', 'e', 'r', '&', '&'], dtype='<U1')"
      ]
     },
     "execution_count": 17,
     "metadata": {},
     "output_type": "execute_result"
    }
   ],
   "source": [
    "marr = np.array(mlist)\n",
    "marr"
   ]
  },
  {
   "cell_type": "code",
   "execution_count": 18,
   "id": "4c538c97",
   "metadata": {},
   "outputs": [
    {
     "data": {
      "text/plain": [
       "24"
      ]
     },
     "execution_count": 18,
     "metadata": {},
     "output_type": "execute_result"
    }
   ],
   "source": [
    "len(marr)"
   ]
  },
  {
   "cell_type": "code",
   "execution_count": 32,
   "id": "f073e17c",
   "metadata": {},
   "outputs": [
    {
     "data": {
      "text/plain": [
       "array([['L', 'u', 'k'],\n",
       "       ['e', ',', ' '],\n",
       "       ['I', ' ', 'a'],\n",
       "       ['m', ' ', 'y'],\n",
       "       ['o', 'u', 'r'],\n",
       "       [' ', 'f', 'a'],\n",
       "       ['t', 'h', 'e'],\n",
       "       ['r', '&', '&']], dtype='<U1')"
      ]
     },
     "execution_count": 32,
     "metadata": {},
     "output_type": "execute_result"
    }
   ],
   "source": [
    "arr = np.reshape(marr,(8,3))\n",
    "arr"
   ]
  },
  {
   "cell_type": "code",
   "execution_count": 20,
   "id": "24fff862",
   "metadata": {},
   "outputs": [
    {
     "data": {
      "text/plain": [
       "array([['L', 'e', 'I', 'm', 'o', ' ', 't', 'r'],\n",
       "       ['u', ',', ' ', ' ', 'u', 'f', 'h', '&'],\n",
       "       ['k', ' ', 'a', 'y', 'r', 'a', 'e', '&']], dtype='<U1')"
      ]
     },
     "execution_count": 20,
     "metadata": {},
     "output_type": "execute_result"
    }
   ],
   "source": [
    "tarr = np.transpose(arr)\n",
    "tarr"
   ]
  },
  {
   "cell_type": "code",
   "execution_count": 41,
   "id": "a8d36c5a",
   "metadata": {},
   "outputs": [],
   "source": [
    "emarr = np.reshape(tarr,(1,24))"
   ]
  },
  {
   "cell_type": "code",
   "execution_count": 46,
   "id": "3ad60467",
   "metadata": {},
   "outputs": [
    {
     "name": "stdout",
     "output_type": "stream",
     "text": [
      "LeImo tru,  ufh&k ayrae&\n"
     ]
    }
   ],
   "source": [
    "encrypted_message = ''.join(emarr[0])\n",
    "print(encrypted_message)"
   ]
  },
  {
   "cell_type": "code",
   "execution_count": 47,
   "id": "c622a095",
   "metadata": {},
   "outputs": [
    {
     "name": "stdout",
     "output_type": "stream",
     "text": [
      "LeImo tru,  ufhk ayrae\n"
     ]
    }
   ],
   "source": [
    "noamps = encrypted_message.replace('&','')\n",
    "print(noamps)"
   ]
  },
  {
   "cell_type": "markdown",
   "id": "e46b074f",
   "metadata": {},
   "source": [
    "**Exercise:**  Write a function that encrypts a message using the cipher described in the project."
   ]
  },
  {
   "cell_type": "code",
   "execution_count": 70,
   "id": "ae82dc9c",
   "metadata": {},
   "outputs": [],
   "source": [
    "def EncryptMessage(message,key):\n",
    "    amps = key - len(message)%key\n",
    "    message += '&'*amps\n",
    "    mlist = list(message)\n",
    "    marr = np.array(mlist)\n",
    "    arr = np.reshape(marr,(len(message)//key,key))\n",
    "    tarr = np.transpose(arr)\n",
    "    emarr = np.reshape(tarr,(1,len(message)))\n",
    "    encrypted_message = ''.join(emarr[0])\n",
    "    return encrypted_message"
   ]
  },
  {
   "cell_type": "markdown",
   "id": "a2ef8a2a",
   "metadata": {},
   "source": [
    "For decrypting, the `insert` function may be useful."
   ]
  },
  {
   "cell_type": "code",
   "execution_count": 62,
   "id": "d493d311",
   "metadata": {},
   "outputs": [
    {
     "name": "stdout",
     "output_type": "stream",
     "text": [
      "['L', 'e', 'I', 'm', 'o', ' ', 't', 'r', 'u', ',', ' ', ' ', 'u', 'f', 'h', '&', 'k', ' ', 'a', 'y', 'r', 'a', 'e', '&']\n"
     ]
    }
   ],
   "source": [
    "message = 'LeImo tru,  ufhk ayrae'\n",
    "mlist = list(message)\n",
    "mlist.append('&')\n",
    "mlist.insert(-8,'&')\n",
    "print(mlist)"
   ]
  },
  {
   "cell_type": "markdown",
   "id": "0ee3c1d1",
   "metadata": {},
   "source": [
    "#### Text file encoding\n",
    "\n",
    "The following functions take a text file and return a string containing all the characters that appear in the text file."
   ]
  },
  {
   "cell_type": "code",
   "execution_count": 67,
   "id": "a8576c7c",
   "metadata": {},
   "outputs": [],
   "source": [
    "def FileToAlphabet(file):\n",
    "    with open(file) as f:\n",
    "        text = f.read()\n",
    "    tset = set(text)\n",
    "    return ''.join(tset)\n",
    "\n",
    "def FileToAlphabet1(file):\n",
    "    with open(file,encoding='utf-8') as f:\n",
    "        text = f.read()\n",
    "    tset = set(text)\n",
    "    return ''.join(tset)"
   ]
  },
  {
   "cell_type": "markdown",
   "id": "862945ed",
   "metadata": {},
   "source": [
    "The characters without encoding specified.  Compare these characters to what you see when you open the file in your text editor."
   ]
  },
  {
   "cell_type": "code",
   "execution_count": 64,
   "id": "789a251d",
   "metadata": {},
   "outputs": [
    {
     "data": {
      "text/plain": [
       "'iuTeso\\n_x jkcwPba:Yfqvn,rA.lzIS™tyhâ€gm(d);p'"
      ]
     },
     "execution_count": 64,
     "metadata": {},
     "output_type": "execute_result"
    }
   ],
   "source": [
    "FileToAlphabet('../../text0.txt')"
   ]
  },
  {
   "cell_type": "markdown",
   "id": "9b5922bd",
   "metadata": {},
   "source": [
    "The characters with the encoding specified."
   ]
  },
  {
   "cell_type": "code",
   "execution_count": 65,
   "id": "c8cba19f",
   "metadata": {},
   "outputs": [
    {
     "data": {
      "text/plain": [
       "'iuTeso\\n_x jkcwPba:Yfqvn,rA.lzIS’tyhgm(d);p'"
      ]
     },
     "execution_count": 65,
     "metadata": {},
     "output_type": "execute_result"
    }
   ],
   "source": [
    "FileToAlphabet1('../../text0.txt')"
   ]
  },
  {
   "cell_type": "code",
   "execution_count": null,
   "id": "87bd3b9f",
   "metadata": {},
   "outputs": [],
   "source": []
  }
 ],
 "metadata": {
  "kernelspec": {
   "display_name": "Python 3 (ipykernel)",
   "language": "python",
   "name": "python3"
  },
  "language_info": {
   "codemirror_mode": {
    "name": "ipython",
    "version": 3
   },
   "file_extension": ".py",
   "mimetype": "text/x-python",
   "name": "python",
   "nbconvert_exporter": "python",
   "pygments_lexer": "ipython3",
   "version": "3.9.7"
  },
  "latex_envs": {
   "LaTeX_envs_menu_present": true,
   "autoclose": false,
   "autocomplete": false,
   "bibliofile": "biblio.bib",
   "cite_by": "apalike",
   "current_citInitial": 1,
   "eqLabelWithNumbers": true,
   "eqNumInitial": 1,
   "hotkeys": {
    "equation": "Ctrl-E",
    "itemize": "Ctrl-I"
   },
   "labels_anchors": false,
   "latex_user_defs": false,
   "report_style_numbering": false,
   "user_envs_cfg": false
  },
  "varInspector": {
   "cols": {
    "lenName": 16,
    "lenType": 16,
    "lenVar": 40
   },
   "kernels_config": {
    "python": {
     "delete_cmd_postfix": "",
     "delete_cmd_prefix": "del ",
     "library": "var_list.py",
     "varRefreshCmd": "print(var_dic_list())"
    },
    "r": {
     "delete_cmd_postfix": ") ",
     "delete_cmd_prefix": "rm(",
     "library": "var_list.r",
     "varRefreshCmd": "cat(var_dic_list()) "
    }
   },
   "types_to_exclude": [
    "module",
    "function",
    "builtin_function_or_method",
    "instance",
    "_Feature"
   ],
   "window_display": false
  }
 },
 "nbformat": 4,
 "nbformat_minor": 5
}
