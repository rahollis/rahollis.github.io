{
 "cells": [
  {
   "cell_type": "markdown",
   "id": "bd1ab569",
   "metadata": {},
   "source": [
    "# Week 9\n",
    "\n",
    "## Notes"
   ]
  },
  {
   "cell_type": "markdown",
   "id": "8e3d40f5",
   "metadata": {},
   "source": [
    "### Random library"
   ]
  },
  {
   "cell_type": "code",
   "execution_count": 1,
   "id": "e4a99423",
   "metadata": {},
   "outputs": [],
   "source": [
    "import random"
   ]
  },
  {
   "cell_type": "code",
   "execution_count": 9,
   "id": "2f7d8829",
   "metadata": {},
   "outputs": [
    {
     "data": {
      "text/plain": [
       "0.9027595269309289"
      ]
     },
     "execution_count": 9,
     "metadata": {},
     "output_type": "execute_result"
    }
   ],
   "source": [
    "random.random()"
   ]
  },
  {
   "cell_type": "code",
   "execution_count": 28,
   "id": "67ed16dc",
   "metadata": {},
   "outputs": [],
   "source": [
    "def coin_toss(p = 0.5):\n",
    "    if random.random() < p:\n",
    "        return 'H'\n",
    "    else:\n",
    "        return 'T'"
   ]
  },
  {
   "cell_type": "code",
   "execution_count": 29,
   "id": "2173757f",
   "metadata": {},
   "outputs": [
    {
     "name": "stdout",
     "output_type": "stream",
     "text": [
      "H\n",
      "T\n",
      "H\n",
      "T\n",
      "H\n",
      "H\n",
      "H\n",
      "H\n",
      "H\n",
      "H\n"
     ]
    }
   ],
   "source": [
    "for _ in range(10):\n",
    "    print(coin_toss(0.9))"
   ]
  },
  {
   "cell_type": "code",
   "execution_count": 34,
   "id": "0230d006",
   "metadata": {},
   "outputs": [
    {
     "data": {
      "text/plain": [
       "10"
      ]
     },
     "execution_count": 34,
     "metadata": {},
     "output_type": "execute_result"
    }
   ],
   "source": [
    "random.randint(0,10)"
   ]
  },
  {
   "cell_type": "code",
   "execution_count": 35,
   "id": "cef5319e",
   "metadata": {},
   "outputs": [],
   "source": [
    "l = [0.5,4,27,'apple',53.8]"
   ]
  },
  {
   "cell_type": "code",
   "execution_count": 43,
   "id": "0700477f",
   "metadata": {},
   "outputs": [
    {
     "data": {
      "text/plain": [
       "'apple'"
      ]
     },
     "execution_count": 43,
     "metadata": {},
     "output_type": "execute_result"
    }
   ],
   "source": [
    "random.choice(l)"
   ]
  },
  {
   "cell_type": "code",
   "execution_count": 44,
   "id": "c4c61428",
   "metadata": {},
   "outputs": [],
   "source": [
    "random.seed(20)"
   ]
  },
  {
   "cell_type": "code",
   "execution_count": 45,
   "id": "08daf3cc",
   "metadata": {},
   "outputs": [
    {
     "data": {
      "text/plain": [
       "0.9056396761745207"
      ]
     },
     "execution_count": 45,
     "metadata": {},
     "output_type": "execute_result"
    }
   ],
   "source": [
    "random.random()"
   ]
  },
  {
   "cell_type": "markdown",
   "id": "28fc8394",
   "metadata": {},
   "source": [
    "### `np.roll`"
   ]
  },
  {
   "cell_type": "code",
   "execution_count": 1,
   "id": "fba4788b",
   "metadata": {},
   "outputs": [],
   "source": [
    "import numpy as np"
   ]
  },
  {
   "cell_type": "code",
   "execution_count": 2,
   "id": "d4528732",
   "metadata": {},
   "outputs": [
    {
     "name": "stdout",
     "output_type": "stream",
     "text": [
      "[[ 0  1  2  3  4]\n",
      " [ 5  6  7  8  9]\n",
      " [10 11 12 13 14]\n",
      " [15 16 17 18 19]\n",
      " [20 21 22 23 24]]\n"
     ]
    }
   ],
   "source": [
    "A = np.reshape(np.arange(0,25),(5,5))\n",
    "print(A)"
   ]
  },
  {
   "cell_type": "code",
   "execution_count": 3,
   "id": "0bcb14a8",
   "metadata": {},
   "outputs": [
    {
     "data": {
      "text/plain": [
       "array([[ 5,  6,  7,  8,  9],\n",
       "       [10, 11, 12, 13, 14],\n",
       "       [15, 16, 17, 18, 19],\n",
       "       [20, 21, 22, 23, 24],\n",
       "       [ 0,  1,  2,  3,  4]])"
      ]
     },
     "execution_count": 3,
     "metadata": {},
     "output_type": "execute_result"
    }
   ],
   "source": [
    "np.roll(A,(-1,0),(0,1))"
   ]
  },
  {
   "cell_type": "code",
   "execution_count": 8,
   "id": "5080f97d",
   "metadata": {},
   "outputs": [
    {
     "name": "stdout",
     "output_type": "stream",
     "text": [
      "[[0. 0. 0. 0. 0. 0.]\n",
      " [0. 1. 1. 1. 1. 0.]\n",
      " [0. 1. 1. 1. 1. 0.]\n",
      " [0. 1. 1. 1. 1. 0.]\n",
      " [0. 1. 1. 1. 1. 0.]\n",
      " [0. 0. 0. 0. 0. 0.]]\n"
     ]
    }
   ],
   "source": [
    "A = np.zeros((6,6))\n",
    "A[1:5,1:5] = 1\n",
    "print(A)"
   ]
  },
  {
   "cell_type": "code",
   "execution_count": 62,
   "id": "1e8acf7e",
   "metadata": {},
   "outputs": [
    {
     "data": {
      "text/plain": [
       "array([[3., 5., 5., 3.],\n",
       "       [5., 8., 8., 5.],\n",
       "       [5., 8., 8., 5.],\n",
       "       [3., 5., 5., 3.]])"
      ]
     },
     "execution_count": 62,
     "metadata": {},
     "output_type": "execute_result"
    }
   ],
   "source": [
    "B = np.zeros((6,6))\n",
    "for i in range(-1,2):\n",
    "    for j in range(-1,2):\n",
    "        B += np.roll(A,(i,j),(0,1))\n",
    "B -= A\n",
    "B[1:5,1:5]"
   ]
  },
  {
   "cell_type": "markdown",
   "id": "321d2bca",
   "metadata": {},
   "source": [
    "**Exercise:** Write a function that takes an array as input and returns an array where each entry is the neighbor sum from the input array, calculated using `np.roll`."
   ]
  },
  {
   "cell_type": "code",
   "execution_count": 58,
   "id": "cc77d534",
   "metadata": {},
   "outputs": [],
   "source": [
    "def neighbor_sum(arr):\n",
    "    i,j = np.shape(arr)\n",
    "    border_arr = np.zeros((i+2,j+2),dtype=int)\n",
    "    border_arr[1:i+1,1:j+1] = arr\n",
    "    sum_arr = np.zeros((i+2,j+2),dtype=int)\n",
    "    for r in range(-1,2):\n",
    "        for c in range(-1,2):\n",
    "            sum_arr += np.roll(border_arr,(r,c),(0,1))\n",
    "    return sum_arr[1:i+1,1:j+1] - arr"
   ]
  },
  {
   "cell_type": "code",
   "execution_count": 17,
   "id": "670e66aa",
   "metadata": {},
   "outputs": [
    {
     "name": "stdout",
     "output_type": "stream",
     "text": [
      "[[0 1 2]\n",
      " [3 4 5]\n",
      " [6 7 8]]\n"
     ]
    }
   ],
   "source": [
    "A = np.reshape(np.arange(0,9),(3,3))\n",
    "print(A)"
   ]
  },
  {
   "cell_type": "code",
   "execution_count": 20,
   "id": "ca2ac935",
   "metadata": {},
   "outputs": [
    {
     "data": {
      "text/plain": [
       "array([[5, 3, 4],\n",
       "       [8, 6, 7],\n",
       "       [2, 0, 1]])"
      ]
     },
     "execution_count": 20,
     "metadata": {},
     "output_type": "execute_result"
    }
   ],
   "source": [
    "np.roll(A,(-1,1),(0,1))"
   ]
  },
  {
   "cell_type": "code",
   "execution_count": 19,
   "id": "409b551b",
   "metadata": {},
   "outputs": [
    {
     "data": {
      "text/plain": [
       "array([[3, 4, 5],\n",
       "       [6, 7, 8],\n",
       "       [0, 1, 2]])"
      ]
     },
     "execution_count": 19,
     "metadata": {},
     "output_type": "execute_result"
    }
   ],
   "source": [
    "np.roll(A,(-1,0),(0,1))"
   ]
  },
  {
   "cell_type": "code",
   "execution_count": 21,
   "id": "b148ee2a",
   "metadata": {},
   "outputs": [
    {
     "data": {
      "text/plain": [
       "array([[4, 5, 3],\n",
       "       [7, 8, 6],\n",
       "       [1, 2, 0]])"
      ]
     },
     "execution_count": 21,
     "metadata": {},
     "output_type": "execute_result"
    }
   ],
   "source": [
    "np.roll(A,(-1,-1),(0,1))"
   ]
  },
  {
   "cell_type": "markdown",
   "id": "92c7a9b3",
   "metadata": {},
   "source": [
    "### Counting neighbors of a particular value (arithmetically)"
   ]
  },
  {
   "cell_type": "code",
   "execution_count": 23,
   "id": "881f5f48",
   "metadata": {},
   "outputs": [
    {
     "name": "stdout",
     "output_type": "stream",
     "text": [
      "[[3. 5. 5. 5. 3.]\n",
      " [5. 8. 8. 8. 5.]\n",
      " [5. 8. 8. 8. 5.]\n",
      " [5. 8. 8. 8. 5.]\n",
      " [3. 5. 5. 5. 3.]]\n"
     ]
    }
   ],
   "source": [
    "B = neighbor_sum(np.ones((5,5)))\n",
    "print(B)"
   ]
  },
  {
   "cell_type": "code",
   "execution_count": 30,
   "id": "8a7fff76",
   "metadata": {},
   "outputs": [],
   "source": [
    "fives = 1-np.ceil(np.absolute((B-5)/10))"
   ]
  },
  {
   "cell_type": "code",
   "execution_count": 31,
   "id": "eeebdfa8",
   "metadata": {},
   "outputs": [
    {
     "data": {
      "text/plain": [
       "array([[2., 2., 2., 2., 2.],\n",
       "       [2., 4., 3., 4., 2.],\n",
       "       [2., 3., 0., 3., 2.],\n",
       "       [2., 4., 3., 4., 2.],\n",
       "       [2., 2., 2., 2., 2.]])"
      ]
     },
     "execution_count": 31,
     "metadata": {},
     "output_type": "execute_result"
    }
   ],
   "source": [
    "neighbor_sum(fives)"
   ]
  },
  {
   "cell_type": "markdown",
   "id": "0b494614",
   "metadata": {},
   "source": [
    "### Counting neighbors of a particular value (logically)"
   ]
  },
  {
   "cell_type": "code",
   "execution_count": 46,
   "id": "898249c9",
   "metadata": {},
   "outputs": [
    {
     "data": {
      "text/plain": [
       "array([[False,  True,  True,  True, False],\n",
       "       [ True, False, False, False,  True],\n",
       "       [ True, False, False, False,  True],\n",
       "       [ True, False, False, False,  True],\n",
       "       [False,  True,  True,  True, False]])"
      ]
     },
     "execution_count": 46,
     "metadata": {},
     "output_type": "execute_result"
    }
   ],
   "source": [
    "bool_arr = B == 5\n",
    "bool_arr"
   ]
  },
  {
   "cell_type": "code",
   "execution_count": 47,
   "id": "89c16393",
   "metadata": {},
   "outputs": [
    {
     "data": {
      "text/plain": [
       "array([[0, 1, 1, 1, 0],\n",
       "       [1, 0, 0, 0, 1],\n",
       "       [1, 0, 0, 0, 1],\n",
       "       [1, 0, 0, 0, 1],\n",
       "       [0, 1, 1, 1, 0]])"
      ]
     },
     "execution_count": 47,
     "metadata": {},
     "output_type": "execute_result"
    }
   ],
   "source": [
    "np.array(bool_arr,dtype = int)"
   ]
  },
  {
   "cell_type": "markdown",
   "id": "61732887",
   "metadata": {},
   "source": [
    "### Conway's Game of Life\n",
    "\n",
    "Array of 0s and 1s with the 1s representing living cells and the 0s non-living cells.\n",
    "\n",
    "Rules for how life evolves\n",
    "* Living cells with fewer than 2 live neighbors will die\n",
    "* Living cells with 4 or more live neighbors will die\n",
    "* non-living cells with exactly 3 live neighbors will come to life"
   ]
  },
  {
   "cell_type": "code",
   "execution_count": 71,
   "id": "ff18180c",
   "metadata": {},
   "outputs": [],
   "source": [
    "def Conway(arr):\n",
    "    living_neighbors = neighbor_sum(arr)\n",
    "    arr = (arr + np.array((np.array(living_neighbors < 2,dtype=int) + A) == 2,dtype=int) \n",
    "           + np.array((np.array(living_neighbors > 3,dtype=int) + A) == 2,dtype=int)\n",
    "           + np.array((np.array(living_neighbors == 3,dtype=int) - A) == 1,dtype=int))%2\n",
    "    return arr"
   ]
  },
  {
   "cell_type": "code",
   "execution_count": 75,
   "id": "7c5328eb",
   "metadata": {},
   "outputs": [
    {
     "data": {
      "text/plain": [
       "array([[1, 0, 1, 0, 0, 0, 0, 1, 1, 0, 1, 0, 1, 0, 0, 0, 1, 0, 1, 0],\n",
       "       [1, 1, 0, 0, 0, 0, 0, 0, 1, 1, 1, 1, 1, 1, 1, 0, 1, 0, 1, 1],\n",
       "       [1, 0, 1, 0, 1, 1, 0, 1, 0, 0, 1, 0, 0, 1, 1, 0, 0, 1, 0, 0],\n",
       "       [1, 0, 0, 0, 1, 1, 1, 0, 1, 1, 1, 1, 1, 0, 0, 0, 0, 0, 0, 1],\n",
       "       [0, 1, 1, 1, 0, 0, 0, 1, 0, 0, 0, 1, 1, 1, 0, 0, 0, 1, 1, 1],\n",
       "       [0, 1, 0, 1, 0, 1, 1, 1, 0, 0, 0, 1, 1, 1, 1, 0, 1, 1, 0, 0],\n",
       "       [1, 1, 1, 1, 1, 0, 0, 0, 1, 1, 1, 1, 0, 0, 1, 1, 0, 0, 1, 0],\n",
       "       [1, 1, 1, 0, 0, 1, 1, 1, 1, 1, 1, 0, 1, 0, 1, 1, 1, 0, 0, 1],\n",
       "       [0, 1, 1, 0, 0, 0, 1, 1, 1, 0, 0, 0, 0, 1, 1, 1, 0, 1, 1, 0],\n",
       "       [1, 0, 0, 0, 0, 1, 1, 1, 0, 1, 1, 1, 1, 1, 1, 1, 0, 1, 0, 0],\n",
       "       [1, 0, 0, 0, 0, 0, 1, 1, 0, 1, 1, 1, 1, 0, 0, 0, 1, 0, 1, 1],\n",
       "       [0, 1, 1, 0, 0, 1, 0, 0, 0, 1, 0, 1, 0, 1, 1, 0, 0, 0, 1, 0],\n",
       "       [1, 0, 0, 0, 1, 1, 1, 1, 0, 1, 0, 1, 0, 1, 0, 1, 1, 1, 0, 1],\n",
       "       [1, 0, 1, 0, 1, 0, 1, 0, 1, 0, 1, 0, 1, 1, 1, 0, 0, 1, 1, 1],\n",
       "       [0, 1, 1, 1, 0, 0, 1, 1, 0, 1, 0, 1, 0, 1, 0, 1, 0, 0, 1, 1],\n",
       "       [0, 0, 1, 1, 0, 1, 0, 0, 1, 0, 1, 1, 1, 0, 1, 0, 0, 0, 1, 0],\n",
       "       [0, 1, 0, 1, 0, 0, 0, 0, 0, 0, 1, 1, 1, 1, 0, 1, 1, 0, 0, 1],\n",
       "       [1, 0, 0, 0, 0, 1, 0, 1, 0, 0, 1, 0, 0, 0, 1, 1, 0, 1, 0, 1],\n",
       "       [1, 1, 1, 0, 0, 1, 1, 0, 1, 1, 0, 1, 0, 1, 1, 0, 1, 1, 0, 1],\n",
       "       [0, 1, 0, 0, 0, 0, 0, 0, 1, 1, 0, 0, 1, 0, 0, 0, 0, 1, 1, 0]])"
      ]
     },
     "execution_count": 75,
     "metadata": {},
     "output_type": "execute_result"
    }
   ],
   "source": [
    "A = np.random.randint(0,2,(20,20))\n",
    "A"
   ]
  },
  {
   "cell_type": "code",
   "execution_count": 81,
   "id": "217c9524",
   "metadata": {},
   "outputs": [
    {
     "data": {
      "text/plain": [
       "array([[0, 0, 0, 0, 0, 0, 0, 0, 0, 0, 0, 0, 0, 1, 0, 1, 1, 1, 0, 0],\n",
       "       [1, 1, 0, 0, 0, 0, 0, 1, 1, 0, 0, 0, 1, 0, 0, 0, 0, 0, 0, 0],\n",
       "       [0, 0, 0, 0, 0, 0, 0, 0, 0, 0, 0, 0, 1, 0, 0, 1, 1, 1, 0, 0],\n",
       "       [0, 0, 0, 0, 0, 0, 0, 0, 0, 0, 0, 1, 0, 0, 0, 0, 0, 0, 0, 0],\n",
       "       [0, 0, 0, 0, 0, 1, 1, 1, 0, 0, 0, 1, 1, 0, 0, 1, 0, 0, 0, 0],\n",
       "       [0, 0, 0, 1, 1, 0, 0, 0, 1, 0, 0, 0, 0, 1, 1, 1, 1, 0, 0, 0],\n",
       "       [0, 0, 0, 1, 1, 0, 1, 1, 0, 0, 0, 0, 0, 0, 0, 1, 0, 1, 1, 0],\n",
       "       [0, 0, 0, 0, 0, 0, 0, 0, 0, 0, 0, 0, 0, 0, 0, 0, 1, 1, 1, 0],\n",
       "       [0, 0, 0, 0, 0, 0, 0, 0, 0, 0, 0, 0, 0, 0, 0, 0, 0, 0, 0, 0],\n",
       "       [0, 0, 0, 0, 0, 0, 0, 0, 0, 0, 0, 0, 0, 0, 0, 0, 0, 0, 0, 0],\n",
       "       [1, 1, 0, 0, 0, 0, 0, 0, 0, 0, 0, 0, 0, 0, 0, 1, 1, 1, 0, 0],\n",
       "       [1, 0, 0, 1, 1, 0, 0, 0, 0, 0, 0, 0, 0, 0, 1, 0, 0, 1, 1, 0],\n",
       "       [0, 1, 0, 0, 0, 1, 1, 0, 0, 0, 0, 0, 0, 0, 1, 0, 0, 0, 0, 1],\n",
       "       [0, 0, 0, 0, 0, 0, 0, 0, 0, 0, 0, 0, 0, 0, 0, 1, 1, 1, 1, 0],\n",
       "       [0, 0, 0, 0, 0, 1, 1, 0, 0, 0, 0, 0, 0, 0, 0, 0, 0, 0, 0, 0],\n",
       "       [0, 0, 1, 1, 0, 0, 0, 0, 0, 0, 0, 0, 0, 0, 0, 0, 0, 0, 0, 0],\n",
       "       [0, 0, 0, 0, 0, 1, 0, 0, 0, 0, 0, 0, 0, 1, 1, 0, 0, 0, 0, 0],\n",
       "       [0, 0, 1, 1, 0, 0, 0, 0, 0, 0, 0, 0, 0, 1, 1, 1, 0, 1, 1, 1],\n",
       "       [0, 0, 0, 1, 0, 0, 0, 0, 0, 0, 0, 0, 0, 1, 1, 0, 0, 0, 0, 1],\n",
       "       [0, 0, 0, 0, 0, 0, 0, 0, 0, 0, 0, 0, 0, 0, 0, 1, 0, 0, 1, 0]],\n",
       "      dtype=int32)"
      ]
     },
     "execution_count": 81,
     "metadata": {},
     "output_type": "execute_result"
    }
   ],
   "source": [
    "A = Conway(A)\n",
    "A"
   ]
  },
  {
   "cell_type": "code",
   "execution_count": null,
   "id": "e93d184a",
   "metadata": {},
   "outputs": [],
   "source": []
  }
 ],
 "metadata": {
  "kernelspec": {
   "display_name": "Python 3 (ipykernel)",
   "language": "python",
   "name": "python3"
  },
  "language_info": {
   "codemirror_mode": {
    "name": "ipython",
    "version": 3
   },
   "file_extension": ".py",
   "mimetype": "text/x-python",
   "name": "python",
   "nbconvert_exporter": "python",
   "pygments_lexer": "ipython3",
   "version": "3.9.7"
  },
  "latex_envs": {
   "LaTeX_envs_menu_present": true,
   "autoclose": false,
   "autocomplete": false,
   "bibliofile": "biblio.bib",
   "cite_by": "apalike",
   "current_citInitial": 1,
   "eqLabelWithNumbers": true,
   "eqNumInitial": 1,
   "hotkeys": {
    "equation": "Ctrl-E",
    "itemize": "Ctrl-I"
   },
   "labels_anchors": false,
   "latex_user_defs": false,
   "report_style_numbering": false,
   "user_envs_cfg": false
  },
  "varInspector": {
   "cols": {
    "lenName": 16,
    "lenType": 16,
    "lenVar": 40
   },
   "kernels_config": {
    "python": {
     "delete_cmd_postfix": "",
     "delete_cmd_prefix": "del ",
     "library": "var_list.py",
     "varRefreshCmd": "print(var_dic_list())"
    },
    "r": {
     "delete_cmd_postfix": ") ",
     "delete_cmd_prefix": "rm(",
     "library": "var_list.r",
     "varRefreshCmd": "cat(var_dic_list()) "
    }
   },
   "types_to_exclude": [
    "module",
    "function",
    "builtin_function_or_method",
    "instance",
    "_Feature"
   ],
   "window_display": false
  }
 },
 "nbformat": 4,
 "nbformat_minor": 5
}
