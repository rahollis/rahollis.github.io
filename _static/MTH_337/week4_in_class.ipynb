{
 "cells": [
  {
   "cell_type": "markdown",
   "id": "169c88fc",
   "metadata": {},
   "source": [
    "# Week 4\n",
    "\n",
    "## Quiz\n",
    "\n",
    "1.  Name three functions included in the `Random` library.\n",
    "\n",
    "2.  What does the binomial function do?\n",
    "\n",
    "3.  When doing the 1-card shuffle, what is the probability that the top card will be placed at the bottom of the deck?"
   ]
  },
  {
   "cell_type": "markdown",
   "id": "09db5a3d",
   "metadata": {},
   "source": [
    "### Answers\n",
    "\n",
    "1. \n",
    "  * `random.random()` - returns a random float between 0 and 1\n",
    "  * `random.choice(list_input)` - returns a random object from the list\n",
    "  * `random.randint(start,end)` - returns a random int between start value and end value (including both endpoints)\n",
    "  \n",
    "2. import using the command `from numpy.random import binomial`, takes two inputs the number of events and the probability of each event\n",
    "  * `binomial(n,p)` - n coin tosses with probability of heads equal to p, returns number of heads.\n",
    "  \n",
    "3. 1/52"
   ]
  },
  {
   "cell_type": "code",
   "execution_count": null,
   "id": "56465cdd",
   "metadata": {},
   "outputs": [],
   "source": []
  }
 ],
 "metadata": {
  "kernelspec": {
   "display_name": "Python 3 (ipykernel)",
   "language": "python",
   "name": "python3"
  },
  "language_info": {
   "codemirror_mode": {
    "name": "ipython",
    "version": 3
   },
   "file_extension": ".py",
   "mimetype": "text/x-python",
   "name": "python",
   "nbconvert_exporter": "python",
   "pygments_lexer": "ipython3",
   "version": "3.9.7"
  },
  "varInspector": {
   "cols": {
    "lenName": 16,
    "lenType": 16,
    "lenVar": 40
   },
   "kernels_config": {
    "python": {
     "delete_cmd_postfix": "",
     "delete_cmd_prefix": "del ",
     "library": "var_list.py",
     "varRefreshCmd": "print(var_dic_list())"
    },
    "r": {
     "delete_cmd_postfix": ") ",
     "delete_cmd_prefix": "rm(",
     "library": "var_list.r",
     "varRefreshCmd": "cat(var_dic_list()) "
    }
   },
   "types_to_exclude": [
    "module",
    "function",
    "builtin_function_or_method",
    "instance",
    "_Feature"
   ],
   "window_display": false
  }
 },
 "nbformat": 4,
 "nbformat_minor": 5
}
