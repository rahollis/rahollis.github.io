{
 "cells": [
  {
   "cell_type": "markdown",
   "id": "e6378651",
   "metadata": {},
   "source": [
    "# Week 4\n",
    "\n",
    "## Quiz\n",
    "\n",
    "1. What is the name of the library we need to import in order to plot?\n",
    "\n",
    "2. What are my expectations regarding code comments?\n",
    "\n",
    "3. Write one line of code (using list comprehension) to produce a list of 100 points between -3 and 5.\n",
    "\n",
    "4. Identify and correct the error in this code."
   ]
  },
  {
   "cell_type": "code",
   "execution_count": 2,
   "id": "87d4c190",
   "metadata": {},
   "outputs": [
    {
     "ename": "ValueError",
     "evalue": "x and y must have same first dimension, but have shapes (7,) and (6,)",
     "output_type": "error",
     "traceback": [
      "\u001b[1;31m---------------------------------------------------------------------------\u001b[0m",
      "\u001b[1;31mValueError\u001b[0m                                Traceback (most recent call last)",
      "\u001b[1;32m~\\AppData\\Local\\Temp/ipykernel_18704/1151105685.py\u001b[0m in \u001b[0;36m<module>\u001b[1;34m\u001b[0m\n\u001b[0;32m      1\u001b[0m \u001b[0mhoriz\u001b[0m \u001b[1;33m=\u001b[0m \u001b[1;33m[\u001b[0m\u001b[1;36m0\u001b[0m\u001b[1;33m,\u001b[0m\u001b[1;36m1\u001b[0m\u001b[1;33m,\u001b[0m\u001b[1;36m2\u001b[0m\u001b[1;33m,\u001b[0m\u001b[1;36m3\u001b[0m\u001b[1;33m,\u001b[0m\u001b[1;36m4\u001b[0m\u001b[1;33m,\u001b[0m\u001b[1;36m5\u001b[0m\u001b[1;33m,\u001b[0m\u001b[1;36m6\u001b[0m\u001b[1;33m]\u001b[0m\u001b[1;33m\u001b[0m\u001b[1;33m\u001b[0m\u001b[0m\n\u001b[0;32m      2\u001b[0m \u001b[0mvert\u001b[0m \u001b[1;33m=\u001b[0m \u001b[1;33m[\u001b[0m\u001b[1;36m23\u001b[0m\u001b[1;33m,\u001b[0m\u001b[1;36m57\u001b[0m\u001b[1;33m,\u001b[0m\u001b[1;36m82\u001b[0m\u001b[1;33m,\u001b[0m\u001b[1;36m71\u001b[0m\u001b[1;33m,\u001b[0m\u001b[1;36m69\u001b[0m\u001b[1;33m,\u001b[0m\u001b[1;36m15\u001b[0m\u001b[1;33m]\u001b[0m\u001b[1;33m\u001b[0m\u001b[1;33m\u001b[0m\u001b[0m\n\u001b[1;32m----> 3\u001b[1;33m \u001b[0mplt\u001b[0m\u001b[1;33m.\u001b[0m\u001b[0mplot\u001b[0m\u001b[1;33m(\u001b[0m\u001b[0mhoriz\u001b[0m\u001b[1;33m,\u001b[0m\u001b[0mvert\u001b[0m\u001b[1;33m)\u001b[0m\u001b[1;33m\u001b[0m\u001b[1;33m\u001b[0m\u001b[0m\n\u001b[0m\u001b[0;32m      4\u001b[0m \u001b[0mplt\u001b[0m\u001b[1;33m.\u001b[0m\u001b[0mshow\u001b[0m\u001b[1;33m(\u001b[0m\u001b[1;33m)\u001b[0m\u001b[1;33m\u001b[0m\u001b[1;33m\u001b[0m\u001b[0m\n",
      "\u001b[1;32m~\\Anaconda3\\lib\\site-packages\\matplotlib\\pyplot.py\u001b[0m in \u001b[0;36mplot\u001b[1;34m(scalex, scaley, data, *args, **kwargs)\u001b[0m\n\u001b[0;32m   3017\u001b[0m \u001b[1;33m@\u001b[0m\u001b[0m_copy_docstring_and_deprecators\u001b[0m\u001b[1;33m(\u001b[0m\u001b[0mAxes\u001b[0m\u001b[1;33m.\u001b[0m\u001b[0mplot\u001b[0m\u001b[1;33m)\u001b[0m\u001b[1;33m\u001b[0m\u001b[1;33m\u001b[0m\u001b[0m\n\u001b[0;32m   3018\u001b[0m \u001b[1;32mdef\u001b[0m \u001b[0mplot\u001b[0m\u001b[1;33m(\u001b[0m\u001b[1;33m*\u001b[0m\u001b[0margs\u001b[0m\u001b[1;33m,\u001b[0m \u001b[0mscalex\u001b[0m\u001b[1;33m=\u001b[0m\u001b[1;32mTrue\u001b[0m\u001b[1;33m,\u001b[0m \u001b[0mscaley\u001b[0m\u001b[1;33m=\u001b[0m\u001b[1;32mTrue\u001b[0m\u001b[1;33m,\u001b[0m \u001b[0mdata\u001b[0m\u001b[1;33m=\u001b[0m\u001b[1;32mNone\u001b[0m\u001b[1;33m,\u001b[0m \u001b[1;33m**\u001b[0m\u001b[0mkwargs\u001b[0m\u001b[1;33m)\u001b[0m\u001b[1;33m:\u001b[0m\u001b[1;33m\u001b[0m\u001b[1;33m\u001b[0m\u001b[0m\n\u001b[1;32m-> 3019\u001b[1;33m     return gca().plot(\n\u001b[0m\u001b[0;32m   3020\u001b[0m         \u001b[1;33m*\u001b[0m\u001b[0margs\u001b[0m\u001b[1;33m,\u001b[0m \u001b[0mscalex\u001b[0m\u001b[1;33m=\u001b[0m\u001b[0mscalex\u001b[0m\u001b[1;33m,\u001b[0m \u001b[0mscaley\u001b[0m\u001b[1;33m=\u001b[0m\u001b[0mscaley\u001b[0m\u001b[1;33m,\u001b[0m\u001b[1;33m\u001b[0m\u001b[1;33m\u001b[0m\u001b[0m\n\u001b[0;32m   3021\u001b[0m         **({\"data\": data} if data is not None else {}), **kwargs)\n",
      "\u001b[1;32m~\\Anaconda3\\lib\\site-packages\\matplotlib\\axes\\_axes.py\u001b[0m in \u001b[0;36mplot\u001b[1;34m(self, scalex, scaley, data, *args, **kwargs)\u001b[0m\n\u001b[0;32m   1603\u001b[0m         \"\"\"\n\u001b[0;32m   1604\u001b[0m         \u001b[0mkwargs\u001b[0m \u001b[1;33m=\u001b[0m \u001b[0mcbook\u001b[0m\u001b[1;33m.\u001b[0m\u001b[0mnormalize_kwargs\u001b[0m\u001b[1;33m(\u001b[0m\u001b[0mkwargs\u001b[0m\u001b[1;33m,\u001b[0m \u001b[0mmlines\u001b[0m\u001b[1;33m.\u001b[0m\u001b[0mLine2D\u001b[0m\u001b[1;33m)\u001b[0m\u001b[1;33m\u001b[0m\u001b[1;33m\u001b[0m\u001b[0m\n\u001b[1;32m-> 1605\u001b[1;33m         \u001b[0mlines\u001b[0m \u001b[1;33m=\u001b[0m \u001b[1;33m[\u001b[0m\u001b[1;33m*\u001b[0m\u001b[0mself\u001b[0m\u001b[1;33m.\u001b[0m\u001b[0m_get_lines\u001b[0m\u001b[1;33m(\u001b[0m\u001b[1;33m*\u001b[0m\u001b[0margs\u001b[0m\u001b[1;33m,\u001b[0m \u001b[0mdata\u001b[0m\u001b[1;33m=\u001b[0m\u001b[0mdata\u001b[0m\u001b[1;33m,\u001b[0m \u001b[1;33m**\u001b[0m\u001b[0mkwargs\u001b[0m\u001b[1;33m)\u001b[0m\u001b[1;33m]\u001b[0m\u001b[1;33m\u001b[0m\u001b[1;33m\u001b[0m\u001b[0m\n\u001b[0m\u001b[0;32m   1606\u001b[0m         \u001b[1;32mfor\u001b[0m \u001b[0mline\u001b[0m \u001b[1;32min\u001b[0m \u001b[0mlines\u001b[0m\u001b[1;33m:\u001b[0m\u001b[1;33m\u001b[0m\u001b[1;33m\u001b[0m\u001b[0m\n\u001b[0;32m   1607\u001b[0m             \u001b[0mself\u001b[0m\u001b[1;33m.\u001b[0m\u001b[0madd_line\u001b[0m\u001b[1;33m(\u001b[0m\u001b[0mline\u001b[0m\u001b[1;33m)\u001b[0m\u001b[1;33m\u001b[0m\u001b[1;33m\u001b[0m\u001b[0m\n",
      "\u001b[1;32m~\\Anaconda3\\lib\\site-packages\\matplotlib\\axes\\_base.py\u001b[0m in \u001b[0;36m__call__\u001b[1;34m(self, data, *args, **kwargs)\u001b[0m\n\u001b[0;32m    313\u001b[0m                 \u001b[0mthis\u001b[0m \u001b[1;33m+=\u001b[0m \u001b[0margs\u001b[0m\u001b[1;33m[\u001b[0m\u001b[1;36m0\u001b[0m\u001b[1;33m]\u001b[0m\u001b[1;33m,\u001b[0m\u001b[1;33m\u001b[0m\u001b[1;33m\u001b[0m\u001b[0m\n\u001b[0;32m    314\u001b[0m                 \u001b[0margs\u001b[0m \u001b[1;33m=\u001b[0m \u001b[0margs\u001b[0m\u001b[1;33m[\u001b[0m\u001b[1;36m1\u001b[0m\u001b[1;33m:\u001b[0m\u001b[1;33m]\u001b[0m\u001b[1;33m\u001b[0m\u001b[1;33m\u001b[0m\u001b[0m\n\u001b[1;32m--> 315\u001b[1;33m             \u001b[1;32myield\u001b[0m \u001b[1;32mfrom\u001b[0m \u001b[0mself\u001b[0m\u001b[1;33m.\u001b[0m\u001b[0m_plot_args\u001b[0m\u001b[1;33m(\u001b[0m\u001b[0mthis\u001b[0m\u001b[1;33m,\u001b[0m \u001b[0mkwargs\u001b[0m\u001b[1;33m)\u001b[0m\u001b[1;33m\u001b[0m\u001b[1;33m\u001b[0m\u001b[0m\n\u001b[0m\u001b[0;32m    316\u001b[0m \u001b[1;33m\u001b[0m\u001b[0m\n\u001b[0;32m    317\u001b[0m     \u001b[1;32mdef\u001b[0m \u001b[0mget_next_color\u001b[0m\u001b[1;33m(\u001b[0m\u001b[0mself\u001b[0m\u001b[1;33m)\u001b[0m\u001b[1;33m:\u001b[0m\u001b[1;33m\u001b[0m\u001b[1;33m\u001b[0m\u001b[0m\n",
      "\u001b[1;32m~\\Anaconda3\\lib\\site-packages\\matplotlib\\axes\\_base.py\u001b[0m in \u001b[0;36m_plot_args\u001b[1;34m(self, tup, kwargs, return_kwargs)\u001b[0m\n\u001b[0;32m    499\u001b[0m \u001b[1;33m\u001b[0m\u001b[0m\n\u001b[0;32m    500\u001b[0m         \u001b[1;32mif\u001b[0m \u001b[0mx\u001b[0m\u001b[1;33m.\u001b[0m\u001b[0mshape\u001b[0m\u001b[1;33m[\u001b[0m\u001b[1;36m0\u001b[0m\u001b[1;33m]\u001b[0m \u001b[1;33m!=\u001b[0m \u001b[0my\u001b[0m\u001b[1;33m.\u001b[0m\u001b[0mshape\u001b[0m\u001b[1;33m[\u001b[0m\u001b[1;36m0\u001b[0m\u001b[1;33m]\u001b[0m\u001b[1;33m:\u001b[0m\u001b[1;33m\u001b[0m\u001b[1;33m\u001b[0m\u001b[0m\n\u001b[1;32m--> 501\u001b[1;33m             raise ValueError(f\"x and y must have same first dimension, but \"\n\u001b[0m\u001b[0;32m    502\u001b[0m                              f\"have shapes {x.shape} and {y.shape}\")\n\u001b[0;32m    503\u001b[0m         \u001b[1;32mif\u001b[0m \u001b[0mx\u001b[0m\u001b[1;33m.\u001b[0m\u001b[0mndim\u001b[0m \u001b[1;33m>\u001b[0m \u001b[1;36m2\u001b[0m \u001b[1;32mor\u001b[0m \u001b[0my\u001b[0m\u001b[1;33m.\u001b[0m\u001b[0mndim\u001b[0m \u001b[1;33m>\u001b[0m \u001b[1;36m2\u001b[0m\u001b[1;33m:\u001b[0m\u001b[1;33m\u001b[0m\u001b[1;33m\u001b[0m\u001b[0m\n",
      "\u001b[1;31mValueError\u001b[0m: x and y must have same first dimension, but have shapes (7,) and (6,)"
     ]
    },
    {
     "data": {
      "image/png": "[encoded data removed]",
      "text/plain": [
       "<Figure size 432x288 with 1 Axes>"
      ]
     },
     "metadata": {
      "needs_background": "light"
     },
     "output_type": "display_data"
    }
   ],
   "source": [
    "horiz = [0,1,2,3,4,5,6]\n",
    "vert = [23,57,82,71,69,15]\n",
    "plt.plot(horiz,vert)\n",
    "plt.show()"
   ]
  },
  {
   "cell_type": "markdown",
   "id": "20e3b16e",
   "metadata": {},
   "source": [
    "#### Answers"
   ]
  },
  {
   "cell_type": "code",
   "execution_count": 15,
   "id": "e49fe260",
   "metadata": {},
   "outputs": [],
   "source": [
    "import matplotlib.pyplot as plt"
   ]
  },
  {
   "cell_type": "markdown",
   "id": "35e89011",
   "metadata": {},
   "source": [
    "2. \n",
    "   * Short and straight to the point\n",
    "   * ideally one line\n",
    "   * describe the purpose of the line of code\n",
    "   * Code comments for (almost) every line of code"
   ]
  },
  {
   "cell_type": "code",
   "execution_count": null,
   "id": "32a0c37d",
   "metadata": {},
   "outputs": [],
   "source": [
    "[i*8/100-3 for i in range(101)]"
   ]
  },
  {
   "cell_type": "markdown",
   "id": "22cf9d85",
   "metadata": {},
   "source": [
    "### Notes"
   ]
  },
  {
   "cell_type": "markdown",
   "id": "802bd43a",
   "metadata": {},
   "source": [
    "Let's solve the congruence equation $$ 3x^2 - 4x - 7 \\equiv 0 \\mod n $$ for various values of $ n $."
   ]
  },
  {
   "cell_type": "code",
   "execution_count": 16,
   "id": "3c501b37",
   "metadata": {},
   "outputs": [],
   "source": [
    "\"\"\"Write a function that takes n as input and finds all the positive solutions x < n\"\"\"\n",
    "def cong_eq(n):\n",
    "    solns = []\n",
    "    for x in range(n):\n",
    "        if (3*x**2 - 4*x - 7)%n == 0:\n",
    "            solns.append(x)\n",
    "    return solns"
   ]
  },
  {
   "cell_type": "code",
   "execution_count": 30,
   "id": "1e9bfd07",
   "metadata": {},
   "outputs": [
    {
     "data": {
      "text/plain": [
       "[181, 401, 583, 870]"
      ]
     },
     "execution_count": 30,
     "metadata": {},
     "output_type": "execute_result"
    }
   ],
   "source": [
    "cong_eq(871)"
   ]
  },
  {
   "cell_type": "code",
   "execution_count": 43,
   "id": "50045ca5",
   "metadata": {},
   "outputs": [],
   "source": [
    "list_of_soln_lists = []\n",
    "for n in range(1,501):\n",
    "    solns = cong_eq(n)\n",
    "    list_of_soln_lists.append(solns)\n",
    "#list_of_soln_lists"
   ]
  },
  {
   "cell_type": "code",
   "execution_count": 44,
   "id": "a92848b4",
   "metadata": {},
   "outputs": [
    {
     "name": "stdout",
     "output_type": "stream",
     "text": [
      "1631\n",
      "1631\n"
     ]
    }
   ],
   "source": [
    "inputs = []\n",
    "outputs = []\n",
    "n=1\n",
    "for _list in list_of_soln_lists:\n",
    "    for soln in _list:\n",
    "        inputs.append(n)\n",
    "        outputs.append(soln)\n",
    "    n+=1\n",
    "print(len(inputs))\n",
    "print(len(outputs))"
   ]
  },
  {
   "cell_type": "code",
   "execution_count": 46,
   "id": "bfe98a7b",
   "metadata": {},
   "outputs": [
    {
     "data": {
      "image/png": "[encoded data removed]",
      "text/plain": [
       "<Figure size 432x288 with 1 Axes>"
      ]
     },
     "metadata": {
      "needs_background": "light"
     },
     "output_type": "display_data"
    }
   ],
   "source": [
    "plt.plot(inputs,outputs,'.')\n",
    "plt.ylim([0,500])\n",
    "plt.show()"
   ]
  },
  {
   "cell_type": "code",
   "execution_count": null,
   "id": "d034e801",
   "metadata": {},
   "outputs": [],
   "source": [
    "\"\"\"Write a function that graphs all the solutions agains n for all n < N\"\"\"\n",
    "def graph_solns(N):"
   ]
  },
  {
   "cell_type": "markdown",
   "id": "09c2d1f6",
   "metadata": {},
   "source": [
    "### Random Numbers and Random Events"
   ]
  },
  {
   "cell_type": "code",
   "execution_count": 1,
   "id": "5566fe34",
   "metadata": {},
   "outputs": [],
   "source": [
    "import random as r"
   ]
  },
  {
   "cell_type": "code",
   "execution_count": 6,
   "id": "46fd65bf",
   "metadata": {},
   "outputs": [
    {
     "data": {
      "text/plain": [
       "0.32110052660937594"
      ]
     },
     "execution_count": 6,
     "metadata": {},
     "output_type": "execute_result"
    }
   ],
   "source": [
    "r.random()  # random float between 0 and 1"
   ]
  },
  {
   "cell_type": "code",
   "execution_count": 11,
   "id": "eccf6fd8",
   "metadata": {},
   "outputs": [],
   "source": [
    "def flip_coin(p_heads):\n",
    "    if r.random() <= p_heads:\n",
    "        heads_or_tails = 'heads'\n",
    "    else:\n",
    "        heads_or_tails = 'tails'\n",
    "    return heads_or_tails"
   ]
  },
  {
   "cell_type": "code",
   "execution_count": 12,
   "id": "a4574b9f",
   "metadata": {},
   "outputs": [
    {
     "name": "stdout",
     "output_type": "stream",
     "text": [
      "691 309\n"
     ]
    }
   ],
   "source": [
    "heads = 0\n",
    "for _ in range(1000):\n",
    "    if flip_coin(0.7) == 'heads':\n",
    "        heads += 1\n",
    "tails = 1000-heads\n",
    "print(heads,tails)"
   ]
  },
  {
   "cell_type": "code",
   "execution_count": 13,
   "id": "bda982f4",
   "metadata": {},
   "outputs": [],
   "source": [
    "import matplotlib.pyplot as plt"
   ]
  },
  {
   "cell_type": "code",
   "execution_count": 18,
   "id": "dc8cd24d",
   "metadata": {},
   "outputs": [
    {
     "data": {
      "image/png": "[encoded data removed]",
      "text/plain": [
       "<Figure size 432x288 with 1 Axes>"
      ]
     },
     "metadata": {
      "needs_background": "light"
     },
     "output_type": "display_data"
    }
   ],
   "source": [
    "plt.bar([1,2],[691,309],color='r')\n",
    "plt.xticks([1,2],['Heads','Tails'])\n",
    "plt.show()"
   ]
  },
  {
   "cell_type": "code",
   "execution_count": 19,
   "id": "416dc055",
   "metadata": {},
   "outputs": [],
   "source": [
    "head_counts = []\n",
    "for _ in range(50):\n",
    "    heads = 0\n",
    "    for __ in range(20):\n",
    "        if flip_coin(0.5) == 'heads':\n",
    "            heads += 1\n",
    "    head_counts.append(heads)"
   ]
  },
  {
   "cell_type": "code",
   "execution_count": 20,
   "id": "d819db69",
   "metadata": {},
   "outputs": [
    {
     "name": "stdout",
     "output_type": "stream",
     "text": [
      "[7, 8, 11, 10, 11, 9, 12, 9, 8, 9, 9, 9, 10, 9, 8, 11, 12, 11, 10, 8, 6, 11, 14, 10, 10, 13, 13, 11, 12, 12, 5, 10, 10, 12, 9, 9, 10, 8, 12, 7, 10, 10, 11, 10, 12, 10, 10, 8, 14, 7]\n"
     ]
    }
   ],
   "source": [
    "print(head_counts)"
   ]
  },
  {
   "cell_type": "code",
   "execution_count": 21,
   "id": "1da32d78",
   "metadata": {},
   "outputs": [],
   "source": [
    "_list = [0]*21\n",
    "for i in head_counts:\n",
    "    _list[i] += 1"
   ]
  },
  {
   "cell_type": "code",
   "execution_count": 22,
   "id": "ff1eb844",
   "metadata": {},
   "outputs": [
    {
     "data": {
      "text/plain": [
       "[0, 0, 0, 0, 0, 1, 1, 3, 6, 8, 13, 7, 7, 2, 2, 0, 0, 0, 0, 0, 0]"
      ]
     },
     "execution_count": 22,
     "metadata": {},
     "output_type": "execute_result"
    }
   ],
   "source": [
    "_list"
   ]
  },
  {
   "cell_type": "code",
   "execution_count": 23,
   "id": "6fa69b2b",
   "metadata": {},
   "outputs": [
    {
     "data": {
      "image/png": "[encoded data removed]",
      "text/plain": [
       "<Figure size 432x288 with 1 Axes>"
      ]
     },
     "metadata": {
      "needs_background": "light"
     },
     "output_type": "display_data"
    }
   ],
   "source": [
    "plt.bar([i for i in range(21)],_list)\n",
    "plt.show()"
   ]
  },
  {
   "cell_type": "code",
   "execution_count": 24,
   "id": "64e3cc7d",
   "metadata": {},
   "outputs": [],
   "source": [
    "\"\"\"\n",
    "p is the probability of landing on heads\n",
    "n is the number of coin tosses\n",
    "\"\"\"\n",
    "def binomial(p,n):\n",
    "    heads = 0\n",
    "    for _ in range(n):\n",
    "        if flip_coin(p) == 'heads':\n",
    "            heads += 1\n",
    "    return heads"
   ]
  },
  {
   "cell_type": "code",
   "execution_count": 25,
   "id": "cfc40ebf",
   "metadata": {},
   "outputs": [],
   "source": [
    "\"\"\"\n",
    "p is the probability of landing on heads\n",
    "n is the number of coin tosses\n",
    "t is the number of trials\n",
    "\"\"\"\n",
    "def binomial_distribution(p,n,t):\n",
    "    head_counts = []\n",
    "    for _ in range(t):\n",
    "        head_counts.append(binomial(p,n))\n",
    "    _list = [0]*(n+1)\n",
    "    for i in head_counts:\n",
    "        _list[i] += 1\n",
    "    return _list"
   ]
  },
  {
   "cell_type": "code",
   "execution_count": 30,
   "id": "488be1d0",
   "metadata": {},
   "outputs": [
    {
     "data": {
      "text/plain": [
       "[0, 0, 0, 0, 0, 1, 1, 4, 7, 9, 9, 12, 4, 2, 0, 0, 1, 0, 0, 0, 0]"
      ]
     },
     "execution_count": 30,
     "metadata": {},
     "output_type": "execute_result"
    }
   ],
   "source": [
    "binomial_distribution(0.5,20,50)"
   ]
  },
  {
   "cell_type": "code",
   "execution_count": 41,
   "id": "529b8a4b",
   "metadata": {},
   "outputs": [],
   "source": [
    "def graph_binom_dist(p,n,t):\n",
    "    plt.bar([i for i in range(n+1)],[x/t for x in binomial_distribution(p,n,t)])\n",
    "    plt.title(f'Binomial Distribution; prob {p}, {n} tosses, {t} trials')\n",
    "    plt.xticks([i for i in range(n+1)],[i for i in range(n+1)])"
   ]
  },
  {
   "cell_type": "code",
   "execution_count": 42,
   "id": "356ac0dc",
   "metadata": {},
   "outputs": [
    {
     "data": {
      "image/png": "[encoded data removed]",
      "text/plain": [
       "<Figure size 432x288 with 1 Axes>"
      ]
     },
     "metadata": {
      "needs_background": "light"
     },
     "output_type": "display_data"
    }
   ],
   "source": [
    "graph_binom_dist(0.5,20,5000)"
   ]
  },
  {
   "cell_type": "code",
   "execution_count": 45,
   "id": "4183e2f2",
   "metadata": {},
   "outputs": [
    {
     "data": {
      "text/plain": [
       "6"
      ]
     },
     "execution_count": 45,
     "metadata": {},
     "output_type": "execute_result"
    }
   ],
   "source": [
    "r.randint(1,6)"
   ]
  },
  {
   "cell_type": "markdown",
   "id": "b6861891",
   "metadata": {},
   "source": [
    "**Exercise** Write a function that rolls $ n $ six sided dice and adds up the resulting numbers.\n",
    "\n",
    "**Exercise** Write a function that performs $ t $ trials of the above and curates the results (like what we did with the binomial distribution).  Then graph it."
   ]
  },
  {
   "cell_type": "code",
   "execution_count": null,
   "id": "ca0df5ba",
   "metadata": {},
   "outputs": [],
   "source": []
  }
 ],
 "metadata": {
  "kernelspec": {
   "display_name": "Python 3 (ipykernel)",
   "language": "python",
   "name": "python3"
  },
  "language_info": {
   "codemirror_mode": {
    "name": "ipython",
    "version": 3
   },
   "file_extension": ".py",
   "mimetype": "text/x-python",
   "name": "python",
   "nbconvert_exporter": "python",
   "pygments_lexer": "ipython3",
   "version": "3.9.7"
  },
  "latex_envs": {
   "LaTeX_envs_menu_present": true,
   "autoclose": false,
   "autocomplete": false,
   "bibliofile": "biblio.bib",
   "cite_by": "apalike",
   "current_citInitial": 1,
   "eqLabelWithNumbers": true,
   "eqNumInitial": 1,
   "hotkeys": {
    "equation": "Ctrl-E",
    "itemize": "Ctrl-I"
   },
   "labels_anchors": false,
   "latex_user_defs": false,
   "report_style_numbering": false,
   "user_envs_cfg": false
  },
  "varInspector": {
   "cols": {
    "lenName": 16,
    "lenType": 16,
    "lenVar": 40
   },
   "kernels_config": {
    "python": {
     "delete_cmd_postfix": "",
     "delete_cmd_prefix": "del ",
     "library": "var_list.py",
     "varRefreshCmd": "print(var_dic_list())"
    },
    "r": {
     "delete_cmd_postfix": ") ",
     "delete_cmd_prefix": "rm(",
     "library": "var_list.r",
     "varRefreshCmd": "cat(var_dic_list()) "
    }
   },
   "types_to_exclude": [
    "module",
    "function",
    "builtin_function_or_method",
    "instance",
    "_Feature"
   ],
   "window_display": false
  }
 },
 "nbformat": 4,
 "nbformat_minor": 5
}
