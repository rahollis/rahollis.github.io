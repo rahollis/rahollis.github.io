{
 "cells": [
  {
   "cell_type": "markdown",
   "id": "f641dc64",
   "metadata": {},
   "source": [
    "# Week 13\n",
    "\n",
    "## Quiz\n",
    "\n",
    "1. Write a function that converts an array of characters into a string.\n",
    "\n",
    "2. How would you open a text file in Python so that you don't get weird characters like &euro; or &trade;?\n",
    "\n",
    "3. What method is used to erase all the &'s in a decrypted message?"
   ]
  },
  {
   "cell_type": "markdown",
   "id": "546ede03",
   "metadata": {},
   "source": [
    "#### Answers:"
   ]
  },
  {
   "cell_type": "code",
   "execution_count": null,
   "id": "7911ac62",
   "metadata": {},
   "outputs": [],
   "source": [
    "def arr_to_string1(arr_of_char):\n",
    "    message = ''\n",
    "    r,c = np.shape(arr_of_char)\n",
    "    for rows in range(r):\n",
    "        for cols in range(c):\n",
    "            message += arr_of_char[r,c]\n",
    "    return message"
   ]
  },
  {
   "cell_type": "code",
   "execution_count": null,
   "id": "3afe6497",
   "metadata": {},
   "outputs": [],
   "source": [
    "def arr_to_string2(arr_of_char):\n",
    "    r,c = np.shape(arr_of_char)\n",
    "    one_row = np.reshape(arr_of_char,(1,r*c))\n",
    "    out_str = ''.join(one_row[0])\n",
    "    return out_str"
   ]
  },
  {
   "cell_type": "code",
   "execution_count": null,
   "id": "22b4964e",
   "metadata": {},
   "outputs": [],
   "source": [
    "f = open(filename,encoding='utf-8')"
   ]
  },
  {
   "cell_type": "code",
   "execution_count": null,
   "id": "bf8623d7",
   "metadata": {},
   "outputs": [],
   "source": [
    "decrypted_message.replace('&','')\n",
    "\n",
    "index = []\n",
    "for i in range(len(decrypted_message)):\n",
    "    if decrypted_message[i] == '&':\n",
    "        index.append(i)\n",
    "for i in index.reverse():\n",
    "    decrypted_message.pop(i)\n",
    "    \n",
    "decrypted_message.strip('&')"
   ]
  },
  {
   "cell_type": "markdown",
   "id": "612ed873",
   "metadata": {},
   "source": [
    "## Notes"
   ]
  },
  {
   "cell_type": "code",
   "execution_count": 1,
   "id": "046db7a3",
   "metadata": {},
   "outputs": [],
   "source": [
    "import random"
   ]
  },
  {
   "cell_type": "markdown",
   "id": "e391d94d",
   "metadata": {},
   "source": [
    "### Word Games\n",
    "\n",
    "In a classic word game, a player tries to guess a hidden word or phrase by guessing letters one at a time.  They can keep guessing letters until they have used up their allotted number of guesses.  Once they have used up their guesses, they are asked to guess the word.\n",
    "\n",
    "We will refine the rules a bit.\n",
    "* limit to hidden words only, no phrases\n",
    "* number of guesses based on the length of the word\n",
    "\n",
    "Let's play a round.  Pair up, one person come up with a hidden word, the other person has to guess it."
   ]
  },
  {
   "cell_type": "markdown",
   "id": "690e5bc8",
   "metadata": {},
   "source": [
    "### Putting it into code\n",
    "\n",
    "What are the sequential steps of the game? (Flow diagram on board)"
   ]
  },
  {
   "cell_type": "markdown",
   "id": "70e96866",
   "metadata": {},
   "source": [
    "#### How can we automatically pick a hidden word?"
   ]
  },
  {
   "cell_type": "code",
   "execution_count": 2,
   "id": "23a7fc72",
   "metadata": {},
   "outputs": [],
   "source": [
    "def FileToWords(file):\n",
    "    with open(file) as f:\n",
    "        text = f.read()\n",
    "    text_list = text.upper().split()\n",
    "    word_list = []\n",
    "    for string in text_list:\n",
    "        word_list.append(string.strip(',.!?-\\'\\\":;'))\n",
    "    return word_list"
   ]
  },
  {
   "cell_type": "code",
   "execution_count": 3,
   "id": "7dc20819",
   "metadata": {},
   "outputs": [],
   "source": [
    "def PickWord(filename):\n",
    "    word_list = FileToWords(filename)\n",
    "    hidden_word = random.choice(word_list)\n",
    "    return hidden_word"
   ]
  },
  {
   "cell_type": "code",
   "execution_count": 12,
   "id": "22057e8a",
   "metadata": {},
   "outputs": [
    {
     "data": {
      "text/plain": [
       "'OBIT'"
      ]
     },
     "execution_count": 12,
     "metadata": {},
     "output_type": "execute_result"
    }
   ],
   "source": [
    "hidden_word = PickWord('../../dictionary.txt')\n",
    "hidden_word"
   ]
  },
  {
   "cell_type": "markdown",
   "id": "6689b50f",
   "metadata": {},
   "source": [
    "#### Soliciting a guess from the user."
   ]
  },
  {
   "cell_type": "code",
   "execution_count": 5,
   "id": "03c7878b",
   "metadata": {},
   "outputs": [
    {
     "name": "stdout",
     "output_type": "stream",
     "text": [
      "Type your guess here:  a\n"
     ]
    },
    {
     "data": {
      "text/plain": [
       "'a'"
      ]
     },
     "execution_count": 5,
     "metadata": {},
     "output_type": "execute_result"
    }
   ],
   "source": [
    "input('Type your guess here:  ')"
   ]
  },
  {
   "cell_type": "markdown",
   "id": "b480536d",
   "metadata": {},
   "source": [
    "The first of two variants of the function `SolicitGuess` uses recursion only accept a valid guess input.  If the guess is not valid, the function returns itself, essentially resetting the process.  This will keep happening until the user inputs a valid guess."
   ]
  },
  {
   "cell_type": "code",
   "execution_count": 6,
   "id": "8e24a2ce",
   "metadata": {},
   "outputs": [],
   "source": [
    "def SolicitGuess1():\n",
    "    guess = input('Guess a letter:  ')\n",
    "    if guess.upper() in list('ABCDEFGHIJKLMNOPQRSTUVWXYZ'):\n",
    "        return guess.upper()\n",
    "    else:\n",
    "        print('That is not a letter.')\n",
    "        return SolicitGuess1()"
   ]
  },
  {
   "cell_type": "code",
   "execution_count": 7,
   "id": "f0f1e425",
   "metadata": {},
   "outputs": [
    {
     "name": "stdout",
     "output_type": "stream",
     "text": [
      "Guess a letter:  3\n",
      "That is not a letter.\n",
      "Guess a letter:  HI\n",
      "That is not a letter.\n",
      "Guess a letter:  l\n"
     ]
    },
    {
     "data": {
      "text/plain": [
       "'L'"
      ]
     },
     "execution_count": 7,
     "metadata": {},
     "output_type": "execute_result"
    }
   ],
   "source": [
    "SolicitGuess1()"
   ]
  },
  {
   "cell_type": "markdown",
   "id": "f6c44c61",
   "metadata": {},
   "source": [
    "The second variant of the function does the same thing, but uses an infinite while loop that will only break when the user inputs a valid guess."
   ]
  },
  {
   "cell_type": "code",
   "execution_count": 8,
   "id": "b77b2308",
   "metadata": {},
   "outputs": [],
   "source": [
    "def SolicitGuess2():\n",
    "    while True:\n",
    "        guess = input('Guess a letter:  ')\n",
    "        if guess.upper() in list('ABCDEFGHIJKLMNOPQRSTUVWXYZ'):\n",
    "            return guess.upper()"
   ]
  },
  {
   "cell_type": "code",
   "execution_count": 9,
   "id": "390d8819",
   "metadata": {},
   "outputs": [
    {
     "name": "stdout",
     "output_type": "stream",
     "text": [
      "Guess a letter:  3\n",
      "Guess a letter:  HI\n",
      "Guess a letter:  l\n"
     ]
    },
    {
     "data": {
      "text/plain": [
       "'L'"
      ]
     },
     "execution_count": 9,
     "metadata": {},
     "output_type": "execute_result"
    }
   ],
   "source": [
    "SolicitGuess2()"
   ]
  },
  {
   "cell_type": "markdown",
   "id": "db648ada",
   "metadata": {},
   "source": [
    "#### Check the guess and give user feedback."
   ]
  },
  {
   "cell_type": "code",
   "execution_count": 10,
   "id": "3ef94dbe",
   "metadata": {},
   "outputs": [],
   "source": [
    "def MakeBoard(hidden_word):\n",
    "    n = len(hidden_word)\n",
    "    return ['-']*n"
   ]
  },
  {
   "cell_type": "code",
   "execution_count": 14,
   "id": "5838c2d4",
   "metadata": {},
   "outputs": [
    {
     "data": {
      "text/plain": [
       "['-', '-', '-', '-']"
      ]
     },
     "execution_count": 14,
     "metadata": {},
     "output_type": "execute_result"
    }
   ],
   "source": [
    "board = MakeBoard(hidden_word)\n",
    "board"
   ]
  },
  {
   "cell_type": "code",
   "execution_count": 15,
   "id": "b8c388c6",
   "metadata": {},
   "outputs": [],
   "source": [
    "def CheckGuess(guess,hidden_word,board):\n",
    "    for i in range(len(hidden_word)):\n",
    "        if guess == hidden_word[i]:\n",
    "            board[i] = guess\n",
    "    return board"
   ]
  },
  {
   "cell_type": "code",
   "execution_count": 17,
   "id": "52473de8",
   "metadata": {},
   "outputs": [
    {
     "data": {
      "text/plain": [
       "['-', '-', '-', 'T']"
      ]
     },
     "execution_count": 17,
     "metadata": {},
     "output_type": "execute_result"
    }
   ],
   "source": [
    "CheckGuess('T',hidden_word,board)"
   ]
  },
  {
   "cell_type": "markdown",
   "id": "5ed87743",
   "metadata": {},
   "source": [
    "#### Put it all together and make the final guess"
   ]
  },
  {
   "cell_type": "code",
   "execution_count": 18,
   "id": "20a2446c",
   "metadata": {},
   "outputs": [],
   "source": [
    "def PlayHiddenWord(num_of_guesses,word_filename):\n",
    "    hidden_word = PickWord(word_filename)\n",
    "    board = MakeBoard(hidden_word)\n",
    "    guessed_letters = []\n",
    "    for count in range(num_of_guesses):\n",
    "        guess = SolicitGuess1()\n",
    "        guessed_letters.append(guess)\n",
    "        board = CheckGuess(guess,hidden_word,board)\n",
    "        print(\"Hidden word: \"+\"\".join(board))\n",
    "        print(\"Letters guessed: \"+\"\".join(guessed_letters))\n",
    "        print(\"You have {} guesses left.\\n\\n\".format(num_of_guesses-count-1))\n",
    "    final_guess = input(\"What is the word?  \").upper()\n",
    "    if final_guess == hidden_word:\n",
    "        print(\"You got it right!\")\n",
    "    else:\n",
    "        print(\"Sorry, the hidden word was {}.\".format(hidden_word))"
   ]
  },
  {
   "cell_type": "code",
   "execution_count": 19,
   "id": "958f4fd4",
   "metadata": {},
   "outputs": [
    {
     "name": "stdout",
     "output_type": "stream",
     "text": [
      "Guess a letter:  R\n",
      "Hidden word: ----R------\n",
      "Letters guessed: R\n",
      "You have 4 guesses left.\n",
      "\n",
      "\n",
      "Guess a letter:  S\n",
      "Hidden word: --S-R------\n",
      "Letters guessed: RS\n",
      "You have 3 guesses left.\n",
      "\n",
      "\n",
      "Guess a letter:  T\n",
      "Hidden word: --S-R---T--\n",
      "Letters guessed: RST\n",
      "You have 2 guesses left.\n",
      "\n",
      "\n",
      "Guess a letter:  l\n",
      "Hidden word: --S-R---T--\n",
      "Letters guessed: RSTL\n",
      "You have 1 guesses left.\n",
      "\n",
      "\n",
      "Guess a letter:  e\n",
      "Hidden word: --S-R-E-TE-\n",
      "Letters guessed: RSTLE\n",
      "You have 0 guesses left.\n",
      "\n",
      "\n",
      "What is the word?  banana\n",
      "Sorry, the hidden word was DISORIENTED.\n"
     ]
    }
   ],
   "source": [
    "PlayHiddenWord(5,'../../dictionary.txt')"
   ]
  },
  {
   "cell_type": "code",
   "execution_count": null,
   "id": "e8263382",
   "metadata": {},
   "outputs": [],
   "source": []
  }
 ],
 "metadata": {
  "kernelspec": {
   "display_name": "Python 3 (ipykernel)",
   "language": "python",
   "name": "python3"
  },
  "language_info": {
   "codemirror_mode": {
    "name": "ipython",
    "version": 3
   },
   "file_extension": ".py",
   "mimetype": "text/x-python",
   "name": "python",
   "nbconvert_exporter": "python",
   "pygments_lexer": "ipython3",
   "version": "3.9.7"
  },
  "latex_envs": {
   "LaTeX_envs_menu_present": true,
   "autoclose": false,
   "autocomplete": false,
   "bibliofile": "biblio.bib",
   "cite_by": "apalike",
   "current_citInitial": 1,
   "eqLabelWithNumbers": true,
   "eqNumInitial": 1,
   "hotkeys": {
    "equation": "Ctrl-E",
    "itemize": "Ctrl-I"
   },
   "labels_anchors": false,
   "latex_user_defs": false,
   "report_style_numbering": false,
   "user_envs_cfg": false
  },
  "varInspector": {
   "cols": {
    "lenName": 16,
    "lenType": 16,
    "lenVar": 40
   },
   "kernels_config": {
    "python": {
     "delete_cmd_postfix": "",
     "delete_cmd_prefix": "del ",
     "library": "var_list.py",
     "varRefreshCmd": "print(var_dic_list())"
    },
    "r": {
     "delete_cmd_postfix": ") ",
     "delete_cmd_prefix": "rm(",
     "library": "var_list.r",
     "varRefreshCmd": "cat(var_dic_list()) "
    }
   },
   "types_to_exclude": [
    "module",
    "function",
    "builtin_function_or_method",
    "instance",
    "_Feature"
   ],
   "window_display": false
  }
 },
 "nbformat": 4,
 "nbformat_minor": 5
}
