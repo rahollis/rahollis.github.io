{
 "cells": [
  {
   "cell_type": "markdown",
   "id": "d686e347",
   "metadata": {},
   "source": [
    "# Weeks 13-14\n",
    "\n",
    "## Quiz\n",
    "\n",
    "1. Use a shift cipher with a shift of 7 to encode the message \"Excelsior\" using the alphabet\n",
    "\n",
    "`ABCDEFGHIJKLMNOPQRSTUVWXYZabcdefghijklmnopqrstuvwxyz`.\n",
    "\n",
    "2. What is the frame rate for the animation produced with the command\n",
    "\n",
    "`FuncAnimation(fig=fig, func=animate, interval=50, blit=True, repeat=False)`?\n",
    "\n",
    "3. What inputs are expected by the function `plt.bar`?"
   ]
  },
  {
   "cell_type": "markdown",
   "id": "076f316f",
   "metadata": {},
   "source": [
    "### Answers"
   ]
  },
  {
   "cell_type": "code",
   "execution_count": null,
   "id": "49ebcc15",
   "metadata": {},
   "outputs": [],
   "source": [
    "'LEjlszpvy'"
   ]
  },
  {
   "cell_type": "code",
   "execution_count": null,
   "id": "b92e8e86",
   "metadata": {},
   "outputs": [],
   "source": [
    "def shift_encryption(message,alphabet,shift):\n",
    "    encrypted_message = ''\n",
    "    for char in message:\n",
    "        ind = alphabet.index(char)\n",
    "        ind += shift\n",
    "        ind = ind%len(alphabet)\n",
    "        encrypted_char = alphabet[ind]\n",
    "        encrypted_message += encrypted_char\n",
    "    return encrypted_message"
   ]
  },
  {
   "cell_type": "code",
   "execution_count": null,
   "id": "9dd897c5",
   "metadata": {},
   "outputs": [],
   "source": [
    "alphabet = 'ABCDEFGHIJKLMNOPQRSTUVWXYZabcdefghijklmnopqrstuvwxyz '\n",
    "message = 'Excelsior'\n",
    "shift_encryption(message,alphabet,7)"
   ]
  },
  {
   "cell_type": "code",
   "execution_count": null,
   "id": "1dab763c",
   "metadata": {},
   "outputs": [],
   "source": [
    "1000/50"
   ]
  },
  {
   "cell_type": "markdown",
   "id": "a9560203",
   "metadata": {},
   "source": [
    "Any two of\n",
    "* data (need this)\n",
    "* positions\n",
    "* labels"
   ]
  },
  {
   "cell_type": "markdown",
   "id": "f5a6f969",
   "metadata": {},
   "source": [
    "## Notes"
   ]
  },
  {
   "cell_type": "code",
   "execution_count": 1,
   "id": "c6ffca82",
   "metadata": {},
   "outputs": [],
   "source": [
    "from decryption import *"
   ]
  },
  {
   "cell_type": "code",
   "execution_count": 3,
   "id": "7501ae14",
   "metadata": {},
   "outputs": [
    {
     "name": "stdout",
     "output_type": "stream",
     "text": [
      "30\n",
      "They look upon fraud as a greater crime than theft, and therefore seldom\n",
      "fail to punish it with death; for they allege, that care and vigilance,\n",
      "with a very common understanding, may preserve a man’s goods from\n",
      "thieves, but honesty has no defence against superior cunning; and, since\n",
      "it is necessary that there should be a perpetual intercourse of buying\n",
      "and selling, and dealing upon credit, where fraud is permitted and\n",
      "connived at, or has no law to punish it, the honest dealer is always\n",
      "undone, and the knave gets the advantage.  I remember, when I was once\n",
      "interceding with the emperor for a criminal who had wronged his master of\n",
      "a great sum of money, which he had received by order and ran away with;\n",
      "and happening to tell his majesty, by way of extenuation, that it was\n",
      "only a breach of trust, the emperor thought it monstrous in me to offer\n",
      "as a defence the greatest aggravation of the crime; and truly I had\n",
      "little to say in return, farther than the common answer, that different\n",
      "nations had different customs; for, I confess, I was heartily ashamed.\n",
      "{330}\n",
      "\n",
      "Although we usually call reward and punishment the two hinges upon which\n",
      "all government turns, yet I could never observe this maxim to be put in\n",
      "practice by any nation except that of Lilliput.  Whoever can there bring\n",
      "sufficient proof, that he has strictly observed the laws of his country\n",
      "for seventy-three moons, has a claim to certain privileges, according to\n",
      "his quality or condition of life, with a proportionable sum of money out\n",
      "of a fund appropriated for that use: he likewise acquires the title of\n",
      "_snilpall_, or legal, which is added to his name, but does not descend to\n",
      "his posterity.  And these people thought it a prodigious defect of policy\n",
      "among us, when I told them that our laws were enforced only by penalties,\n",
      "without any mention of reward.  It is upon this account that the image of\n",
      "Justice, in their courts of judicature, is formed with six eyes, two\n",
      "before, as many behind, and on each side one, to signify circumspection;\n",
      "with a bag of gold open in her right hand, and a sword sheathed in her\n",
      "left, to show she is more disposed to reward than to punish.\n",
      "\n",
      "In choosing persons for all employments, they have more regard to good\n",
      "morals than to great abilities; for, since government is necessary to\n",
      "mankind, they believe, that the common size of human understanding is\n",
      "fitted to some station or other; and that Providence never intended to\n",
      "make the management of public affairs a mystery to be comprehended only\n",
      "by a few persons of sublime genius, of which there seldom are three born\n",
      "in an age: but they suppose truth, justice, temperance, and the like, to\n",
      "be in every man’s power; the practice of which virtues, assisted by\n",
      "experience and a good intention, would qualify any man for the service of\n",
      "his country, except where a course of study is required.  But they\n",
      "thought the want of moral virtues was so far from being supplied by\n",
      "superior endowments of the mind, that employments could never be put into\n",
      "such dangerous hands as those of persons so qualified; and, at least,\n",
      "that the mistakes committed by ignorance, in a virtuous disposition,\n",
      "would never be of such fatal consequence to the public weal, as the\n",
      "practices of a man, whose inclinations led him to be corrupt, and who had\n",
      "great abilities to manage, to multiply, and defend his corruptions.\n"
     ]
    }
   ],
   "source": [
    "print(DecryptFile('text29.txt',[25,100],'dictionary.txt',0.8))"
   ]
  },
  {
   "cell_type": "markdown",
   "id": "87579072",
   "metadata": {},
   "source": [
    "#### `Input` function"
   ]
  },
  {
   "cell_type": "code",
   "execution_count": 3,
   "id": "1915ef98",
   "metadata": {},
   "outputs": [
    {
     "name": "stdout",
     "output_type": "stream",
     "text": [
      "Guess a word:word\n"
     ]
    },
    {
     "data": {
      "text/plain": [
       "'word'"
      ]
     },
     "execution_count": 3,
     "metadata": {},
     "output_type": "execute_result"
    }
   ],
   "source": [
    "input('Guess a word:')"
   ]
  },
  {
   "cell_type": "code",
   "execution_count": 4,
   "id": "7658a97b",
   "metadata": {},
   "outputs": [
    {
     "name": "stdout",
     "output_type": "stream",
     "text": [
      "Guess a word: word\n"
     ]
    }
   ],
   "source": [
    "guess = input('Guess a word: ')"
   ]
  },
  {
   "cell_type": "code",
   "execution_count": 5,
   "id": "a4ee1b3b",
   "metadata": {},
   "outputs": [
    {
     "data": {
      "text/plain": [
       "'word'"
      ]
     },
     "execution_count": 5,
     "metadata": {},
     "output_type": "execute_result"
    }
   ],
   "source": [
    "guess"
   ]
  },
  {
   "cell_type": "code",
   "execution_count": 6,
   "id": "b3c7be94",
   "metadata": {},
   "outputs": [],
   "source": [
    "from wordle import *"
   ]
  },
  {
   "cell_type": "code",
   "execution_count": 7,
   "id": "077c65f0",
   "metadata": {},
   "outputs": [
    {
     "name": "stdout",
     "output_type": "stream",
     "text": [
      "Input a word with 5 letters:  noise\n",
      "Guess 1: noise\n",
      "\"n\" is not in the word.\n",
      "\"o\" is not in the word.\n",
      "\"i\" is not in the word.\n",
      "\"s\" is not in the word.\n",
      "\"e\" is not in the word.\n",
      "Input a word with 5 letters:  aught\n",
      "Guess 2: aught\n",
      "\"a\" is in the word, but in a different position.\n",
      "\"u\" is in the correct position.\n",
      "\"g\" is not in the word.\n",
      "\"h\" is not in the word.\n",
      "\"t\" is not in the word.\n",
      "Input a word with 5 letters:  fudge\n",
      "Guess 3: fudge\n",
      "\"f\" is not in the word.\n",
      "\"u\" is in the correct position.\n",
      "\"d\" is not in the word.\n",
      "\"g\" is not in the word.\n",
      "\"e\" is not in the word.\n",
      "Input a word with 5 letters:  bunny\n",
      "Guess 4: bunny\n",
      "\"b\" is not in the word.\n",
      "\"u\" is in the correct position.\n",
      "\"n\" is not in the word.\n",
      "\"n\" is not in the word.\n",
      "\"y\" is not in the word.\n",
      "Input a word with 5 letters:  banana\n",
      "Input is not the correct length.\n",
      "Input a word with 5 letters:  pukal\n",
      "Input is not a word.\n",
      "Input a word with 5 letters:  lucky\n",
      "Guess 5: lucky\n",
      "\"l\" is not in the word.\n",
      "\"u\" is in the correct position.\n",
      "\"c\" is not in the word.\n",
      "\"k\" is in the word, but in a different position.\n",
      "\"y\" is not in the word.\n",
      "Input a word with 5 letters:  lupka\n",
      "Input is not a word.\n",
      "Input a word with 5 letters:  flunk\n",
      "Guess 6: flunk\n",
      "\"f\" is not in the word.\n",
      "\"l\" is not in the word.\n",
      "\"u\" is in the word, but in a different position.\n",
      "\"n\" is not in the word.\n",
      "\"k\" is in the correct position.\n",
      "The word was \"quark\". Better luck next time.\n"
     ]
    }
   ],
   "source": [
    "PlayWordle(5,6,'dictionary.txt')"
   ]
  },
  {
   "cell_type": "markdown",
   "id": "5acf2f36",
   "metadata": {},
   "source": [
    "#### Recursion"
   ]
  },
  {
   "cell_type": "code",
   "execution_count": 8,
   "id": "d31dc955",
   "metadata": {},
   "outputs": [],
   "source": [
    "def type_banana():\n",
    "    word = input('Type the word \"banana\". ')\n",
    "    if word == 'banana':\n",
    "        return True\n",
    "    else:\n",
    "        return type_banana()"
   ]
  },
  {
   "cell_type": "code",
   "execution_count": 9,
   "id": "ea3d033b",
   "metadata": {},
   "outputs": [
    {
     "name": "stdout",
     "output_type": "stream",
     "text": [
      "Type the word \"banana\". banana\n"
     ]
    },
    {
     "data": {
      "text/plain": [
       "True"
      ]
     },
     "execution_count": 9,
     "metadata": {},
     "output_type": "execute_result"
    }
   ],
   "source": [
    "type_banana()"
   ]
  },
  {
   "cell_type": "code",
   "execution_count": 10,
   "id": "0c77537a",
   "metadata": {},
   "outputs": [
    {
     "name": "stdout",
     "output_type": "stream",
     "text": [
      "Type the word \"banana\". apple\n",
      "Type the word \"banana\". grapes\n",
      "Type the word \"banana\". grapefruit\n",
      "Type the word \"banana\". banana\n"
     ]
    },
    {
     "data": {
      "text/plain": [
       "True"
      ]
     },
     "execution_count": 10,
     "metadata": {},
     "output_type": "execute_result"
    }
   ],
   "source": [
    "type_banana()"
   ]
  },
  {
   "cell_type": "code",
   "execution_count": 11,
   "id": "bd1f3af7",
   "metadata": {},
   "outputs": [
    {
     "name": "stdout",
     "output_type": "stream",
     "text": [
      "Type a number between 0 and 10. 45\n",
      "Type a number between 0 and 10. 32\n",
      "Type a number between 0 and 10. -64\n",
      "Type a number between 0 and 10. 7\n",
      "7\n"
     ]
    }
   ],
   "source": [
    "while True:\n",
    "    num = input('Type a number between 0 and 10. ')\n",
    "    if int(num) <= 10 and int(num) >= 0:\n",
    "        break\n",
    "print(num)"
   ]
  },
  {
   "cell_type": "code",
   "execution_count": null,
   "id": "f2a39431",
   "metadata": {},
   "outputs": [],
   "source": []
  }
 ],
 "metadata": {
  "kernelspec": {
   "display_name": "Python 3 (ipykernel)",
   "language": "python",
   "name": "python3"
  },
  "language_info": {
   "codemirror_mode": {
    "name": "ipython",
    "version": 3
   },
   "file_extension": ".py",
   "mimetype": "text/x-python",
   "name": "python",
   "nbconvert_exporter": "python",
   "pygments_lexer": "ipython3",
   "version": "3.9.7"
  },
  "varInspector": {
   "cols": {
    "lenName": 16,
    "lenType": 16,
    "lenVar": 40
   },
   "kernels_config": {
    "python": {
     "delete_cmd_postfix": "",
     "delete_cmd_prefix": "del ",
     "library": "var_list.py",
     "varRefreshCmd": "print(var_dic_list())"
    },
    "r": {
     "delete_cmd_postfix": ") ",
     "delete_cmd_prefix": "rm(",
     "library": "var_list.r",
     "varRefreshCmd": "cat(var_dic_list()) "
    }
   },
   "types_to_exclude": [
    "module",
    "function",
    "builtin_function_or_method",
    "instance",
    "_Feature"
   ],
   "window_display": false
  }
 },
 "nbformat": 4,
 "nbformat_minor": 5
}
