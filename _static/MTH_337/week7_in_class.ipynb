{
 "cells": [
  {
   "cell_type": "markdown",
   "id": "45d3eef2",
   "metadata": {},
   "source": [
    "# Week 7\n",
    "\n",
    "## Quiz\n",
    "\n",
    "1. What is the difference between `np.concatenate([A,B],axis=0)` and `np.concatenate([A,B],axis=1)`?\n",
    "2. Use broadcasting to recreate the following array.  $$ \\left[\\begin{array}{ccccc} 4 & 3 & 2 & 1 & 0 \\\\ 3 & 3 & 2 & 1 & 0 \\\\ 2 & 2 & 2 & 1 & 0 \\\\ 1 & 1 & 1 & 1 & 0 \\\\ 0 & 0 & 0 & 0 & 0 \\end{array}\\right] $$\n",
    "3. What function is used to plot an array as colored pixels in an image?"
   ]
  },
  {
   "cell_type": "markdown",
   "id": "397d5c7b",
   "metadata": {},
   "source": [
    "### Answers\n",
    "\n",
    "1. `axis=0` concatenates rows (stacks two arrays A on top of B) while `axis=1` concatenates the columns making a new array `[A B]`"
   ]
  },
  {
   "cell_type": "code",
   "execution_count": 1,
   "id": "1584f16f",
   "metadata": {},
   "outputs": [],
   "source": [
    "import numpy as np"
   ]
  },
  {
   "cell_type": "code",
   "execution_count": 2,
   "id": "37cf8aca",
   "metadata": {},
   "outputs": [],
   "source": [
    "A = np.zeros((2,3))\n",
    "B = np.ones((2,3))"
   ]
  },
  {
   "cell_type": "code",
   "execution_count": 3,
   "id": "7b46e4f6",
   "metadata": {},
   "outputs": [
    {
     "data": {
      "text/plain": [
       "array([[0., 0., 0.],\n",
       "       [0., 0., 0.],\n",
       "       [1., 1., 1.],\n",
       "       [1., 1., 1.]])"
      ]
     },
     "execution_count": 3,
     "metadata": {},
     "output_type": "execute_result"
    }
   ],
   "source": [
    "np.concatenate([A,B],axis=0)"
   ]
  },
  {
   "cell_type": "code",
   "execution_count": 4,
   "id": "30a306e2",
   "metadata": {},
   "outputs": [
    {
     "data": {
      "text/plain": [
       "array([[0., 0., 0., 1., 1., 1.],\n",
       "       [0., 0., 0., 1., 1., 1.]])"
      ]
     },
     "execution_count": 4,
     "metadata": {},
     "output_type": "execute_result"
    }
   ],
   "source": [
    "np.concatenate([A,B],axis=1)"
   ]
  },
  {
   "cell_type": "code",
   "execution_count": 5,
   "id": "ed72d1cf",
   "metadata": {},
   "outputs": [],
   "source": [
    "arr = np.zeros((5,5))"
   ]
  },
  {
   "cell_type": "code",
   "execution_count": 6,
   "id": "fab8e02b",
   "metadata": {},
   "outputs": [
    {
     "name": "stdout",
     "output_type": "stream",
     "text": [
      "[[4. 3. 2. 1. 0.]\n",
      " [3. 3. 2. 1. 0.]\n",
      " [2. 2. 2. 1. 0.]\n",
      " [1. 1. 1. 1. 0.]\n",
      " [0. 0. 0. 0. 0.]]\n"
     ]
    }
   ],
   "source": [
    "for i in range(5):\n",
    "    arr[:5-i,:5-i] = i*np.ones((5-i,5-i))\n",
    "print(arr)"
   ]
  },
  {
   "cell_type": "code",
   "execution_count": 7,
   "id": "9d725bb4",
   "metadata": {},
   "outputs": [],
   "source": [
    "import matplotlib.pyplot as plt"
   ]
  },
  {
   "cell_type": "code",
   "execution_count": 10,
   "id": "413343b7",
   "metadata": {},
   "outputs": [
    {
     "data": {
      "text/plain": [
       "<matplotlib.image.AxesImage at 0x1f84959d430>"
      ]
     },
     "execution_count": 10,
     "metadata": {},
     "output_type": "execute_result"
    },
    {
     "data": {
      "image/png": "[encoded data removed]",
      "text/plain": [
       "<Figure size 432x288 with 1 Axes>"
      ]
     },
     "metadata": {
      "needs_background": "light"
     },
     "output_type": "display_data"
    }
   ],
   "source": [
    "plt.imshow(arr,cmap='gray')"
   ]
  },
  {
   "cell_type": "markdown",
   "id": "cd6872aa",
   "metadata": {},
   "source": [
    "## Notes"
   ]
  },
  {
   "cell_type": "code",
   "execution_count": 11,
   "id": "ff6c07c3",
   "metadata": {},
   "outputs": [
    {
     "data": {
      "image/png": "[encoded data removed]",
      "text/plain": [
       "<Figure size 432x288 with 1 Axes>"
      ]
     },
     "metadata": {
      "needs_background": "light"
     },
     "output_type": "display_data"
    }
   ],
   "source": [
    "arr_3d = np.random.random((10,10,3))\n",
    "plt.imshow(arr_3d)\n",
    "plt.show()"
   ]
  },
  {
   "cell_type": "code",
   "execution_count": 12,
   "id": "89e96c4f",
   "metadata": {},
   "outputs": [
    {
     "data": {
      "text/plain": [
       "array([0.91557093, 0.20021646, 0.62343236])"
      ]
     },
     "execution_count": 12,
     "metadata": {},
     "output_type": "execute_result"
    }
   ],
   "source": [
    "arr_3d[1,2,:]"
   ]
  },
  {
   "cell_type": "code",
   "execution_count": 13,
   "id": "4c917e60",
   "metadata": {},
   "outputs": [],
   "source": [
    "arr_red = arr_3d[:,:,0]\n",
    "arr_green = arr_3d[:,:,1]\n",
    "arr_blue = arr_3d[:,:,2]"
   ]
  },
  {
   "cell_type": "code",
   "execution_count": 16,
   "id": "03d07e10",
   "metadata": {},
   "outputs": [
    {
     "data": {
      "image/png": "[encoded data removed]",
      "text/plain": [
       "<Figure size 1080x360 with 3 Axes>"
      ]
     },
     "metadata": {
      "needs_background": "light"
     },
     "output_type": "display_data"
    }
   ],
   "source": [
    "plt.figure(figsize=(15,5))\n",
    "plt.subplot(1,3,1)\n",
    "plt.imshow(arr_red,cmap='Reds')\n",
    "plt.subplot(1,3,2)\n",
    "plt.imshow(arr_green,cmap='Greens')\n",
    "plt.subplot(1,3,3)\n",
    "plt.imshow(arr_blue,cmap='Blues')\n",
    "plt.show()"
   ]
  },
  {
   "cell_type": "code",
   "execution_count": 25,
   "id": "0ff3c0ed",
   "metadata": {},
   "outputs": [],
   "source": [
    "Red = np.zeros((5,5))\n",
    "Red[:4,:4] = np.ones((4,4))\n",
    "Green = np.zeros((5,5))\n",
    "Green[1:,1:] = np.ones((4,4))\n",
    "Blue = np.zeros((5,5))\n",
    "Blue[1:4,1:4] = np.ones((3,3))"
   ]
  },
  {
   "cell_type": "code",
   "execution_count": 18,
   "id": "c53df684",
   "metadata": {},
   "outputs": [
    {
     "data": {
      "image/png": "[encoded data removed]",
      "text/plain": [
       "<Figure size 1080x360 with 3 Axes>"
      ]
     },
     "metadata": {
      "needs_background": "light"
     },
     "output_type": "display_data"
    }
   ],
   "source": [
    "plt.figure(figsize=(15,5))\n",
    "plt.subplot(1,3,1)\n",
    "plt.imshow(Red,cmap='Reds')\n",
    "plt.subplot(1,3,2)\n",
    "plt.imshow(Green,cmap='Greens')\n",
    "plt.subplot(1,3,3)\n",
    "plt.imshow(Blue,cmap='Blues')\n",
    "plt.show()"
   ]
  },
  {
   "cell_type": "code",
   "execution_count": 20,
   "id": "c6eb1ea4",
   "metadata": {},
   "outputs": [
    {
     "data": {
      "image/png": "[encoded data removed]",
      "text/plain": [
       "<Figure size 432x288 with 1 Axes>"
      ]
     },
     "metadata": {
      "needs_background": "light"
     },
     "output_type": "display_data"
    }
   ],
   "source": [
    "RGB = np.zeros((5,5,3))\n",
    "RGB[:,:,0] = Red\n",
    "RGB[:,:,1] = Green\n",
    "RGB[:,:,2] = Blue\n",
    "plt.imshow(RGB)\n",
    "plt.show()"
   ]
  },
  {
   "cell_type": "code",
   "execution_count": 22,
   "id": "257789b6",
   "metadata": {},
   "outputs": [],
   "source": [
    "Red = np.zeros((5,5,1))\n",
    "Red[:4,:4,0] = np.ones((4,4))\n",
    "Green = np.zeros((5,5,1))\n",
    "Green[1:,1:,0] = np.ones((4,4))\n",
    "Blue = np.zeros((5,5,1))\n",
    "Blue[1:4,1:4,0] = np.ones((3,3))\n",
    "RGB = np.concatenate([Red,Green,Blue],axis=2)"
   ]
  },
  {
   "cell_type": "code",
   "execution_count": 24,
   "id": "ff0b5f48",
   "metadata": {},
   "outputs": [
    {
     "data": {
      "image/png": "[encoded data removed]",
      "text/plain": [
       "<Figure size 432x288 with 1 Axes>"
      ]
     },
     "metadata": {
      "needs_background": "light"
     },
     "output_type": "display_data"
    }
   ],
   "source": [
    "plt.imshow(RGB)\n",
    "plt.show()"
   ]
  },
  {
   "cell_type": "markdown",
   "id": "765352df",
   "metadata": {},
   "source": [
    "### Dictionaries"
   ]
  },
  {
   "cell_type": "code",
   "execution_count": 1,
   "id": "a461fb38",
   "metadata": {},
   "outputs": [],
   "source": [
    "fruits = {'apple':'red','blueberry':'blue','orange':'orange','grape':'purple'}"
   ]
  },
  {
   "cell_type": "code",
   "execution_count": 2,
   "id": "0558f2bc",
   "metadata": {},
   "outputs": [
    {
     "data": {
      "text/plain": [
       "'purple'"
      ]
     },
     "execution_count": 2,
     "metadata": {},
     "output_type": "execute_result"
    }
   ],
   "source": [
    "fruits['grape']"
   ]
  },
  {
   "cell_type": "code",
   "execution_count": 3,
   "id": "6597c659",
   "metadata": {},
   "outputs": [
    {
     "data": {
      "text/plain": [
       "dict_keys(['apple', 'blueberry', 'orange', 'grape'])"
      ]
     },
     "execution_count": 3,
     "metadata": {},
     "output_type": "execute_result"
    }
   ],
   "source": [
    "fruits.keys()"
   ]
  },
  {
   "cell_type": "code",
   "execution_count": 4,
   "id": "0cb7b5aa",
   "metadata": {},
   "outputs": [
    {
     "data": {
      "text/plain": [
       "dict_values(['red', 'blue', 'orange', 'purple'])"
      ]
     },
     "execution_count": 4,
     "metadata": {},
     "output_type": "execute_result"
    }
   ],
   "source": [
    "fruits.values()"
   ]
  },
  {
   "cell_type": "code",
   "execution_count": 5,
   "id": "31a8450c",
   "metadata": {},
   "outputs": [
    {
     "data": {
      "text/plain": [
       "dict_items([('apple', 'red'), ('blueberry', 'blue'), ('orange', 'orange'), ('grape', 'purple')])"
      ]
     },
     "execution_count": 5,
     "metadata": {},
     "output_type": "execute_result"
    }
   ],
   "source": [
    "fruits.items()"
   ]
  },
  {
   "cell_type": "code",
   "execution_count": 6,
   "id": "544d1801",
   "metadata": {},
   "outputs": [
    {
     "name": "stdout",
     "output_type": "stream",
     "text": [
      "red\n",
      "blue\n",
      "orange\n",
      "purple\n"
     ]
    }
   ],
   "source": [
    "for key in fruits.keys():\n",
    "    print(fruits[key])"
   ]
  },
  {
   "cell_type": "code",
   "execution_count": 7,
   "id": "3a7d1e8c",
   "metadata": {},
   "outputs": [],
   "source": [
    "fruits['mango'] = 'yellow'"
   ]
  },
  {
   "cell_type": "code",
   "execution_count": 8,
   "id": "b1be8291",
   "metadata": {},
   "outputs": [
    {
     "name": "stdout",
     "output_type": "stream",
     "text": [
      "{'apple': 'red', 'blueberry': 'blue', 'orange': 'orange', 'grape': 'purple', 'mango': 'yellow'}\n"
     ]
    }
   ],
   "source": [
    "print(fruits)"
   ]
  },
  {
   "cell_type": "code",
   "execution_count": 9,
   "id": "596acdd4",
   "metadata": {},
   "outputs": [],
   "source": [
    "aberuchill_colors = {'LP' : [180, 104, 172],'K' : [16, 16, 16],'OT' : [96, 56, 0],'DP' : [68, 0, 68],'G' : [0, 104, 24],'O' : [216, 124, 0]}"
   ]
  },
  {
   "cell_type": "code",
   "execution_count": 10,
   "id": "ef334c51",
   "metadata": {},
   "outputs": [
    {
     "data": {
      "text/plain": [
       "[96, 56, 0]"
      ]
     },
     "execution_count": 10,
     "metadata": {},
     "output_type": "execute_result"
    }
   ],
   "source": [
    "aberuchill_colors['OT']"
   ]
  },
  {
   "cell_type": "code",
   "execution_count": null,
   "id": "54b8452f",
   "metadata": {},
   "outputs": [],
   "source": []
  }
 ],
 "metadata": {
  "kernelspec": {
   "display_name": "Python 3 (ipykernel)",
   "language": "python",
   "name": "python3"
  },
  "language_info": {
   "codemirror_mode": {
    "name": "ipython",
    "version": 3
   },
   "file_extension": ".py",
   "mimetype": "text/x-python",
   "name": "python",
   "nbconvert_exporter": "python",
   "pygments_lexer": "ipython3",
   "version": "3.9.7"
  },
  "latex_envs": {
   "LaTeX_envs_menu_present": true,
   "autoclose": false,
   "autocomplete": true,
   "bibliofile": "biblio.bib",
   "cite_by": "apalike",
   "current_citInitial": 1,
   "eqLabelWithNumbers": true,
   "eqNumInitial": 1,
   "hotkeys": {
    "equation": "Ctrl-E",
    "itemize": "Ctrl-I"
   },
   "labels_anchors": false,
   "latex_user_defs": false,
   "report_style_numbering": false,
   "user_envs_cfg": false
  },
  "varInspector": {
   "cols": {
    "lenName": 16,
    "lenType": 16,
    "lenVar": 40
   },
   "kernels_config": {
    "python": {
     "delete_cmd_postfix": "",
     "delete_cmd_prefix": "del ",
     "library": "var_list.py",
     "varRefreshCmd": "print(var_dic_list())"
    },
    "r": {
     "delete_cmd_postfix": ") ",
     "delete_cmd_prefix": "rm(",
     "library": "var_list.r",
     "varRefreshCmd": "cat(var_dic_list()) "
    }
   },
   "types_to_exclude": [
    "module",
    "function",
    "builtin_function_or_method",
    "instance",
    "_Feature"
   ],
   "window_display": false
  }
 },
 "nbformat": 4,
 "nbformat_minor": 5
}
