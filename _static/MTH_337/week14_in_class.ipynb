{
 "cells": [
  {
   "cell_type": "markdown",
   "id": "4d9cd107",
   "metadata": {},
   "source": [
    "# Week 14\n",
    "\n",
    "## Quiz\n",
    "\n",
    "1.  Write a function that returns the list of the indices of a given letter in a given word.  For example, `LetInWord('a','banana') = [1,3,5]`.\n",
    "\n",
    "2. What is recursion?\n",
    "\n",
    "3. Add code comments to the follow code to tell the user what it does."
   ]
  },
  {
   "cell_type": "code",
   "execution_count": null,
   "id": "76a53f30",
   "metadata": {},
   "outputs": [],
   "source": [
    "n = 10\n",
    "while True:\n",
    "    if n == 1:\n",
    "        break\n",
    "    elif n%2 == 0:\n",
    "        n = n//2\n",
    "    else:\n",
    "        n = 3*n + 1"
   ]
  },
  {
   "cell_type": "markdown",
   "id": "79bf6b2d",
   "metadata": {},
   "source": [
    "### Answers:\n",
    "\n",
    "1."
   ]
  },
  {
   "cell_type": "code",
   "execution_count": 7,
   "id": "5fff9f27",
   "metadata": {},
   "outputs": [],
   "source": [
    "def LetInWord(let,word):\n",
    "    index_list = []\n",
    "    for i in range(len(word)):\n",
    "        if let == word[i]:\n",
    "            index_list.append(i)\n",
    "    return index_list"
   ]
  },
  {
   "cell_type": "code",
   "execution_count": 8,
   "id": "47844aee",
   "metadata": {},
   "outputs": [
    {
     "data": {
      "text/plain": [
       "[1, 3, 5]"
      ]
     },
     "execution_count": 8,
     "metadata": {},
     "output_type": "execute_result"
    }
   ],
   "source": [
    "LetInWord('a','banana')"
   ]
  },
  {
   "cell_type": "markdown",
   "id": "03642db3",
   "metadata": {},
   "source": [
    "2. If a condition is met, the function returns itself.\n",
    "3."
   ]
  },
  {
   "cell_type": "code",
   "execution_count": null,
   "id": "877c50ed",
   "metadata": {},
   "outputs": [],
   "source": [
    "n = 10              # Itialize n with a value of 10\n",
    "while True:         # Infinite loop\n",
    "    if n == 1:      # If n is 1 ...\n",
    "        break       # ... exit the loop\n",
    "    elif n%2 == 0:  # If n is even ...\n",
    "        n = n//2    # ... divide by 2 (integer division!)\n",
    "    else:           # Elsewise ...\n",
    "        n = 3*n + 1 # ... multiply by 3 and add 1"
   ]
  },
  {
   "cell_type": "markdown",
   "id": "711a4d56",
   "metadata": {},
   "source": [
    "## Notes\n",
    "\n",
    "### Adding color to text using `colorama`"
   ]
  },
  {
   "cell_type": "markdown",
   "id": "0aa7a80f",
   "metadata": {},
   "source": [
    "You can use the `colorama` library to add color to printed text.  There are several ways to do with, so please consult the library documentation for additional methods [https://pypi.org/project/colorama/]."
   ]
  },
  {
   "cell_type": "code",
   "execution_count": 1,
   "id": "2ecafb20",
   "metadata": {},
   "outputs": [],
   "source": [
    "import colorama"
   ]
  },
  {
   "cell_type": "markdown",
   "id": "9b55a0c7",
   "metadata": {},
   "source": [
    "My preferred method is to insert ANSI color codes into text strings."
   ]
  },
  {
   "cell_type": "code",
   "execution_count": 1,
   "id": "392347f9",
   "metadata": {},
   "outputs": [
    {
     "name": "stdout",
     "output_type": "stream",
     "text": [
      "A string with some \u001b[31mred text\n"
     ]
    }
   ],
   "source": [
    "print(\"A string with some \" + \"\\033[31m\" + \"red text.\")"
   ]
  },
  {
   "cell_type": "code",
   "execution_count": 2,
   "id": "95e3aff4",
   "metadata": {},
   "outputs": [
    {
     "name": "stdout",
     "output_type": "stream",
     "text": [
      "A string with some \u001b[31mred text \u001b[32mand some green text.\n"
     ]
    }
   ],
   "source": [
    "print(\"A string with some \" + \"\\033[31m\" + \"red text \" + \"\\033[32m\" + \"and some green text.\")"
   ]
  },
  {
   "cell_type": "code",
   "execution_count": 3,
   "id": "fc0946f3",
   "metadata": {},
   "outputs": [
    {
     "name": "stdout",
     "output_type": "stream",
     "text": [
      "A string with some \u001b[31mred text \u001b[30mand some \u001b[32mgreen text.\n"
     ]
    }
   ],
   "source": [
    "print(\"A string with some \" + \"\\033[31m\" + \"red text \" + \"\\033[30m\" + \"and some \" + \"\\033[32m\" + \"green text.\")"
   ]
  },
  {
   "cell_type": "code",
   "execution_count": 5,
   "id": "1892bd13",
   "metadata": {},
   "outputs": [
    {
     "name": "stdout",
     "output_type": "stream",
     "text": [
      "If we print some \u001b[31mC\u001b[32mO\u001b[33mL\u001b[34mO\u001b[35mR\u001b[36mS\n",
      "Any other text we print in the same cell will be the last color.\n",
      "\u001b[30mWe can avoid this by switching back to blank.\n",
      "Now anything we print will be blank.\n"
     ]
    }
   ],
   "source": [
    "print(\"If we print some \" + \"\\033[31m\" + \"C\" + \"\\033[32m\" + \"O\" + \"\\033[33m\" + \"L\" + \"\\033[34m\" + \"O\" \n",
    "      + \"\\033[35m\" + \"R\" + \"\\033[36m\" + \"S\")\n",
    "print(\"Any other text we print in the same cell will be the last color.\")\n",
    "print(\"\\033[30m\" + \"We can avoid this by switching back to blank.\")\n",
    "print(\"Now anything we print will be blank.\")"
   ]
  },
  {
   "cell_type": "code",
   "execution_count": null,
   "id": "95f6878d",
   "metadata": {},
   "outputs": [],
   "source": []
  }
 ],
 "metadata": {
  "kernelspec": {
   "display_name": "Python 3 (ipykernel)",
   "language": "python",
   "name": "python3"
  },
  "language_info": {
   "codemirror_mode": {
    "name": "ipython",
    "version": 3
   },
   "file_extension": ".py",
   "mimetype": "text/x-python",
   "name": "python",
   "nbconvert_exporter": "python",
   "pygments_lexer": "ipython3",
   "version": "3.9.7"
  },
  "latex_envs": {
   "LaTeX_envs_menu_present": true,
   "autoclose": false,
   "autocomplete": false,
   "bibliofile": "biblio.bib",
   "cite_by": "apalike",
   "current_citInitial": 1,
   "eqLabelWithNumbers": true,
   "eqNumInitial": 1,
   "hotkeys": {
    "equation": "Ctrl-E",
    "itemize": "Ctrl-I"
   },
   "labels_anchors": false,
   "latex_user_defs": false,
   "report_style_numbering": false,
   "user_envs_cfg": false
  },
  "varInspector": {
   "cols": {
    "lenName": 16,
    "lenType": 16,
    "lenVar": 40
   },
   "kernels_config": {
    "python": {
     "delete_cmd_postfix": "",
     "delete_cmd_prefix": "del ",
     "library": "var_list.py",
     "varRefreshCmd": "print(var_dic_list())"
    },
    "r": {
     "delete_cmd_postfix": ") ",
     "delete_cmd_prefix": "rm(",
     "library": "var_list.r",
     "varRefreshCmd": "cat(var_dic_list()) "
    }
   },
   "types_to_exclude": [
    "module",
    "function",
    "builtin_function_or_method",
    "instance",
    "_Feature"
   ],
   "window_display": false
  }
 },
 "nbformat": 4,
 "nbformat_minor": 5
}
