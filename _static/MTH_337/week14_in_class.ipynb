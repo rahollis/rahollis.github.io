{
 "cells": [
  {
   "cell_type": "markdown",
   "id": "0488226e",
   "metadata": {},
   "source": [
    "# Week 14\n",
    "\n",
    "## Quiz\n",
    "\n",
    "1. How would you open a text file so that you can modify it in Python?\n",
    "\n",
    "2. What is the purpose of the character `\\n`?\n",
    "\n",
    "3. How do you decrypt a message that has been encrypted using a shift-5 cipher?\n",
    "\n",
    "4. What do you need to do in order to decrypt a message when you don't know the encryption key?"
   ]
  },
  {
   "cell_type": "markdown",
   "id": "0800ffe6",
   "metadata": {},
   "source": [
    "### Answers:\n",
    "1. "
   ]
  },
  {
   "cell_type": "code",
   "execution_count": null,
   "id": "ee98b5f5",
   "metadata": {},
   "outputs": [],
   "source": [
    "f=open(filename,'w')\n",
    "\n",
    "f.close()"
   ]
  },
  {
   "cell_type": "code",
   "execution_count": null,
   "id": "eda0626d",
   "metadata": {},
   "outputs": [],
   "source": [
    "with open(filename,'w') as f:"
   ]
  },
  {
   "cell_type": "markdown",
   "id": "c7b961ab",
   "metadata": {},
   "source": [
    "2. Makes a new line in the file."
   ]
  },
  {
   "cell_type": "markdown",
   "id": "8e1dd07b",
   "metadata": {},
   "source": [
    "3. Loop through each character, find the index in alphabet, subtract 5, graph the new character from alphabet.\n",
    "   Encrypt again using a shift of -5."
   ]
  },
  {
   "cell_type": "markdown",
   "id": "04579d60",
   "metadata": {},
   "source": [
    "4. Decrypt using all possible keys.  Then check each message by counting the number of words that appear in the dictionary. The percentage of words should be above a given threshhold, e.g. 75%."
   ]
  },
  {
   "cell_type": "markdown",
   "id": "d85e2deb",
   "metadata": {},
   "source": [
    "### Notes"
   ]
  },
  {
   "cell_type": "code",
   "execution_count": 6,
   "id": "31574dc9",
   "metadata": {},
   "outputs": [
    {
     "name": "stdout",
     "output_type": "stream",
     "text": [
      "['L', 'e', 'I', 'm', 'o', ' ', 't', 'r', 'u', ',', ' ', ' ', 'u', 'f', 'h', '#', 'k', ' ', 'a', 'y', 'r', 'a', 'e', '#']\n"
     ]
    }
   ],
   "source": [
    "key = 3\n",
    "message = 'LeImo tru,  ufh#k ayrae#'\n",
    "mlist = list(message)\n",
    "print(mlist)"
   ]
  },
  {
   "cell_type": "code",
   "execution_count": 7,
   "id": "0ed9567c",
   "metadata": {},
   "outputs": [],
   "source": [
    "import numpy as np"
   ]
  },
  {
   "cell_type": "code",
   "execution_count": 8,
   "id": "ec416531",
   "metadata": {},
   "outputs": [
    {
     "data": {
      "text/plain": [
       "array(['L', 'e', 'I', 'm', 'o', ' ', 't', 'r', 'u', ',', ' ', ' ', 'u',\n",
       "       'f', 'h', '#', 'k', ' ', 'a', 'y', 'r', 'a', 'e', '#'], dtype='<U1')"
      ]
     },
     "execution_count": 8,
     "metadata": {},
     "output_type": "execute_result"
    }
   ],
   "source": [
    "marr = np.array(mlist)\n",
    "marr"
   ]
  },
  {
   "cell_type": "code",
   "execution_count": 9,
   "id": "3fabe38d",
   "metadata": {},
   "outputs": [
    {
     "data": {
      "text/plain": [
       "array([['L', 'e', 'I', 'm', 'o', ' ', 't', 'r'],\n",
       "       ['u', ',', ' ', ' ', 'u', 'f', 'h', '#'],\n",
       "       ['k', ' ', 'a', 'y', 'r', 'a', 'e', '#']], dtype='<U1')"
      ]
     },
     "execution_count": 9,
     "metadata": {},
     "output_type": "execute_result"
    }
   ],
   "source": [
    "marr = np.reshape(marr,(3,8))\n",
    "marr"
   ]
  },
  {
   "cell_type": "code",
   "execution_count": 15,
   "id": "df1b9a49",
   "metadata": {},
   "outputs": [
    {
     "name": "stdout",
     "output_type": "stream",
     "text": [
      "['L', 'e', 'I', 'm', 'o', ' ', 't', 'r', 'u', ',', ' ', ' ', 'u', '#', 'f', 'h', 'k', ' ', 'a', 'y', 'r', 'a', 'e']\n"
     ]
    }
   ],
   "source": [
    "message = 'LeImo tru,  ufhk ayrae'\n",
    "mlist = list(message)\n",
    "mlist.insert(-9,'#')\n",
    "print(mlist)"
   ]
  },
  {
   "cell_type": "code",
   "execution_count": 14,
   "id": "614534a5",
   "metadata": {},
   "outputs": [
    {
     "data": {
      "text/plain": [
       "'LeImo tru,  u&fhk ayrae'"
      ]
     },
     "execution_count": 14,
     "metadata": {},
     "output_type": "execute_result"
    }
   ],
   "source": [
    "message[:-9] + '&' + message[-9:]"
   ]
  },
  {
   "cell_type": "code",
   "execution_count": null,
   "id": "49370a97",
   "metadata": {},
   "outputs": [],
   "source": []
  }
 ],
 "metadata": {
  "kernelspec": {
   "display_name": "Python 3 (ipykernel)",
   "language": "python",
   "name": "python3"
  },
  "language_info": {
   "codemirror_mode": {
    "name": "ipython",
    "version": 3
   },
   "file_extension": ".py",
   "mimetype": "text/x-python",
   "name": "python",
   "nbconvert_exporter": "python",
   "pygments_lexer": "ipython3",
   "version": "3.9.12"
  }
 },
 "nbformat": 4,
 "nbformat_minor": 5
}
