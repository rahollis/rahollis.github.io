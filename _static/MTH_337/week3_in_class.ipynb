{
 "cells": [
  {
   "cell_type": "code",
   "execution_count": null,
   "id": "8f01b4f6",
   "metadata": {},
   "outputs": [],
   "source": [
    "import math"
   ]
  },
  {
   "cell_type": "markdown",
   "id": "5c76a713",
   "metadata": {},
   "source": [
    "# Week 3\n",
    "\n",
    "## Quiz\n",
    "\n",
    "1. What is the difference between a list and a tuple?\n",
    "\n",
    "2. Given a list `my_list`, how can you access the last item in the list?\n",
    "\n",
    "3. Why does the while look below go on forever?"
   ]
  },
  {
   "cell_type": "code",
   "execution_count": null,
   "id": "c1dd09d6",
   "metadata": {},
   "outputs": [],
   "source": [
    "n=0\n",
    "while n < 20:\n",
    "    print(n)"
   ]
  },
  {
   "cell_type": "markdown",
   "id": "de6be5d0",
   "metadata": {},
   "source": [
    "4. Identify and correct the error."
   ]
  },
  {
   "cell_type": "code",
   "execution_count": 8,
   "id": "36e369e4",
   "metadata": {},
   "outputs": [
    {
     "ename": "NameError",
     "evalue": "name 'sin' is not defined",
     "output_type": "error",
     "traceback": [
      "\u001b[1;31m---------------------------------------------------------------------------\u001b[0m",
      "\u001b[1;31mNameError\u001b[0m                                 Traceback (most recent call last)",
      "\u001b[1;32m~\\AppData\\Local\\Temp/ipykernel_12764/2097557198.py\u001b[0m in \u001b[0;36m<module>\u001b[1;34m\u001b[0m\n\u001b[0;32m      1\u001b[0m \u001b[1;32mimport\u001b[0m \u001b[0mmath\u001b[0m\u001b[1;33m\u001b[0m\u001b[1;33m\u001b[0m\u001b[0m\n\u001b[1;32m----> 2\u001b[1;33m \u001b[0msin\u001b[0m\u001b[1;33m(\u001b[0m\u001b[1;36m0\u001b[0m\u001b[1;33m)\u001b[0m\u001b[1;33m\u001b[0m\u001b[1;33m\u001b[0m\u001b[0m\n\u001b[0m",
      "\u001b[1;31mNameError\u001b[0m: name 'sin' is not defined"
     ]
    }
   ],
   "source": [
    "import math\n",
    "sin(0)"
   ]
  },
  {
   "cell_type": "markdown",
   "id": "6f74c4d9",
   "metadata": {},
   "source": [
    "#### Answers:\n",
    "1. Lists are mutable while tuples are immutable."
   ]
  },
  {
   "cell_type": "code",
   "execution_count": 23,
   "id": "f3de9aea",
   "metadata": {},
   "outputs": [],
   "source": [
    "my_list = [3,76,2,395,492,49]"
   ]
  },
  {
   "cell_type": "code",
   "execution_count": 24,
   "id": "d924df89",
   "metadata": {},
   "outputs": [
    {
     "data": {
      "text/plain": [
       "49"
      ]
     },
     "execution_count": 24,
     "metadata": {},
     "output_type": "execute_result"
    }
   ],
   "source": [
    "my_list[-1]"
   ]
  },
  {
   "cell_type": "code",
   "execution_count": 25,
   "id": "023bef6d",
   "metadata": {},
   "outputs": [],
   "source": [
    "my_list.reverse()"
   ]
  },
  {
   "cell_type": "code",
   "execution_count": 26,
   "id": "50f22676",
   "metadata": {},
   "outputs": [
    {
     "data": {
      "text/plain": [
       "49"
      ]
     },
     "execution_count": 26,
     "metadata": {},
     "output_type": "execute_result"
    }
   ],
   "source": [
    "my_list[0]"
   ]
  },
  {
   "cell_type": "code",
   "execution_count": 28,
   "id": "3e1fe5c3",
   "metadata": {},
   "outputs": [
    {
     "data": {
      "text/plain": [
       "3"
      ]
     },
     "execution_count": 28,
     "metadata": {},
     "output_type": "execute_result"
    }
   ],
   "source": [
    "my_list.pop(len(my_list)-1)"
   ]
  },
  {
   "cell_type": "code",
   "execution_count": 29,
   "id": "69a6b8d2",
   "metadata": {},
   "outputs": [
    {
     "data": {
      "text/plain": [
       "[49, 492, 395, 2, 76]"
      ]
     },
     "execution_count": 29,
     "metadata": {},
     "output_type": "execute_result"
    }
   ],
   "source": [
    "my_list"
   ]
  },
  {
   "cell_type": "code",
   "execution_count": 30,
   "id": "3db45605",
   "metadata": {},
   "outputs": [
    {
     "name": "stdout",
     "output_type": "stream",
     "text": [
      "0\n",
      "1\n",
      "2\n",
      "3\n",
      "4\n",
      "5\n",
      "6\n",
      "7\n",
      "8\n",
      "9\n",
      "10\n",
      "11\n",
      "12\n",
      "13\n",
      "14\n",
      "15\n",
      "16\n",
      "17\n",
      "18\n",
      "19\n"
     ]
    }
   ],
   "source": [
    "n=0\n",
    "while n < 20:\n",
    "    print(n)\n",
    "    n += 1"
   ]
  },
  {
   "cell_type": "code",
   "execution_count": 31,
   "id": "01003d35",
   "metadata": {},
   "outputs": [
    {
     "data": {
      "text/plain": [
       "0.0"
      ]
     },
     "execution_count": 31,
     "metadata": {},
     "output_type": "execute_result"
    }
   ],
   "source": [
    "math.sin(0)"
   ]
  },
  {
   "cell_type": "markdown",
   "id": "325c6519",
   "metadata": {},
   "source": [
    "## Notes\n",
    "\n",
    "### Code comments\n",
    "\n",
    "Comments can be added to code using the hashtag `#`\n",
    "\n",
    "Python ignores any and all characters after the `#`\n",
    "\n",
    "Criteria for code comments\n",
    "1. describing what the line of code does\n",
    "2. be specific\n",
    "3. sort and to the point"
   ]
  },
  {
   "cell_type": "code",
   "execution_count": null,
   "id": "df0fc7e1",
   "metadata": {},
   "outputs": [],
   "source": [
    "def Divisors(num):                       # Define divisors function with positive integer input\n",
    "    list_of_divisors = []                # Define a list variable to store the divisors\n",
    "    for div in range(1,num+1):           # loop through all possible divisors\n",
    "        if num%div == 0:                 # check if div is a divisor\n",
    "            list_of_divisors.append(div) # if it is, add it to the list of divisors\n",
    "    return list_of_divisors              # return the list of divisors as output"
   ]
  },
  {
   "cell_type": "markdown",
   "id": "f5e7b677",
   "metadata": {},
   "source": [
    "For long comments or multi-line comments use triple quotes."
   ]
  },
  {
   "cell_type": "code",
   "execution_count": null,
   "id": "7539feb2",
   "metadata": {},
   "outputs": [],
   "source": [
    "\"\"\"This is a long comment that can be\n",
    "entered onto a new line and continued\n",
    "for as long as you would like\"\"\"\n",
    "def IsPrime(num):                               # define function IsPrime with integer input num\n",
    "    for div in range(2,int(math.sqrt(num)) +1): # loop through possible divisors of num, up to the square root\n",
    "        if num%div == 0:                        # check if the loop variable is a divisor\n",
    "            return False                        # if it is, then num is not prime and False is returned\n",
    "    return True                                 # if we get through the loop, then no divisors and num is prime"
   ]
  },
  {
   "cell_type": "markdown",
   "id": "8de0ee35",
   "metadata": {},
   "source": [
    "### Project Report\n",
    "\n",
    "Your target audience is just an average person.  You should always be asking yourself, \"What am I trying to tell the reader?\"\n",
    "\n",
    "#### Introduction\n",
    "1. Background info and motivations\n",
    "   * mathematical definitions\n",
    "   * any other background from other fields\n",
    "   * Why should the reader care?\n",
    "   * Are there any applications?\n",
    "2. Goals\n",
    "   * What do you want the reader to take away from this project\n",
    "3. Plan\n",
    "   * How are you going to go about achieving the goals?\n",
    "   * What are the steps you are going to take to get the reader to the final goal?\n",
    "   \n",
    "#### Narrative and Code\n",
    "\n",
    "2. Results section\n",
    "\n",
    "#### Conclusion\n",
    "1. Remind reader of the goals\n",
    "2. Review the procedure\n",
    "3. Summarize the results\n",
    "\n",
    "#### References\n",
    "Everything that did not come out of your own gray matter needs to be cited in the text with a full reference listed here."
   ]
  },
  {
   "cell_type": "markdown",
   "id": "4097ef1c",
   "metadata": {},
   "source": [
    "### Graphing using `matplotlib.pyplot`"
   ]
  },
  {
   "cell_type": "code",
   "execution_count": 32,
   "id": "ccf77ab3",
   "metadata": {},
   "outputs": [],
   "source": [
    "import matplotlib.pyplot as plt"
   ]
  },
  {
   "cell_type": "code",
   "execution_count": 34,
   "id": "7bf8a65a",
   "metadata": {},
   "outputs": [
    {
     "data": {
      "text/plain": [
       "[0, 1, 2, 3, 4, 5, 6, 7, 8, 9, 10]"
      ]
     },
     "execution_count": 34,
     "metadata": {},
     "output_type": "execute_result"
    }
   ],
   "source": [
    "horiz = [n for n in range(11)]\n",
    "horiz"
   ]
  },
  {
   "cell_type": "code",
   "execution_count": 37,
   "id": "63e57899",
   "metadata": {},
   "outputs": [
    {
     "data": {
      "text/plain": [
       "[0, 1, 2, 3, 4, 5, 6, 7, 8, 9, 10]"
      ]
     },
     "execution_count": 37,
     "metadata": {},
     "output_type": "execute_result"
    }
   ],
   "source": [
    "# This is the same as the above\n",
    "horiz = []\n",
    "for n in range(11):\n",
    "    horiz.append(n)\n",
    "horiz"
   ]
  },
  {
   "cell_type": "code",
   "execution_count": 35,
   "id": "980d4857",
   "metadata": {},
   "outputs": [
    {
     "data": {
      "text/plain": [
       "[7, 5, 5, 7, 11, 17, 25, 35, 47, 61, 77]"
      ]
     },
     "execution_count": 35,
     "metadata": {},
     "output_type": "execute_result"
    }
   ],
   "source": [
    "vert = [h**2 - 3*h+7 for h in horiz]\n",
    "vert"
   ]
  },
  {
   "cell_type": "code",
   "execution_count": 38,
   "id": "85b10fd6",
   "metadata": {},
   "outputs": [
    {
     "data": {
      "text/plain": [
       "[7, 5, 5, 7, 11, 17, 25, 35, 47, 61, 77]"
      ]
     },
     "execution_count": 38,
     "metadata": {},
     "output_type": "execute_result"
    }
   ],
   "source": [
    "vert = []\n",
    "for h in horiz:\n",
    "    vert.append(h**2 - 3*h+7)\n",
    "vert"
   ]
  },
  {
   "cell_type": "code",
   "execution_count": 50,
   "id": "21b9a112",
   "metadata": {},
   "outputs": [
    {
     "data": {
      "image/png": "[encoded data removed]",
      "text/plain": [
       "<Figure size 432x288 with 1 Axes>"
      ]
     },
     "metadata": {
      "needs_background": "light"
     },
     "output_type": "display_data"
    }
   ],
   "source": [
    "plt.plot(horiz,vert,'r-.')\n",
    "plt.show()"
   ]
  },
  {
   "cell_type": "code",
   "execution_count": 59,
   "id": "812fe80e",
   "metadata": {},
   "outputs": [
    {
     "data": {
      "image/png": "[encoded data removed]",
      "text/plain": [
       "<Figure size 432x288 with 1 Axes>"
      ]
     },
     "metadata": {
      "needs_background": "light"
     },
     "output_type": "display_data"
    }
   ],
   "source": [
    "x = [i for i in range(20)]\n",
    "y = [i**3 - 7*i**2 + 32 for i in x]\n",
    "plt.plot(x,y,'go')\n",
    "plt.title('Graph of $ y= x^3-7x^2+32 $')\n",
    "plt.xlabel('$x$ axis')\n",
    "plt.ylabel('$y$ axis')\n",
    "plt.xlim([-1,16])\n",
    "plt.ylim([-100,2000])\n",
    "plt.show()"
   ]
  },
  {
   "cell_type": "code",
   "execution_count": 60,
   "id": "fa1b8c6a",
   "metadata": {},
   "outputs": [],
   "source": [
    "import math"
   ]
  },
  {
   "cell_type": "code",
   "execution_count": 61,
   "id": "b73fdc2f",
   "metadata": {},
   "outputs": [],
   "source": [
    "x_vals = [math.pi*n/25 - 2*math.pi for n in range(101)]\n",
    "y_vals = [math.cos(x) for x in x_vals]"
   ]
  },
  {
   "cell_type": "code",
   "execution_count": 66,
   "id": "c97e2a18",
   "metadata": {},
   "outputs": [
    {
     "data": {
      "image/png": "[encoded data removed]",
      "text/plain": [
       "<Figure size 432x288 with 1 Axes>"
      ]
     },
     "metadata": {
      "needs_background": "light"
     },
     "output_type": "display_data"
    }
   ],
   "source": [
    "plt.plot(x_vals,y_vals)\n",
    "plt.title('Graph of $ y = \\cos(x) $ on $ [-2\\pi,2\\pi] $')\n",
    "plt.xlabel('$x$ values in radians')\n",
    "plt.ylabel('$y$ values')\n",
    "xticklocs = [math.pi*n/2 - 2*math.pi for n in range(9)]\n",
    "xticklabs = ['$-2\\pi$','$\\\\frac{-3\\pi}{2}$','$-\\pi$','$\\\\frac{-\\pi}{2}$','0',\n",
    "             '$\\\\frac{\\pi}{2}$','$\\pi$','$\\\\frac{3\\pi}{2}$','$2\\pi$']\n",
    "plt.xticks(xticklocs,xticklabs)\n",
    "plt.show()"
   ]
  },
  {
   "cell_type": "code",
   "execution_count": null,
   "id": "6cc9febd",
   "metadata": {},
   "outputs": [],
   "source": []
  },
  {
   "cell_type": "code",
   "execution_count": null,
   "id": "d4dca0d9",
   "metadata": {},
   "outputs": [],
   "source": []
  },
  {
   "cell_type": "code",
   "execution_count": null,
   "id": "45c68e87",
   "metadata": {},
   "outputs": [],
   "source": []
  },
  {
   "cell_type": "code",
   "execution_count": null,
   "id": "a567ee0e",
   "metadata": {},
   "outputs": [],
   "source": []
  },
  {
   "cell_type": "markdown",
   "id": "8affbfe7",
   "metadata": {},
   "source": [
    "### Project 2"
   ]
  },
  {
   "cell_type": "code",
   "execution_count": null,
   "id": "9bd50415",
   "metadata": {},
   "outputs": [],
   "source": []
  }
 ],
 "metadata": {
  "kernelspec": {
   "display_name": "Python 3 (ipykernel)",
   "language": "python",
   "name": "python3"
  },
  "language_info": {
   "codemirror_mode": {
    "name": "ipython",
    "version": 3
   },
   "file_extension": ".py",
   "mimetype": "text/x-python",
   "name": "python",
   "nbconvert_exporter": "python",
   "pygments_lexer": "ipython3",
   "version": "3.9.7"
  },
  "latex_envs": {
   "LaTeX_envs_menu_present": true,
   "autoclose": false,
   "autocomplete": false,
   "bibliofile": "biblio.bib",
   "cite_by": "apalike",
   "current_citInitial": 1,
   "eqLabelWithNumbers": true,
   "eqNumInitial": 1,
   "hotkeys": {
    "equation": "Ctrl-E",
    "itemize": "Ctrl-I"
   },
   "labels_anchors": false,
   "latex_user_defs": false,
   "report_style_numbering": false,
   "user_envs_cfg": false
  },
  "varInspector": {
   "cols": {
    "lenName": 16,
    "lenType": 16,
    "lenVar": 40
   },
   "kernels_config": {
    "python": {
     "delete_cmd_postfix": "",
     "delete_cmd_prefix": "del ",
     "library": "var_list.py",
     "varRefreshCmd": "print(var_dic_list())"
    },
    "r": {
     "delete_cmd_postfix": ") ",
     "delete_cmd_prefix": "rm(",
     "library": "var_list.r",
     "varRefreshCmd": "cat(var_dic_list()) "
    }
   },
   "types_to_exclude": [
    "module",
    "function",
    "builtin_function_or_method",
    "instance",
    "_Feature"
   ],
   "window_display": false
  }
 },
 "nbformat": 4,
 "nbformat_minor": 5
}
