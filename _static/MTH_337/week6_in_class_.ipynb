{
 "cells": [
  {
   "cell_type": "markdown",
   "id": "87a31901",
   "metadata": {},
   "source": [
    "# Week 6\n",
    "\n",
    "## Quiz\n",
    "\n",
    "1. Write a function to produce a bifurcation diagram for the `rate` parameter of the `pop_model` population model.\n",
    "2. Perform a parameter reduction on the following model $$ f(n) = a^{-2}[b-f(n-2)]f(n-1). $$\n",
    "3. What does the command `plt.subplot(a,b,c)` do?"
   ]
  },
  {
   "cell_type": "markdown",
   "id": "fc76180b",
   "metadata": {},
   "source": [
    "### Answers"
   ]
  },
  {
   "cell_type": "code",
   "execution_count": null,
   "id": "7465049e",
   "metadata": {},
   "outputs": [],
   "source": [
    "def bifurcation(init_pop,time):\n",
    "    para_vals = [i/25 for i in range(101)]  # 101 points between 0 and 4\n",
    "    pop_vals = [pop_model(init_pop,i,time).pop(-1) for i in para_vals]\n",
    "    plt.plot(para_vals,pop_vals)"
   ]
  },
  {
   "cell_type": "markdown",
   "id": "383acfbb",
   "metadata": {},
   "source": [
    "$$ f(n) = a^{-2}[b-f(n-2)]f(n-1) $$\n",
    "$$ f(n)/b^2 = a^{-2}[b-f(n-2)]f(n-1)/b^2 $$\n",
    "$$ \\frac{f(n)}{b} \\frac{1}{b} = a^{-2}[1-\\frac{f(n-2)}{b}]\\frac{f(n-1)}{b} $$\n",
    "$$ g(n) \\frac{1}{b} = a^{-2}[1-g(n-2)]g(n-1) $$\n",
    "$$ g(n) = \\frac{b}{a^2}[1-g(n-2)]g(n-1) $$\n",
    "$$ g(n) = c[1-g(n-2)]g(n-1) $$"
   ]
  },
  {
   "cell_type": "markdown",
   "id": "106127d9",
   "metadata": {},
   "source": [
    "3.  Subplot command creates an a-by-b grid of plots and places the current plot in position c."
   ]
  },
  {
   "cell_type": "markdown",
   "id": "f17f4216",
   "metadata": {},
   "source": [
    "## Notes"
   ]
  },
  {
   "cell_type": "markdown",
   "id": "7704514a",
   "metadata": {},
   "source": [
    "### Arrays and NumPy"
   ]
  },
  {
   "cell_type": "code",
   "execution_count": 1,
   "id": "c6c78928",
   "metadata": {},
   "outputs": [],
   "source": [
    "import numpy as np"
   ]
  },
  {
   "cell_type": "code",
   "execution_count": 4,
   "id": "a5440ea0",
   "metadata": {},
   "outputs": [
    {
     "name": "stdout",
     "output_type": "stream",
     "text": [
      "[[ 1  2  3  4]\n",
      " [ 5  6  7  8]\n",
      " [ 9 10 11 12]]\n"
     ]
    }
   ],
   "source": [
    "array1 = np.array([[1,2,3,4],[5,6,7,8],[9,10,11,12]])\n",
    "print(array1)"
   ]
  },
  {
   "cell_type": "code",
   "execution_count": 5,
   "id": "1e3d8f7b",
   "metadata": {},
   "outputs": [
    {
     "name": "stdout",
     "output_type": "stream",
     "text": [
      "[[0. 0.]\n",
      " [0. 0.]\n",
      " [0. 0.]\n",
      " [0. 0.]]\n"
     ]
    }
   ],
   "source": [
    "zeros1 = np.zeros((4,2))\n",
    "print(zeros1)"
   ]
  },
  {
   "cell_type": "code",
   "execution_count": 6,
   "id": "3d2a0f3f",
   "metadata": {},
   "outputs": [
    {
     "name": "stdout",
     "output_type": "stream",
     "text": [
      "[[0 0]\n",
      " [0 0]\n",
      " [0 0]\n",
      " [0 0]]\n"
     ]
    }
   ],
   "source": [
    "zeros2 = np.zeros((4,2),dtype=int)\n",
    "print(zeros2)"
   ]
  },
  {
   "cell_type": "code",
   "execution_count": 8,
   "id": "170b9a95",
   "metadata": {},
   "outputs": [
    {
     "name": "stdout",
     "output_type": "stream",
     "text": [
      "[[1 1 1 1 1 1 1 1 1]\n",
      " [1 1 1 1 1 1 1 1 1]\n",
      " [1 1 1 1 1 1 1 1 1]\n",
      " [1 1 1 1 1 1 1 1 1]\n",
      " [1 1 1 1 1 1 1 1 1]]\n"
     ]
    }
   ],
   "source": [
    "ones1 = np.ones((5,9),dtype=int)\n",
    "print(ones1)"
   ]
  },
  {
   "cell_type": "code",
   "execution_count": 18,
   "id": "29b6537b",
   "metadata": {},
   "outputs": [
    {
     "data": {
      "text/plain": [
       "7"
      ]
     },
     "execution_count": 18,
     "metadata": {},
     "output_type": "execute_result"
    }
   ],
   "source": [
    "array1[1,2]"
   ]
  },
  {
   "cell_type": "code",
   "execution_count": 10,
   "id": "d8f2f5e2",
   "metadata": {},
   "outputs": [
    {
     "data": {
      "text/plain": [
       "array([6, 7])"
      ]
     },
     "execution_count": 10,
     "metadata": {},
     "output_type": "execute_result"
    }
   ],
   "source": [
    "array1[1,1:3]"
   ]
  },
  {
   "cell_type": "code",
   "execution_count": 11,
   "id": "0d261f0f",
   "metadata": {},
   "outputs": [
    {
     "data": {
      "text/plain": [
       "array([6, 7, 8])"
      ]
     },
     "execution_count": 11,
     "metadata": {},
     "output_type": "execute_result"
    }
   ],
   "source": [
    "array1[1,1:]"
   ]
  },
  {
   "cell_type": "code",
   "execution_count": 12,
   "id": "9ecfc060",
   "metadata": {},
   "outputs": [
    {
     "data": {
      "text/plain": [
       "array([3, 7])"
      ]
     },
     "execution_count": 12,
     "metadata": {},
     "output_type": "execute_result"
    }
   ],
   "source": [
    "array1[:2,2]"
   ]
  },
  {
   "cell_type": "code",
   "execution_count": 13,
   "id": "d97bc326",
   "metadata": {},
   "outputs": [
    {
     "data": {
      "text/plain": [
       "array([[2, 3, 4],\n",
       "       [6, 7, 8]])"
      ]
     },
     "execution_count": 13,
     "metadata": {},
     "output_type": "execute_result"
    }
   ],
   "source": [
    "array1[:2,1:]"
   ]
  },
  {
   "cell_type": "code",
   "execution_count": 14,
   "id": "abb91852",
   "metadata": {},
   "outputs": [
    {
     "data": {
      "text/plain": [
       "(2, 3)"
      ]
     },
     "execution_count": 14,
     "metadata": {},
     "output_type": "execute_result"
    }
   ],
   "source": [
    "np.shape(array1[:2,1:])"
   ]
  },
  {
   "cell_type": "code",
   "execution_count": 15,
   "id": "7e13a7e3",
   "metadata": {},
   "outputs": [
    {
     "data": {
      "text/plain": [
       "array([ 3,  7, 11])"
      ]
     },
     "execution_count": 15,
     "metadata": {},
     "output_type": "execute_result"
    }
   ],
   "source": [
    "array1[0:3,2]"
   ]
  },
  {
   "cell_type": "code",
   "execution_count": 16,
   "id": "260d5206",
   "metadata": {},
   "outputs": [
    {
     "data": {
      "text/plain": [
       "array([ 3,  7, 11])"
      ]
     },
     "execution_count": 16,
     "metadata": {},
     "output_type": "execute_result"
    }
   ],
   "source": [
    "array1[:,2]"
   ]
  },
  {
   "cell_type": "code",
   "execution_count": 19,
   "id": "e657bf13",
   "metadata": {},
   "outputs": [
    {
     "data": {
      "text/plain": [
       "array([[1, 2]])"
      ]
     },
     "execution_count": 19,
     "metadata": {},
     "output_type": "execute_result"
    }
   ],
   "source": [
    "array1[:np.shape(array1)[0]//2,:np.shape(array1)[1]//2]"
   ]
  },
  {
   "cell_type": "code",
   "execution_count": 20,
   "id": "20511ae4",
   "metadata": {},
   "outputs": [
    {
     "data": {
      "text/plain": [
       "array([[1, 2]])"
      ]
     },
     "execution_count": 20,
     "metadata": {},
     "output_type": "execute_result"
    }
   ],
   "source": [
    "m,n = np.shape(array1)\n",
    "array1[:m//2,:n//2]"
   ]
  },
  {
   "cell_type": "code",
   "execution_count": 21,
   "id": "fd001742",
   "metadata": {},
   "outputs": [
    {
     "name": "stdout",
     "output_type": "stream",
     "text": [
      "[[0 0 1 1 1 1 1 1 1]\n",
      " [0 0 1 1 1 1 1 1 1]\n",
      " [0 0 1 1 1 1 1 1 1]\n",
      " [0 0 1 1 1 1 1 1 1]\n",
      " [1 1 1 1 1 1 1 1 1]]\n"
     ]
    }
   ],
   "source": [
    "ones1[:4,:2] = zeros2\n",
    "print(ones1)"
   ]
  },
  {
   "cell_type": "code",
   "execution_count": 22,
   "id": "c5c7174e",
   "metadata": {},
   "outputs": [
    {
     "name": "stdout",
     "output_type": "stream",
     "text": [
      "[[ 0  0  1  1  1  1  1  1  1]\n",
      " [ 0  0  1  1  1  1  1  1  1]\n",
      " [ 0  0  1  1  1  1  2  3  4]\n",
      " [ 0  0  1  1  1  5  6  7  8]\n",
      " [ 1  1  1  1  1  9 10 11 12]]\n"
     ]
    }
   ],
   "source": [
    "ones1[-3:,-4:] = array1\n",
    "print(ones1)"
   ]
  },
  {
   "cell_type": "code",
   "execution_count": 23,
   "id": "42fe00b7",
   "metadata": {},
   "outputs": [
    {
     "data": {
      "text/plain": [
       "array([ 5, 11])"
      ]
     },
     "execution_count": 23,
     "metadata": {},
     "output_type": "execute_result"
    }
   ],
   "source": [
    "array1[[1,2],[0,2]]"
   ]
  },
  {
   "cell_type": "code",
   "execution_count": 25,
   "id": "0bb76745",
   "metadata": {},
   "outputs": [
    {
     "name": "stdout",
     "output_type": "stream",
     "text": [
      "[[ 1  2  3  4]\n",
      " [ 5  6  7  8]\n",
      " [ 9 10 11 12]]\n",
      "[[ 1  5  9]\n",
      " [ 2  6 10]\n",
      " [ 3  7 11]\n",
      " [ 4  8 12]]\n"
     ]
    }
   ],
   "source": [
    "array2 = np.transpose(array1)\n",
    "print(array1)\n",
    "print(array2)"
   ]
  },
  {
   "cell_type": "code",
   "execution_count": 30,
   "id": "3b68d570",
   "metadata": {},
   "outputs": [
    {
     "data": {
      "text/plain": [
       "array([[ 3, 15, 27,  0,  0],\n",
       "       [ 6, 18, 30,  0,  0],\n",
       "       [ 9, 21, 33,  0,  0],\n",
       "       [12, 24, 36,  0,  0]])"
      ]
     },
     "execution_count": 30,
     "metadata": {},
     "output_type": "execute_result"
    }
   ],
   "source": [
    "3*np.concatenate([array2,zeros2],axis=1)"
   ]
  },
  {
   "cell_type": "markdown",
   "id": "786ffe04",
   "metadata": {},
   "source": [
    "Create an array of horizontal stripes (each consisting of 2 rows) of integers.  Each stripe should be 10 wide.  The first stripe should have value 0, the second should have value 1, third, value 2, etc.  Make 5 stripes."
   ]
  },
  {
   "cell_type": "markdown",
   "id": "1ad265ca",
   "metadata": {},
   "source": [
    "Strategy 1:\n",
    "* First create all the stripes separately\n",
    "  + for the zero stripe use np.zeros((2,10))\n",
    "  + manually create the other stipes\n",
    "  + scale an array of all ones to get the other stipes\n",
    "* Then concatenate into a single array"
   ]
  },
  {
   "cell_type": "code",
   "execution_count": 38,
   "id": "133e213a",
   "metadata": {},
   "outputs": [
    {
     "data": {
      "text/plain": [
       "array([[0, 0, 0, 0, 0, 0, 0, 0, 0, 0],\n",
       "       [0, 0, 0, 0, 0, 0, 0, 0, 0, 0],\n",
       "       [1, 1, 1, 1, 1, 1, 1, 1, 1, 1],\n",
       "       [1, 1, 1, 1, 1, 1, 1, 1, 1, 1],\n",
       "       [2, 2, 2, 2, 2, 2, 2, 2, 2, 2],\n",
       "       [2, 2, 2, 2, 2, 2, 2, 2, 2, 2],\n",
       "       [3, 3, 3, 3, 3, 3, 3, 3, 3, 3],\n",
       "       [3, 3, 3, 3, 3, 3, 3, 3, 3, 3],\n",
       "       [4, 4, 4, 4, 4, 4, 4, 4, 4, 4],\n",
       "       [4, 4, 4, 4, 4, 4, 4, 4, 4, 4]])"
      ]
     },
     "execution_count": 38,
     "metadata": {},
     "output_type": "execute_result"
    }
   ],
   "source": [
    "np.concatenate([i*np.ones((2,10),dtype=int) for i in range(5)],axis=0)"
   ]
  },
  {
   "cell_type": "markdown",
   "id": "950af1fd",
   "metadata": {},
   "source": [
    "Strategy 2:\n",
    "* Start with an array of all zeros\n",
    "* Broadcast in each of the stripes\n",
    "  + for the zero stripe use np.zeros((2,10))\n",
    "  + manually create the other stipes\n",
    "  + scale an array of all ones to get the other stipes"
   ]
  },
  {
   "cell_type": "code",
   "execution_count": 33,
   "id": "dea2b46d",
   "metadata": {},
   "outputs": [
    {
     "data": {
      "text/plain": [
       "array([[0, 0, 0, 0, 0, 0, 0, 0, 0, 0],\n",
       "       [0, 0, 0, 0, 0, 0, 0, 0, 0, 0],\n",
       "       [1, 1, 1, 1, 1, 1, 1, 1, 1, 1],\n",
       "       [1, 1, 1, 1, 1, 1, 1, 1, 1, 1],\n",
       "       [2, 2, 2, 2, 2, 2, 2, 2, 2, 2],\n",
       "       [2, 2, 2, 2, 2, 2, 2, 2, 2, 2],\n",
       "       [3, 3, 3, 3, 3, 3, 3, 3, 3, 3],\n",
       "       [3, 3, 3, 3, 3, 3, 3, 3, 3, 3],\n",
       "       [4, 4, 4, 4, 4, 4, 4, 4, 4, 4],\n",
       "       [4, 4, 4, 4, 4, 4, 4, 4, 4, 4]])"
      ]
     },
     "execution_count": 33,
     "metadata": {},
     "output_type": "execute_result"
    }
   ],
   "source": [
    "A = np.zeros((10,10),dtype=int)\n",
    "for i in range(5):\n",
    "    A[2*i:2*i+2,:] = i*np.ones((2,10),dtype=int)\n",
    "A"
   ]
  },
  {
   "cell_type": "code",
   "execution_count": 34,
   "id": "92ad2f5c",
   "metadata": {},
   "outputs": [],
   "source": [
    "import matplotlib.pyplot as plt"
   ]
  },
  {
   "cell_type": "code",
   "execution_count": 35,
   "id": "5ef4d4da",
   "metadata": {},
   "outputs": [
    {
     "data": {
      "text/plain": [
       "<matplotlib.image.AxesImage at 0x1dee31fc0a0>"
      ]
     },
     "execution_count": 35,
     "metadata": {},
     "output_type": "execute_result"
    },
    {
     "data": {
      "image/png": "[encoded data removed]",
      "text/plain": [
       "<Figure size 432x288 with 1 Axes>"
      ]
     },
     "metadata": {
      "needs_background": "light"
     },
     "output_type": "display_data"
    }
   ],
   "source": [
    "plt.imshow(A)"
   ]
  },
  {
   "cell_type": "code",
   "execution_count": null,
   "id": "9c3a8c7c",
   "metadata": {},
   "outputs": [],
   "source": []
  }
 ],
 "metadata": {
  "kernelspec": {
   "display_name": "Python 3 (ipykernel)",
   "language": "python",
   "name": "python3"
  },
  "language_info": {
   "codemirror_mode": {
    "name": "ipython",
    "version": 3
   },
   "file_extension": ".py",
   "mimetype": "text/x-python",
   "name": "python",
   "nbconvert_exporter": "python",
   "pygments_lexer": "ipython3",
   "version": "3.9.7"
  },
  "varInspector": {
   "cols": {
    "lenName": 16,
    "lenType": 16,
    "lenVar": 40
   },
   "kernels_config": {
    "python": {
     "delete_cmd_postfix": "",
     "delete_cmd_prefix": "del ",
     "library": "var_list.py",
     "varRefreshCmd": "print(var_dic_list())"
    },
    "r": {
     "delete_cmd_postfix": ") ",
     "delete_cmd_prefix": "rm(",
     "library": "var_list.r",
     "varRefreshCmd": "cat(var_dic_list()) "
    }
   },
   "types_to_exclude": [
    "module",
    "function",
    "builtin_function_or_method",
    "instance",
    "_Feature"
   ],
   "window_display": false
  }
 },
 "nbformat": 4,
 "nbformat_minor": 5
}
