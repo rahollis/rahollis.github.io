{
 "cells": [
  {
   "cell_type": "markdown",
   "id": "60a6af29",
   "metadata": {},
   "source": [
    "# Week 10\n",
    "\n",
    "## Quiz\n",
    "\n",
    "1.  Write a function that takes a vote map as input and returns the political lean of the state.\n",
    "\n",
    "2.  What two criteria must every district satisfy?\n",
    "\n",
    "3.  Given a district map, write a for loop to loop through the census blocks in district 0."
   ]
  },
  {
   "cell_type": "markdown",
   "id": "53c3a023",
   "metadata": {},
   "source": [
    "### Answers"
   ]
  },
  {
   "cell_type": "code",
   "execution_count": null,
   "id": "486c8455",
   "metadata": {},
   "outputs": [],
   "source": [
    "def calculate_lean(vote_map):    \n",
    "    m,n = np.shape(vote_map)\n",
    "    favor_A = np.sum(vote_map)\n",
    "    lean = favor_A/(m*n)\n",
    "    return lean"
   ]
  },
  {
   "cell_type": "markdown",
   "id": "68099e72",
   "metadata": {},
   "source": [
    " Every district must have\n",
    " *  equal populations (equal area for this project)\n",
    " *  contiguous (one chunk)"
   ]
  },
  {
   "cell_type": "code",
   "execution_count": null,
   "id": "95a15c57",
   "metadata": {},
   "outputs": [],
   "source": [
    "for r in district_map:\n",
    "    for x in r:\n",
    "        if x == 0:\n",
    "            stuff\n",
    "            \n",
    "### OR\n",
    "\n",
    "m,n = np.shape(district_map)\n",
    "for i,j in [(i,j) for i in range(m) for j in range(n) if district_map[i,j] == 0]:\n",
    "    stuff"
   ]
  },
  {
   "cell_type": "markdown",
   "id": "b43092aa",
   "metadata": {},
   "source": [
    "## Notes"
   ]
  },
  {
   "cell_type": "code",
   "execution_count": 4,
   "id": "35018dd1",
   "metadata": {},
   "outputs": [],
   "source": [
    "f = open('morning_coffee.txt')"
   ]
  },
  {
   "cell_type": "code",
   "execution_count": 5,
   "id": "4822893e",
   "metadata": {},
   "outputs": [
    {
     "name": "stdout",
     "output_type": "stream",
     "text": [
      "11/3/2022 - 8:30am\n",
      "\n",
      "It is a foggy morning here in Buffalo New York, a good morning to\n",
      "curl up in a nest of blankets and read of book of exotic places\n",
      "and magnificent adventures.  When I left my house, there was the\n",
      "slightly sweet sent of mint in the air overpowering the usual\n",
      "smells of the city; I immediately recall memories of early\n",
      "mornings in my home town and the smell of mint from a factory that\n",
      "produces extracts for baking.  Driving to work took longer than \n",
      "usual due to the fog making it difficult to see on the highway, \n",
      "but I arrived safe and sound and only slightly later than usual.\n",
      "Now the smell of mint has been replaced with that of coffee as I \n",
      "sip from my mug contemplating the day ahead.\n"
     ]
    }
   ],
   "source": [
    "text = f.read()\n",
    "print(text)"
   ]
  },
  {
   "cell_type": "code",
   "execution_count": 13,
   "id": "4e57d3a6",
   "metadata": {},
   "outputs": [
    {
     "data": {
      "text/plain": [
       "['11/3/2022',\n",
       " '-',\n",
       " '8:30am',\n",
       " 'It',\n",
       " 'is',\n",
       " 'a',\n",
       " 'foggy',\n",
       " 'morning',\n",
       " 'here',\n",
       " 'in',\n",
       " 'Buffalo',\n",
       " 'New',\n",
       " 'York,',\n",
       " 'a',\n",
       " 'good',\n",
       " 'morning',\n",
       " 'to',\n",
       " 'curl',\n",
       " 'up',\n",
       " 'in',\n",
       " 'a',\n",
       " 'nest',\n",
       " 'of',\n",
       " 'blankets',\n",
       " 'and',\n",
       " 'read',\n",
       " 'of',\n",
       " 'book',\n",
       " 'of',\n",
       " 'exotic',\n",
       " 'places',\n",
       " 'and',\n",
       " 'magnificent',\n",
       " 'adventures.',\n",
       " 'When',\n",
       " 'I',\n",
       " 'left',\n",
       " 'my',\n",
       " 'house,',\n",
       " 'there',\n",
       " 'was',\n",
       " 'the',\n",
       " 'slightly',\n",
       " 'sweet',\n",
       " 'sent',\n",
       " 'of',\n",
       " 'mint',\n",
       " 'in',\n",
       " 'the',\n",
       " 'air',\n",
       " 'overpowering',\n",
       " 'the',\n",
       " 'usual',\n",
       " 'smells',\n",
       " 'of',\n",
       " 'the',\n",
       " 'city;',\n",
       " 'I',\n",
       " 'immediately',\n",
       " 'recall',\n",
       " 'memories',\n",
       " 'of',\n",
       " 'early',\n",
       " 'mornings',\n",
       " 'in',\n",
       " 'my',\n",
       " 'home',\n",
       " 'town',\n",
       " 'and',\n",
       " 'the',\n",
       " 'smell',\n",
       " 'of',\n",
       " 'mint',\n",
       " 'from',\n",
       " 'a',\n",
       " 'factory',\n",
       " 'that',\n",
       " 'produces',\n",
       " 'extracts',\n",
       " 'for',\n",
       " 'baking.',\n",
       " 'Driving',\n",
       " 'to',\n",
       " 'work',\n",
       " 'took',\n",
       " 'longer',\n",
       " 'than',\n",
       " 'usual',\n",
       " 'due',\n",
       " 'to',\n",
       " 'the',\n",
       " 'fog',\n",
       " 'making',\n",
       " 'it',\n",
       " 'difficult',\n",
       " 'to',\n",
       " 'see',\n",
       " 'on',\n",
       " 'the',\n",
       " 'highway,',\n",
       " 'but',\n",
       " 'I',\n",
       " 'arrived',\n",
       " 'safe',\n",
       " 'and',\n",
       " 'sound',\n",
       " 'and',\n",
       " 'only',\n",
       " 'slightly',\n",
       " 'later',\n",
       " 'than',\n",
       " 'usual.',\n",
       " 'Now',\n",
       " 'the',\n",
       " 'smell',\n",
       " 'of',\n",
       " 'mint',\n",
       " 'has',\n",
       " 'been',\n",
       " 'replaced',\n",
       " 'with',\n",
       " 'that',\n",
       " 'of',\n",
       " 'coffee',\n",
       " 'as',\n",
       " 'I',\n",
       " 'sip',\n",
       " 'from',\n",
       " 'my',\n",
       " 'mug',\n",
       " 'contemplating',\n",
       " 'the',\n",
       " 'day',\n",
       " 'ahead.']"
      ]
     },
     "execution_count": 13,
     "metadata": {},
     "output_type": "execute_result"
    }
   ],
   "source": [
    "text.split()"
   ]
  },
  {
   "cell_type": "code",
   "execution_count": 19,
   "id": "975fb029",
   "metadata": {},
   "outputs": [],
   "source": [
    "string = './The String-1000!'"
   ]
  },
  {
   "cell_type": "code",
   "execution_count": 17,
   "id": "f70406ba",
   "metadata": {},
   "outputs": [
    {
     "data": {
      "text/plain": [
       "'the string-1000'"
      ]
     },
     "execution_count": 17,
     "metadata": {},
     "output_type": "execute_result"
    }
   ],
   "source": [
    "string.strip('.,!?:;-_/')"
   ]
  },
  {
   "cell_type": "code",
   "execution_count": 20,
   "id": "b9cd153a",
   "metadata": {},
   "outputs": [
    {
     "data": {
      "text/plain": [
       "'./THE STRING-1000!'"
      ]
     },
     "execution_count": 20,
     "metadata": {},
     "output_type": "execute_result"
    }
   ],
   "source": [
    "string.upper()"
   ]
  },
  {
   "cell_type": "code",
   "execution_count": 21,
   "id": "77624b01",
   "metadata": {},
   "outputs": [
    {
     "data": {
      "text/plain": [
       "'./the string-1000!'"
      ]
     },
     "execution_count": 21,
     "metadata": {},
     "output_type": "execute_result"
    }
   ],
   "source": [
    "string.lower()"
   ]
  },
  {
   "cell_type": "code",
   "execution_count": null,
   "id": "0d8aa2f2",
   "metadata": {},
   "outputs": [],
   "source": []
  }
 ],
 "metadata": {
  "kernelspec": {
   "display_name": "Python 3 (ipykernel)",
   "language": "python",
   "name": "python3"
  },
  "language_info": {
   "codemirror_mode": {
    "name": "ipython",
    "version": 3
   },
   "file_extension": ".py",
   "mimetype": "text/x-python",
   "name": "python",
   "nbconvert_exporter": "python",
   "pygments_lexer": "ipython3",
   "version": "3.9.7"
  },
  "varInspector": {
   "cols": {
    "lenName": 16,
    "lenType": 16,
    "lenVar": 40
   },
   "kernels_config": {
    "python": {
     "delete_cmd_postfix": "",
     "delete_cmd_prefix": "del ",
     "library": "var_list.py",
     "varRefreshCmd": "print(var_dic_list())"
    },
    "r": {
     "delete_cmd_postfix": ") ",
     "delete_cmd_prefix": "rm(",
     "library": "var_list.r",
     "varRefreshCmd": "cat(var_dic_list()) "
    }
   },
   "types_to_exclude": [
    "module",
    "function",
    "builtin_function_or_method",
    "instance",
    "_Feature"
   ],
   "window_display": false
  }
 },
 "nbformat": 4,
 "nbformat_minor": 5
}
