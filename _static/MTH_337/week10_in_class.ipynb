{
 "cells": [
  {
   "cell_type": "markdown",
   "id": "969a01c7",
   "metadata": {},
   "source": [
    "# Week 10\n",
    "\n",
    "## Quiz\n",
    "\n",
    "1. Describe what `np.roll` does.\n",
    "\n",
    "2. What does the interval argument of the animation code determine?\n",
    "\n",
    "3. Write a function that takes an array of integers as input and returns an arrays of 1s where there were $k$s and 0s everywhere else."
   ]
  },
  {
   "cell_type": "code",
   "execution_count": null,
   "id": "2884395e",
   "metadata": {},
   "outputs": [],
   "source": [
    "anim = FuncAnimation(fig=fig, func=animate,  interval=100, blit=True, repeat=False)"
   ]
  },
  {
   "cell_type": "markdown",
   "id": "5db704ab",
   "metadata": {},
   "source": [
    "#### Answers:\n",
    "\n",
    "1. Shifts the entries of the array by a specified amount(s) in a specified direction(s) with anything that goes over the edge looping around.\n",
    "2. Determines the frame rate by setting the number of milliseconds between frames.\n",
    "3. "
   ]
  },
  {
   "cell_type": "code",
   "execution_count": 1,
   "id": "10e6f2d2",
   "metadata": {},
   "outputs": [],
   "source": [
    "def the_straightforward_way(arr,k):\n",
    "    m,n = np.shape(arr)\n",
    "    for i in range(m):\n",
    "        for j in range(n):\n",
    "            if arr[i,j] == k:\n",
    "                arr[i,j] = 1\n",
    "            else:\n",
    "                arr[i,j] = 0\n",
    "    return arr"
   ]
  },
  {
   "cell_type": "code",
   "execution_count": 2,
   "id": "7ec1097a",
   "metadata": {},
   "outputs": [],
   "source": [
    "def the_boolean_way(arr,k):\n",
    "    arr = arr == k\n",
    "    arr = np.array(arr,dtype = int)\n",
    "    return arr"
   ]
  },
  {
   "cell_type": "markdown",
   "id": "18467820",
   "metadata": {},
   "source": [
    "## Notes\n",
    "\n",
    "### 3D arrays"
   ]
  },
  {
   "cell_type": "code",
   "execution_count": 3,
   "id": "2642f0b7",
   "metadata": {},
   "outputs": [],
   "source": [
    "import numpy as np"
   ]
  },
  {
   "cell_type": "code",
   "execution_count": 6,
   "id": "05d56e1c",
   "metadata": {},
   "outputs": [
    {
     "name": "stdout",
     "output_type": "stream",
     "text": [
      "[[[0 0 0]\n",
      "  [0 0 0]\n",
      "  [0 0 0]\n",
      "  [0 0 0]]\n",
      "\n",
      " [[0 0 0]\n",
      "  [0 0 0]\n",
      "  [0 0 0]\n",
      "  [0 0 0]]\n",
      "\n",
      " [[0 0 0]\n",
      "  [0 0 0]\n",
      "  [0 0 0]\n",
      "  [0 0 0]]\n",
      "\n",
      " [[0 0 0]\n",
      "  [0 0 0]\n",
      "  [0 0 0]\n",
      "  [0 0 0]]\n",
      "\n",
      " [[0 0 0]\n",
      "  [0 0 0]\n",
      "  [0 0 0]\n",
      "  [0 0 0]]]\n"
     ]
    }
   ],
   "source": [
    "arr1 = np.zeros((5,4,3),dtype = int)\n",
    "print(arr1)"
   ]
  },
  {
   "cell_type": "code",
   "execution_count": 7,
   "id": "599acbe1",
   "metadata": {},
   "outputs": [
    {
     "data": {
      "text/plain": [
       "(5, 4, 3)"
      ]
     },
     "execution_count": 7,
     "metadata": {},
     "output_type": "execute_result"
    }
   ],
   "source": [
    "np.shape(arr1)"
   ]
  },
  {
   "cell_type": "code",
   "execution_count": 8,
   "id": "7926e142",
   "metadata": {},
   "outputs": [
    {
     "data": {
      "text/plain": [
       "array([[0, 0, 0, 0, 0, 0, 0, 0, 0, 0, 0, 0, 0, 0, 0, 0, 0, 0, 0, 0],\n",
       "       [0, 0, 0, 0, 0, 0, 0, 0, 0, 0, 0, 0, 0, 0, 0, 0, 0, 0, 0, 0],\n",
       "       [0, 0, 0, 0, 0, 0, 0, 0, 0, 0, 0, 0, 0, 0, 0, 0, 0, 0, 0, 0],\n",
       "       [0, 0, 0, 0, 0, 0, 0, 0, 0, 0, 0, 0, 0, 0, 0, 0, 0, 0, 0, 0]])"
      ]
     },
     "execution_count": 8,
     "metadata": {},
     "output_type": "execute_result"
    }
   ],
   "source": [
    "arr2 = np.zeros((4,20),dtype=int)\n",
    "arr2"
   ]
  },
  {
   "cell_type": "code",
   "execution_count": 9,
   "id": "ccd2f157",
   "metadata": {},
   "outputs": [
    {
     "data": {
      "text/plain": [
       "array([[0, 0, 0, 0],\n",
       "       [0, 0, 0, 0],\n",
       "       [0, 0, 0, 0],\n",
       "       [0, 0, 0, 0],\n",
       "       [0, 0, 0, 0],\n",
       "       [0, 0, 0, 0],\n",
       "       [0, 0, 0, 0],\n",
       "       [0, 0, 0, 0],\n",
       "       [0, 0, 0, 0],\n",
       "       [0, 0, 0, 0],\n",
       "       [0, 0, 0, 0],\n",
       "       [0, 0, 0, 0],\n",
       "       [0, 0, 0, 0],\n",
       "       [0, 0, 0, 0],\n",
       "       [0, 0, 0, 0],\n",
       "       [0, 0, 0, 0],\n",
       "       [0, 0, 0, 0],\n",
       "       [0, 0, 0, 0],\n",
       "       [0, 0, 0, 0],\n",
       "       [0, 0, 0, 0]])"
      ]
     },
     "execution_count": 9,
     "metadata": {},
     "output_type": "execute_result"
    }
   ],
   "source": [
    "np.transpose(arr2)"
   ]
  },
  {
   "cell_type": "code",
   "execution_count": 10,
   "id": "b067ff1f",
   "metadata": {},
   "outputs": [
    {
     "data": {
      "text/plain": [
       "array([[[0, 0, 0, 0, 0],\n",
       "        [0, 0, 0, 0, 0],\n",
       "        [0, 0, 0, 0, 0],\n",
       "        [0, 0, 0, 0, 0]],\n",
       "\n",
       "       [[0, 0, 0, 0, 0],\n",
       "        [0, 0, 0, 0, 0],\n",
       "        [0, 0, 0, 0, 0],\n",
       "        [0, 0, 0, 0, 0]],\n",
       "\n",
       "       [[0, 0, 0, 0, 0],\n",
       "        [0, 0, 0, 0, 0],\n",
       "        [0, 0, 0, 0, 0],\n",
       "        [0, 0, 0, 0, 0]]])"
      ]
     },
     "execution_count": 10,
     "metadata": {},
     "output_type": "execute_result"
    }
   ],
   "source": [
    "np.transpose(arr1)"
   ]
  },
  {
   "cell_type": "code",
   "execution_count": 15,
   "id": "f5421ccd",
   "metadata": {},
   "outputs": [
    {
     "data": {
      "text/plain": [
       "(4, 5, 3)"
      ]
     },
     "execution_count": 15,
     "metadata": {},
     "output_type": "execute_result"
    }
   ],
   "source": [
    "np.shape(np.transpose(arr1,axes=(1,0,2)))"
   ]
  },
  {
   "cell_type": "code",
   "execution_count": 12,
   "id": "1f3b0490",
   "metadata": {},
   "outputs": [
    {
     "data": {
      "text/plain": [
       "(5, 4, 3)"
      ]
     },
     "execution_count": 12,
     "metadata": {},
     "output_type": "execute_result"
    }
   ],
   "source": [
    "np.shape(arr1)"
   ]
  },
  {
   "cell_type": "code",
   "execution_count": 16,
   "id": "0d1a470e",
   "metadata": {},
   "outputs": [
    {
     "data": {
      "text/plain": [
       "array([[1, 1, 1, 1, 1, 1, 1, 1, 1, 1, 1, 1, 1, 1, 1, 1, 1, 1, 1, 1],\n",
       "       [1, 1, 1, 1, 1, 1, 1, 1, 1, 1, 1, 1, 1, 1, 1, 1, 1, 1, 1, 1],\n",
       "       [1, 1, 1, 1, 1, 1, 1, 1, 1, 1, 1, 1, 1, 1, 1, 1, 1, 1, 1, 1],\n",
       "       [1, 1, 1, 1, 1, 1, 1, 1, 1, 1, 1, 1, 1, 1, 1, 1, 1, 1, 1, 1],\n",
       "       [1, 1, 1, 1, 1, 1, 1, 1, 1, 1, 1, 1, 1, 1, 1, 1, 1, 1, 1, 1]])"
      ]
     },
     "execution_count": 16,
     "metadata": {},
     "output_type": "execute_result"
    }
   ],
   "source": [
    "arr3 = np.ones((5,20),dtype=int)\n",
    "arr3"
   ]
  },
  {
   "cell_type": "code",
   "execution_count": 17,
   "id": "62427133",
   "metadata": {},
   "outputs": [
    {
     "data": {
      "text/plain": [
       "array([[0, 0, 0, 0, 0, 0, 0, 0, 0, 0, 0, 0, 0, 0, 0, 0, 0, 0, 0, 0],\n",
       "       [0, 0, 0, 0, 0, 0, 0, 0, 0, 0, 0, 0, 0, 0, 0, 0, 0, 0, 0, 0],\n",
       "       [0, 0, 0, 0, 0, 0, 0, 0, 0, 0, 0, 0, 0, 0, 0, 0, 0, 0, 0, 0],\n",
       "       [0, 0, 0, 0, 0, 0, 0, 0, 0, 0, 0, 0, 0, 0, 0, 0, 0, 0, 0, 0]])"
      ]
     },
     "execution_count": 17,
     "metadata": {},
     "output_type": "execute_result"
    }
   ],
   "source": [
    "arr2"
   ]
  },
  {
   "cell_type": "code",
   "execution_count": 18,
   "id": "899d3c68",
   "metadata": {},
   "outputs": [
    {
     "data": {
      "text/plain": [
       "array([[0, 0, 0, 0, 0, 0, 0, 0, 0, 0, 0, 0, 0, 0, 0, 0, 0, 0, 0, 0],\n",
       "       [0, 0, 0, 0, 0, 0, 0, 0, 0, 0, 0, 0, 0, 0, 0, 0, 0, 0, 0, 0],\n",
       "       [0, 0, 0, 0, 0, 0, 0, 0, 0, 0, 0, 0, 0, 0, 0, 0, 0, 0, 0, 0],\n",
       "       [0, 0, 0, 0, 0, 0, 0, 0, 0, 0, 0, 0, 0, 0, 0, 0, 0, 0, 0, 0],\n",
       "       [1, 1, 1, 1, 1, 1, 1, 1, 1, 1, 1, 1, 1, 1, 1, 1, 1, 1, 1, 1],\n",
       "       [1, 1, 1, 1, 1, 1, 1, 1, 1, 1, 1, 1, 1, 1, 1, 1, 1, 1, 1, 1],\n",
       "       [1, 1, 1, 1, 1, 1, 1, 1, 1, 1, 1, 1, 1, 1, 1, 1, 1, 1, 1, 1],\n",
       "       [1, 1, 1, 1, 1, 1, 1, 1, 1, 1, 1, 1, 1, 1, 1, 1, 1, 1, 1, 1],\n",
       "       [1, 1, 1, 1, 1, 1, 1, 1, 1, 1, 1, 1, 1, 1, 1, 1, 1, 1, 1, 1]])"
      ]
     },
     "execution_count": 18,
     "metadata": {},
     "output_type": "execute_result"
    }
   ],
   "source": [
    "np.concatenate([arr2,arr3])"
   ]
  },
  {
   "cell_type": "code",
   "execution_count": 20,
   "id": "a0a10a46",
   "metadata": {},
   "outputs": [
    {
     "ename": "ValueError",
     "evalue": "all the input array dimensions for the concatenation axis must match exactly, but along dimension 0, the array at index 0 has size 4 and the array at index 1 has size 5",
     "output_type": "error",
     "traceback": [
      "\u001b[1;31m---------------------------------------------------------------------------\u001b[0m",
      "\u001b[1;31mValueError\u001b[0m                                Traceback (most recent call last)",
      "Input \u001b[1;32mIn [20]\u001b[0m, in \u001b[0;36m<cell line: 1>\u001b[1;34m()\u001b[0m\n\u001b[1;32m----> 1\u001b[0m \u001b[43mnp\u001b[49m\u001b[38;5;241;43m.\u001b[39;49m\u001b[43mconcatenate\u001b[49m\u001b[43m(\u001b[49m\u001b[43m[\u001b[49m\u001b[43marr2\u001b[49m\u001b[43m,\u001b[49m\u001b[43marr3\u001b[49m\u001b[43m]\u001b[49m\u001b[43m,\u001b[49m\u001b[43maxis\u001b[49m\u001b[38;5;241;43m=\u001b[39;49m\u001b[38;5;241;43m1\u001b[39;49m\u001b[43m)\u001b[49m\n",
      "File \u001b[1;32m<__array_function__ internals>:5\u001b[0m, in \u001b[0;36mconcatenate\u001b[1;34m(*args, **kwargs)\u001b[0m\n",
      "\u001b[1;31mValueError\u001b[0m: all the input array dimensions for the concatenation axis must match exactly, but along dimension 0, the array at index 0 has size 4 and the array at index 1 has size 5"
     ]
    }
   ],
   "source": [
    "np.concatenate([arr2,arr3],axis=1)"
   ]
  },
  {
   "cell_type": "code",
   "execution_count": 23,
   "id": "d7c83566",
   "metadata": {},
   "outputs": [
    {
     "data": {
      "text/plain": [
       "array([[0., 0., 0., 1., 1., 1.],\n",
       "       [0., 0., 0., 1., 1., 1.],\n",
       "       [0., 0., 0., 1., 1., 1.]])"
      ]
     },
     "execution_count": 23,
     "metadata": {},
     "output_type": "execute_result"
    }
   ],
   "source": [
    "np.concatenate([np.zeros((3,3)),np.ones((3,3))],axis=1)"
   ]
  },
  {
   "cell_type": "code",
   "execution_count": 25,
   "id": "65032f76",
   "metadata": {},
   "outputs": [
    {
     "data": {
      "text/plain": [
       "array([[[0., 1.],\n",
       "        [0., 1.],\n",
       "        [0., 1.]],\n",
       "\n",
       "       [[0., 1.],\n",
       "        [0., 1.],\n",
       "        [0., 1.]],\n",
       "\n",
       "       [[0., 1.],\n",
       "        [0., 1.],\n",
       "        [0., 1.]]])"
      ]
     },
     "execution_count": 25,
     "metadata": {},
     "output_type": "execute_result"
    }
   ],
   "source": [
    "np.concatenate([np.zeros((3,3,1)),np.ones((3,3,1))],axis=2)"
   ]
  },
  {
   "cell_type": "markdown",
   "id": "0d003e35",
   "metadata": {},
   "source": [
    "### RGB color arrays"
   ]
  },
  {
   "cell_type": "code",
   "execution_count": 26,
   "id": "8d30322c",
   "metadata": {},
   "outputs": [],
   "source": [
    "red = np.ones((10,10),dtype=float)"
   ]
  },
  {
   "cell_type": "code",
   "execution_count": 27,
   "id": "1043cfcc",
   "metadata": {},
   "outputs": [],
   "source": [
    "import matplotlib.pyplot as plt"
   ]
  },
  {
   "cell_type": "code",
   "execution_count": 29,
   "id": "74f09135",
   "metadata": {},
   "outputs": [],
   "source": [
    "green = np.ones((10,10),dtype=float)\n",
    "blue = np.ones((10,10),dtype=float)"
   ]
  },
  {
   "cell_type": "code",
   "execution_count": 36,
   "id": "3784e586",
   "metadata": {},
   "outputs": [
    {
     "data": {
      "image/png": "[encoded data removed]",
      "text/plain": [
       "<Figure size 640x480 with 1 Axes>"
      ]
     },
     "metadata": {},
     "output_type": "display_data"
    }
   ],
   "source": [
    "arr = np.zeros((20,20,3),dtype=float)\n",
    "arr[8:18,5:15,0] = red\n",
    "arr[2:12,2:12,1] = green\n",
    "arr[2:12,8:18,2] = blue\n",
    "plt.imshow(arr)\n",
    "plt.show()"
   ]
  },
  {
   "cell_type": "code",
   "execution_count": 46,
   "id": "49674b26",
   "metadata": {},
   "outputs": [
    {
     "data": {
      "image/png": "[encoded data removed]",
      "text/plain": [
       "<Figure size 640x480 with 1 Axes>"
      ]
     },
     "metadata": {},
     "output_type": "display_data"
    }
   ],
   "source": [
    "arr = np.zeros((20,20,3),dtype=float)\n",
    "arr[6:20,:,0] = np.random.random((14,20))\n",
    "arr[:15,:14,1] = np.random.random((15,14))\n",
    "arr[:15,6:20,2] = np.random.random((15,14))\n",
    "plt.imshow(arr)\n",
    "plt.show()"
   ]
  },
  {
   "cell_type": "markdown",
   "id": "585ac62d",
   "metadata": {},
   "source": [
    "### Strings and dictionaries"
   ]
  },
  {
   "cell_type": "code",
   "execution_count": 1,
   "id": "dd3e82a0",
   "metadata": {},
   "outputs": [],
   "source": [
    "string1 = \"Hello, World!\"\n",
    "string2 = 'How are you?'"
   ]
  },
  {
   "cell_type": "code",
   "execution_count": 3,
   "id": "4905221a",
   "metadata": {},
   "outputs": [
    {
     "data": {
      "text/plain": [
       "', W'"
      ]
     },
     "execution_count": 3,
     "metadata": {},
     "output_type": "execute_result"
    }
   ],
   "source": [
    "string1[5:8]"
   ]
  },
  {
   "cell_type": "code",
   "execution_count": 4,
   "id": "2abeec0a",
   "metadata": {},
   "outputs": [
    {
     "data": {
      "text/plain": [
       "'?'"
      ]
     },
     "execution_count": 4,
     "metadata": {},
     "output_type": "execute_result"
    }
   ],
   "source": [
    "string2[-1]"
   ]
  },
  {
   "cell_type": "code",
   "execution_count": 5,
   "id": "200b7484",
   "metadata": {},
   "outputs": [
    {
     "data": {
      "text/plain": [
       "'Hello, World! How are you?'"
      ]
     },
     "execution_count": 5,
     "metadata": {},
     "output_type": "execute_result"
    }
   ],
   "source": [
    "string1+' '+string2"
   ]
  },
  {
   "cell_type": "code",
   "execution_count": 6,
   "id": "b401aee1",
   "metadata": {},
   "outputs": [
    {
     "data": {
      "text/plain": [
       "'HELLO, WORLD!'"
      ]
     },
     "execution_count": 6,
     "metadata": {},
     "output_type": "execute_result"
    }
   ],
   "source": [
    "string1.upper()"
   ]
  },
  {
   "cell_type": "code",
   "execution_count": 7,
   "id": "80dd9c9c",
   "metadata": {},
   "outputs": [
    {
     "data": {
      "text/plain": [
       "'how are you?'"
      ]
     },
     "execution_count": 7,
     "metadata": {},
     "output_type": "execute_result"
    }
   ],
   "source": [
    "string2.lower()"
   ]
  },
  {
   "cell_type": "code",
   "execution_count": 8,
   "id": "73abad02",
   "metadata": {},
   "outputs": [
    {
     "data": {
      "text/plain": [
       "'Hello, World!'"
      ]
     },
     "execution_count": 8,
     "metadata": {},
     "output_type": "execute_result"
    }
   ],
   "source": [
    "string1"
   ]
  },
  {
   "cell_type": "code",
   "execution_count": 9,
   "id": "e78da4ba",
   "metadata": {},
   "outputs": [
    {
     "data": {
      "text/plain": [
       "'How are you'"
      ]
     },
     "execution_count": 9,
     "metadata": {},
     "output_type": "execute_result"
    }
   ],
   "source": [
    "string2.strip(',.?!')"
   ]
  },
  {
   "cell_type": "code",
   "execution_count": 10,
   "id": "35b8dc12",
   "metadata": {},
   "outputs": [
    {
     "data": {
      "text/plain": [
       "'Hello, World'"
      ]
     },
     "execution_count": 10,
     "metadata": {},
     "output_type": "execute_result"
    }
   ],
   "source": [
    "string1.strip(',.?!')"
   ]
  },
  {
   "cell_type": "code",
   "execution_count": 11,
   "id": "a32940fb",
   "metadata": {},
   "outputs": [
    {
     "data": {
      "text/plain": [
       "'How are you?'"
      ]
     },
     "execution_count": 11,
     "metadata": {},
     "output_type": "execute_result"
    }
   ],
   "source": [
    "string2"
   ]
  },
  {
   "cell_type": "code",
   "execution_count": 13,
   "id": "c9a1f6cd",
   "metadata": {},
   "outputs": [],
   "source": [
    "string3 = string1+' '+string2"
   ]
  },
  {
   "cell_type": "code",
   "execution_count": 14,
   "id": "e9120104",
   "metadata": {},
   "outputs": [
    {
     "data": {
      "text/plain": [
       "['Hello,', 'World!', 'How', 'are', 'you?']"
      ]
     },
     "execution_count": 14,
     "metadata": {},
     "output_type": "execute_result"
    }
   ],
   "source": [
    "string3.split()"
   ]
  },
  {
   "cell_type": "code",
   "execution_count": 15,
   "id": "089541fe",
   "metadata": {},
   "outputs": [],
   "source": [
    "pattern = \"B14 K6 B6 K6 B6 K32 OG32 K6 OG32 K32 B32 K6 B6 K6 B32 K32 OG32 K6 OG32 K32 B6 K6 B6 K6 B28\""
   ]
  },
  {
   "cell_type": "code",
   "execution_count": 16,
   "id": "b002dbc8",
   "metadata": {},
   "outputs": [
    {
     "data": {
      "text/plain": [
       "['B14',\n",
       " 'K6',\n",
       " 'B6',\n",
       " 'K6',\n",
       " 'B6',\n",
       " 'K32',\n",
       " 'OG32',\n",
       " 'K6',\n",
       " 'OG32',\n",
       " 'K32',\n",
       " 'B32',\n",
       " 'K6',\n",
       " 'B6',\n",
       " 'K6',\n",
       " 'B32',\n",
       " 'K32',\n",
       " 'OG32',\n",
       " 'K6',\n",
       " 'OG32',\n",
       " 'K32',\n",
       " 'B6',\n",
       " 'K6',\n",
       " 'B6',\n",
       " 'K6',\n",
       " 'B28']"
      ]
     },
     "execution_count": 16,
     "metadata": {},
     "output_type": "execute_result"
    }
   ],
   "source": [
    "pattern.split()"
   ]
  },
  {
   "cell_type": "code",
   "execution_count": 17,
   "id": "b229ffac",
   "metadata": {},
   "outputs": [],
   "source": [
    "alphanum = \"fhf9939jfq0jdk02ihnd9047tnao7h438vndaoi784\""
   ]
  },
  {
   "cell_type": "code",
   "execution_count": 21,
   "id": "66f76a2b",
   "metadata": {},
   "outputs": [
    {
     "name": "stdout",
     "output_type": "stream",
     "text": [
      "fhfjfqjdkihndtnaohvndaoi\n",
      "993900290477438784\n"
     ]
    }
   ],
   "source": [
    "alpha = ''\n",
    "num = ''\n",
    "for char in alphanum:\n",
    "    if char.isdigit():\n",
    "        num += char\n",
    "    else:\n",
    "        alpha += char\n",
    "print(alpha)\n",
    "print(int(num))"
   ]
  },
  {
   "cell_type": "code",
   "execution_count": 19,
   "id": "a367dbab",
   "metadata": {},
   "outputs": [
    {
     "data": {
      "text/plain": [
       "'2567'"
      ]
     },
     "execution_count": 19,
     "metadata": {},
     "output_type": "execute_result"
    }
   ],
   "source": [
    "\"25\"+\"67\""
   ]
  },
  {
   "cell_type": "code",
   "execution_count": 20,
   "id": "bf39431c",
   "metadata": {},
   "outputs": [
    {
     "data": {
      "text/plain": [
       "92"
      ]
     },
     "execution_count": 20,
     "metadata": {},
     "output_type": "execute_result"
    }
   ],
   "source": [
    "int(\"25\")+int(\"67\")"
   ]
  },
  {
   "cell_type": "code",
   "execution_count": 22,
   "id": "a7b20e5a",
   "metadata": {},
   "outputs": [],
   "source": [
    "colors = {\"B\" : [52, 80, 100], \"K\" : [16, 16, 16], \"OG\" : [92, 100, 40]}"
   ]
  },
  {
   "cell_type": "code",
   "execution_count": 23,
   "id": "b4886b24",
   "metadata": {},
   "outputs": [
    {
     "data": {
      "text/plain": [
       "dict_keys(['B', 'K', 'OG'])"
      ]
     },
     "execution_count": 23,
     "metadata": {},
     "output_type": "execute_result"
    }
   ],
   "source": [
    "colors.keys()"
   ]
  },
  {
   "cell_type": "code",
   "execution_count": 24,
   "id": "399c11b1",
   "metadata": {},
   "outputs": [
    {
     "data": {
      "text/plain": [
       "dict_values([[52, 80, 100], [16, 16, 16], [92, 100, 40]])"
      ]
     },
     "execution_count": 24,
     "metadata": {},
     "output_type": "execute_result"
    }
   ],
   "source": [
    "colors.values()"
   ]
  },
  {
   "cell_type": "code",
   "execution_count": 25,
   "id": "69fda2d6",
   "metadata": {},
   "outputs": [
    {
     "data": {
      "text/plain": [
       "dict_items([('B', [52, 80, 100]), ('K', [16, 16, 16]), ('OG', [92, 100, 40])])"
      ]
     },
     "execution_count": 25,
     "metadata": {},
     "output_type": "execute_result"
    }
   ],
   "source": [
    "colors.items()"
   ]
  },
  {
   "cell_type": "code",
   "execution_count": 26,
   "id": "8b03e04d",
   "metadata": {},
   "outputs": [
    {
     "data": {
      "text/plain": [
       "[16, 16, 16]"
      ]
     },
     "execution_count": 26,
     "metadata": {},
     "output_type": "execute_result"
    }
   ],
   "source": [
    "colors[\"K\"]"
   ]
  },
  {
   "cell_type": "code",
   "execution_count": 27,
   "id": "6fa37b04",
   "metadata": {},
   "outputs": [],
   "source": [
    "colors_MacKusick = {\"RB\" : [0, 0, 140],\"G\" : [0, 120, 0],\"DR\" : [140, 0, 0],\"K\" : [0, 0, 0],\"LN\" : [255, 255, 255],\"P\" : [100, 0, 140]}"
   ]
  },
  {
   "cell_type": "markdown",
   "id": "5c90a3f2",
   "metadata": {},
   "source": [
    "**Exercise:** Write a detailed plan for how you are going to generate the array of horizontal or vertical striples."
   ]
  },
  {
   "cell_type": "code",
   "execution_count": 28,
   "id": "5f999d30",
   "metadata": {},
   "outputs": [],
   "source": [
    "Gunn_pattern = \"DG4 DB24 DG2 K24 DG24 R4\"\n",
    "Gunn_colors = {\"DG\" : [0,100,0],\"DB\" : [28,0,112],\"K\" : [16,16,16],\"R\" : [200,0,0]}"
   ]
  },
  {
   "cell_type": "code",
   "execution_count": null,
   "id": "c951ced6",
   "metadata": {},
   "outputs": [],
   "source": []
  }
 ],
 "metadata": {
  "kernelspec": {
   "display_name": "Python 3 (ipykernel)",
   "language": "python",
   "name": "python3"
  },
  "language_info": {
   "codemirror_mode": {
    "name": "ipython",
    "version": 3
   },
   "file_extension": ".py",
   "mimetype": "text/x-python",
   "name": "python",
   "nbconvert_exporter": "python",
   "pygments_lexer": "ipython3",
   "version": "3.9.7"
  },
  "latex_envs": {
   "LaTeX_envs_menu_present": true,
   "autoclose": false,
   "autocomplete": false,
   "bibliofile": "biblio.bib",
   "cite_by": "apalike",
   "current_citInitial": 1,
   "eqLabelWithNumbers": true,
   "eqNumInitial": 1,
   "hotkeys": {
    "equation": "Ctrl-E",
    "itemize": "Ctrl-I"
   },
   "labels_anchors": false,
   "latex_user_defs": false,
   "report_style_numbering": false,
   "user_envs_cfg": false
  },
  "varInspector": {
   "cols": {
    "lenName": 16,
    "lenType": 16,
    "lenVar": 40
   },
   "kernels_config": {
    "python": {
     "delete_cmd_postfix": "",
     "delete_cmd_prefix": "del ",
     "library": "var_list.py",
     "varRefreshCmd": "print(var_dic_list())"
    },
    "r": {
     "delete_cmd_postfix": ") ",
     "delete_cmd_prefix": "rm(",
     "library": "var_list.r",
     "varRefreshCmd": "cat(var_dic_list()) "
    }
   },
   "types_to_exclude": [
    "module",
    "function",
    "builtin_function_or_method",
    "instance",
    "_Feature"
   ],
   "window_display": false
  }
 },
 "nbformat": 4,
 "nbformat_minor": 5
}
