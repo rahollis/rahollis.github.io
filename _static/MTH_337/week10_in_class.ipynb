{
 "cells": [
  {
   "cell_type": "markdown",
   "id": "caee795a",
   "metadata": {},
   "source": [
    "# Week 10\n",
    "\n",
    "## Quiz\n",
    "\n",
    "1. What string method will break a string apart into words that were separated by spaces?\n",
    "\n",
    "2. Write a function that will take a string as input, erase any numbers within the string, and return the string without numbers.\n",
    "\n",
    "3. How do you add a new key-value pair to a dictionary.\n",
    "\n",
    "4. Identify and correct the error."
   ]
  },
  {
   "cell_type": "code",
   "execution_count": 3,
   "id": "681fb793",
   "metadata": {},
   "outputs": [
    {
     "ename": "AttributeError",
     "evalue": "'list' object has no attribute 'lower'",
     "output_type": "error",
     "traceback": [
      "\u001b[1;31m---------------------------------------------------------------------------\u001b[0m",
      "\u001b[1;31mAttributeError\u001b[0m                            Traceback (most recent call last)",
      "\u001b[1;32m~\\AppData\\Local\\Temp/ipykernel_2996/1294279835.py\u001b[0m in \u001b[0;36m<module>\u001b[1;34m\u001b[0m\n\u001b[0;32m      1\u001b[0m \u001b[0mlist_of_words\u001b[0m \u001b[1;33m=\u001b[0m \u001b[1;33m[\u001b[0m\u001b[1;34m'The'\u001b[0m\u001b[1;33m,\u001b[0m\u001b[1;34m'cat'\u001b[0m\u001b[1;33m,\u001b[0m\u001b[1;34m'sat'\u001b[0m\u001b[1;33m,\u001b[0m\u001b[1;34m'on'\u001b[0m\u001b[1;33m,\u001b[0m\u001b[1;34m'the'\u001b[0m\u001b[1;33m,\u001b[0m\u001b[1;34m'chair.'\u001b[0m\u001b[1;33m]\u001b[0m\u001b[1;33m\u001b[0m\u001b[1;33m\u001b[0m\u001b[0m\n\u001b[1;32m----> 2\u001b[1;33m \u001b[0mlist_of_words\u001b[0m\u001b[1;33m.\u001b[0m\u001b[0mlower\u001b[0m\u001b[1;33m(\u001b[0m\u001b[1;33m)\u001b[0m\u001b[1;33m\u001b[0m\u001b[1;33m\u001b[0m\u001b[0m\n\u001b[0m",
      "\u001b[1;31mAttributeError\u001b[0m: 'list' object has no attribute 'lower'"
     ]
    }
   ],
   "source": [
    "list_of_words = ['The','cat','sat','on','the','chair.']\n",
    "list_of_words.lower()"
   ]
  },
  {
   "cell_type": "markdown",
   "id": "2468b31a",
   "metadata": {},
   "source": [
    "#### Answers:"
   ]
  },
  {
   "cell_type": "markdown",
   "id": "6ca26aed",
   "metadata": {},
   "source": [
    "1. `string.split()`\n",
    "2. "
   ]
  },
  {
   "cell_type": "code",
   "execution_count": null,
   "id": "b909be90",
   "metadata": {},
   "outputs": [],
   "source": [
    "def no_numbers(string):\n",
    "    no_numbers_string = ''\n",
    "    for char in string:\n",
    "        if not char in '0123456789':\n",
    "            no_numbers_string += char\n",
    "    return no_numbers_string"
   ]
  },
  {
   "cell_type": "markdown",
   "id": "cb67473a",
   "metadata": {},
   "source": [
    "3. `dictionary[key] = value`"
   ]
  },
  {
   "cell_type": "code",
   "execution_count": 4,
   "id": "7fd6c98b",
   "metadata": {},
   "outputs": [],
   "source": [
    "list_of_words = ['The ','cat','sat','on','the','chair.']\n",
    "new_list = []\n",
    "for word in list_of_words:\n",
    "    new_list.append(word.lower())"
   ]
  },
  {
   "cell_type": "code",
   "execution_count": 7,
   "id": "fc562c55",
   "metadata": {},
   "outputs": [
    {
     "data": {
      "text/plain": [
       "\"['the ', 'cat', 'sat', 'on', 'the', 'chair.']\""
      ]
     },
     "execution_count": 7,
     "metadata": {},
     "output_type": "execute_result"
    }
   ],
   "source": [
    "str(list_of_words).lower()"
   ]
  },
  {
   "cell_type": "markdown",
   "id": "b3b0c601",
   "metadata": {},
   "source": [
    "## Notes"
   ]
  },
  {
   "cell_type": "code",
   "execution_count": 8,
   "id": "d4ec1bb3",
   "metadata": {},
   "outputs": [
    {
     "data": {
      "text/plain": [
       "5"
      ]
     },
     "execution_count": 8,
     "metadata": {},
     "output_type": "execute_result"
    }
   ],
   "source": [
    "message = 'MATH IS FUN'\n",
    "message.index('I')"
   ]
  },
  {
   "cell_type": "code",
   "execution_count": 9,
   "id": "43d9092f",
   "metadata": {},
   "outputs": [
    {
     "data": {
      "text/plain": [
       "6"
      ]
     },
     "execution_count": 9,
     "metadata": {},
     "output_type": "execute_result"
    }
   ],
   "source": [
    "message2 = 'MATH IS SUPER FUN'\n",
    "message2.index('S')"
   ]
  },
  {
   "cell_type": "markdown",
   "id": "bedfa731",
   "metadata": {},
   "source": [
    "**Exercise:** Write a function that encrypts an input message using the shift cipher."
   ]
  },
  {
   "cell_type": "code",
   "execution_count": 13,
   "id": "511dfab9",
   "metadata": {},
   "outputs": [],
   "source": [
    "def shift_encryption(message,key,alphabet):\n",
    "    encrypted_message = ''\n",
    "    for char in message:\n",
    "        encrypted_char = alphabet[(alphabet.index(char)+key)%len(alphabet)]\n",
    "        encrypted_message += encrypted_char\n",
    "    return encrypted_message"
   ]
  },
  {
   "cell_type": "code",
   "execution_count": 22,
   "id": "8b6e186a",
   "metadata": {},
   "outputs": [
    {
     "data": {
      "text/plain": [
       "'NBUIAJTAGVO'"
      ]
     },
     "execution_count": 22,
     "metadata": {},
     "output_type": "execute_result"
    }
   ],
   "source": [
    "alphabet = ' ABCDEFGHIJKLMNOPQRSTUVWXYZ'\n",
    "shift_encryption(message,1000000%27,alphabet)"
   ]
  },
  {
   "cell_type": "code",
   "execution_count": 19,
   "id": "e583bad4",
   "metadata": {},
   "outputs": [],
   "source": [
    "def shift_decryption(message,key,alphabet):\n",
    "    decrypted_message = ''\n",
    "    for char in message:\n",
    "        decrypted_char = alphabet[(alphabet.index(char)-key)%len(alphabet)]\n",
    "        decrypted_message += decrypted_char\n",
    "    return decrypted_message"
   ]
  },
  {
   "cell_type": "code",
   "execution_count": 33,
   "id": "b90cfe2b",
   "metadata": {},
   "outputs": [
    {
     "data": {
      "text/plain": [
       "'KZRFYGQYDSL'"
      ]
     },
     "execution_count": 33,
     "metadata": {},
     "output_type": "execute_result"
    }
   ],
   "source": [
    "shift_decryption('NBUIAJTAGVO',3,alphabet)"
   ]
  },
  {
   "cell_type": "markdown",
   "id": "2555e972",
   "metadata": {},
   "source": [
    "**Exercise:** Write a function that takes a decrypted message and a dictionary as input and returns True or False depending on whether or not the message was successfully decrypted."
   ]
  },
  {
   "cell_type": "code",
   "execution_count": 6,
   "id": "9d945e95",
   "metadata": {},
   "outputs": [],
   "source": [
    "import numpy as np"
   ]
  },
  {
   "cell_type": "code",
   "execution_count": 12,
   "id": "f9197add",
   "metadata": {},
   "outputs": [
    {
     "name": "stdout",
     "output_type": "stream",
     "text": [
      "[ 0  1  2  3  4  5  6  7  8  9 10 11 12 13 14 15 16 17 18 19 20 21 22 23\n",
      " 24 25 26 27 28 29]\n"
     ]
    }
   ],
   "source": [
    "A = np.arange(30)\n",
    "print(A)"
   ]
  },
  {
   "cell_type": "code",
   "execution_count": 14,
   "id": "bae093f6",
   "metadata": {},
   "outputs": [
    {
     "data": {
      "text/plain": [
       "array([[ 0,  1,  2],\n",
       "       [ 3,  4,  5],\n",
       "       [ 6,  7,  8],\n",
       "       [ 9, 10, 11],\n",
       "       [12, 13, 14],\n",
       "       [15, 16, 17],\n",
       "       [18, 19, 20],\n",
       "       [21, 22, 23],\n",
       "       [24, 25, 26],\n",
       "       [27, 28, 29]])"
      ]
     },
     "execution_count": 14,
     "metadata": {},
     "output_type": "execute_result"
    }
   ],
   "source": [
    "np.reshape(np.reshape(A,(2,15)),(10,3))"
   ]
  },
  {
   "cell_type": "code",
   "execution_count": 15,
   "id": "d47850ff",
   "metadata": {},
   "outputs": [
    {
     "name": "stdout",
     "output_type": "stream",
     "text": [
      "['L', 'u', 'k', 'e', ',', ' ', 'I', ' ', 'a', 'm', ' ', 'y', 'o', 'u', 'r', ' ', 'f', 'a', 't', 'h', 'e', 'r', '&', '&']\n"
     ]
    }
   ],
   "source": [
    "message = 'Luke, I am your father&&'\n",
    "mlist = list(message)\n",
    "print(mlist)"
   ]
  },
  {
   "cell_type": "code",
   "execution_count": 17,
   "id": "39581054",
   "metadata": {},
   "outputs": [
    {
     "name": "stdout",
     "output_type": "stream",
     "text": [
      "['L' 'u' 'k' 'e' ',' ' ' 'I' ' ' 'a' 'm' ' ' 'y' 'o' 'u' 'r' ' ' 'f' 'a'\n",
      " 't' 'h' 'e' 'r' '&' '&']\n"
     ]
    }
   ],
   "source": [
    "marray = np.array(mlist)\n",
    "print(marray)"
   ]
  },
  {
   "cell_type": "code",
   "execution_count": 18,
   "id": "d06ada53",
   "metadata": {},
   "outputs": [
    {
     "data": {
      "text/plain": [
       "array([['L', 'u', 'k'],\n",
       "       ['e', ',', ' '],\n",
       "       ['I', ' ', 'a'],\n",
       "       ['m', ' ', 'y'],\n",
       "       ['o', 'u', 'r'],\n",
       "       [' ', 'f', 'a'],\n",
       "       ['t', 'h', 'e'],\n",
       "       ['r', '&', '&']], dtype='<U1')"
      ]
     },
     "execution_count": 18,
     "metadata": {},
     "output_type": "execute_result"
    }
   ],
   "source": [
    "np.reshape(marray,(8,3))"
   ]
  },
  {
   "cell_type": "code",
   "execution_count": null,
   "id": "76f29149",
   "metadata": {},
   "outputs": [],
   "source": []
  }
 ],
 "metadata": {
  "kernelspec": {
   "display_name": "Python 3 (ipykernel)",
   "language": "python",
   "name": "python3"
  },
  "language_info": {
   "codemirror_mode": {
    "name": "ipython",
    "version": 3
   },
   "file_extension": ".py",
   "mimetype": "text/x-python",
   "name": "python",
   "nbconvert_exporter": "python",
   "pygments_lexer": "ipython3",
   "version": "3.9.7"
  },
  "latex_envs": {
   "LaTeX_envs_menu_present": true,
   "autoclose": false,
   "autocomplete": false,
   "bibliofile": "biblio.bib",
   "cite_by": "apalike",
   "current_citInitial": 1,
   "eqLabelWithNumbers": true,
   "eqNumInitial": 1,
   "hotkeys": {
    "equation": "Ctrl-E",
    "itemize": "Ctrl-I"
   },
   "labels_anchors": false,
   "latex_user_defs": false,
   "report_style_numbering": false,
   "user_envs_cfg": false
  },
  "varInspector": {
   "cols": {
    "lenName": 16,
    "lenType": 16,
    "lenVar": 40
   },
   "kernels_config": {
    "python": {
     "delete_cmd_postfix": "",
     "delete_cmd_prefix": "del ",
     "library": "var_list.py",
     "varRefreshCmd": "print(var_dic_list())"
    },
    "r": {
     "delete_cmd_postfix": ") ",
     "delete_cmd_prefix": "rm(",
     "library": "var_list.r",
     "varRefreshCmd": "cat(var_dic_list()) "
    }
   },
   "types_to_exclude": [
    "module",
    "function",
    "builtin_function_or_method",
    "instance",
    "_Feature"
   ],
   "window_display": false
  }
 },
 "nbformat": 4,
 "nbformat_minor": 5
}
