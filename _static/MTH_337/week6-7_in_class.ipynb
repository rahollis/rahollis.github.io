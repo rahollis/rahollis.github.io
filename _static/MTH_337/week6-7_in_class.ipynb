{
 "cells": [
  {
   "cell_type": "markdown",
   "id": "34015ea5",
   "metadata": {},
   "source": [
    "# Week 6\n",
    "\n",
    "## Notes\n",
    "\n",
    "### Arrays using NumPy"
   ]
  },
  {
   "cell_type": "code",
   "execution_count": 1,
   "id": "92943b20",
   "metadata": {},
   "outputs": [],
   "source": [
    "import numpy as np"
   ]
  },
  {
   "cell_type": "code",
   "execution_count": 2,
   "id": "f435aa68",
   "metadata": {},
   "outputs": [
    {
     "name": "stdout",
     "output_type": "stream",
     "text": [
      "[[ 1  2  3  4]\n",
      " [ 5  6  7  8]\n",
      " [ 9 10 11 12]]\n"
     ]
    }
   ],
   "source": [
    "arr1 = np.array([[1,2,3,4],[5,6,7,8],[9,10,11,12]])\n",
    "print(arr1)"
   ]
  },
  {
   "cell_type": "code",
   "execution_count": 3,
   "id": "b8c98047",
   "metadata": {},
   "outputs": [
    {
     "data": {
      "text/plain": [
       "7"
      ]
     },
     "execution_count": 3,
     "metadata": {},
     "output_type": "execute_result"
    }
   ],
   "source": [
    "arr1[1,2]"
   ]
  },
  {
   "cell_type": "code",
   "execution_count": 4,
   "id": "cb1298f4",
   "metadata": {},
   "outputs": [
    {
     "data": {
      "text/plain": [
       "7"
      ]
     },
     "execution_count": 4,
     "metadata": {},
     "output_type": "execute_result"
    }
   ],
   "source": [
    "arr1[1][2]"
   ]
  },
  {
   "cell_type": "code",
   "execution_count": 5,
   "id": "000b343a",
   "metadata": {},
   "outputs": [
    {
     "data": {
      "text/plain": [
       "10"
      ]
     },
     "execution_count": 5,
     "metadata": {},
     "output_type": "execute_result"
    }
   ],
   "source": [
    "arr1[-1,1]"
   ]
  },
  {
   "cell_type": "code",
   "execution_count": 6,
   "id": "8d6c435b",
   "metadata": {},
   "outputs": [
    {
     "data": {
      "text/plain": [
       "array([[ 6,  7],\n",
       "       [10, 11]])"
      ]
     },
     "execution_count": 6,
     "metadata": {},
     "output_type": "execute_result"
    }
   ],
   "source": [
    "arr1[1:3,1:3]"
   ]
  },
  {
   "cell_type": "code",
   "execution_count": 7,
   "id": "9c7815ba",
   "metadata": {},
   "outputs": [
    {
     "data": {
      "text/plain": [
       "(3, 4)"
      ]
     },
     "execution_count": 7,
     "metadata": {},
     "output_type": "execute_result"
    }
   ],
   "source": [
    "np.shape(arr1)"
   ]
  },
  {
   "cell_type": "code",
   "execution_count": 8,
   "id": "3d361237",
   "metadata": {},
   "outputs": [
    {
     "data": {
      "text/plain": [
       "78"
      ]
     },
     "execution_count": 8,
     "metadata": {},
     "output_type": "execute_result"
    }
   ],
   "source": [
    "np.sum(arr1)"
   ]
  },
  {
   "cell_type": "code",
   "execution_count": 9,
   "id": "b9f5690a",
   "metadata": {},
   "outputs": [
    {
     "data": {
      "text/plain": [
       "6.5"
      ]
     },
     "execution_count": 9,
     "metadata": {},
     "output_type": "execute_result"
    }
   ],
   "source": [
    "np.mean(arr1)"
   ]
  },
  {
   "cell_type": "code",
   "execution_count": 10,
   "id": "55450b3b",
   "metadata": {},
   "outputs": [
    {
     "data": {
      "text/plain": [
       "array([[ 1,  5,  9],\n",
       "       [ 2,  6, 10],\n",
       "       [ 3,  7, 11],\n",
       "       [ 4,  8, 12]])"
      ]
     },
     "execution_count": 10,
     "metadata": {},
     "output_type": "execute_result"
    }
   ],
   "source": [
    "np.transpose(arr1)"
   ]
  },
  {
   "cell_type": "code",
   "execution_count": 11,
   "id": "da8cb7a5",
   "metadata": {},
   "outputs": [
    {
     "name": "stdout",
     "output_type": "stream",
     "text": [
      "[[0 0 0 0]\n",
      " [0 0 0 0]\n",
      " [0 0 0 0]\n",
      " [0 0 0 0]\n",
      " [0 0 0 0]]\n"
     ]
    }
   ],
   "source": [
    "arr2 = np.zeros((5,4),dtype=int)\n",
    "print(arr2)"
   ]
  },
  {
   "cell_type": "code",
   "execution_count": 12,
   "id": "f6714269",
   "metadata": {},
   "outputs": [
    {
     "data": {
      "text/plain": [
       "numpy.int32"
      ]
     },
     "execution_count": 12,
     "metadata": {},
     "output_type": "execute_result"
    }
   ],
   "source": [
    "type(arr2[0,0])"
   ]
  },
  {
   "cell_type": "code",
   "execution_count": 13,
   "id": "90eb0b08",
   "metadata": {},
   "outputs": [
    {
     "name": "stdout",
     "output_type": "stream",
     "text": [
      "[[1 1 1]\n",
      " [1 1 1]\n",
      " [1 1 1]]\n"
     ]
    }
   ],
   "source": [
    "arr3 = np.ones((3,3),dtype=int)\n",
    "print(arr3)"
   ]
  },
  {
   "cell_type": "code",
   "execution_count": 14,
   "id": "214949e1",
   "metadata": {},
   "outputs": [
    {
     "data": {
      "text/plain": [
       "array([[ 1,  2,  3,  4,  1,  1,  1],\n",
       "       [ 5,  6,  7,  8,  1,  1,  1],\n",
       "       [ 9, 10, 11, 12,  1,  1,  1]])"
      ]
     },
     "execution_count": 14,
     "metadata": {},
     "output_type": "execute_result"
    }
   ],
   "source": [
    "np.concatenate([arr1,arr3],axis=1)"
   ]
  },
  {
   "cell_type": "code",
   "execution_count": 15,
   "id": "96d40b24",
   "metadata": {},
   "outputs": [
    {
     "data": {
      "text/plain": [
       "array([[ 1,  2,  3,  4],\n",
       "       [ 5,  6,  7,  8],\n",
       "       [ 9, 10, 11, 12],\n",
       "       [ 0,  0,  0,  0],\n",
       "       [ 0,  0,  0,  0],\n",
       "       [ 0,  0,  0,  0],\n",
       "       [ 0,  0,  0,  0],\n",
       "       [ 0,  0,  0,  0]])"
      ]
     },
     "execution_count": 15,
     "metadata": {},
     "output_type": "execute_result"
    }
   ],
   "source": [
    "np.concatenate([arr1,arr2])"
   ]
  },
  {
   "cell_type": "code",
   "execution_count": 16,
   "id": "89be73e8",
   "metadata": {},
   "outputs": [
    {
     "name": "stdout",
     "output_type": "stream",
     "text": [
      "[[1 1 1 0]\n",
      " [1 1 1 0]\n",
      " [1 1 1 0]\n",
      " [0 0 0 0]\n",
      " [0 0 0 0]]\n"
     ]
    }
   ],
   "source": [
    "arr2[:3,:3] = arr3\n",
    "print(arr2)"
   ]
  },
  {
   "cell_type": "code",
   "execution_count": 17,
   "id": "7efb5507",
   "metadata": {},
   "outputs": [
    {
     "name": "stdout",
     "output_type": "stream",
     "text": [
      "[[18 18  3  4]\n",
      " [18 18  7  8]\n",
      " [ 9 10 11 12]]\n"
     ]
    }
   ],
   "source": [
    "arr1[:2,:2] = 18\n",
    "print(arr1)"
   ]
  },
  {
   "cell_type": "code",
   "execution_count": 18,
   "id": "48e9c872",
   "metadata": {},
   "outputs": [
    {
     "name": "stdout",
     "output_type": "stream",
     "text": [
      "[[18 18  3  4]\n",
      " [18 18  7  8]\n",
      " [ 9 10 11 12]\n",
      " [ 0  0  0  0]\n",
      " [ 0  0  0  0]]\n"
     ]
    }
   ],
   "source": [
    "arr2[:3,:] = arr1\n",
    "print(arr2)"
   ]
  },
  {
   "cell_type": "markdown",
   "id": "b9f36a1e",
   "metadata": {},
   "source": [
    "**Exercise:** Write a function which will create an $ n \\times n $ array of zeros with a $ k \\times k $ block of ones in the middle."
   ]
  },
  {
   "cell_type": "code",
   "execution_count": 2,
   "id": "1275afa0",
   "metadata": {},
   "outputs": [],
   "source": [
    "\"\"\"\n",
    "n is the size of the array\n",
    "k is the size of the block of ones\n",
    "\"\"\"\n",
    "def bullseye(n,k):\n",
    "    arr = np.zeros((n,n),dtype = int)\n",
    "    ones = np.ones((k,k),dtype = int)\n",
    "    m = (n-k)//2\n",
    "    arr[m:m+k,m:m+k] = ones\n",
    "    return arr"
   ]
  },
  {
   "cell_type": "code",
   "execution_count": 5,
   "id": "7767d9aa",
   "metadata": {},
   "outputs": [
    {
     "name": "stdout",
     "output_type": "stream",
     "text": [
      "[[0 0 0 0 0 0 0 0 0 0]\n",
      " [0 0 0 0 0 0 0 0 0 0]\n",
      " [0 0 0 0 0 0 0 0 0 0]\n",
      " [0 0 0 1 1 1 0 0 0 0]\n",
      " [0 0 0 1 1 1 0 0 0 0]\n",
      " [0 0 0 1 1 1 0 0 0 0]\n",
      " [0 0 0 0 0 0 0 0 0 0]\n",
      " [0 0 0 0 0 0 0 0 0 0]\n",
      " [0 0 0 0 0 0 0 0 0 0]\n",
      " [0 0 0 0 0 0 0 0 0 0]]\n"
     ]
    }
   ],
   "source": [
    "B = bullseye(10,3)\n",
    "print(B)"
   ]
  },
  {
   "cell_type": "markdown",
   "id": "9c5adc9b",
   "metadata": {},
   "source": [
    "**Exercise:** Write a function that adds up the entries neighboring a given location in an array."
   ]
  },
  {
   "cell_type": "code",
   "execution_count": 4,
   "id": "05a505b5",
   "metadata": {},
   "outputs": [],
   "source": [
    "\"\"\"\n",
    "arr is an m by n array of numbers\n",
    "entry is the location (i,j)\n",
    "\"\"\"\n",
    "def neighbor_sum(arr,entry):\n",
    "    m,n = np.shape(arr)\n",
    "    padd = np.zeros((m+1,n+1),dtype=int)\n",
    "    padd[1:,1:] = arr\n",
    "    i,j = entry\n",
    "    square = padd[i:i+3,j:j+3]\n",
    "    summ = np.sum(square) - arr[i,j]\n",
    "    return summ"
   ]
  },
  {
   "cell_type": "code",
   "execution_count": 8,
   "id": "efce7086",
   "metadata": {},
   "outputs": [
    {
     "data": {
      "text/plain": [
       "8"
      ]
     },
     "execution_count": 8,
     "metadata": {},
     "output_type": "execute_result"
    }
   ],
   "source": [
    "neighbor_sum(B,(4,4))"
   ]
  },
  {
   "cell_type": "markdown",
   "id": "1e73a254",
   "metadata": {},
   "source": [
    "**Exercise:** Write a function that updates each entry of an array with the sum of its neighbors modulo $ k $."
   ]
  },
  {
   "cell_type": "code",
   "execution_count": 9,
   "id": "0f2c6f94",
   "metadata": {},
   "outputs": [],
   "source": [
    "\"\"\"\n",
    "arr is an m by n array of integers between 0 and k\n",
    "k is the modulus for the sum\n",
    "\"\"\"\n",
    "def update(arr,k):\n",
    "    m,n = np.shape(arr)\n",
    "    new_arr = np.zeros((m,n),dtype=int)\n",
    "    for i in range(m):\n",
    "        for j in range(n):\n",
    "            summ = neighbor_sum(arr,(i,j))%k\n",
    "            new_arr[i,j] = summ\n",
    "    return new_arr"
   ]
  },
  {
   "cell_type": "code",
   "execution_count": 11,
   "id": "b9cf9842",
   "metadata": {},
   "outputs": [
    {
     "data": {
      "text/plain": [
       "array([[0, 0, 0, 0, 0, 0, 0, 0, 0, 0],\n",
       "       [0, 0, 0, 0, 0, 0, 0, 0, 0, 0],\n",
       "       [0, 0, 1, 2, 3, 2, 1, 0, 0, 0],\n",
       "       [0, 0, 2, 3, 5, 3, 2, 0, 0, 0],\n",
       "       [0, 0, 3, 5, 0, 5, 3, 0, 0, 0],\n",
       "       [0, 0, 2, 3, 5, 3, 2, 0, 0, 0],\n",
       "       [0, 0, 1, 2, 3, 2, 1, 0, 0, 0],\n",
       "       [0, 0, 0, 0, 0, 0, 0, 0, 0, 0],\n",
       "       [0, 0, 0, 0, 0, 0, 0, 0, 0, 0],\n",
       "       [0, 0, 0, 0, 0, 0, 0, 0, 0, 0]])"
      ]
     },
     "execution_count": 11,
     "metadata": {},
     "output_type": "execute_result"
    }
   ],
   "source": [
    "update(B,8)"
   ]
  },
  {
   "cell_type": "markdown",
   "id": "9859ab65",
   "metadata": {},
   "source": [
    "### Color arrays"
   ]
  },
  {
   "cell_type": "code",
   "execution_count": 19,
   "id": "8d4c6de7",
   "metadata": {},
   "outputs": [],
   "source": [
    "import matplotlib.pyplot as plt"
   ]
  },
  {
   "cell_type": "code",
   "execution_count": 20,
   "id": "19a3d245",
   "metadata": {},
   "outputs": [
    {
     "data": {
      "image/png": "[encoded data removed]",
      "text/plain": [
       "<Figure size 432x288 with 1 Axes>"
      ]
     },
     "metadata": {
      "needs_background": "light"
     },
     "output_type": "display_data"
    }
   ],
   "source": [
    "plt.imshow(arr1)\n",
    "plt.show()"
   ]
  },
  {
   "cell_type": "code",
   "execution_count": 21,
   "id": "c59c7806",
   "metadata": {},
   "outputs": [
    {
     "name": "stdout",
     "output_type": "stream",
     "text": [
      "[[18 18  3  4]\n",
      " [18 18  7  8]\n",
      " [ 9 10 11 12]]\n"
     ]
    }
   ],
   "source": [
    "print(arr1)"
   ]
  },
  {
   "cell_type": "code",
   "execution_count": 23,
   "id": "5902eb10",
   "metadata": {},
   "outputs": [
    {
     "data": {
      "image/png": "[encoded data removed]",
      "text/plain": [
       "<Figure size 432x288 with 1 Axes>"
      ]
     },
     "metadata": {
      "needs_background": "light"
     },
     "output_type": "display_data"
    }
   ],
   "source": [
    "plt.imshow(arr1,cmap='inferno')\n",
    "plt.show()"
   ]
  },
  {
   "cell_type": "code",
   "execution_count": 25,
   "id": "2504f163",
   "metadata": {},
   "outputs": [
    {
     "data": {
      "text/plain": [
       "<matplotlib.image.AxesImage at 0x148043bc7f0>"
      ]
     },
     "execution_count": 25,
     "metadata": {},
     "output_type": "execute_result"
    },
    {
     "data": {
      "image/png": "[encoded data removed]",
      "text/plain": [
       "<Figure size 432x288 with 1 Axes>"
      ]
     },
     "metadata": {
      "needs_background": "light"
     },
     "output_type": "display_data"
    }
   ],
   "source": [
    "plt.imshow(arr1,cmap='gray')"
   ]
  },
  {
   "cell_type": "code",
   "execution_count": 26,
   "id": "a1e7fe57",
   "metadata": {},
   "outputs": [],
   "source": [
    "from matplotlib import colors"
   ]
  },
  {
   "cell_type": "code",
   "execution_count": 32,
   "id": "f39b9c27",
   "metadata": {},
   "outputs": [
    {
     "data": {
      "image/png": "[encoded data removed]",
      "text/plain": [
       "<Figure size 432x288 with 1 Axes>"
      ]
     },
     "metadata": {
      "needs_background": "light"
     },
     "output_type": "display_data"
    }
   ],
   "source": [
    "cmap = colors.ListedColormap(['palegreen', 'green', 'orange', 'black'])\n",
    "arr4 = np.random.randint(-1,3,(4,4))\n",
    "plt.imshow(arr4,cmap=cmap,vmin=-1,vmax=2)\n",
    "plt.show()"
   ]
  },
  {
   "cell_type": "markdown",
   "id": "33c690d6",
   "metadata": {},
   "source": [
    "# Week 7\n",
    "\n",
    "### Animation"
   ]
  },
  {
   "cell_type": "code",
   "execution_count": 12,
   "id": "2fd13884",
   "metadata": {},
   "outputs": [],
   "source": [
    "%matplotlib notebook"
   ]
  },
  {
   "cell_type": "code",
   "execution_count": 13,
   "id": "34a4c1e4",
   "metadata": {},
   "outputs": [],
   "source": [
    "import numpy as np\n",
    "import matplotlib.pyplot as plt\n",
    "from matplotlib.animation import FuncAnimation\n",
    "from matplotlib import colors"
   ]
  },
  {
   "cell_type": "code",
   "execution_count": 19,
   "id": "76c29899",
   "metadata": {},
   "outputs": [
    {
     "data": {
      "application/javascript": [
       "/* Put everything inside the global mpl namespace */\n",
       "/* global mpl */\n",
       "window.mpl = {};\n",
       "\n",
       "mpl.get_websocket_type = function () {\n",
       "    if (typeof WebSocket !== 'undefined') {\n",
       "        return WebSocket;\n",
       "    } else if (typeof MozWebSocket !== 'undefined') {\n",
       "        return MozWebSocket;\n",
       "    } else {\n",
       "        alert(\n",
       "            'Your browser does not have WebSocket support. ' +\n",
       "                'Please try Chrome, Safari or Firefox ≥ 6. ' +\n",
       "                'Firefox 4 and 5 are also supported but you ' +\n",
       "                'have to enable WebSockets in about:config.'\n",
       "        );\n",
       "    }\n",
       "};\n",
       "\n",
       "mpl.figure = function (figure_id, websocket, ondownload, parent_element) {\n",
       "    this.id = figure_id;\n",
       "\n",
       "    this.ws = websocket;\n",
       "\n",
       "    this.supports_binary = this.ws.binaryType !== undefined;\n",
       "\n",
       "    if (!this.supports_binary) {\n",
       "        var warnings = document.getElementById('mpl-warnings');\n",
       "        if (warnings) {\n",
       "            warnings.style.display = 'block';\n",
       "            warnings.textContent =\n",
       "                'This browser does not support binary websocket messages. ' +\n",
       "                'Performance may be slow.';\n",
       "        }\n",
       "    }\n",
       "\n",
       "    this.imageObj = new Image();\n",
       "\n",
       "    this.context = undefined;\n",
       "    this.message = undefined;\n",
       "    this.canvas = undefined;\n",
       "    this.rubberband_canvas = undefined;\n",
       "    this.rubberband_context = undefined;\n",
       "    this.format_dropdown = undefined;\n",
       "\n",
       "    this.image_mode = 'full';\n",
       "\n",
       "    this.root = document.createElement('div');\n",
       "    this.root.setAttribute('style', 'display: inline-block');\n",
       "    this._root_extra_style(this.root);\n",
       "\n",
       "    parent_element.appendChild(this.root);\n",
       "\n",
       "    this._init_header(this);\n",
       "    this._init_canvas(this);\n",
       "    this._init_toolbar(this);\n",
       "\n",
       "    var fig = this;\n",
       "\n",
       "    this.waiting = false;\n",
       "\n",
       "    this.ws.onopen = function () {\n",
       "        fig.send_message('supports_binary', { value: fig.supports_binary });\n",
       "        fig.send_message('send_image_mode', {});\n",
       "        if (fig.ratio !== 1) {\n",
       "            fig.send_message('set_dpi_ratio', { dpi_ratio: fig.ratio });\n",
       "        }\n",
       "        fig.send_message('refresh', {});\n",
       "    };\n",
       "\n",
       "    this.imageObj.onload = function () {\n",
       "        if (fig.image_mode === 'full') {\n",
       "            // Full images could contain transparency (where diff images\n",
       "            // almost always do), so we need to clear the canvas so that\n",
       "            // there is no ghosting.\n",
       "            fig.context.clearRect(0, 0, fig.canvas.width, fig.canvas.height);\n",
       "        }\n",
       "        fig.context.drawImage(fig.imageObj, 0, 0);\n",
       "    };\n",
       "\n",
       "    this.imageObj.onunload = function () {\n",
       "        fig.ws.close();\n",
       "    };\n",
       "\n",
       "    this.ws.onmessage = this._make_on_message_function(this);\n",
       "\n",
       "    this.ondownload = ondownload;\n",
       "};\n",
       "\n",
       "mpl.figure.prototype._init_header = function () {\n",
       "    var titlebar = document.createElement('div');\n",
       "    titlebar.classList =\n",
       "        'ui-dialog-titlebar ui-widget-header ui-corner-all ui-helper-clearfix';\n",
       "    var titletext = document.createElement('div');\n",
       "    titletext.classList = 'ui-dialog-title';\n",
       "    titletext.setAttribute(\n",
       "        'style',\n",
       "        'width: 100%; text-align: center; padding: 3px;'\n",
       "    );\n",
       "    titlebar.appendChild(titletext);\n",
       "    this.root.appendChild(titlebar);\n",
       "    this.header = titletext;\n",
       "};\n",
       "\n",
       "mpl.figure.prototype._canvas_extra_style = function (_canvas_div) {};\n",
       "\n",
       "mpl.figure.prototype._root_extra_style = function (_canvas_div) {};\n",
       "\n",
       "mpl.figure.prototype._init_canvas = function () {\n",
       "    var fig = this;\n",
       "\n",
       "    var canvas_div = (this.canvas_div = document.createElement('div'));\n",
       "    canvas_div.setAttribute(\n",
       "        'style',\n",
       "        'border: 1px solid #ddd;' +\n",
       "            'box-sizing: content-box;' +\n",
       "            'clear: both;' +\n",
       "            'min-height: 1px;' +\n",
       "            'min-width: 1px;' +\n",
       "            'outline: 0;' +\n",
       "            'overflow: hidden;' +\n",
       "            'position: relative;' +\n",
       "            'resize: both;'\n",
       "    );\n",
       "\n",
       "    function on_keyboard_event_closure(name) {\n",
       "        return function (event) {\n",
       "            return fig.key_event(event, name);\n",
       "        };\n",
       "    }\n",
       "\n",
       "    canvas_div.addEventListener(\n",
       "        'keydown',\n",
       "        on_keyboard_event_closure('key_press')\n",
       "    );\n",
       "    canvas_div.addEventListener(\n",
       "        'keyup',\n",
       "        on_keyboard_event_closure('key_release')\n",
       "    );\n",
       "\n",
       "    this._canvas_extra_style(canvas_div);\n",
       "    this.root.appendChild(canvas_div);\n",
       "\n",
       "    var canvas = (this.canvas = document.createElement('canvas'));\n",
       "    canvas.classList.add('mpl-canvas');\n",
       "    canvas.setAttribute('style', 'box-sizing: content-box;');\n",
       "\n",
       "    this.context = canvas.getContext('2d');\n",
       "\n",
       "    var backingStore =\n",
       "        this.context.backingStorePixelRatio ||\n",
       "        this.context.webkitBackingStorePixelRatio ||\n",
       "        this.context.mozBackingStorePixelRatio ||\n",
       "        this.context.msBackingStorePixelRatio ||\n",
       "        this.context.oBackingStorePixelRatio ||\n",
       "        this.context.backingStorePixelRatio ||\n",
       "        1;\n",
       "\n",
       "    this.ratio = (window.devicePixelRatio || 1) / backingStore;\n",
       "\n",
       "    var rubberband_canvas = (this.rubberband_canvas = document.createElement(\n",
       "        'canvas'\n",
       "    ));\n",
       "    rubberband_canvas.setAttribute(\n",
       "        'style',\n",
       "        'box-sizing: content-box; position: absolute; left: 0; top: 0; z-index: 1;'\n",
       "    );\n",
       "\n",
       "    // Apply a ponyfill if ResizeObserver is not implemented by browser.\n",
       "    if (this.ResizeObserver === undefined) {\n",
       "        if (window.ResizeObserver !== undefined) {\n",
       "            this.ResizeObserver = window.ResizeObserver;\n",
       "        } else {\n",
       "            var obs = _JSXTOOLS_RESIZE_OBSERVER({});\n",
       "            this.ResizeObserver = obs.ResizeObserver;\n",
       "        }\n",
       "    }\n",
       "\n",
       "    this.resizeObserverInstance = new this.ResizeObserver(function (entries) {\n",
       "        var nentries = entries.length;\n",
       "        for (var i = 0; i < nentries; i++) {\n",
       "            var entry = entries[i];\n",
       "            var width, height;\n",
       "            if (entry.contentBoxSize) {\n",
       "                if (entry.contentBoxSize instanceof Array) {\n",
       "                    // Chrome 84 implements new version of spec.\n",
       "                    width = entry.contentBoxSize[0].inlineSize;\n",
       "                    height = entry.contentBoxSize[0].blockSize;\n",
       "                } else {\n",
       "                    // Firefox implements old version of spec.\n",
       "                    width = entry.contentBoxSize.inlineSize;\n",
       "                    height = entry.contentBoxSize.blockSize;\n",
       "                }\n",
       "            } else {\n",
       "                // Chrome <84 implements even older version of spec.\n",
       "                width = entry.contentRect.width;\n",
       "                height = entry.contentRect.height;\n",
       "            }\n",
       "\n",
       "            // Keep the size of the canvas and rubber band canvas in sync with\n",
       "            // the canvas container.\n",
       "            if (entry.devicePixelContentBoxSize) {\n",
       "                // Chrome 84 implements new version of spec.\n",
       "                canvas.setAttribute(\n",
       "                    'width',\n",
       "                    entry.devicePixelContentBoxSize[0].inlineSize\n",
       "                );\n",
       "                canvas.setAttribute(\n",
       "                    'height',\n",
       "                    entry.devicePixelContentBoxSize[0].blockSize\n",
       "                );\n",
       "            } else {\n",
       "                canvas.setAttribute('width', width * fig.ratio);\n",
       "                canvas.setAttribute('height', height * fig.ratio);\n",
       "            }\n",
       "            canvas.setAttribute(\n",
       "                'style',\n",
       "                'width: ' + width + 'px; height: ' + height + 'px;'\n",
       "            );\n",
       "\n",
       "            rubberband_canvas.setAttribute('width', width);\n",
       "            rubberband_canvas.setAttribute('height', height);\n",
       "\n",
       "            // And update the size in Python. We ignore the initial 0/0 size\n",
       "            // that occurs as the element is placed into the DOM, which should\n",
       "            // otherwise not happen due to the minimum size styling.\n",
       "            if (fig.ws.readyState == 1 && width != 0 && height != 0) {\n",
       "                fig.request_resize(width, height);\n",
       "            }\n",
       "        }\n",
       "    });\n",
       "    this.resizeObserverInstance.observe(canvas_div);\n",
       "\n",
       "    function on_mouse_event_closure(name) {\n",
       "        return function (event) {\n",
       "            return fig.mouse_event(event, name);\n",
       "        };\n",
       "    }\n",
       "\n",
       "    rubberband_canvas.addEventListener(\n",
       "        'mousedown',\n",
       "        on_mouse_event_closure('button_press')\n",
       "    );\n",
       "    rubberband_canvas.addEventListener(\n",
       "        'mouseup',\n",
       "        on_mouse_event_closure('button_release')\n",
       "    );\n",
       "    rubberband_canvas.addEventListener(\n",
       "        'dblclick',\n",
       "        on_mouse_event_closure('dblclick')\n",
       "    );\n",
       "    // Throttle sequential mouse events to 1 every 20ms.\n",
       "    rubberband_canvas.addEventListener(\n",
       "        'mousemove',\n",
       "        on_mouse_event_closure('motion_notify')\n",
       "    );\n",
       "\n",
       "    rubberband_canvas.addEventListener(\n",
       "        'mouseenter',\n",
       "        on_mouse_event_closure('figure_enter')\n",
       "    );\n",
       "    rubberband_canvas.addEventListener(\n",
       "        'mouseleave',\n",
       "        on_mouse_event_closure('figure_leave')\n",
       "    );\n",
       "\n",
       "    canvas_div.addEventListener('wheel', function (event) {\n",
       "        if (event.deltaY < 0) {\n",
       "            event.step = 1;\n",
       "        } else {\n",
       "            event.step = -1;\n",
       "        }\n",
       "        on_mouse_event_closure('scroll')(event);\n",
       "    });\n",
       "\n",
       "    canvas_div.appendChild(canvas);\n",
       "    canvas_div.appendChild(rubberband_canvas);\n",
       "\n",
       "    this.rubberband_context = rubberband_canvas.getContext('2d');\n",
       "    this.rubberband_context.strokeStyle = '#000000';\n",
       "\n",
       "    this._resize_canvas = function (width, height, forward) {\n",
       "        if (forward) {\n",
       "            canvas_div.style.width = width + 'px';\n",
       "            canvas_div.style.height = height + 'px';\n",
       "        }\n",
       "    };\n",
       "\n",
       "    // Disable right mouse context menu.\n",
       "    this.rubberband_canvas.addEventListener('contextmenu', function (_e) {\n",
       "        event.preventDefault();\n",
       "        return false;\n",
       "    });\n",
       "\n",
       "    function set_focus() {\n",
       "        canvas.focus();\n",
       "        canvas_div.focus();\n",
       "    }\n",
       "\n",
       "    window.setTimeout(set_focus, 100);\n",
       "};\n",
       "\n",
       "mpl.figure.prototype._init_toolbar = function () {\n",
       "    var fig = this;\n",
       "\n",
       "    var toolbar = document.createElement('div');\n",
       "    toolbar.classList = 'mpl-toolbar';\n",
       "    this.root.appendChild(toolbar);\n",
       "\n",
       "    function on_click_closure(name) {\n",
       "        return function (_event) {\n",
       "            return fig.toolbar_button_onclick(name);\n",
       "        };\n",
       "    }\n",
       "\n",
       "    function on_mouseover_closure(tooltip) {\n",
       "        return function (event) {\n",
       "            if (!event.currentTarget.disabled) {\n",
       "                return fig.toolbar_button_onmouseover(tooltip);\n",
       "            }\n",
       "        };\n",
       "    }\n",
       "\n",
       "    fig.buttons = {};\n",
       "    var buttonGroup = document.createElement('div');\n",
       "    buttonGroup.classList = 'mpl-button-group';\n",
       "    for (var toolbar_ind in mpl.toolbar_items) {\n",
       "        var name = mpl.toolbar_items[toolbar_ind][0];\n",
       "        var tooltip = mpl.toolbar_items[toolbar_ind][1];\n",
       "        var image = mpl.toolbar_items[toolbar_ind][2];\n",
       "        var method_name = mpl.toolbar_items[toolbar_ind][3];\n",
       "\n",
       "        if (!name) {\n",
       "            /* Instead of a spacer, we start a new button group. */\n",
       "            if (buttonGroup.hasChildNodes()) {\n",
       "                toolbar.appendChild(buttonGroup);\n",
       "            }\n",
       "            buttonGroup = document.createElement('div');\n",
       "            buttonGroup.classList = 'mpl-button-group';\n",
       "            continue;\n",
       "        }\n",
       "\n",
       "        var button = (fig.buttons[name] = document.createElement('button'));\n",
       "        button.classList = 'mpl-widget';\n",
       "        button.setAttribute('role', 'button');\n",
       "        button.setAttribute('aria-disabled', 'false');\n",
       "        button.addEventListener('click', on_click_closure(method_name));\n",
       "        button.addEventListener('mouseover', on_mouseover_closure(tooltip));\n",
       "\n",
       "        var icon_img = document.createElement('img');\n",
       "        icon_img.src = '_images/' + image + '.png';\n",
       "        icon_img.srcset = '_images/' + image + '_large.png 2x';\n",
       "        icon_img.alt = tooltip;\n",
       "        button.appendChild(icon_img);\n",
       "\n",
       "        buttonGroup.appendChild(button);\n",
       "    }\n",
       "\n",
       "    if (buttonGroup.hasChildNodes()) {\n",
       "        toolbar.appendChild(buttonGroup);\n",
       "    }\n",
       "\n",
       "    var fmt_picker = document.createElement('select');\n",
       "    fmt_picker.classList = 'mpl-widget';\n",
       "    toolbar.appendChild(fmt_picker);\n",
       "    this.format_dropdown = fmt_picker;\n",
       "\n",
       "    for (var ind in mpl.extensions) {\n",
       "        var fmt = mpl.extensions[ind];\n",
       "        var option = document.createElement('option');\n",
       "        option.selected = fmt === mpl.default_extension;\n",
       "        option.innerHTML = fmt;\n",
       "        fmt_picker.appendChild(option);\n",
       "    }\n",
       "\n",
       "    var status_bar = document.createElement('span');\n",
       "    status_bar.classList = 'mpl-message';\n",
       "    toolbar.appendChild(status_bar);\n",
       "    this.message = status_bar;\n",
       "};\n",
       "\n",
       "mpl.figure.prototype.request_resize = function (x_pixels, y_pixels) {\n",
       "    // Request matplotlib to resize the figure. Matplotlib will then trigger a resize in the client,\n",
       "    // which will in turn request a refresh of the image.\n",
       "    this.send_message('resize', { width: x_pixels, height: y_pixels });\n",
       "};\n",
       "\n",
       "mpl.figure.prototype.send_message = function (type, properties) {\n",
       "    properties['type'] = type;\n",
       "    properties['figure_id'] = this.id;\n",
       "    this.ws.send(JSON.stringify(properties));\n",
       "};\n",
       "\n",
       "mpl.figure.prototype.send_draw_message = function () {\n",
       "    if (!this.waiting) {\n",
       "        this.waiting = true;\n",
       "        this.ws.send(JSON.stringify({ type: 'draw', figure_id: this.id }));\n",
       "    }\n",
       "};\n",
       "\n",
       "mpl.figure.prototype.handle_save = function (fig, _msg) {\n",
       "    var format_dropdown = fig.format_dropdown;\n",
       "    var format = format_dropdown.options[format_dropdown.selectedIndex].value;\n",
       "    fig.ondownload(fig, format);\n",
       "};\n",
       "\n",
       "mpl.figure.prototype.handle_resize = function (fig, msg) {\n",
       "    var size = msg['size'];\n",
       "    if (size[0] !== fig.canvas.width || size[1] !== fig.canvas.height) {\n",
       "        fig._resize_canvas(size[0], size[1], msg['forward']);\n",
       "        fig.send_message('refresh', {});\n",
       "    }\n",
       "};\n",
       "\n",
       "mpl.figure.prototype.handle_rubberband = function (fig, msg) {\n",
       "    var x0 = msg['x0'] / fig.ratio;\n",
       "    var y0 = (fig.canvas.height - msg['y0']) / fig.ratio;\n",
       "    var x1 = msg['x1'] / fig.ratio;\n",
       "    var y1 = (fig.canvas.height - msg['y1']) / fig.ratio;\n",
       "    x0 = Math.floor(x0) + 0.5;\n",
       "    y0 = Math.floor(y0) + 0.5;\n",
       "    x1 = Math.floor(x1) + 0.5;\n",
       "    y1 = Math.floor(y1) + 0.5;\n",
       "    var min_x = Math.min(x0, x1);\n",
       "    var min_y = Math.min(y0, y1);\n",
       "    var width = Math.abs(x1 - x0);\n",
       "    var height = Math.abs(y1 - y0);\n",
       "\n",
       "    fig.rubberband_context.clearRect(\n",
       "        0,\n",
       "        0,\n",
       "        fig.canvas.width / fig.ratio,\n",
       "        fig.canvas.height / fig.ratio\n",
       "    );\n",
       "\n",
       "    fig.rubberband_context.strokeRect(min_x, min_y, width, height);\n",
       "};\n",
       "\n",
       "mpl.figure.prototype.handle_figure_label = function (fig, msg) {\n",
       "    // Updates the figure title.\n",
       "    fig.header.textContent = msg['label'];\n",
       "};\n",
       "\n",
       "mpl.figure.prototype.handle_cursor = function (fig, msg) {\n",
       "    var cursor = msg['cursor'];\n",
       "    switch (cursor) {\n",
       "        case 0:\n",
       "            cursor = 'pointer';\n",
       "            break;\n",
       "        case 1:\n",
       "            cursor = 'default';\n",
       "            break;\n",
       "        case 2:\n",
       "            cursor = 'crosshair';\n",
       "            break;\n",
       "        case 3:\n",
       "            cursor = 'move';\n",
       "            break;\n",
       "    }\n",
       "    fig.rubberband_canvas.style.cursor = cursor;\n",
       "};\n",
       "\n",
       "mpl.figure.prototype.handle_message = function (fig, msg) {\n",
       "    fig.message.textContent = msg['message'];\n",
       "};\n",
       "\n",
       "mpl.figure.prototype.handle_draw = function (fig, _msg) {\n",
       "    // Request the server to send over a new figure.\n",
       "    fig.send_draw_message();\n",
       "};\n",
       "\n",
       "mpl.figure.prototype.handle_image_mode = function (fig, msg) {\n",
       "    fig.image_mode = msg['mode'];\n",
       "};\n",
       "\n",
       "mpl.figure.prototype.handle_history_buttons = function (fig, msg) {\n",
       "    for (var key in msg) {\n",
       "        if (!(key in fig.buttons)) {\n",
       "            continue;\n",
       "        }\n",
       "        fig.buttons[key].disabled = !msg[key];\n",
       "        fig.buttons[key].setAttribute('aria-disabled', !msg[key]);\n",
       "    }\n",
       "};\n",
       "\n",
       "mpl.figure.prototype.handle_navigate_mode = function (fig, msg) {\n",
       "    if (msg['mode'] === 'PAN') {\n",
       "        fig.buttons['Pan'].classList.add('active');\n",
       "        fig.buttons['Zoom'].classList.remove('active');\n",
       "    } else if (msg['mode'] === 'ZOOM') {\n",
       "        fig.buttons['Pan'].classList.remove('active');\n",
       "        fig.buttons['Zoom'].classList.add('active');\n",
       "    } else {\n",
       "        fig.buttons['Pan'].classList.remove('active');\n",
       "        fig.buttons['Zoom'].classList.remove('active');\n",
       "    }\n",
       "};\n",
       "\n",
       "mpl.figure.prototype.updated_canvas_event = function () {\n",
       "    // Called whenever the canvas gets updated.\n",
       "    this.send_message('ack', {});\n",
       "};\n",
       "\n",
       "// A function to construct a web socket function for onmessage handling.\n",
       "// Called in the figure constructor.\n",
       "mpl.figure.prototype._make_on_message_function = function (fig) {\n",
       "    return function socket_on_message(evt) {\n",
       "        if (evt.data instanceof Blob) {\n",
       "            var img = evt.data;\n",
       "            if (img.type !== 'image/png') {\n",
       "                /* FIXME: We get \"Resource interpreted as Image but\n",
       "                 * transferred with MIME type text/plain:\" errors on\n",
       "                 * Chrome.  But how to set the MIME type?  It doesn't seem\n",
       "                 * to be part of the websocket stream */\n",
       "                img.type = 'image/png';\n",
       "            }\n",
       "\n",
       "            /* Free the memory for the previous frames */\n",
       "            if (fig.imageObj.src) {\n",
       "                (window.URL || window.webkitURL).revokeObjectURL(\n",
       "                    fig.imageObj.src\n",
       "                );\n",
       "            }\n",
       "\n",
       "            fig.imageObj.src = (window.URL || window.webkitURL).createObjectURL(\n",
       "                img\n",
       "            );\n",
       "            fig.updated_canvas_event();\n",
       "            fig.waiting = false;\n",
       "            return;\n",
       "        } else if (\n",
       "            typeof evt.data === 'string' &&\n",
       "            evt.data.slice(0, 21) === 'data:image/png;base64'\n",
       "        ) {\n",
       "            fig.imageObj.src = evt.data;\n",
       "            fig.updated_canvas_event();\n",
       "            fig.waiting = false;\n",
       "            return;\n",
       "        }\n",
       "\n",
       "        var msg = JSON.parse(evt.data);\n",
       "        var msg_type = msg['type'];\n",
       "\n",
       "        // Call the  \"handle_{type}\" callback, which takes\n",
       "        // the figure and JSON message as its only arguments.\n",
       "        try {\n",
       "            var callback = fig['handle_' + msg_type];\n",
       "        } catch (e) {\n",
       "            console.log(\n",
       "                \"No handler for the '\" + msg_type + \"' message type: \",\n",
       "                msg\n",
       "            );\n",
       "            return;\n",
       "        }\n",
       "\n",
       "        if (callback) {\n",
       "            try {\n",
       "                // console.log(\"Handling '\" + msg_type + \"' message: \", msg);\n",
       "                callback(fig, msg);\n",
       "            } catch (e) {\n",
       "                console.log(\n",
       "                    \"Exception inside the 'handler_\" + msg_type + \"' callback:\",\n",
       "                    e,\n",
       "                    e.stack,\n",
       "                    msg\n",
       "                );\n",
       "            }\n",
       "        }\n",
       "    };\n",
       "};\n",
       "\n",
       "// from http://stackoverflow.com/questions/1114465/getting-mouse-location-in-canvas\n",
       "mpl.findpos = function (e) {\n",
       "    //this section is from http://www.quirksmode.org/js/events_properties.html\n",
       "    var targ;\n",
       "    if (!e) {\n",
       "        e = window.event;\n",
       "    }\n",
       "    if (e.target) {\n",
       "        targ = e.target;\n",
       "    } else if (e.srcElement) {\n",
       "        targ = e.srcElement;\n",
       "    }\n",
       "    if (targ.nodeType === 3) {\n",
       "        // defeat Safari bug\n",
       "        targ = targ.parentNode;\n",
       "    }\n",
       "\n",
       "    // pageX,Y are the mouse positions relative to the document\n",
       "    var boundingRect = targ.getBoundingClientRect();\n",
       "    var x = e.pageX - (boundingRect.left + document.body.scrollLeft);\n",
       "    var y = e.pageY - (boundingRect.top + document.body.scrollTop);\n",
       "\n",
       "    return { x: x, y: y };\n",
       "};\n",
       "\n",
       "/*\n",
       " * return a copy of an object with only non-object keys\n",
       " * we need this to avoid circular references\n",
       " * http://stackoverflow.com/a/24161582/3208463\n",
       " */\n",
       "function simpleKeys(original) {\n",
       "    return Object.keys(original).reduce(function (obj, key) {\n",
       "        if (typeof original[key] !== 'object') {\n",
       "            obj[key] = original[key];\n",
       "        }\n",
       "        return obj;\n",
       "    }, {});\n",
       "}\n",
       "\n",
       "mpl.figure.prototype.mouse_event = function (event, name) {\n",
       "    var canvas_pos = mpl.findpos(event);\n",
       "\n",
       "    if (name === 'button_press') {\n",
       "        this.canvas.focus();\n",
       "        this.canvas_div.focus();\n",
       "    }\n",
       "\n",
       "    var x = canvas_pos.x * this.ratio;\n",
       "    var y = canvas_pos.y * this.ratio;\n",
       "\n",
       "    this.send_message(name, {\n",
       "        x: x,\n",
       "        y: y,\n",
       "        button: event.button,\n",
       "        step: event.step,\n",
       "        guiEvent: simpleKeys(event),\n",
       "    });\n",
       "\n",
       "    /* This prevents the web browser from automatically changing to\n",
       "     * the text insertion cursor when the button is pressed.  We want\n",
       "     * to control all of the cursor setting manually through the\n",
       "     * 'cursor' event from matplotlib */\n",
       "    event.preventDefault();\n",
       "    return false;\n",
       "};\n",
       "\n",
       "mpl.figure.prototype._key_event_extra = function (_event, _name) {\n",
       "    // Handle any extra behaviour associated with a key event\n",
       "};\n",
       "\n",
       "mpl.figure.prototype.key_event = function (event, name) {\n",
       "    // Prevent repeat events\n",
       "    if (name === 'key_press') {\n",
       "        if (event.key === this._key) {\n",
       "            return;\n",
       "        } else {\n",
       "            this._key = event.key;\n",
       "        }\n",
       "    }\n",
       "    if (name === 'key_release') {\n",
       "        this._key = null;\n",
       "    }\n",
       "\n",
       "    var value = '';\n",
       "    if (event.ctrlKey && event.key !== 'Control') {\n",
       "        value += 'ctrl+';\n",
       "    }\n",
       "    else if (event.altKey && event.key !== 'Alt') {\n",
       "        value += 'alt+';\n",
       "    }\n",
       "    else if (event.shiftKey && event.key !== 'Shift') {\n",
       "        value += 'shift+';\n",
       "    }\n",
       "\n",
       "    value += 'k' + event.key;\n",
       "\n",
       "    this._key_event_extra(event, name);\n",
       "\n",
       "    this.send_message(name, { key: value, guiEvent: simpleKeys(event) });\n",
       "    return false;\n",
       "};\n",
       "\n",
       "mpl.figure.prototype.toolbar_button_onclick = function (name) {\n",
       "    if (name === 'download') {\n",
       "        this.handle_save(this, null);\n",
       "    } else {\n",
       "        this.send_message('toolbar_button', { name: name });\n",
       "    }\n",
       "};\n",
       "\n",
       "mpl.figure.prototype.toolbar_button_onmouseover = function (tooltip) {\n",
       "    this.message.textContent = tooltip;\n",
       "};\n",
       "\n",
       "///////////////// REMAINING CONTENT GENERATED BY embed_js.py /////////////////\n",
       "// prettier-ignore\n",
       "var _JSXTOOLS_RESIZE_OBSERVER=function(A){var t,i=new WeakMap,n=new WeakMap,a=new WeakMap,r=new WeakMap,o=new Set;function s(e){if(!(this instanceof s))throw new TypeError(\"Constructor requires 'new' operator\");i.set(this,e)}function h(){throw new TypeError(\"Function is not a constructor\")}function c(e,t,i,n){e=0 in arguments?Number(arguments[0]):0,t=1 in arguments?Number(arguments[1]):0,i=2 in arguments?Number(arguments[2]):0,n=3 in arguments?Number(arguments[3]):0,this.right=(this.x=this.left=e)+(this.width=i),this.bottom=(this.y=this.top=t)+(this.height=n),Object.freeze(this)}function d(){t=requestAnimationFrame(d);var s=new WeakMap,p=new Set;o.forEach((function(t){r.get(t).forEach((function(i){var r=t instanceof window.SVGElement,o=a.get(t),d=r?0:parseFloat(o.paddingTop),f=r?0:parseFloat(o.paddingRight),l=r?0:parseFloat(o.paddingBottom),u=r?0:parseFloat(o.paddingLeft),g=r?0:parseFloat(o.borderTopWidth),m=r?0:parseFloat(o.borderRightWidth),w=r?0:parseFloat(o.borderBottomWidth),b=u+f,F=d+l,v=(r?0:parseFloat(o.borderLeftWidth))+m,W=g+w,y=r?0:t.offsetHeight-W-t.clientHeight,E=r?0:t.offsetWidth-v-t.clientWidth,R=b+v,z=F+W,M=r?t.width:parseFloat(o.width)-R-E,O=r?t.height:parseFloat(o.height)-z-y;if(n.has(t)){var k=n.get(t);if(k[0]===M&&k[1]===O)return}n.set(t,[M,O]);var S=Object.create(h.prototype);S.target=t,S.contentRect=new c(u,d,M,O),s.has(i)||(s.set(i,[]),p.add(i)),s.get(i).push(S)}))})),p.forEach((function(e){i.get(e).call(e,s.get(e),e)}))}return s.prototype.observe=function(i){if(i instanceof window.Element){r.has(i)||(r.set(i,new Set),o.add(i),a.set(i,window.getComputedStyle(i)));var n=r.get(i);n.has(this)||n.add(this),cancelAnimationFrame(t),t=requestAnimationFrame(d)}},s.prototype.unobserve=function(i){if(i instanceof window.Element&&r.has(i)){var n=r.get(i);n.has(this)&&(n.delete(this),n.size||(r.delete(i),o.delete(i))),n.size||r.delete(i),o.size||cancelAnimationFrame(t)}},A.DOMRectReadOnly=c,A.ResizeObserver=s,A.ResizeObserverEntry=h,A}; // eslint-disable-line\n",
       "mpl.toolbar_items = [[\"Home\", \"Reset original view\", \"fa fa-home icon-home\", \"home\"], [\"Back\", \"Back to previous view\", \"fa fa-arrow-left icon-arrow-left\", \"back\"], [\"Forward\", \"Forward to next view\", \"fa fa-arrow-right icon-arrow-right\", \"forward\"], [\"\", \"\", \"\", \"\"], [\"Pan\", \"Left button pans, Right button zooms\\nx/y fixes axis, CTRL fixes aspect\", \"fa fa-arrows icon-move\", \"pan\"], [\"Zoom\", \"Zoom to rectangle\\nx/y fixes axis, CTRL fixes aspect\", \"fa fa-square-o icon-check-empty\", \"zoom\"], [\"\", \"\", \"\", \"\"], [\"Download\", \"Download plot\", \"fa fa-floppy-o icon-save\", \"download\"]];\n",
       "\n",
       "mpl.extensions = [\"eps\", \"jpeg\", \"pgf\", \"pdf\", \"png\", \"ps\", \"raw\", \"svg\", \"tif\"];\n",
       "\n",
       "mpl.default_extension = \"png\";/* global mpl */\n",
       "\n",
       "var comm_websocket_adapter = function (comm) {\n",
       "    // Create a \"websocket\"-like object which calls the given IPython comm\n",
       "    // object with the appropriate methods. Currently this is a non binary\n",
       "    // socket, so there is still some room for performance tuning.\n",
       "    var ws = {};\n",
       "\n",
       "    ws.binaryType = comm.kernel.ws.binaryType;\n",
       "    ws.readyState = comm.kernel.ws.readyState;\n",
       "    function updateReadyState(_event) {\n",
       "        if (comm.kernel.ws) {\n",
       "            ws.readyState = comm.kernel.ws.readyState;\n",
       "        } else {\n",
       "            ws.readyState = 3; // Closed state.\n",
       "        }\n",
       "    }\n",
       "    comm.kernel.ws.addEventListener('open', updateReadyState);\n",
       "    comm.kernel.ws.addEventListener('close', updateReadyState);\n",
       "    comm.kernel.ws.addEventListener('error', updateReadyState);\n",
       "\n",
       "    ws.close = function () {\n",
       "        comm.close();\n",
       "    };\n",
       "    ws.send = function (m) {\n",
       "        //console.log('sending', m);\n",
       "        comm.send(m);\n",
       "    };\n",
       "    // Register the callback with on_msg.\n",
       "    comm.on_msg(function (msg) {\n",
       "        //console.log('receiving', msg['content']['data'], msg);\n",
       "        var data = msg['content']['data'];\n",
       "        if (data['blob'] !== undefined) {\n",
       "            data = {\n",
       "                data: new Blob(msg['buffers'], { type: data['blob'] }),\n",
       "            };\n",
       "        }\n",
       "        // Pass the mpl event to the overridden (by mpl) onmessage function.\n",
       "        ws.onmessage(data);\n",
       "    });\n",
       "    return ws;\n",
       "};\n",
       "\n",
       "mpl.mpl_figure_comm = function (comm, msg) {\n",
       "    // This is the function which gets called when the mpl process\n",
       "    // starts-up an IPython Comm through the \"matplotlib\" channel.\n",
       "\n",
       "    var id = msg.content.data.id;\n",
       "    // Get hold of the div created by the display call when the Comm\n",
       "    // socket was opened in Python.\n",
       "    var element = document.getElementById(id);\n",
       "    var ws_proxy = comm_websocket_adapter(comm);\n",
       "\n",
       "    function ondownload(figure, _format) {\n",
       "        window.open(figure.canvas.toDataURL());\n",
       "    }\n",
       "\n",
       "    var fig = new mpl.figure(id, ws_proxy, ondownload, element);\n",
       "\n",
       "    // Call onopen now - mpl needs it, as it is assuming we've passed it a real\n",
       "    // web socket which is closed, not our websocket->open comm proxy.\n",
       "    ws_proxy.onopen();\n",
       "\n",
       "    fig.parent_element = element;\n",
       "    fig.cell_info = mpl.find_output_cell(\"<div id='\" + id + \"'></div>\");\n",
       "    if (!fig.cell_info) {\n",
       "        console.error('Failed to find cell for figure', id, fig);\n",
       "        return;\n",
       "    }\n",
       "    fig.cell_info[0].output_area.element.on(\n",
       "        'cleared',\n",
       "        { fig: fig },\n",
       "        fig._remove_fig_handler\n",
       "    );\n",
       "};\n",
       "\n",
       "mpl.figure.prototype.handle_close = function (fig, msg) {\n",
       "    var width = fig.canvas.width / fig.ratio;\n",
       "    fig.cell_info[0].output_area.element.off(\n",
       "        'cleared',\n",
       "        fig._remove_fig_handler\n",
       "    );\n",
       "    fig.resizeObserverInstance.unobserve(fig.canvas_div);\n",
       "\n",
       "    // Update the output cell to use the data from the current canvas.\n",
       "    fig.push_to_output();\n",
       "    var dataURL = fig.canvas.toDataURL();\n",
       "    // Re-enable the keyboard manager in IPython - without this line, in FF,\n",
       "    // the notebook keyboard shortcuts fail.\n",
       "    IPython.keyboard_manager.enable();\n",
       "    fig.parent_element.innerHTML =\n",
       "        '<img src=\"' + dataURL + '\" width=\"' + width + '\">';\n",
       "    fig.close_ws(fig, msg);\n",
       "};\n",
       "\n",
       "mpl.figure.prototype.close_ws = function (fig, msg) {\n",
       "    fig.send_message('closing', msg);\n",
       "    // fig.ws.close()\n",
       "};\n",
       "\n",
       "mpl.figure.prototype.push_to_output = function (_remove_interactive) {\n",
       "    // Turn the data on the canvas into data in the output cell.\n",
       "    var width = this.canvas.width / this.ratio;\n",
       "    var dataURL = this.canvas.toDataURL();\n",
       "    this.cell_info[1]['text/html'] =\n",
       "        '<img src=\"' + dataURL + '\" width=\"' + width + '\">';\n",
       "};\n",
       "\n",
       "mpl.figure.prototype.updated_canvas_event = function () {\n",
       "    // Tell IPython that the notebook contents must change.\n",
       "    IPython.notebook.set_dirty(true);\n",
       "    this.send_message('ack', {});\n",
       "    var fig = this;\n",
       "    // Wait a second, then push the new image to the DOM so\n",
       "    // that it is saved nicely (might be nice to debounce this).\n",
       "    setTimeout(function () {\n",
       "        fig.push_to_output();\n",
       "    }, 1000);\n",
       "};\n",
       "\n",
       "mpl.figure.prototype._init_toolbar = function () {\n",
       "    var fig = this;\n",
       "\n",
       "    var toolbar = document.createElement('div');\n",
       "    toolbar.classList = 'btn-toolbar';\n",
       "    this.root.appendChild(toolbar);\n",
       "\n",
       "    function on_click_closure(name) {\n",
       "        return function (_event) {\n",
       "            return fig.toolbar_button_onclick(name);\n",
       "        };\n",
       "    }\n",
       "\n",
       "    function on_mouseover_closure(tooltip) {\n",
       "        return function (event) {\n",
       "            if (!event.currentTarget.disabled) {\n",
       "                return fig.toolbar_button_onmouseover(tooltip);\n",
       "            }\n",
       "        };\n",
       "    }\n",
       "\n",
       "    fig.buttons = {};\n",
       "    var buttonGroup = document.createElement('div');\n",
       "    buttonGroup.classList = 'btn-group';\n",
       "    var button;\n",
       "    for (var toolbar_ind in mpl.toolbar_items) {\n",
       "        var name = mpl.toolbar_items[toolbar_ind][0];\n",
       "        var tooltip = mpl.toolbar_items[toolbar_ind][1];\n",
       "        var image = mpl.toolbar_items[toolbar_ind][2];\n",
       "        var method_name = mpl.toolbar_items[toolbar_ind][3];\n",
       "\n",
       "        if (!name) {\n",
       "            /* Instead of a spacer, we start a new button group. */\n",
       "            if (buttonGroup.hasChildNodes()) {\n",
       "                toolbar.appendChild(buttonGroup);\n",
       "            }\n",
       "            buttonGroup = document.createElement('div');\n",
       "            buttonGroup.classList = 'btn-group';\n",
       "            continue;\n",
       "        }\n",
       "\n",
       "        button = fig.buttons[name] = document.createElement('button');\n",
       "        button.classList = 'btn btn-default';\n",
       "        button.href = '#';\n",
       "        button.title = name;\n",
       "        button.innerHTML = '<i class=\"fa ' + image + ' fa-lg\"></i>';\n",
       "        button.addEventListener('click', on_click_closure(method_name));\n",
       "        button.addEventListener('mouseover', on_mouseover_closure(tooltip));\n",
       "        buttonGroup.appendChild(button);\n",
       "    }\n",
       "\n",
       "    if (buttonGroup.hasChildNodes()) {\n",
       "        toolbar.appendChild(buttonGroup);\n",
       "    }\n",
       "\n",
       "    // Add the status bar.\n",
       "    var status_bar = document.createElement('span');\n",
       "    status_bar.classList = 'mpl-message pull-right';\n",
       "    toolbar.appendChild(status_bar);\n",
       "    this.message = status_bar;\n",
       "\n",
       "    // Add the close button to the window.\n",
       "    var buttongrp = document.createElement('div');\n",
       "    buttongrp.classList = 'btn-group inline pull-right';\n",
       "    button = document.createElement('button');\n",
       "    button.classList = 'btn btn-mini btn-primary';\n",
       "    button.href = '#';\n",
       "    button.title = 'Stop Interaction';\n",
       "    button.innerHTML = '<i class=\"fa fa-power-off icon-remove icon-large\"></i>';\n",
       "    button.addEventListener('click', function (_evt) {\n",
       "        fig.handle_close(fig, {});\n",
       "    });\n",
       "    button.addEventListener(\n",
       "        'mouseover',\n",
       "        on_mouseover_closure('Stop Interaction')\n",
       "    );\n",
       "    buttongrp.appendChild(button);\n",
       "    var titlebar = this.root.querySelector('.ui-dialog-titlebar');\n",
       "    titlebar.insertBefore(buttongrp, titlebar.firstChild);\n",
       "};\n",
       "\n",
       "mpl.figure.prototype._remove_fig_handler = function (event) {\n",
       "    var fig = event.data.fig;\n",
       "    if (event.target !== this) {\n",
       "        // Ignore bubbled events from children.\n",
       "        return;\n",
       "    }\n",
       "    fig.close_ws(fig, {});\n",
       "};\n",
       "\n",
       "mpl.figure.prototype._root_extra_style = function (el) {\n",
       "    el.style.boxSizing = 'content-box'; // override notebook setting of border-box.\n",
       "};\n",
       "\n",
       "mpl.figure.prototype._canvas_extra_style = function (el) {\n",
       "    // this is important to make the div 'focusable\n",
       "    el.setAttribute('tabindex', 0);\n",
       "    // reach out to IPython and tell the keyboard manager to turn it's self\n",
       "    // off when our div gets focus\n",
       "\n",
       "    // location in version 3\n",
       "    if (IPython.notebook.keyboard_manager) {\n",
       "        IPython.notebook.keyboard_manager.register_events(el);\n",
       "    } else {\n",
       "        // location in version 2\n",
       "        IPython.keyboard_manager.register_events(el);\n",
       "    }\n",
       "};\n",
       "\n",
       "mpl.figure.prototype._key_event_extra = function (event, _name) {\n",
       "    var manager = IPython.notebook.keyboard_manager;\n",
       "    if (!manager) {\n",
       "        manager = IPython.keyboard_manager;\n",
       "    }\n",
       "\n",
       "    // Check for shift+enter\n",
       "    if (event.shiftKey && event.which === 13) {\n",
       "        this.canvas_div.blur();\n",
       "        // select the cell after this one\n",
       "        var index = IPython.notebook.find_cell_index(this.cell_info[0]);\n",
       "        IPython.notebook.select(index + 1);\n",
       "    }\n",
       "};\n",
       "\n",
       "mpl.figure.prototype.handle_save = function (fig, _msg) {\n",
       "    fig.ondownload(fig, null);\n",
       "};\n",
       "\n",
       "mpl.find_output_cell = function (html_output) {\n",
       "    // Return the cell and output element which can be found *uniquely* in the notebook.\n",
       "    // Note - this is a bit hacky, but it is done because the \"notebook_saving.Notebook\"\n",
       "    // IPython event is triggered only after the cells have been serialised, which for\n",
       "    // our purposes (turning an active figure into a static one), is too late.\n",
       "    var cells = IPython.notebook.get_cells();\n",
       "    var ncells = cells.length;\n",
       "    for (var i = 0; i < ncells; i++) {\n",
       "        var cell = cells[i];\n",
       "        if (cell.cell_type === 'code') {\n",
       "            for (var j = 0; j < cell.output_area.outputs.length; j++) {\n",
       "                var data = cell.output_area.outputs[j];\n",
       "                if (data.data) {\n",
       "                    // IPython >= 3 moved mimebundle to data attribute of output\n",
       "                    data = data.data;\n",
       "                }\n",
       "                if (data['text/html'] === html_output) {\n",
       "                    return [cell, data, j];\n",
       "                }\n",
       "            }\n",
       "        }\n",
       "    }\n",
       "};\n",
       "\n",
       "// Register the function which deals with the matplotlib target/channel.\n",
       "// The kernel may be null if the page has been refreshed.\n",
       "if (IPython.notebook.kernel !== null) {\n",
       "    IPython.notebook.kernel.comm_manager.register_target(\n",
       "        'matplotlib',\n",
       "        mpl.mpl_figure_comm\n",
       "    );\n",
       "}\n"
      ],
      "text/plain": [
       "<IPython.core.display.Javascript object>"
      ]
     },
     "metadata": {},
     "output_type": "display_data"
    },
    {
     "data": {
      "text/html": [
       "<img src=\"data:image/png;base64,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\" width=\"600\">"
      ],
      "text/plain": [
       "<IPython.core.display.HTML object>"
      ]
     },
     "metadata": {},
     "output_type": "display_data"
    }
   ],
   "source": [
    "x = bullseye(10,3)  # Initial configuration of the array\n",
    "\n",
    "fig = plt.figure(figsize = (6,6))\n",
    "ax = plt.subplot(111)\n",
    "plt.title(\"Deterministic cellular automata (modulo 3)\")\n",
    "#cmap = colors.ListedColormap(['palegreen', 'green', 'orange', 'black'])\n",
    "im = ax.imshow(x, cmap = 'inferno', vmin=0, vmax=3)\n",
    "\n",
    "\n",
    "def animate(i):\n",
    "    global x\n",
    "\n",
    "    x=update(x,3)\n",
    "    im.set_data(x)\n",
    "    return im\n",
    "\n",
    "\n",
    "anim = FuncAnimation(fig=fig, func=animate,  interval=300, blit=True, repeat=False)\n",
    "plt.show()"
   ]
  },
  {
   "cell_type": "markdown",
   "id": "7c2bdc2a",
   "metadata": {},
   "source": [
    "### Game of Life\n",
    "\n",
    "Evolution of a 2D grid of 0s and 1s.  Here are the rules\n",
    "* A cell that is not alive (0) will come to life (become 1) if it is surrounded by exactly three living cells (1s).\n",
    "* A cell that is living (1) will die off (become 0) if one of the following\n",
    "  1. It has fewer than two living neighbors.\n",
    "  2. It has more than 3 living neighbors."
   ]
  },
  {
   "cell_type": "markdown",
   "id": "34624e0c",
   "metadata": {},
   "source": [
    "**Exercise:** Write an update function that will update an array of 0s and 1s according to the rules from Conway's game of life."
   ]
  },
  {
   "cell_type": "markdown",
   "id": "ca128368",
   "metadata": {},
   "source": [
    "**Exercise:** Write a function to produce a random array of 0s and 1s with each entry having probability $ p $ of being a 1."
   ]
  },
  {
   "cell_type": "markdown",
   "id": "87623d77",
   "metadata": {},
   "source": [
    "**Exercise:** Animate the game of life using a random starting configuration."
   ]
  },
  {
   "cell_type": "code",
   "execution_count": null,
   "id": "5cb3ccfb",
   "metadata": {},
   "outputs": [],
   "source": []
  }
 ],
 "metadata": {
  "kernelspec": {
   "display_name": "Python 3 (ipykernel)",
   "language": "python",
   "name": "python3"
  },
  "language_info": {
   "codemirror_mode": {
    "name": "ipython",
    "version": 3
   },
   "file_extension": ".py",
   "mimetype": "text/x-python",
   "name": "python",
   "nbconvert_exporter": "python",
   "pygments_lexer": "ipython3",
   "version": "3.9.7"
  },
  "latex_envs": {
   "LaTeX_envs_menu_present": true,
   "autoclose": false,
   "autocomplete": false,
   "bibliofile": "biblio.bib",
   "cite_by": "apalike",
   "current_citInitial": 1,
   "eqLabelWithNumbers": true,
   "eqNumInitial": 1,
   "hotkeys": {
    "equation": "Ctrl-E",
    "itemize": "Ctrl-I"
   },
   "labels_anchors": false,
   "latex_user_defs": false,
   "report_style_numbering": false,
   "user_envs_cfg": false
  },
  "varInspector": {
   "cols": {
    "lenName": 16,
    "lenType": 16,
    "lenVar": 40
   },
   "kernels_config": {
    "python": {
     "delete_cmd_postfix": "",
     "delete_cmd_prefix": "del ",
     "library": "var_list.py",
     "varRefreshCmd": "print(var_dic_list())"
    },
    "r": {
     "delete_cmd_postfix": ") ",
     "delete_cmd_prefix": "rm(",
     "library": "var_list.r",
     "varRefreshCmd": "cat(var_dic_list()) "
    }
   },
   "types_to_exclude": [
    "module",
    "function",
    "builtin_function_or_method",
    "instance",
    "_Feature"
   ],
   "window_display": false
  }
 },
 "nbformat": 4,
 "nbformat_minor": 5
}
