{
 "cells": [
  {
   "cell_type": "markdown",
   "id": "20e19494",
   "metadata": {},
   "source": [
    "# Week 1 Notes\n",
    "\n",
    "### Markdown\n",
    "\n",
    "To get a header, use the hashtag `#`.  One hashtag for level 1 header, 2 for level 2, etc."
   ]
  },
  {
   "cell_type": "markdown",
   "id": "2a691834",
   "metadata": {},
   "source": [
    "`for i in range(3):` Code can be put between two ticks (key above tab)."
   ]
  },
  {
   "cell_type": "markdown",
   "id": "bf1d5eda",
   "metadata": {},
   "source": [
    "To make a bullet list, use the star `*`, plus `+`, or minus `-`.\n",
    "- item 1\n",
    "- item 2\n",
    "  + item 2.1\n",
    "  + item 2.2"
   ]
  },
  {
   "cell_type": "markdown",
   "id": "27316cf0",
   "metadata": {},
   "source": [
    "For more markdown such as formatting tables, check out the [markdown cheatsheet](https://github.com/adam-p/markdown-here/wiki/Markdown-Cheatsheet)."
   ]
  },
  {
   "cell_type": "markdown",
   "id": "a95d566c",
   "metadata": {},
   "source": [
    "### LaTeX\n",
    "\n",
    "To render math in LaTeX, use the dollar sign `$`\n",
    "\n",
    "3x+47=7 vs. $3x+4y=7$\n",
    "\n",
    "There are two ways to render an equation:\n",
    "* in-line equations using one dollar sign $ 3x+4y=7 $\n",
    "* displayed equations using two dollar sign $$ 3x+4y=7 $$"
   ]
  },
  {
   "cell_type": "markdown",
   "id": "9f584d03",
   "metadata": {},
   "source": [
    "Fractions using `\\frac{numerator}{denominator}`"
   ]
  },
  {
   "cell_type": "markdown",
   "id": "6257fd16",
   "metadata": {},
   "source": [
    "$$ x = \\frac{-b \\pm \\sqrt{b^2-4ac}}{2a} $$"
   ]
  },
  {
   "cell_type": "markdown",
   "id": "46b72c74",
   "metadata": {},
   "source": [
    "Square root using `\\sqrt{}`"
   ]
  },
  {
   "cell_type": "markdown",
   "id": "3f354738",
   "metadata": {},
   "source": [
    "For more, check out the [LaTeX symbols list](https://artofproblemsolving.com/wiki/index.php?title=LaTeX:Symbols).  If you are having a hard time figuring out how to do something with LaTeX, Google it (it's what I do) or ask me."
   ]
  },
  {
   "cell_type": "markdown",
   "id": "32045cfe",
   "metadata": {},
   "source": [
    "## Python Code\n",
    "\n",
    "#### Basic arithmetic"
   ]
  },
  {
   "cell_type": "code",
   "execution_count": 1,
   "id": "49bd4978",
   "metadata": {},
   "outputs": [
    {
     "data": {
      "text/plain": [
       "7"
      ]
     },
     "execution_count": 1,
     "metadata": {},
     "output_type": "execute_result"
    }
   ],
   "source": [
    "3+4"
   ]
  },
  {
   "cell_type": "code",
   "execution_count": 2,
   "id": "054fe85f",
   "metadata": {},
   "outputs": [
    {
     "data": {
      "text/plain": [
       "12"
      ]
     },
     "execution_count": 2,
     "metadata": {},
     "output_type": "execute_result"
    }
   ],
   "source": [
    "3*4"
   ]
  },
  {
   "cell_type": "code",
   "execution_count": 5,
   "id": "79e3555e",
   "metadata": {},
   "outputs": [
    {
     "data": {
      "text/plain": [
       "33"
      ]
     },
     "execution_count": 5,
     "metadata": {},
     "output_type": "execute_result"
    }
   ],
   "source": [
    "3*(4+7)"
   ]
  },
  {
   "cell_type": "code",
   "execution_count": 6,
   "id": "794f1205",
   "metadata": {},
   "outputs": [
    {
     "data": {
      "text/plain": [
       "9"
      ]
     },
     "execution_count": 6,
     "metadata": {},
     "output_type": "execute_result"
    }
   ],
   "source": [
    "3**2"
   ]
  },
  {
   "cell_type": "code",
   "execution_count": 7,
   "id": "eaa1eb88",
   "metadata": {},
   "outputs": [
    {
     "data": {
      "text/plain": [
       "4.0"
      ]
     },
     "execution_count": 7,
     "metadata": {},
     "output_type": "execute_result"
    }
   ],
   "source": [
    "12/3"
   ]
  },
  {
   "cell_type": "markdown",
   "id": "970c0888",
   "metadata": {},
   "source": [
    "There are two types of numerical data in Python, integers `int` and floating point number `float`.  Different data types are treated differently by the code."
   ]
  },
  {
   "cell_type": "code",
   "execution_count": 8,
   "id": "579e5298",
   "metadata": {},
   "outputs": [
    {
     "data": {
      "text/plain": [
       "float"
      ]
     },
     "execution_count": 8,
     "metadata": {},
     "output_type": "execute_result"
    }
   ],
   "source": [
    "type(4.0)"
   ]
  },
  {
   "cell_type": "code",
   "execution_count": 9,
   "id": "7545852d",
   "metadata": {},
   "outputs": [
    {
     "data": {
      "text/plain": [
       "int"
      ]
     },
     "execution_count": 9,
     "metadata": {},
     "output_type": "execute_result"
    }
   ],
   "source": [
    "type(4)"
   ]
  },
  {
   "cell_type": "markdown",
   "id": "a9825a6d",
   "metadata": {},
   "source": [
    "You can convert between data types using specialized functions."
   ]
  },
  {
   "cell_type": "code",
   "execution_count": 10,
   "id": "4d22a7bc",
   "metadata": {},
   "outputs": [
    {
     "data": {
      "text/plain": [
       "4"
      ]
     },
     "execution_count": 10,
     "metadata": {},
     "output_type": "execute_result"
    }
   ],
   "source": [
    "int(4.0)"
   ]
  },
  {
   "cell_type": "code",
   "execution_count": 11,
   "id": "e1c4477e",
   "metadata": {},
   "outputs": [
    {
     "data": {
      "text/plain": [
       "4.0"
      ]
     },
     "execution_count": 11,
     "metadata": {},
     "output_type": "execute_result"
    }
   ],
   "source": [
    "float(4)"
   ]
  },
  {
   "cell_type": "markdown",
   "id": "837b2a71",
   "metadata": {},
   "source": [
    "When it comes to division, it really matters if you are working with integers or floats."
   ]
  },
  {
   "cell_type": "code",
   "execution_count": 12,
   "id": "10597a7d",
   "metadata": {},
   "outputs": [
    {
     "data": {
      "text/plain": [
       "4"
      ]
     },
     "execution_count": 12,
     "metadata": {},
     "output_type": "execute_result"
    }
   ],
   "source": [
    "12//3"
   ]
  },
  {
   "cell_type": "code",
   "execution_count": 16,
   "id": "20df68d4",
   "metadata": {},
   "outputs": [
    {
     "data": {
      "text/plain": [
       "4.25"
      ]
     },
     "execution_count": 16,
     "metadata": {},
     "output_type": "execute_result"
    }
   ],
   "source": [
    "17/4"
   ]
  },
  {
   "cell_type": "code",
   "execution_count": 17,
   "id": "2e89ca53",
   "metadata": {},
   "outputs": [
    {
     "data": {
      "text/plain": [
       "4"
      ]
     },
     "execution_count": 17,
     "metadata": {},
     "output_type": "execute_result"
    }
   ],
   "source": [
    "17//4"
   ]
  },
  {
   "cell_type": "code",
   "execution_count": 18,
   "id": "ad4f5061",
   "metadata": {},
   "outputs": [
    {
     "data": {
      "text/plain": [
       "1"
      ]
     },
     "execution_count": 18,
     "metadata": {},
     "output_type": "execute_result"
    }
   ],
   "source": [
    "17%4"
   ]
  },
  {
   "cell_type": "markdown",
   "id": "ef6ad42d",
   "metadata": {},
   "source": [
    "Check if a number is even by calculating the remainder when you divide by 2 (modulo 2)"
   ]
  },
  {
   "cell_type": "code",
   "execution_count": 20,
   "id": "a909e883",
   "metadata": {},
   "outputs": [
    {
     "data": {
      "text/plain": [
       "0"
      ]
     },
     "execution_count": 20,
     "metadata": {},
     "output_type": "execute_result"
    }
   ],
   "source": [
    "20%2"
   ]
  },
  {
   "cell_type": "code",
   "execution_count": 21,
   "id": "69e615ce",
   "metadata": {},
   "outputs": [
    {
     "data": {
      "text/plain": [
       "1"
      ]
     },
     "execution_count": 21,
     "metadata": {},
     "output_type": "execute_result"
    }
   ],
   "source": [
    "19%2"
   ]
  },
  {
   "cell_type": "markdown",
   "id": "1c81d47c",
   "metadata": {},
   "source": [
    "If the remainder is 0 then the number is even.  This can be generalized to check if a number $ n $ is divisible by a number $ d $ by checking if `n%d` is zero."
   ]
  },
  {
   "cell_type": "markdown",
   "id": "92d62abe",
   "metadata": {},
   "source": [
    "### Variables\n",
    "\n",
    "Data can be stored as a variable."
   ]
  },
  {
   "cell_type": "code",
   "execution_count": 1,
   "id": "faeec2fc",
   "metadata": {},
   "outputs": [],
   "source": [
    "x = 3"
   ]
  },
  {
   "cell_type": "code",
   "execution_count": 2,
   "id": "72b48f2b",
   "metadata": {},
   "outputs": [
    {
     "data": {
      "text/plain": [
       "-2"
      ]
     },
     "execution_count": 2,
     "metadata": {},
     "output_type": "execute_result"
    }
   ],
   "source": [
    "2*x**2 - 4*x - 8"
   ]
  },
  {
   "cell_type": "markdown",
   "id": "f4eaec1b",
   "metadata": {},
   "source": [
    "Three rules for naming variables\n",
    "1. names must begin with a letter or underscore `_`\n",
    "2. names cannot have special characters other than underscores (this includes spaces)\n",
    "3. if the name turns green, don't use it (it is already being used by the system)\n",
    "\n",
    "Not a rule but advice\n",
    "\n",
    "4. names should be short and descriptive"
   ]
  },
  {
   "cell_type": "code",
   "execution_count": 3,
   "id": "fa9aa848",
   "metadata": {},
   "outputs": [],
   "source": [
    "growth_rate = 0.045"
   ]
  },
  {
   "cell_type": "code",
   "execution_count": null,
   "id": "d0bf8034",
   "metadata": {},
   "outputs": [],
   "source": [
    "# Examples of words that can't be used for variable names\n",
    "# don't try to run this cell\n",
    "sum\n",
    "list\n",
    "int"
   ]
  },
  {
   "cell_type": "markdown",
   "id": "fd5e45c9",
   "metadata": {},
   "source": [
    "### Loops"
   ]
  },
  {
   "cell_type": "markdown",
   "id": "ed0d0851",
   "metadata": {},
   "source": [
    "Loops tell Python to run the same code over and over again based on a changing variable."
   ]
  },
  {
   "cell_type": "code",
   "execution_count": 22,
   "id": "a6780ae8",
   "metadata": {},
   "outputs": [
    {
     "name": "stdout",
     "output_type": "stream",
     "text": [
      "0\n",
      "1\n",
      "2\n"
     ]
    }
   ],
   "source": [
    "for i in range(3):\n",
    "    print(i)"
   ]
  },
  {
   "cell_type": "code",
   "execution_count": 23,
   "id": "c629f8aa",
   "metadata": {},
   "outputs": [
    {
     "name": "stdout",
     "output_type": "stream",
     "text": [
      "0\n",
      "1\n",
      "3\n",
      "6\n",
      "10\n",
      "15\n",
      "21\n",
      "28\n",
      "36\n",
      "45\n"
     ]
    }
   ],
   "source": [
    "total = 0\n",
    "for i in range(10):\n",
    "    total = total + i\n",
    "    print(total)"
   ]
  },
  {
   "cell_type": "code",
   "execution_count": 26,
   "id": "fcd5b8df",
   "metadata": {},
   "outputs": [
    {
     "name": "stdout",
     "output_type": "stream",
     "text": [
      "500500\n"
     ]
    }
   ],
   "source": [
    "total = 0\n",
    "for i in range(1001):\n",
    "    total = total + i\n",
    "print(total)"
   ]
  },
  {
   "cell_type": "markdown",
   "id": "cdeaf122",
   "metadata": {},
   "source": [
    "Sum of even numbers only"
   ]
  },
  {
   "cell_type": "code",
   "execution_count": 4,
   "id": "9063c5ed",
   "metadata": {},
   "outputs": [
    {
     "name": "stdout",
     "output_type": "stream",
     "text": [
      "250500\n"
     ]
    }
   ],
   "source": [
    "total = 0\n",
    "for i in range(0,1001,2):\n",
    "    total = total + i\n",
    "print(total)"
   ]
  },
  {
   "cell_type": "markdown",
   "id": "454fdd68",
   "metadata": {},
   "source": [
    "Sum of odd numbers only"
   ]
  },
  {
   "cell_type": "code",
   "execution_count": 5,
   "id": "6cf47652",
   "metadata": {},
   "outputs": [
    {
     "name": "stdout",
     "output_type": "stream",
     "text": [
      "250000\n"
     ]
    }
   ],
   "source": [
    "total = 0\n",
    "for i in range(1,1001,2):\n",
    "    total = total + i\n",
    "print(total)"
   ]
  },
  {
   "cell_type": "markdown",
   "id": "dd72ee9b",
   "metadata": {},
   "source": [
    "### Lists"
   ]
  },
  {
   "cell_type": "code",
   "execution_count": 28,
   "id": "b0270b84",
   "metadata": {},
   "outputs": [],
   "source": [
    "list1 = [1,3,7,18,4.92]"
   ]
  },
  {
   "cell_type": "code",
   "execution_count": 29,
   "id": "99b57f28",
   "metadata": {},
   "outputs": [
    {
     "data": {
      "text/plain": [
       "18"
      ]
     },
     "execution_count": 29,
     "metadata": {},
     "output_type": "execute_result"
    }
   ],
   "source": [
    "list1[3]"
   ]
  },
  {
   "cell_type": "code",
   "execution_count": 30,
   "id": "ca0483d7",
   "metadata": {},
   "outputs": [
    {
     "data": {
      "text/plain": [
       "1"
      ]
     },
     "execution_count": 30,
     "metadata": {},
     "output_type": "execute_result"
    }
   ],
   "source": [
    "list1[0]"
   ]
  },
  {
   "cell_type": "code",
   "execution_count": 31,
   "id": "8ed6a370",
   "metadata": {},
   "outputs": [
    {
     "data": {
      "text/plain": [
       "5"
      ]
     },
     "execution_count": 31,
     "metadata": {},
     "output_type": "execute_result"
    }
   ],
   "source": [
    "len(list1)"
   ]
  },
  {
   "cell_type": "code",
   "execution_count": 32,
   "id": "7c5d7c31",
   "metadata": {},
   "outputs": [
    {
     "data": {
      "text/plain": [
       "[3, 7]"
      ]
     },
     "execution_count": 32,
     "metadata": {},
     "output_type": "execute_result"
    }
   ],
   "source": [
    "list1[1:3]"
   ]
  },
  {
   "cell_type": "code",
   "execution_count": 33,
   "id": "5e2b9df0",
   "metadata": {},
   "outputs": [
    {
     "data": {
      "text/plain": [
       "[1, 3, 7]"
      ]
     },
     "execution_count": 33,
     "metadata": {},
     "output_type": "execute_result"
    }
   ],
   "source": [
    "list1[:3]"
   ]
  },
  {
   "cell_type": "code",
   "execution_count": 34,
   "id": "e69f0f9e",
   "metadata": {},
   "outputs": [
    {
     "data": {
      "text/plain": [
       "[18, 4.92]"
      ]
     },
     "execution_count": 34,
     "metadata": {},
     "output_type": "execute_result"
    }
   ],
   "source": [
    "list1[3:]"
   ]
  },
  {
   "cell_type": "code",
   "execution_count": 35,
   "id": "acc778cd",
   "metadata": {},
   "outputs": [
    {
     "data": {
      "text/plain": [
       "4.92"
      ]
     },
     "execution_count": 35,
     "metadata": {},
     "output_type": "execute_result"
    }
   ],
   "source": [
    "list1[-1]"
   ]
  },
  {
   "cell_type": "code",
   "execution_count": 36,
   "id": "b5e8caa2",
   "metadata": {},
   "outputs": [
    {
     "data": {
      "text/plain": [
       "18"
      ]
     },
     "execution_count": 36,
     "metadata": {},
     "output_type": "execute_result"
    }
   ],
   "source": [
    "list1[-2]"
   ]
  },
  {
   "cell_type": "code",
   "execution_count": 37,
   "id": "9e2bd9b4",
   "metadata": {},
   "outputs": [],
   "source": [
    "list2 = [5,7,9]"
   ]
  },
  {
   "cell_type": "code",
   "execution_count": 38,
   "id": "7c206af2",
   "metadata": {},
   "outputs": [
    {
     "data": {
      "text/plain": [
       "[1, 3, 7, 18, 4.92, 5, 7, 9]"
      ]
     },
     "execution_count": 38,
     "metadata": {},
     "output_type": "execute_result"
    }
   ],
   "source": [
    "list1+list2"
   ]
  },
  {
   "cell_type": "code",
   "execution_count": 41,
   "id": "b989cd2f",
   "metadata": {},
   "outputs": [
    {
     "data": {
      "text/plain": [
       "[5, 7, 9, 5, 7, 9, 5, 7, 9]"
      ]
     },
     "execution_count": 41,
     "metadata": {},
     "output_type": "execute_result"
    }
   ],
   "source": [
    "list2*3"
   ]
  },
  {
   "cell_type": "code",
   "execution_count": 42,
   "id": "916716ef",
   "metadata": {},
   "outputs": [
    {
     "name": "stdout",
     "output_type": "stream",
     "text": [
      "[1, 3, 7, 18, 4.92, 86]\n"
     ]
    }
   ],
   "source": [
    "list1.append(86)\n",
    "print(list1)"
   ]
  },
  {
   "cell_type": "code",
   "execution_count": 43,
   "id": "3fff6441",
   "metadata": {},
   "outputs": [],
   "source": [
    "list1.insert(0,38)"
   ]
  },
  {
   "cell_type": "code",
   "execution_count": 44,
   "id": "57d494d6",
   "metadata": {},
   "outputs": [
    {
     "name": "stdout",
     "output_type": "stream",
     "text": [
      "[38, 1, 3, 7, 18, 4.92, 86]\n"
     ]
    }
   ],
   "source": [
    "print(list1)"
   ]
  },
  {
   "cell_type": "code",
   "execution_count": 45,
   "id": "a4acc424",
   "metadata": {},
   "outputs": [
    {
     "data": {
      "text/plain": [
       "38"
      ]
     },
     "execution_count": 45,
     "metadata": {},
     "output_type": "execute_result"
    }
   ],
   "source": [
    "list1.pop(0)"
   ]
  },
  {
   "cell_type": "code",
   "execution_count": 46,
   "id": "b5472163",
   "metadata": {},
   "outputs": [
    {
     "name": "stdout",
     "output_type": "stream",
     "text": [
      "[1, 3, 7, 18, 4.92, 86]\n"
     ]
    }
   ],
   "source": [
    "print(list1)"
   ]
  },
  {
   "cell_type": "markdown",
   "id": "840f969e",
   "metadata": {},
   "source": [
    "#### Tuples"
   ]
  },
  {
   "cell_type": "code",
   "execution_count": 47,
   "id": "cb2ec47c",
   "metadata": {},
   "outputs": [],
   "source": [
    "tup = (5,7,3,38)"
   ]
  },
  {
   "cell_type": "code",
   "execution_count": 48,
   "id": "379fac74",
   "metadata": {},
   "outputs": [
    {
     "data": {
      "text/plain": [
       "5"
      ]
     },
     "execution_count": 48,
     "metadata": {},
     "output_type": "execute_result"
    }
   ],
   "source": [
    "tup[0]"
   ]
  },
  {
   "cell_type": "code",
   "execution_count": 49,
   "id": "808ea873",
   "metadata": {},
   "outputs": [
    {
     "data": {
      "text/plain": [
       "(5, 7)"
      ]
     },
     "execution_count": 49,
     "metadata": {},
     "output_type": "execute_result"
    }
   ],
   "source": [
    "tup[:2]"
   ]
  },
  {
   "cell_type": "code",
   "execution_count": 50,
   "id": "1afa2238",
   "metadata": {},
   "outputs": [
    {
     "data": {
      "text/plain": [
       "38"
      ]
     },
     "execution_count": 50,
     "metadata": {},
     "output_type": "execute_result"
    }
   ],
   "source": [
    "tup[-1]"
   ]
  },
  {
   "cell_type": "code",
   "execution_count": 51,
   "id": "e4d55d61",
   "metadata": {},
   "outputs": [
    {
     "ename": "AttributeError",
     "evalue": "'tuple' object has no attribute 'append'",
     "output_type": "error",
     "traceback": [
      "\u001b[1;31m---------------------------------------------------------------------------\u001b[0m",
      "\u001b[1;31mAttributeError\u001b[0m                            Traceback (most recent call last)",
      "\u001b[1;32m~\\AppData\\Local\\Temp/ipykernel_13112/3077097648.py\u001b[0m in \u001b[0;36m<module>\u001b[1;34m\u001b[0m\n\u001b[1;32m----> 1\u001b[1;33m \u001b[0mtup\u001b[0m\u001b[1;33m.\u001b[0m\u001b[0mappend\u001b[0m\u001b[1;33m(\u001b[0m\u001b[1;36m4\u001b[0m\u001b[1;33m)\u001b[0m\u001b[1;33m\u001b[0m\u001b[1;33m\u001b[0m\u001b[0m\n\u001b[0m",
      "\u001b[1;31mAttributeError\u001b[0m: 'tuple' object has no attribute 'append'"
     ]
    }
   ],
   "source": [
    "tup.append(4)"
   ]
  },
  {
   "cell_type": "code",
   "execution_count": 52,
   "id": "cded459c",
   "metadata": {},
   "outputs": [],
   "source": [
    "tup = ()"
   ]
  },
  {
   "cell_type": "markdown",
   "id": "2524f31b",
   "metadata": {},
   "source": [
    "### Conditional Statements"
   ]
  },
  {
   "cell_type": "code",
   "execution_count": 3,
   "id": "68c4b3b4",
   "metadata": {},
   "outputs": [
    {
     "data": {
      "text/plain": [
       "True"
      ]
     },
     "execution_count": 3,
     "metadata": {},
     "output_type": "execute_result"
    }
   ],
   "source": [
    "4 == 4.0"
   ]
  },
  {
   "cell_type": "code",
   "execution_count": 5,
   "id": "1f671223",
   "metadata": {},
   "outputs": [
    {
     "name": "stdout",
     "output_type": "stream",
     "text": [
      "It is even\n"
     ]
    }
   ],
   "source": [
    "x=568\n",
    "if x%2 == 0:\n",
    "    print('It is even')"
   ]
  },
  {
   "cell_type": "code",
   "execution_count": 7,
   "id": "aca34b6c",
   "metadata": {},
   "outputs": [
    {
     "data": {
      "text/plain": [
       "False"
      ]
     },
     "execution_count": 7,
     "metadata": {},
     "output_type": "execute_result"
    }
   ],
   "source": [
    "x < 500"
   ]
  },
  {
   "cell_type": "code",
   "execution_count": 9,
   "id": "4d899024",
   "metadata": {},
   "outputs": [
    {
     "data": {
      "text/plain": [
       "True"
      ]
     },
     "execution_count": 9,
     "metadata": {},
     "output_type": "execute_result"
    }
   ],
   "source": [
    "x >= 568"
   ]
  },
  {
   "cell_type": "code",
   "execution_count": 13,
   "id": "ef6ad7cc",
   "metadata": {},
   "outputs": [
    {
     "data": {
      "text/plain": [
       "False"
      ]
     },
     "execution_count": 13,
     "metadata": {},
     "output_type": "execute_result"
    }
   ],
   "source": [
    "x%2 == 1 and x < 500"
   ]
  },
  {
   "cell_type": "code",
   "execution_count": 15,
   "id": "d135dd12",
   "metadata": {},
   "outputs": [
    {
     "data": {
      "text/plain": [
       "True"
      ]
     },
     "execution_count": 15,
     "metadata": {},
     "output_type": "execute_result"
    }
   ],
   "source": [
    "x%2 == 1 or x < 600"
   ]
  },
  {
   "cell_type": "code",
   "execution_count": 16,
   "id": "db51c1a9",
   "metadata": {},
   "outputs": [
    {
     "data": {
      "text/plain": [
       "False"
      ]
     },
     "execution_count": 16,
     "metadata": {},
     "output_type": "execute_result"
    }
   ],
   "source": [
    "not x < 600"
   ]
  },
  {
   "cell_type": "code",
   "execution_count": 19,
   "id": "f4778bf9",
   "metadata": {},
   "outputs": [
    {
     "name": "stdout",
     "output_type": "stream",
     "text": [
      "It is either odd or larger than 600\n"
     ]
    }
   ],
   "source": [
    "x=668\n",
    "if x%2 == 0 and x < 600:\n",
    "    print('It is an even number less than 600')\n",
    "else:\n",
    "    print('It is either odd or larger than 600')"
   ]
  },
  {
   "cell_type": "code",
   "execution_count": 23,
   "id": "4193acc7",
   "metadata": {},
   "outputs": [
    {
     "name": "stdout",
     "output_type": "stream",
     "text": [
      "It is either odd and larger than 600\n"
     ]
    }
   ],
   "source": [
    "x=667\n",
    "if x%2 == 0:\n",
    "    print('The number is even')\n",
    "elif x < 600:\n",
    "    print('The number is less than 600')\n",
    "else:\n",
    "    print('It is either odd and larger than 600')"
   ]
  },
  {
   "cell_type": "code",
   "execution_count": 24,
   "id": "6f98a1e3",
   "metadata": {},
   "outputs": [
    {
     "name": "stdout",
     "output_type": "stream",
     "text": [
      "71071\n"
     ]
    }
   ],
   "source": [
    "total = 0\n",
    "for i in range(0,1001,7):\n",
    "    total = total + i\n",
    "print(total)"
   ]
  },
  {
   "cell_type": "code",
   "execution_count": 26,
   "id": "b294be27",
   "metadata": {},
   "outputs": [
    {
     "name": "stdout",
     "output_type": "stream",
     "text": [
      "71071\n"
     ]
    }
   ],
   "source": [
    "total = 0\n",
    "for i in range(0,1001):\n",
    "    if i%7 == 0:\n",
    "        total = total + i\n",
    "print(total)"
   ]
  },
  {
   "cell_type": "code",
   "execution_count": null,
   "id": "54422a48",
   "metadata": {},
   "outputs": [],
   "source": []
  },
  {
   "cell_type": "markdown",
   "id": "47e0399b",
   "metadata": {},
   "source": [
    "**Exercise** Write a conditional statement that indicates `True` if the number 567 is divisible by 21 and `False` if it is not."
   ]
  },
  {
   "cell_type": "markdown",
   "id": "d38e05b5",
   "metadata": {},
   "source": [
    "**Exercise** Modify your code so that is checks the number stored in the variable `num` (you may want to store something in `num` first)."
   ]
  },
  {
   "cell_type": "markdown",
   "id": "2426ab64",
   "metadata": {},
   "source": [
    "**Exercise** Write code that creates a list of all of the divisors of 567."
   ]
  },
  {
   "cell_type": "code",
   "execution_count": 27,
   "id": "d97d7ba5",
   "metadata": {},
   "outputs": [],
   "source": [
    "def Divisors(num):\n",
    "    list_of_divisors = []\n",
    "    for div in range(1,num+1):\n",
    "        if num%div == 0:\n",
    "            list_of_divisors.append(div)\n",
    "    return list_of_divisors"
   ]
  },
  {
   "cell_type": "code",
   "execution_count": 28,
   "id": "3a06510e",
   "metadata": {},
   "outputs": [
    {
     "data": {
      "text/plain": [
       "[1, 3, 7, 9, 21, 27, 63, 81, 189, 567]"
      ]
     },
     "execution_count": 28,
     "metadata": {},
     "output_type": "execute_result"
    }
   ],
   "source": [
    "Divisors(567)"
   ]
  },
  {
   "cell_type": "markdown",
   "id": "c0121561",
   "metadata": {},
   "source": [
    "**Exercise** Write a function that returns `True` if a given number is prime and `False` if it is not."
   ]
  },
  {
   "cell_type": "markdown",
   "id": "20f70067",
   "metadata": {},
   "source": [
    "## Exercises\n",
    "\n",
    "What is the sum of the first 100 square integers?"
   ]
  },
  {
   "cell_type": "code",
   "execution_count": 1,
   "id": "c07efca3",
   "metadata": {},
   "outputs": [
    {
     "data": {
      "text/plain": [
       "338350"
      ]
     },
     "execution_count": 1,
     "metadata": {},
     "output_type": "execute_result"
    }
   ],
   "source": [
    "result = 0\n",
    "for i in range(101):\n",
    "    result += i**2\n",
    "result"
   ]
  },
  {
   "cell_type": "markdown",
   "id": "2559ed35",
   "metadata": {},
   "source": [
    "Write a loop that creates a list of 100 odd integers."
   ]
  },
  {
   "cell_type": "code",
   "execution_count": 2,
   "id": "0e2e7d56",
   "metadata": {},
   "outputs": [
    {
     "name": "stdout",
     "output_type": "stream",
     "text": [
      "[1, 3, 5, 7, 9, 11, 13, 15, 17, 19, 21, 23, 25, 27, 29, 31, 33, 35, 37, 39, 41, 43, 45, 47, 49, 51, 53, 55, 57, 59, 61, 63, 65, 67, 69, 71, 73, 75, 77, 79, 81, 83, 85, 87, 89, 91, 93, 95, 97, 99, 101, 103, 105, 107, 109, 111, 113, 115, 117, 119, 121, 123, 125, 127, 129, 131, 133, 135, 137, 139, 141, 143, 145, 147, 149, 151, 153, 155, 157, 159, 161, 163, 165, 167, 169, 171, 173, 175, 177, 179, 181, 183, 185, 187, 189, 191, 193, 195, 197, 199]\n"
     ]
    }
   ],
   "source": [
    "nums = []\n",
    "for n in range(1,201,2):\n",
    "    nums.append(n)\n",
    "print(nums)"
   ]
  },
  {
   "cell_type": "code",
   "execution_count": 3,
   "id": "29f6c367",
   "metadata": {},
   "outputs": [
    {
     "data": {
      "text/plain": [
       "100"
      ]
     },
     "execution_count": 3,
     "metadata": {},
     "output_type": "execute_result"
    }
   ],
   "source": [
    "len(nums)"
   ]
  },
  {
   "cell_type": "code",
   "execution_count": 4,
   "id": "e2175270",
   "metadata": {},
   "outputs": [
    {
     "name": "stdout",
     "output_type": "stream",
     "text": [
      "[1, 3, 5, 7, 9, 11, 13, 15, 17, 19, 21, 23, 25, 27, 29, 31, 33, 35, 37, 39, 41, 43, 45, 47, 49, 51, 53, 55, 57, 59, 61, 63, 65, 67, 69, 71, 73, 75, 77, 79, 81, 83, 85, 87, 89, 91, 93, 95, 97, 99, 101, 103, 105, 107, 109, 111, 113, 115, 117, 119, 121, 123, 125, 127, 129, 131, 133, 135, 137, 139, 141, 143, 145, 147, 149, 151, 153, 155, 157, 159, 161, 163, 165, 167, 169, 171, 173, 175, 177, 179, 181, 183, 185, 187, 189, 191, 193, 195, 197, 199]\n"
     ]
    }
   ],
   "source": [
    "nums = []\n",
    "for n in range(201):\n",
    "    if n%2 == 1:\n",
    "        nums.append(n)\n",
    "print(nums)"
   ]
  },
  {
   "cell_type": "code",
   "execution_count": 5,
   "id": "41ec4b0e",
   "metadata": {},
   "outputs": [
    {
     "name": "stdout",
     "output_type": "stream",
     "text": [
      "[1, 3, 5, 7, 9, 11, 13, 15, 17, 19, 21, 23, 25, 27, 29, 31, 33, 35, 37, 39, 41, 43, 45, 47, 49, 51, 53, 55, 57, 59, 61, 63, 65, 67, 69, 71, 73, 75, 77, 79, 81, 83, 85, 87, 89, 91, 93, 95, 97, 99, 101, 103, 105, 107, 109, 111, 113, 115, 117, 119, 121, 123, 125, 127, 129, 131, 133, 135, 137, 139, 141, 143, 145, 147, 149, 151, 153, 155, 157, 159, 161, 163, 165, 167, 169, 171, 173, 175, 177, 179, 181, 183, 185, 187, 189, 191, 193, 195, 197, 199]\n"
     ]
    }
   ],
   "source": [
    "nums = []\n",
    "for n in range(100):\n",
    "    nums.append(2*n+1)\n",
    "print(nums)"
   ]
  },
  {
   "cell_type": "markdown",
   "id": "885c9c40",
   "metadata": {},
   "source": [
    "Write a loop that creates a list of 100 numbers that are congruent to 2 modulo 5."
   ]
  },
  {
   "cell_type": "code",
   "execution_count": 6,
   "id": "e9f7a2a3",
   "metadata": {},
   "outputs": [
    {
     "name": "stdout",
     "output_type": "stream",
     "text": [
      "[2, 7, 12, 17, 22, 27, 32, 37, 42, 47, 52, 57, 62, 67, 72, 77, 82, 87, 92, 97, 102, 107, 112, 117, 122, 127, 132, 137, 142, 147, 152, 157, 162, 167, 172, 177, 182, 187, 192, 197, 202, 207, 212, 217, 222, 227, 232, 237, 242, 247, 252, 257, 262, 267, 272, 277, 282, 287, 292, 297, 302, 307, 312, 317, 322, 327, 332, 337, 342, 347, 352, 357, 362, 367, 372, 377, 382, 387, 392, 397, 402, 407, 412, 417, 422, 427, 432, 437, 442, 447, 452, 457, 462, 467, 472, 477, 482, 487, 492, 497]\n"
     ]
    }
   ],
   "source": [
    "nums = []\n",
    "for n in range(2,501,5):\n",
    "    nums.append(n)\n",
    "print(nums)"
   ]
  },
  {
   "cell_type": "code",
   "execution_count": 7,
   "id": "b40bced1",
   "metadata": {},
   "outputs": [
    {
     "data": {
      "text/plain": [
       "100"
      ]
     },
     "execution_count": 7,
     "metadata": {},
     "output_type": "execute_result"
    }
   ],
   "source": [
    "len(nums)"
   ]
  },
  {
   "cell_type": "code",
   "execution_count": 8,
   "id": "8db54edc",
   "metadata": {},
   "outputs": [
    {
     "name": "stdout",
     "output_type": "stream",
     "text": [
      "[2, 7, 12, 17, 22, 27, 32, 37, 42, 47, 52, 57, 62, 67, 72, 77, 82, 87, 92, 97, 102, 107, 112, 117, 122, 127, 132, 137, 142, 147, 152, 157, 162, 167, 172, 177, 182, 187, 192, 197, 202, 207, 212, 217, 222, 227, 232, 237, 242, 247, 252, 257, 262, 267, 272, 277, 282, 287, 292, 297, 302, 307, 312, 317, 322, 327, 332, 337, 342, 347, 352, 357, 362, 367, 372, 377, 382, 387, 392, 397, 402, 407, 412, 417, 422, 427, 432, 437, 442, 447, 452, 457, 462, 467, 472, 477, 482, 487, 492, 497]\n"
     ]
    }
   ],
   "source": [
    "nums = []\n",
    "for n in range(501):\n",
    "    if n%5 == 2:\n",
    "        nums.append(n)\n",
    "print(nums)"
   ]
  },
  {
   "cell_type": "markdown",
   "id": "f3773574",
   "metadata": {},
   "source": [
    "## Functions"
   ]
  },
  {
   "cell_type": "code",
   "execution_count": 9,
   "id": "a825c0f3",
   "metadata": {},
   "outputs": [],
   "source": [
    "def sum_of_squares(n):\n",
    "    result = 0\n",
    "    for i in range(n+1):\n",
    "        result += i**2\n",
    "    return result"
   ]
  },
  {
   "cell_type": "code",
   "execution_count": 10,
   "id": "7095484c",
   "metadata": {},
   "outputs": [
    {
     "data": {
      "text/plain": [
       "338350"
      ]
     },
     "execution_count": 10,
     "metadata": {},
     "output_type": "execute_result"
    }
   ],
   "source": [
    "sum_of_squares(100)"
   ]
  },
  {
   "cell_type": "code",
   "execution_count": 12,
   "id": "6e35d9a7",
   "metadata": {},
   "outputs": [
    {
     "data": {
      "text/plain": [
       "15230215"
      ]
     },
     "execution_count": 12,
     "metadata": {},
     "output_type": "execute_result"
    }
   ],
   "source": [
    "sum_of_squares(357)"
   ]
  },
  {
   "cell_type": "markdown",
   "id": "ac4a8b22",
   "metadata": {},
   "source": [
    "## While loops"
   ]
  },
  {
   "cell_type": "code",
   "execution_count": 13,
   "id": "f9d997ce",
   "metadata": {},
   "outputs": [
    {
     "data": {
      "text/plain": [
       "406"
      ]
     },
     "execution_count": 13,
     "metadata": {},
     "output_type": "execute_result"
    }
   ],
   "source": [
    "x = 5280\n",
    "q = 0\n",
    "while x >= 13:\n",
    "    x -= 13\n",
    "    q +=1\n",
    "q"
   ]
  },
  {
   "cell_type": "code",
   "execution_count": 14,
   "id": "20234503",
   "metadata": {},
   "outputs": [
    {
     "data": {
      "text/plain": [
       "5278"
      ]
     },
     "execution_count": 14,
     "metadata": {},
     "output_type": "execute_result"
    }
   ],
   "source": [
    "406*13"
   ]
  },
  {
   "cell_type": "code",
   "execution_count": 15,
   "id": "665f18e2",
   "metadata": {},
   "outputs": [
    {
     "data": {
      "text/plain": [
       "406"
      ]
     },
     "execution_count": 15,
     "metadata": {},
     "output_type": "execute_result"
    }
   ],
   "source": [
    "5280//13"
   ]
  },
  {
   "cell_type": "markdown",
   "id": "b5e773aa",
   "metadata": {},
   "source": [
    "Write a function that takes an integer $ n $ as input and returns $ \\sum_{k=0}^n \\frac{1}{k} $ as output."
   ]
  },
  {
   "cell_type": "code",
   "execution_count": null,
   "id": "5ef4eae0",
   "metadata": {},
   "outputs": [],
   "source": []
  },
  {
   "cell_type": "markdown",
   "id": "a19fb680",
   "metadata": {},
   "source": [
    "Write a function that takes an integer $ n $ and input and returns a list of its divisors as output."
   ]
  },
  {
   "cell_type": "code",
   "execution_count": null,
   "id": "f2d9054e",
   "metadata": {},
   "outputs": [],
   "source": []
  },
  {
   "cell_type": "markdown",
   "id": "4cf39939",
   "metadata": {},
   "source": [
    "Write a function that determines if an input integer $ n $ is a prime number, returning True if it is and False if its not."
   ]
  },
  {
   "cell_type": "code",
   "execution_count": null,
   "id": "da20f7be",
   "metadata": {},
   "outputs": [],
   "source": []
  },
  {
   "cell_type": "markdown",
   "id": "fe26c467",
   "metadata": {},
   "source": [
    "Write a function that take an integer $ k $ as input and returns a list of all the prime numbers less than or equal to $ k $ as output."
   ]
  },
  {
   "cell_type": "code",
   "execution_count": null,
   "id": "3ee8791a",
   "metadata": {},
   "outputs": [],
   "source": []
  },
  {
   "cell_type": "markdown",
   "id": "8118f5cd",
   "metadata": {},
   "source": [
    "Write a function that takes an integer $ n $ as input and returns a list containing it's prime factorization as output."
   ]
  },
  {
   "cell_type": "code",
   "execution_count": null,
   "id": "2b1f686c",
   "metadata": {},
   "outputs": [],
   "source": []
  },
  {
   "cell_type": "markdown",
   "id": "29d766f0",
   "metadata": {},
   "source": [
    "Write a function that checks if two integers $ m $ and $ n $ are coprime, returning True if they are and False if they aren't."
   ]
  },
  {
   "cell_type": "code",
   "execution_count": null,
   "id": "b9131da9",
   "metadata": {},
   "outputs": [],
   "source": []
  }
 ],
 "metadata": {
  "kernelspec": {
   "display_name": "Python 3 (ipykernel)",
   "language": "python",
   "name": "python3"
  },
  "language_info": {
   "codemirror_mode": {
    "name": "ipython",
    "version": 3
   },
   "file_extension": ".py",
   "mimetype": "text/x-python",
   "name": "python",
   "nbconvert_exporter": "python",
   "pygments_lexer": "ipython3",
   "version": "3.9.7"
  },
  "latex_envs": {
   "LaTeX_envs_menu_present": true,
   "autoclose": false,
   "autocomplete": false,
   "bibliofile": "biblio.bib",
   "cite_by": "apalike",
   "current_citInitial": 1,
   "eqLabelWithNumbers": true,
   "eqNumInitial": 1,
   "hotkeys": {
    "equation": "Ctrl-E",
    "itemize": "Ctrl-I"
   },
   "labels_anchors": false,
   "latex_user_defs": false,
   "report_style_numbering": false,
   "user_envs_cfg": false
  },
  "varInspector": {
   "cols": {
    "lenName": 16,
    "lenType": 16,
    "lenVar": 40
   },
   "kernels_config": {
    "python": {
     "delete_cmd_postfix": "",
     "delete_cmd_prefix": "del ",
     "library": "var_list.py",
     "varRefreshCmd": "print(var_dic_list())"
    },
    "r": {
     "delete_cmd_postfix": ") ",
     "delete_cmd_prefix": "rm(",
     "library": "var_list.r",
     "varRefreshCmd": "cat(var_dic_list()) "
    }
   },
   "types_to_exclude": [
    "module",
    "function",
    "builtin_function_or_method",
    "instance",
    "_Feature"
   ],
   "window_display": false
  }
 },
 "nbformat": 4,
 "nbformat_minor": 5
}
