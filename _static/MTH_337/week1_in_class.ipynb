{
 "cells": [
  {
   "cell_type": "markdown",
   "id": "503689a5",
   "metadata": {},
   "source": [
    "# Week 1 Notes\n",
    "\n",
    "## Markdown\n",
    "\n",
    "### Headers\n",
    "\n",
    "To create headers use the `#`.  The more you use, the smaller the header.\n",
    "\n",
    "### Lists\n",
    "\n",
    "Ordered lists use numbers `1. `\n",
    "1. First item\n",
    "2. Second item\n",
    "3. Third item\n",
    "\n",
    "Unordered lists use stars `* `\n",
    "* Item 1\n",
    "* Item 2\n",
    "* Item 3\n",
    "\n",
    "Lists inside lists indent with two space\n",
    "1. First item\n",
    "  * Item 1.1\n",
    "  * Item 1.2\n",
    "2. Second item\n",
    "3. Third item\n",
    "\n",
    "### Italics and Bold\n",
    "\n",
    "You can use stars `*` or underscores `_` to emphasize text.\n",
    "* One will _italicize_\n",
    "* Two will **bold**\n",
    "* Mix and match **_bold italics_**\n",
    "\n",
    "### Tables\n",
    "\n",
    "Table columns are separated by pipes `|`\n",
    "\n",
    "Headers are separated by dashes `-` and colons `:` are used to indicate justification\n",
    "\n",
    "```\n",
    "|Header 1|Header 2|Header 3|\n",
    "|:-------|:------:|--------|\n",
    "|column 1|column 2|column 3|\n",
    "|row 2   |row 2   |row 2   |\n",
    "```\n",
    "\n",
    "|Header 1|Header 2|Header 3|\n",
    "|:-------|:------:|--------|\n",
    "|column 1|column 2|column 3|\n",
    "|row 2   |row 2   |row 2   |\n",
    "\n",
    "### Math and code\n",
    "\n",
    "To display code, use the reverse apostrophe `this renders in code format`\n",
    "\n",
    "Blocks can be displayed using three before and three after\n",
    "```\n",
    "for i in range(100):\n",
    "    print(i)\n",
    "```\n",
    "\n",
    "You can also indicate that you are using python\n",
    "```python\n",
    "for i in range(100):\n",
    "    print(i)\n",
    "```\n",
    "\n",
    "We will use LaTeX for math using dollar signs\n",
    "* One dollar sign for in-line formulas, e.g. $ p(x) = x^2 + ax + b $\n",
    "* Two dollar signs for displayed formulas, e.g. $$ e^x = \\sum_{n=0}^{\\infty} \\frac{x^n}{n!} $$\n"
   ]
  },
  {
   "cell_type": "markdown",
   "id": "732115ce",
   "metadata": {},
   "source": [
    "## Numbers and Arithmetic"
   ]
  },
  {
   "cell_type": "code",
   "execution_count": 1,
   "id": "9eea12ab",
   "metadata": {},
   "outputs": [
    {
     "data": {
      "text/plain": [
       "7"
      ]
     },
     "execution_count": 1,
     "metadata": {},
     "output_type": "execute_result"
    }
   ],
   "source": [
    "3+4"
   ]
  },
  {
   "cell_type": "code",
   "execution_count": 2,
   "id": "fcb3730e",
   "metadata": {},
   "outputs": [
    {
     "data": {
      "text/plain": [
       "2"
      ]
     },
     "execution_count": 2,
     "metadata": {},
     "output_type": "execute_result"
    }
   ],
   "source": [
    "6-4"
   ]
  },
  {
   "cell_type": "code",
   "execution_count": 3,
   "id": "7a184722",
   "metadata": {},
   "outputs": [
    {
     "data": {
      "text/plain": [
       "36"
      ]
     },
     "execution_count": 3,
     "metadata": {},
     "output_type": "execute_result"
    }
   ],
   "source": [
    "4*9"
   ]
  },
  {
   "cell_type": "code",
   "execution_count": 4,
   "id": "beea3957",
   "metadata": {},
   "outputs": [
    {
     "data": {
      "text/plain": [
       "5.0"
      ]
     },
     "execution_count": 4,
     "metadata": {},
     "output_type": "execute_result"
    }
   ],
   "source": [
    "10/2"
   ]
  },
  {
   "cell_type": "code",
   "execution_count": 5,
   "id": "f2b8a7fa",
   "metadata": {},
   "outputs": [
    {
     "data": {
      "text/plain": [
       "16"
      ]
     },
     "execution_count": 5,
     "metadata": {},
     "output_type": "execute_result"
    }
   ],
   "source": [
    "2**4"
   ]
  },
  {
   "cell_type": "code",
   "execution_count": 7,
   "id": "dfc9d7ac",
   "metadata": {},
   "outputs": [
    {
     "data": {
      "text/plain": [
       "63.0"
      ]
     },
     "execution_count": 7,
     "metadata": {},
     "output_type": "execute_result"
    }
   ],
   "source": [
    "x=7.0\n",
    "x**2 + 3*x-7"
   ]
  },
  {
   "cell_type": "markdown",
   "id": "50e9a60c",
   "metadata": {},
   "source": [
    "#### Integer versus float"
   ]
  },
  {
   "cell_type": "code",
   "execution_count": 8,
   "id": "a6b054ee",
   "metadata": {},
   "outputs": [
    {
     "data": {
      "text/plain": [
       "2.4"
      ]
     },
     "execution_count": 8,
     "metadata": {},
     "output_type": "execute_result"
    }
   ],
   "source": [
    "13/5"
   ]
  },
  {
   "cell_type": "code",
   "execution_count": 9,
   "id": "cdb024c7",
   "metadata": {},
   "outputs": [
    {
     "data": {
      "text/plain": [
       "2"
      ]
     },
     "execution_count": 9,
     "metadata": {},
     "output_type": "execute_result"
    }
   ],
   "source": [
    "13//5"
   ]
  },
  {
   "cell_type": "code",
   "execution_count": 10,
   "id": "487e8b85",
   "metadata": {},
   "outputs": [
    {
     "data": {
      "text/plain": [
       "3"
      ]
     },
     "execution_count": 10,
     "metadata": {},
     "output_type": "execute_result"
    }
   ],
   "source": [
    "13%5"
   ]
  },
  {
   "cell_type": "code",
   "execution_count": 11,
   "id": "4742f4c9",
   "metadata": {},
   "outputs": [
    {
     "data": {
      "text/plain": [
       "int"
      ]
     },
     "execution_count": 11,
     "metadata": {},
     "output_type": "execute_result"
    }
   ],
   "source": [
    "type(3)"
   ]
  },
  {
   "cell_type": "code",
   "execution_count": 12,
   "id": "2778c4f7",
   "metadata": {},
   "outputs": [
    {
     "data": {
      "text/plain": [
       "float"
      ]
     },
     "execution_count": 12,
     "metadata": {},
     "output_type": "execute_result"
    }
   ],
   "source": [
    "type(3.0)"
   ]
  },
  {
   "cell_type": "code",
   "execution_count": 13,
   "id": "1ffbe874",
   "metadata": {},
   "outputs": [
    {
     "data": {
      "text/plain": [
       "3"
      ]
     },
     "execution_count": 13,
     "metadata": {},
     "output_type": "execute_result"
    }
   ],
   "source": [
    "15%12"
   ]
  },
  {
   "cell_type": "code",
   "execution_count": 14,
   "id": "1c13cf3b",
   "metadata": {},
   "outputs": [
    {
     "data": {
      "text/plain": [
       "8"
      ]
     },
     "execution_count": 14,
     "metadata": {},
     "output_type": "execute_result"
    }
   ],
   "source": [
    "20%12"
   ]
  },
  {
   "cell_type": "code",
   "execution_count": 15,
   "id": "2d63157a",
   "metadata": {},
   "outputs": [
    {
     "data": {
      "text/plain": [
       "11"
      ]
     },
     "execution_count": 15,
     "metadata": {},
     "output_type": "execute_result"
    }
   ],
   "source": [
    "35%12"
   ]
  },
  {
   "cell_type": "code",
   "execution_count": 16,
   "id": "405c1403",
   "metadata": {},
   "outputs": [
    {
     "data": {
      "text/plain": [
       "0"
      ]
     },
     "execution_count": 16,
     "metadata": {},
     "output_type": "execute_result"
    }
   ],
   "source": [
    "16%2"
   ]
  },
  {
   "cell_type": "code",
   "execution_count": 17,
   "id": "289e6413",
   "metadata": {},
   "outputs": [
    {
     "data": {
      "text/plain": [
       "1"
      ]
     },
     "execution_count": 17,
     "metadata": {},
     "output_type": "execute_result"
    }
   ],
   "source": [
    "17%2"
   ]
  },
  {
   "cell_type": "markdown",
   "id": "85168b65",
   "metadata": {},
   "source": [
    "### Lists"
   ]
  },
  {
   "cell_type": "code",
   "execution_count": 18,
   "id": "20df8ec0",
   "metadata": {},
   "outputs": [],
   "source": [
    "list1 = [3.7,5.9,2.1,4.0,4.6,5.1]"
   ]
  },
  {
   "cell_type": "code",
   "execution_count": 20,
   "id": "8f7f476f",
   "metadata": {},
   "outputs": [
    {
     "data": {
      "text/plain": [
       "[3.7, 5.9, 2.1, 4.0, 4.6, 5.1]"
      ]
     },
     "execution_count": 20,
     "metadata": {},
     "output_type": "execute_result"
    }
   ],
   "source": [
    "list1"
   ]
  },
  {
   "cell_type": "code",
   "execution_count": 21,
   "id": "ba8338b7",
   "metadata": {},
   "outputs": [
    {
     "data": {
      "text/plain": [
       "4.0"
      ]
     },
     "execution_count": 21,
     "metadata": {},
     "output_type": "execute_result"
    }
   ],
   "source": [
    "list1[3]"
   ]
  },
  {
   "cell_type": "code",
   "execution_count": 22,
   "id": "9a91d452",
   "metadata": {},
   "outputs": [
    {
     "data": {
      "text/plain": [
       "2.1"
      ]
     },
     "execution_count": 22,
     "metadata": {},
     "output_type": "execute_result"
    }
   ],
   "source": [
    "list1[2]"
   ]
  },
  {
   "cell_type": "code",
   "execution_count": 23,
   "id": "9478c054",
   "metadata": {},
   "outputs": [
    {
     "data": {
      "text/plain": [
       "3.7"
      ]
     },
     "execution_count": 23,
     "metadata": {},
     "output_type": "execute_result"
    }
   ],
   "source": [
    "list1[0]"
   ]
  },
  {
   "cell_type": "code",
   "execution_count": 24,
   "id": "680fe81e",
   "metadata": {},
   "outputs": [
    {
     "data": {
      "text/plain": [
       "5.1"
      ]
     },
     "execution_count": 24,
     "metadata": {},
     "output_type": "execute_result"
    }
   ],
   "source": [
    "list1[-1]"
   ]
  },
  {
   "cell_type": "code",
   "execution_count": 25,
   "id": "98fcd15e",
   "metadata": {},
   "outputs": [
    {
     "data": {
      "text/plain": [
       "4.6"
      ]
     },
     "execution_count": 25,
     "metadata": {},
     "output_type": "execute_result"
    }
   ],
   "source": [
    "list1[-2]"
   ]
  },
  {
   "cell_type": "code",
   "execution_count": 26,
   "id": "1b15c75b",
   "metadata": {},
   "outputs": [
    {
     "data": {
      "text/plain": [
       "3.7"
      ]
     },
     "execution_count": 26,
     "metadata": {},
     "output_type": "execute_result"
    }
   ],
   "source": [
    "list1[-6]"
   ]
  },
  {
   "cell_type": "code",
   "execution_count": 27,
   "id": "c3df8faf",
   "metadata": {},
   "outputs": [
    {
     "data": {
      "text/plain": [
       "[2.1, 4.0]"
      ]
     },
     "execution_count": 27,
     "metadata": {},
     "output_type": "execute_result"
    }
   ],
   "source": [
    "list1[2:4]"
   ]
  },
  {
   "cell_type": "code",
   "execution_count": 28,
   "id": "865103aa",
   "metadata": {},
   "outputs": [
    {
     "data": {
      "text/plain": [
       "[3.7, 5.9, 2.1]"
      ]
     },
     "execution_count": 28,
     "metadata": {},
     "output_type": "execute_result"
    }
   ],
   "source": [
    "list1[:3]"
   ]
  },
  {
   "cell_type": "code",
   "execution_count": 29,
   "id": "21d04e79",
   "metadata": {},
   "outputs": [
    {
     "data": {
      "text/plain": [
       "[3.7, 5.9, 2.1, 4.0, 4.6]"
      ]
     },
     "execution_count": 29,
     "metadata": {},
     "output_type": "execute_result"
    }
   ],
   "source": [
    "list1[:-1]"
   ]
  },
  {
   "cell_type": "code",
   "execution_count": 30,
   "id": "e8201d44",
   "metadata": {},
   "outputs": [
    {
     "data": {
      "text/plain": [
       "[4.0, 4.6, 5.1]"
      ]
     },
     "execution_count": 30,
     "metadata": {},
     "output_type": "execute_result"
    }
   ],
   "source": [
    "list1[3:]"
   ]
  },
  {
   "cell_type": "code",
   "execution_count": 31,
   "id": "ee6acca5",
   "metadata": {},
   "outputs": [
    {
     "data": {
      "text/plain": [
       "[5.9, 2.1, 4.0, 4.6, 5.1]"
      ]
     },
     "execution_count": 31,
     "metadata": {},
     "output_type": "execute_result"
    }
   ],
   "source": [
    "list1[-5:]"
   ]
  },
  {
   "cell_type": "code",
   "execution_count": 32,
   "id": "16c68016",
   "metadata": {},
   "outputs": [
    {
     "data": {
      "text/plain": [
       "[3.7, 5.9, 2.1, 4.0, 4.6, 5.1, 5.8]"
      ]
     },
     "execution_count": 32,
     "metadata": {},
     "output_type": "execute_result"
    }
   ],
   "source": [
    "list1.append(5.8)\n",
    "list1"
   ]
  },
  {
   "cell_type": "code",
   "execution_count": 39,
   "id": "7d4ad8f0",
   "metadata": {},
   "outputs": [
    {
     "data": {
      "text/plain": [
       "[5.8, 5.1, 4.6, 4.0, 2.1, 5.9, 3.7]"
      ]
     },
     "execution_count": 39,
     "metadata": {},
     "output_type": "execute_result"
    }
   ],
   "source": [
    "list1.reverse()\n",
    "list1"
   ]
  },
  {
   "cell_type": "code",
   "execution_count": 40,
   "id": "ab559f66",
   "metadata": {},
   "outputs": [
    {
     "data": {
      "text/plain": [
       "4.6"
      ]
     },
     "execution_count": 40,
     "metadata": {},
     "output_type": "execute_result"
    }
   ],
   "source": [
    "list1.pop(2)"
   ]
  },
  {
   "cell_type": "code",
   "execution_count": 41,
   "id": "c150ad58",
   "metadata": {},
   "outputs": [
    {
     "data": {
      "text/plain": [
       "[5.8, 5.1, 4.0, 2.1, 5.9, 3.7]"
      ]
     },
     "execution_count": 41,
     "metadata": {},
     "output_type": "execute_result"
    }
   ],
   "source": [
    "list1"
   ]
  },
  {
   "cell_type": "code",
   "execution_count": 42,
   "id": "cc498237",
   "metadata": {},
   "outputs": [
    {
     "name": "stdout",
     "output_type": "stream",
     "text": [
      "2.1\n",
      "[5.8, 5.1, 4.0, 5.9, 3.7]\n"
     ]
    }
   ],
   "source": [
    "x=list1.pop(3)\n",
    "print(x)\n",
    "print(list1)"
   ]
  },
  {
   "cell_type": "code",
   "execution_count": 44,
   "id": "dc2b5087",
   "metadata": {},
   "outputs": [
    {
     "data": {
      "text/plain": [
       "[5.8, 5.1, 4.0, 2.1, 5.9, 3.7]"
      ]
     },
     "execution_count": 44,
     "metadata": {},
     "output_type": "execute_result"
    }
   ],
   "source": [
    "list1.insert(3,x)\n",
    "list1"
   ]
  },
  {
   "cell_type": "code",
   "execution_count": 45,
   "id": "357d6fac",
   "metadata": {},
   "outputs": [],
   "source": [
    "tup1 = (4,5,3,7,9)"
   ]
  },
  {
   "cell_type": "code",
   "execution_count": 46,
   "id": "148c003b",
   "metadata": {},
   "outputs": [
    {
     "data": {
      "text/plain": [
       "4"
      ]
     },
     "execution_count": 46,
     "metadata": {},
     "output_type": "execute_result"
    }
   ],
   "source": [
    "tup1[0]"
   ]
  },
  {
   "cell_type": "code",
   "execution_count": 49,
   "id": "bb0c3209",
   "metadata": {},
   "outputs": [
    {
     "data": {
      "text/plain": [
       "7"
      ]
     },
     "execution_count": 49,
     "metadata": {},
     "output_type": "execute_result"
    }
   ],
   "source": [
    "tup1[-2]"
   ]
  },
  {
   "cell_type": "markdown",
   "id": "43e17927",
   "metadata": {},
   "source": [
    "### Loops"
   ]
  },
  {
   "cell_type": "code",
   "execution_count": 50,
   "id": "b4850127",
   "metadata": {},
   "outputs": [
    {
     "name": "stdout",
     "output_type": "stream",
     "text": [
      "0\n",
      "1\n",
      "2\n",
      "3\n",
      "4\n",
      "5\n",
      "6\n",
      "7\n",
      "8\n",
      "9\n"
     ]
    }
   ],
   "source": [
    "for loop_var in range(10):\n",
    "    print(loop_var)"
   ]
  },
  {
   "cell_type": "code",
   "execution_count": 51,
   "id": "76313897",
   "metadata": {},
   "outputs": [
    {
     "name": "stdout",
     "output_type": "stream",
     "text": [
      "500500\n"
     ]
    }
   ],
   "source": [
    "total = 1000\n",
    "for loop_var in range(1000):\n",
    "    total = total + loop_var\n",
    "print(total)"
   ]
  },
  {
   "cell_type": "markdown",
   "id": "67bbf041",
   "metadata": {},
   "source": [
    "When updating a variable that is storing something, you must make sure you have the variable defined first."
   ]
  },
  {
   "cell_type": "code",
   "execution_count": 1,
   "id": "9fabe97d",
   "metadata": {},
   "outputs": [
    {
     "ename": "NameError",
     "evalue": "name 'total' is not defined",
     "output_type": "error",
     "traceback": [
      "\u001b[1;31m---------------------------------------------------------------------------\u001b[0m",
      "\u001b[1;31mNameError\u001b[0m                                 Traceback (most recent call last)",
      "\u001b[1;32m~\\AppData\\Local\\Temp/ipykernel_15832/3879048081.py\u001b[0m in \u001b[0;36m<module>\u001b[1;34m\u001b[0m\n\u001b[0;32m      1\u001b[0m \u001b[1;32mfor\u001b[0m \u001b[0mloop_var\u001b[0m \u001b[1;32min\u001b[0m \u001b[0mrange\u001b[0m\u001b[1;33m(\u001b[0m\u001b[1;36m1000\u001b[0m\u001b[1;33m)\u001b[0m\u001b[1;33m:\u001b[0m\u001b[1;33m\u001b[0m\u001b[1;33m\u001b[0m\u001b[0m\n\u001b[1;32m----> 2\u001b[1;33m     \u001b[0mtotal\u001b[0m \u001b[1;33m=\u001b[0m \u001b[0mtotal\u001b[0m \u001b[1;33m+\u001b[0m \u001b[0mloop_var\u001b[0m\u001b[1;33m\u001b[0m\u001b[1;33m\u001b[0m\u001b[0m\n\u001b[0m\u001b[0;32m      3\u001b[0m \u001b[0mprint\u001b[0m\u001b[1;33m(\u001b[0m\u001b[0mtotal\u001b[0m\u001b[1;33m)\u001b[0m\u001b[1;33m\u001b[0m\u001b[1;33m\u001b[0m\u001b[0m\n",
      "\u001b[1;31mNameError\u001b[0m: name 'total' is not defined"
     ]
    }
   ],
   "source": [
    "for loop_var in range(1000):\n",
    "    total = total + loop_var\n",
    "print(total)"
   ]
  },
  {
   "cell_type": "code",
   "execution_count": 2,
   "id": "f7099c80",
   "metadata": {},
   "outputs": [
    {
     "name": "stdout",
     "output_type": "stream",
     "text": [
      "500500\n"
     ]
    }
   ],
   "source": [
    "total = 0\n",
    "for loop_var in range(1001):\n",
    "    total += loop_var\n",
    "print(total)"
   ]
  },
  {
   "cell_type": "code",
   "execution_count": 5,
   "id": "bce8b996",
   "metadata": {},
   "outputs": [
    {
     "name": "stdout",
     "output_type": "stream",
     "text": [
      "71071\n"
     ]
    }
   ],
   "source": [
    "total = 0\n",
    "for loop_var in range(0,1001,7):\n",
    "    total += loop_var\n",
    "print(total)"
   ]
  },
  {
   "cell_type": "markdown",
   "id": "97c8bc18",
   "metadata": {},
   "source": [
    "### Boolean data and If statements"
   ]
  },
  {
   "cell_type": "code",
   "execution_count": 1,
   "id": "f72dec7a",
   "metadata": {},
   "outputs": [
    {
     "data": {
      "text/plain": [
       "True"
      ]
     },
     "execution_count": 1,
     "metadata": {},
     "output_type": "execute_result"
    }
   ],
   "source": [
    "3<4"
   ]
  },
  {
   "cell_type": "code",
   "execution_count": 2,
   "id": "384dac5f",
   "metadata": {},
   "outputs": [
    {
     "data": {
      "text/plain": [
       "bool"
      ]
     },
     "execution_count": 2,
     "metadata": {},
     "output_type": "execute_result"
    }
   ],
   "source": [
    "type(3<4)"
   ]
  },
  {
   "cell_type": "code",
   "execution_count": 3,
   "id": "a3fb3f3e",
   "metadata": {},
   "outputs": [
    {
     "data": {
      "text/plain": [
       "False"
      ]
     },
     "execution_count": 3,
     "metadata": {},
     "output_type": "execute_result"
    }
   ],
   "source": [
    "4<3"
   ]
  },
  {
   "cell_type": "code",
   "execution_count": 4,
   "id": "4c784df6",
   "metadata": {},
   "outputs": [
    {
     "ename": "SyntaxError",
     "evalue": "cannot assign to literal (Temp/ipykernel_7536/1436796609.py, line 1)",
     "output_type": "error",
     "traceback": [
      "\u001b[1;36m  File \u001b[1;32m\"C:\\Users\\rahollis\\AppData\\Local\\Temp/ipykernel_7536/1436796609.py\"\u001b[1;36m, line \u001b[1;32m1\u001b[0m\n\u001b[1;33m    3=4\u001b[0m\n\u001b[1;37m    ^\u001b[0m\n\u001b[1;31mSyntaxError\u001b[0m\u001b[1;31m:\u001b[0m cannot assign to literal\n"
     ]
    }
   ],
   "source": [
    "3=4"
   ]
  },
  {
   "cell_type": "code",
   "execution_count": 5,
   "id": "fd2b6a41",
   "metadata": {},
   "outputs": [
    {
     "data": {
      "text/plain": [
       "False"
      ]
     },
     "execution_count": 5,
     "metadata": {},
     "output_type": "execute_result"
    }
   ],
   "source": [
    "3==4"
   ]
  },
  {
   "cell_type": "code",
   "execution_count": 6,
   "id": "0a526e24",
   "metadata": {},
   "outputs": [
    {
     "data": {
      "text/plain": [
       "True"
      ]
     },
     "execution_count": 6,
     "metadata": {},
     "output_type": "execute_result"
    }
   ],
   "source": [
    "3!=4"
   ]
  },
  {
   "cell_type": "code",
   "execution_count": 7,
   "id": "3b5d3d5f",
   "metadata": {},
   "outputs": [
    {
     "data": {
      "text/plain": [
       "True"
      ]
     },
     "execution_count": 7,
     "metadata": {},
     "output_type": "execute_result"
    }
   ],
   "source": [
    "not 3==4"
   ]
  },
  {
   "cell_type": "code",
   "execution_count": 9,
   "id": "aeb350b3",
   "metadata": {},
   "outputs": [
    {
     "data": {
      "text/plain": [
       "False"
      ]
     },
     "execution_count": 9,
     "metadata": {},
     "output_type": "execute_result"
    }
   ],
   "source": [
    "x = 11\n",
    "x < 10 and x > 4"
   ]
  },
  {
   "cell_type": "code",
   "execution_count": 13,
   "id": "592fe013",
   "metadata": {},
   "outputs": [
    {
     "data": {
      "text/plain": [
       "False"
      ]
     },
     "execution_count": 13,
     "metadata": {},
     "output_type": "execute_result"
    }
   ],
   "source": [
    "y = 7\n",
    "y > 10 or y < 4"
   ]
  },
  {
   "cell_type": "code",
   "execution_count": 15,
   "id": "98a4f3b4",
   "metadata": {},
   "outputs": [
    {
     "data": {
      "text/plain": [
       "True"
      ]
     },
     "execution_count": 15,
     "metadata": {},
     "output_type": "execute_result"
    }
   ],
   "source": [
    "y = 56\n",
    "(y > 10 or y < 4) == (not (y < 10 and y > 4))"
   ]
  },
  {
   "cell_type": "code",
   "execution_count": 17,
   "id": "c1092e9e",
   "metadata": {},
   "outputs": [],
   "source": [
    "y = 3\n",
    "if y > 10:\n",
    "    print('Greater')"
   ]
  },
  {
   "cell_type": "code",
   "execution_count": 18,
   "id": "3fc940bd",
   "metadata": {},
   "outputs": [
    {
     "name": "stdout",
     "output_type": "stream",
     "text": [
      "0\n",
      "2\n",
      "4\n",
      "6\n",
      "8\n",
      "10\n",
      "12\n",
      "14\n",
      "16\n",
      "18\n"
     ]
    }
   ],
   "source": [
    "for num in range(20):\n",
    "    if num%2==0:\n",
    "        print(num)"
   ]
  },
  {
   "cell_type": "code",
   "execution_count": 21,
   "id": "2ebc5e41",
   "metadata": {},
   "outputs": [
    {
     "data": {
      "text/plain": [
       "124500500000"
      ]
     },
     "execution_count": 21,
     "metadata": {},
     "output_type": "execute_result"
    }
   ],
   "source": [
    "total = 0\n",
    "for num in range(1000):\n",
    "    if num%2 == 0:\n",
    "        total += num**3\n",
    "total"
   ]
  },
  {
   "cell_type": "markdown",
   "id": "433972bf",
   "metadata": {},
   "source": [
    "### Functions"
   ]
  },
  {
   "cell_type": "code",
   "execution_count": 22,
   "id": "87b672b8",
   "metadata": {},
   "outputs": [],
   "source": [
    "def sum_of_cubes(upper_bound):\n",
    "    total = 0\n",
    "    for num in range(upper_bound+1):\n",
    "        total += num**3\n",
    "    return total"
   ]
  },
  {
   "cell_type": "code",
   "execution_count": 23,
   "id": "9244d1ab",
   "metadata": {},
   "outputs": [
    {
     "data": {
      "text/plain": [
       "3025"
      ]
     },
     "execution_count": 23,
     "metadata": {},
     "output_type": "execute_result"
    }
   ],
   "source": [
    "sum_of_cubes(10)"
   ]
  },
  {
   "cell_type": "code",
   "execution_count": 30,
   "id": "8042318e",
   "metadata": {},
   "outputs": [],
   "source": [
    "def sum_of_sevens(upper_bound):\n",
    "    total = 0\n",
    "    for num in range(upper_bound+1):\n",
    "        if num%7 == 0:\n",
    "            total += num\n",
    "    return total"
   ]
  },
  {
   "cell_type": "code",
   "execution_count": 31,
   "id": "e3c433bd",
   "metadata": {},
   "outputs": [],
   "source": [
    "x = sum_of_sevens(1000)"
   ]
  },
  {
   "cell_type": "code",
   "execution_count": 32,
   "id": "b1945c28",
   "metadata": {},
   "outputs": [
    {
     "data": {
      "text/plain": [
       "int"
      ]
     },
     "execution_count": 32,
     "metadata": {},
     "output_type": "execute_result"
    }
   ],
   "source": [
    "type(x)"
   ]
  },
  {
   "cell_type": "code",
   "execution_count": 33,
   "id": "16b32584",
   "metadata": {},
   "outputs": [
    {
     "data": {
      "text/plain": [
       "71071"
      ]
     },
     "execution_count": 33,
     "metadata": {},
     "output_type": "execute_result"
    }
   ],
   "source": [
    "x"
   ]
  },
  {
   "cell_type": "code",
   "execution_count": 34,
   "id": "c6c61a1f",
   "metadata": {},
   "outputs": [
    {
     "data": {
      "text/plain": [
       "True"
      ]
     },
     "execution_count": 34,
     "metadata": {},
     "output_type": "execute_result"
    }
   ],
   "source": [
    "True"
   ]
  },
  {
   "cell_type": "markdown",
   "id": "ee07ab24",
   "metadata": {},
   "source": [
    "#### Determine if a given integer is prime\n",
    "\n",
    "*Strategy:*\n",
    "\n",
    "* valid divisors are between 1 and the number\n",
    "  * This gives us a loop\n",
    "* divide by each number in the range and see if it divides evenly\n",
    "  * if it doesn't divide, move on to the next one\n",
    "  * if it does divide, return False\n",
    "* After getting through the whole loop, we haven't encountered any divisors, so the number must be prime.\n",
    "  * return True\n",
    "  "
   ]
  },
  {
   "cell_type": "code",
   "execution_count": 35,
   "id": "6672cfec",
   "metadata": {},
   "outputs": [],
   "source": [
    "\"\"\"This is a multiline\n",
    "code comment that tells the reader\n",
    "that this function was written by Richard\"\"\"\n",
    "def is_prime(n): # This function determines if the integer n is prime\n",
    "    for d in range(2,n//2+1): # Loop through valid divisors\n",
    "        if n%d == 0: # Check if d divides n\n",
    "            return False\n",
    "    return True # If we get through the loop, then the number must be prime."
   ]
  },
  {
   "cell_type": "code",
   "execution_count": 40,
   "id": "0a7aa9d3",
   "metadata": {},
   "outputs": [
    {
     "data": {
      "text/plain": [
       "True"
      ]
     },
     "execution_count": 40,
     "metadata": {},
     "output_type": "execute_result"
    }
   ],
   "source": [
    "is_prime(563)"
   ]
  },
  {
   "cell_type": "code",
   "execution_count": 41,
   "id": "b07d943d",
   "metadata": {},
   "outputs": [],
   "source": [
    "def is_prime2(n):\n",
    "    counter = 0\n",
    "    for d in range(1,n+1):\n",
    "        if n%d == 0:\n",
    "            counter += 1\n",
    "    if counter == 2:\n",
    "        return True\n",
    "    else:\n",
    "        return False"
   ]
  },
  {
   "cell_type": "code",
   "execution_count": 43,
   "id": "f45377df",
   "metadata": {},
   "outputs": [
    {
     "data": {
      "text/plain": [
       "True"
      ]
     },
     "execution_count": 43,
     "metadata": {},
     "output_type": "execute_result"
    }
   ],
   "source": [
    "is_prime2(563)"
   ]
  },
  {
   "cell_type": "markdown",
   "id": "eda03d7b",
   "metadata": {},
   "source": [
    "#### Generate a list of all the prime numbers up to a given integer"
   ]
  },
  {
   "cell_type": "markdown",
   "id": "c42dc1ea",
   "metadata": {},
   "source": [
    "*Strategy:*"
   ]
  },
  {
   "cell_type": "code",
   "execution_count": null,
   "id": "8628085e",
   "metadata": {},
   "outputs": [],
   "source": []
  }
 ],
 "metadata": {
  "kernelspec": {
   "display_name": "Python 3 (ipykernel)",
   "language": "python",
   "name": "python3"
  },
  "language_info": {
   "codemirror_mode": {
    "name": "ipython",
    "version": 3
   },
   "file_extension": ".py",
   "mimetype": "text/x-python",
   "name": "python",
   "nbconvert_exporter": "python",
   "pygments_lexer": "ipython3",
   "version": "3.9.7"
  },
  "varInspector": {
   "cols": {
    "lenName": 16,
    "lenType": 16,
    "lenVar": 40
   },
   "kernels_config": {
    "python": {
     "delete_cmd_postfix": "",
     "delete_cmd_prefix": "del ",
     "library": "var_list.py",
     "varRefreshCmd": "print(var_dic_list())"
    },
    "r": {
     "delete_cmd_postfix": ") ",
     "delete_cmd_prefix": "rm(",
     "library": "var_list.r",
     "varRefreshCmd": "cat(var_dic_list()) "
    }
   },
   "types_to_exclude": [
    "module",
    "function",
    "builtin_function_or_method",
    "instance",
    "_Feature"
   ],
   "window_display": false
  }
 },
 "nbformat": 4,
 "nbformat_minor": 5
}
