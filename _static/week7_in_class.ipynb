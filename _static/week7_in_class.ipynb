{
 "cells": [
  {
   "cell_type": "markdown",
   "id": "1cca7966",
   "metadata": {},
   "source": [
    "# Week 7\n",
    "\n",
    "## Notes"
   ]
  },
  {
   "cell_type": "code",
   "execution_count": 1,
   "id": "468b2d21",
   "metadata": {},
   "outputs": [],
   "source": [
    "import numpy as np"
   ]
  },
  {
   "cell_type": "code",
   "execution_count": 2,
   "id": "8150ab5b",
   "metadata": {},
   "outputs": [],
   "source": [
    "arr1 = np.array([[1.,2,3,4],[5,6,7,8],[9,10,11,12]])"
   ]
  },
  {
   "cell_type": "code",
   "execution_count": 3,
   "id": "936b636a",
   "metadata": {},
   "outputs": [
    {
     "name": "stdout",
     "output_type": "stream",
     "text": [
      "[[ 1.  2.  3.  4.]\n",
      " [ 5.  6.  7.  8.]\n",
      " [ 9. 10. 11. 12.]]\n"
     ]
    }
   ],
   "source": [
    "print(arr1)"
   ]
  },
  {
   "cell_type": "code",
   "execution_count": 4,
   "id": "6edaa9a0",
   "metadata": {},
   "outputs": [
    {
     "data": {
      "text/plain": [
       "(3, 4)"
      ]
     },
     "execution_count": 4,
     "metadata": {},
     "output_type": "execute_result"
    }
   ],
   "source": [
    "np.shape(arr1)"
   ]
  },
  {
   "cell_type": "code",
   "execution_count": 5,
   "id": "c0abfe81",
   "metadata": {},
   "outputs": [],
   "source": [
    "arr2 = np.ones([3,4],dtype = int)"
   ]
  },
  {
   "cell_type": "code",
   "execution_count": 6,
   "id": "b863c539",
   "metadata": {},
   "outputs": [
    {
     "data": {
      "text/plain": [
       "array([[1, 1, 1, 1],\n",
       "       [1, 1, 1, 1],\n",
       "       [1, 1, 1, 1]])"
      ]
     },
     "execution_count": 6,
     "metadata": {},
     "output_type": "execute_result"
    }
   ],
   "source": [
    "arr2"
   ]
  },
  {
   "cell_type": "code",
   "execution_count": 7,
   "id": "357c3d8c",
   "metadata": {},
   "outputs": [
    {
     "data": {
      "text/plain": [
       "numpy.ndarray"
      ]
     },
     "execution_count": 7,
     "metadata": {},
     "output_type": "execute_result"
    }
   ],
   "source": [
    "type(arr1)"
   ]
  },
  {
   "cell_type": "code",
   "execution_count": 8,
   "id": "33acec92",
   "metadata": {},
   "outputs": [],
   "source": [
    "lst1 = [[2,3,4],[4,5,6]]"
   ]
  },
  {
   "cell_type": "code",
   "execution_count": 9,
   "id": "9355a67d",
   "metadata": {},
   "outputs": [
    {
     "data": {
      "text/plain": [
       "list"
      ]
     },
     "execution_count": 9,
     "metadata": {},
     "output_type": "execute_result"
    }
   ],
   "source": [
    "type(lst1)"
   ]
  },
  {
   "cell_type": "code",
   "execution_count": 10,
   "id": "85102f68",
   "metadata": {},
   "outputs": [
    {
     "data": {
      "text/plain": [
       "array([[ 2.,  3.,  4.,  5.],\n",
       "       [ 6.,  7.,  8.,  9.],\n",
       "       [10., 11., 12., 13.]])"
      ]
     },
     "execution_count": 10,
     "metadata": {},
     "output_type": "execute_result"
    }
   ],
   "source": [
    "arr1+arr2"
   ]
  },
  {
   "cell_type": "code",
   "execution_count": 11,
   "id": "f017901a",
   "metadata": {},
   "outputs": [
    {
     "data": {
      "text/plain": [
       "array([[ 1.,  2.,  3.,  4.],\n",
       "       [ 5.,  6.,  7.,  8.],\n",
       "       [ 9., 10., 11., 12.],\n",
       "       [ 1.,  1.,  1.,  1.],\n",
       "       [ 1.,  1.,  1.,  1.],\n",
       "       [ 1.,  1.,  1.,  1.]])"
      ]
     },
     "execution_count": 11,
     "metadata": {},
     "output_type": "execute_result"
    }
   ],
   "source": [
    "np.concatenate([arr1,arr2])"
   ]
  },
  {
   "cell_type": "code",
   "execution_count": 12,
   "id": "c8d34b18",
   "metadata": {},
   "outputs": [
    {
     "data": {
      "text/plain": [
       "array([[ 1.,  5.,  9.],\n",
       "       [ 2.,  6., 10.],\n",
       "       [ 3.,  7., 11.],\n",
       "       [ 4.,  8., 12.]])"
      ]
     },
     "execution_count": 12,
     "metadata": {},
     "output_type": "execute_result"
    }
   ],
   "source": [
    "np.transpose(arr1)"
   ]
  },
  {
   "cell_type": "code",
   "execution_count": 13,
   "id": "13f77f29",
   "metadata": {},
   "outputs": [
    {
     "data": {
      "text/plain": [
       "array([[ 1.,  2.,  3.,  4.],\n",
       "       [ 5.,  6.,  7.,  8.],\n",
       "       [ 9., 10., 11., 12.]])"
      ]
     },
     "execution_count": 13,
     "metadata": {},
     "output_type": "execute_result"
    }
   ],
   "source": [
    "arr1"
   ]
  },
  {
   "cell_type": "code",
   "execution_count": 14,
   "id": "af608cdf",
   "metadata": {},
   "outputs": [],
   "source": [
    "arr3 = np.zeros([3,4])"
   ]
  },
  {
   "cell_type": "code",
   "execution_count": 15,
   "id": "fb56b4c3",
   "metadata": {},
   "outputs": [
    {
     "data": {
      "text/plain": [
       "array([[0., 0., 0., 0.],\n",
       "       [0., 0., 0., 0.],\n",
       "       [0., 0., 0., 0.]])"
      ]
     },
     "execution_count": 15,
     "metadata": {},
     "output_type": "execute_result"
    }
   ],
   "source": [
    "arr3"
   ]
  },
  {
   "cell_type": "code",
   "execution_count": 16,
   "id": "2cbeaef6",
   "metadata": {},
   "outputs": [
    {
     "data": {
      "text/plain": [
       "array([[ 1.,  2.,  3.,  4.],\n",
       "       [ 5.,  6.,  7.,  8.],\n",
       "       [ 9., 10., 11., 12.]])"
      ]
     },
     "execution_count": 16,
     "metadata": {},
     "output_type": "execute_result"
    }
   ],
   "source": [
    "arr1 + arr3"
   ]
  },
  {
   "cell_type": "code",
   "execution_count": 17,
   "id": "b07dff1b",
   "metadata": {},
   "outputs": [
    {
     "data": {
      "text/plain": [
       "array([ 3.,  7., 11.])"
      ]
     },
     "execution_count": 17,
     "metadata": {},
     "output_type": "execute_result"
    }
   ],
   "source": [
    "arr1[:,2]"
   ]
  },
  {
   "cell_type": "code",
   "execution_count": 18,
   "id": "1f332516",
   "metadata": {},
   "outputs": [
    {
     "data": {
      "text/plain": [
       "array([[ 6.,  7.],\n",
       "       [10., 11.]])"
      ]
     },
     "execution_count": 18,
     "metadata": {},
     "output_type": "execute_result"
    }
   ],
   "source": [
    "arr1[1:3,1:3]"
   ]
  },
  {
   "cell_type": "code",
   "execution_count": 19,
   "id": "d69f50dd",
   "metadata": {},
   "outputs": [
    {
     "data": {
      "text/plain": [
       "array([[3., 4.],\n",
       "       [7., 8.]])"
      ]
     },
     "execution_count": 19,
     "metadata": {},
     "output_type": "execute_result"
    }
   ],
   "source": [
    "arr1[:2,2:]"
   ]
  },
  {
   "cell_type": "code",
   "execution_count": 20,
   "id": "11989e4a",
   "metadata": {},
   "outputs": [
    {
     "name": "stdout",
     "output_type": "stream",
     "text": [
      "[[0 0 0 0 0 0 0 0 0 0]\n",
      " [0 0 0 0 0 0 0 0 0 0]\n",
      " [0 0 0 0 0 0 0 0 0 0]\n",
      " [0 0 0 0 0 0 0 0 0 0]\n",
      " [0 0 0 0 0 0 0 0 0 0]\n",
      " [0 0 0 0 0 0 0 0 0 0]\n",
      " [0 0 0 0 0 0 0 0 0 0]\n",
      " [0 0 0 0 0 0 0 0 0 0]\n",
      " [0 0 0 0 0 0 0 0 0 0]\n",
      " [0 0 0 0 0 0 0 0 0 0]]\n"
     ]
    }
   ],
   "source": [
    "arr = np.zeros([10,10],dtype=int)\n",
    "print(arr)"
   ]
  },
  {
   "cell_type": "code",
   "execution_count": 21,
   "id": "faedd862",
   "metadata": {},
   "outputs": [],
   "source": [
    "arr[3,7] = 4"
   ]
  },
  {
   "cell_type": "code",
   "execution_count": 22,
   "id": "c4123f16",
   "metadata": {},
   "outputs": [
    {
     "name": "stdout",
     "output_type": "stream",
     "text": [
      "[[0 0 0 0 0 0 0 0 0 0]\n",
      " [0 0 0 0 0 0 0 0 0 0]\n",
      " [0 0 0 0 0 0 0 0 0 0]\n",
      " [0 0 0 0 0 0 0 4 0 0]\n",
      " [0 0 0 0 0 0 0 0 0 0]\n",
      " [0 0 0 0 0 0 0 0 0 0]\n",
      " [0 0 0 0 0 0 0 0 0 0]\n",
      " [0 0 0 0 0 0 0 0 0 0]\n",
      " [0 0 0 0 0 0 0 0 0 0]\n",
      " [0 0 0 0 0 0 0 0 0 0]]\n"
     ]
    }
   ],
   "source": [
    "print(arr)"
   ]
  },
  {
   "cell_type": "code",
   "execution_count": 23,
   "id": "d92ead87",
   "metadata": {},
   "outputs": [
    {
     "name": "stdout",
     "output_type": "stream",
     "text": [
      "[[ 1  2  3  4  0  0  0  0  0  0]\n",
      " [ 5  6  7  8  0  0  0  0  0  0]\n",
      " [ 9 10 11 12  0  0  0  0  0  0]\n",
      " [ 0  0  0  0  0  0  0  4  0  0]\n",
      " [ 0  0  0  0  0  0  0  0  0  0]\n",
      " [ 0  0  0  0  0  0  0  0  0  0]\n",
      " [ 0  0  0  0  0  0  0  0  0  0]\n",
      " [ 0  0  0  0  0  0  0  0  0  0]\n",
      " [ 0  0  0  0  0  0  0  0  0  0]\n",
      " [ 0  0  0  0  0  0  0  0  0  0]]\n"
     ]
    }
   ],
   "source": [
    "arr[:3,:4] = arr1\n",
    "print(arr)"
   ]
  },
  {
   "cell_type": "code",
   "execution_count": 24,
   "id": "1bf39bbe",
   "metadata": {},
   "outputs": [
    {
     "name": "stdout",
     "output_type": "stream",
     "text": [
      "[[ 1  2  3  4  0  0  0  0  0  0]\n",
      " [ 5  6  7  8  0  0  0  0  0  0]\n",
      " [ 9 10 11 12  0  0  0  0  0  0]\n",
      " [ 0  0  0  0  0  0  0  4  0  0]\n",
      " [ 0  0  0  0  7  7  7  0  0  0]\n",
      " [ 0  0  0  0  7  7  7  0  0  0]\n",
      " [ 0  0  0  0  7  7  7  0  0  0]\n",
      " [ 0  0  0  0  0  0  0  0  0  0]\n",
      " [ 0  0  0  0  0  0  0  0  0  0]\n",
      " [ 0  0  0  0  0  0  0  0  0  0]]\n"
     ]
    }
   ],
   "source": [
    "arr[4:7,4:7] = 7*np.ones([3,3],dtype=int)\n",
    "print(arr)"
   ]
  },
  {
   "cell_type": "markdown",
   "id": "94bb3b3c",
   "metadata": {},
   "source": [
    "## Color arrays"
   ]
  },
  {
   "cell_type": "code",
   "execution_count": 25,
   "id": "54302d09",
   "metadata": {},
   "outputs": [],
   "source": [
    "import matplotlib.pyplot as plt"
   ]
  },
  {
   "cell_type": "code",
   "execution_count": 29,
   "id": "2cedec62",
   "metadata": {},
   "outputs": [
    {
     "data": {
      "image/png": "[encoded data removed]",
      "text/plain": [
       "<Figure size 432x288 with 1 Axes>"
      ]
     },
     "metadata": {
      "needs_background": "light"
     },
     "output_type": "display_data"
    }
   ],
   "source": [
    "plt.imshow(arr1,cmap = 'viridis')\n",
    "plt.show()"
   ]
  },
  {
   "cell_type": "markdown",
   "id": "28a1cd84",
   "metadata": {},
   "source": [
    " ### RGB Colors"
   ]
  },
  {
   "cell_type": "markdown",
   "id": "ab298eed",
   "metadata": {},
   "source": [
    "Color are represented in the computer as triples (R,G,B) where\n",
    "* R is the intensity of red\n",
    "* G is the intensity of green\n",
    "* B is the intensity of blue.\n",
    "\n",
    "**Ex:**\n",
    "\n",
    "|Color|RGB tuple|\n",
    "|:----|:-------:|\n",
    "|Green | (0,1,0)|\n",
    "|White | (1,1,1)|\n",
    "|Black | (0,0,0)|\n",
    "|Cyan  | (0,1,1)|\n",
    "|Yellow | (1,1,0)|\n",
    "|Magenta | (1,0,1)|"
   ]
  },
  {
   "cell_type": "markdown",
   "id": "6627677e",
   "metadata": {},
   "source": [
    "### 3D arrays"
   ]
  },
  {
   "cell_type": "markdown",
   "id": "fe077398",
   "metadata": {},
   "source": [
    "A 3D array has row, columns, and sheets.  We can think about it as a collection of 2D arrays (rows and columns) all of the same size.  The number of 2D arrays is the same as the number of sheets."
   ]
  },
  {
   "cell_type": "code",
   "execution_count": 32,
   "id": "70468e62",
   "metadata": {},
   "outputs": [],
   "source": [
    "A = np.random.random((10,5,3))"
   ]
  },
  {
   "cell_type": "code",
   "execution_count": 34,
   "id": "65249011",
   "metadata": {},
   "outputs": [
    {
     "data": {
      "text/plain": [
       "array([[0.0058066 , 0.13720189, 0.19709857, 0.40575162, 0.91326214],\n",
       "       [0.97539584, 0.59468269, 0.39553097, 0.65709473, 0.06004495],\n",
       "       [0.75680389, 0.80298881, 0.61321885, 0.28264417, 0.81204231],\n",
       "       [0.85918444, 0.02252769, 0.55870418, 0.42177107, 0.9259739 ],\n",
       "       [0.0748817 , 0.59755228, 0.9445475 , 0.87795781, 0.83312195],\n",
       "       [0.36973666, 0.37378288, 0.85147007, 0.3434664 , 0.15905487],\n",
       "       [0.61874579, 0.48531715, 0.03458946, 0.13036819, 0.78481414],\n",
       "       [0.4344126 , 0.84935766, 0.51962809, 0.11470193, 0.71186927],\n",
       "       [0.96481811, 0.80022742, 0.23563523, 0.43655566, 0.91241597],\n",
       "       [0.13878708, 0.38520696, 0.93378875, 0.63246353, 0.29219635]])"
      ]
     },
     "execution_count": 34,
     "metadata": {},
     "output_type": "execute_result"
    }
   ],
   "source": [
    "A[:,:,1]"
   ]
  },
  {
   "cell_type": "code",
   "execution_count": 35,
   "id": "4ac7f704",
   "metadata": {},
   "outputs": [
    {
     "data": {
      "text/plain": [
       "array([0.63919121, 0.9259739 , 0.27167377])"
      ]
     },
     "execution_count": 35,
     "metadata": {},
     "output_type": "execute_result"
    }
   ],
   "source": [
    "A[3,4,:]"
   ]
  },
  {
   "cell_type": "code",
   "execution_count": 36,
   "id": "0c36fe72",
   "metadata": {},
   "outputs": [
    {
     "data": {
      "image/png": "[encoded data removed]",
      "text/plain": [
       "<Figure size 432x288 with 1 Axes>"
      ]
     },
     "metadata": {
      "needs_background": "light"
     },
     "output_type": "display_data"
    }
   ],
   "source": [
    "plt.imshow(A)\n",
    "plt.show()"
   ]
  },
  {
   "cell_type": "code",
   "execution_count": 37,
   "id": "319e1818",
   "metadata": {},
   "outputs": [
    {
     "data": {
      "image/png": "[encoded data removed]",
      "text/plain": [
       "<Figure size 432x288 with 1 Axes>"
      ]
     },
     "metadata": {
      "needs_background": "light"
     },
     "output_type": "display_data"
    }
   ],
   "source": [
    "A_red = np.zeros((10,5,3))\n",
    "A_red[:,:,0] = A[:,:,0]\n",
    "plt.imshow(A_red)\n",
    "plt.show()"
   ]
  },
  {
   "cell_type": "code",
   "execution_count": 38,
   "id": "f1079755",
   "metadata": {},
   "outputs": [],
   "source": [
    "A_green = np.zeros((10,5,3))\n",
    "A_green[:,:,1] = A[:,:,1]\n",
    "A_blue = np.zeros((10,5,3))\n",
    "A_blue[:,:,2] = A[:,:,2]"
   ]
  },
  {
   "cell_type": "code",
   "execution_count": 39,
   "id": "44d3a343",
   "metadata": {},
   "outputs": [
    {
     "data": {
      "image/png": "[encoded data removed]",
      "text/plain": [
       "<Figure size 720x360 with 4 Axes>"
      ]
     },
     "metadata": {
      "needs_background": "light"
     },
     "output_type": "display_data"
    }
   ],
   "source": [
    "plt.figure(figsize =(10,5))\n",
    "plt.subplot(141)\n",
    "plt.imshow(A)\n",
    "plt.subplot(142)\n",
    "plt.imshow(A_red)\n",
    "plt.subplot(143)\n",
    "plt.imshow(A_green)\n",
    "plt.subplot(144)\n",
    "plt.imshow(A_blue)\n",
    "plt.show()"
   ]
  },
  {
   "cell_type": "code",
   "execution_count": 40,
   "id": "8a582f69",
   "metadata": {},
   "outputs": [],
   "source": [
    "Red = np.zeros((10,10))\n",
    "Red[2:6,2:6] = np.ones((4,4))\n",
    "Green = np.zeros((10,10))\n",
    "Green[2:6,4:8] = np.ones((4,4))\n",
    "Blue = np.zeros((10,10))\n",
    "Blue[4:8,3:7] = np.ones((4,4))"
   ]
  },
  {
   "cell_type": "code",
   "execution_count": 41,
   "id": "fb1b8ace",
   "metadata": {},
   "outputs": [
    {
     "data": {
      "image/png": "[encoded data removed]",
      "text/plain": [
       "<Figure size 432x288 with 1 Axes>"
      ]
     },
     "metadata": {
      "needs_background": "light"
     },
     "output_type": "display_data"
    }
   ],
   "source": [
    "color_arr = np.zeros((10,10,3))\n",
    "color_arr[:,:,0] = Red\n",
    "color_arr[:,:,1] = Green\n",
    "color_arr[:,:,2] = Blue\n",
    "plt.imshow(color_arr)\n",
    "plt.show()"
   ]
  },
  {
   "cell_type": "markdown",
   "id": "007aaddc",
   "metadata": {},
   "source": [
    "### Tartans project"
   ]
  },
  {
   "cell_type": "code",
   "execution_count": 42,
   "id": "ce1a1b1a",
   "metadata": {},
   "outputs": [],
   "source": [
    "color_dictionary = {'DR' : [140, 0, 0], 'DN' : [100, 108, 100], 'K' : [0, 0, 0], 'DW' : [176, 176, 176]}"
   ]
  },
  {
   "cell_type": "code",
   "execution_count": 43,
   "id": "94f16777",
   "metadata": {},
   "outputs": [],
   "source": [
    "color_code = 'DN40'"
   ]
  },
  {
   "cell_type": "code",
   "execution_count": 44,
   "id": "ce9129c5",
   "metadata": {},
   "outputs": [],
   "source": [
    "n=100"
   ]
  },
  {
   "cell_type": "code",
   "execution_count": 45,
   "id": "5ebc5e40",
   "metadata": {},
   "outputs": [],
   "source": [
    "num = ''\n",
    "let = ''\n",
    "for char in color_code:\n",
    "    if char in '0123456789':\n",
    "        num += char\n",
    "    else:\n",
    "        let += char\n",
    "deconstructed_code = (let,int(num))"
   ]
  },
  {
   "cell_type": "code",
   "execution_count": 46,
   "id": "88d34ee2",
   "metadata": {},
   "outputs": [
    {
     "data": {
      "text/plain": [
       "('DN', 40)"
      ]
     },
     "execution_count": 46,
     "metadata": {},
     "output_type": "execute_result"
    }
   ],
   "source": [
    "deconstructed_code"
   ]
  },
  {
   "cell_type": "code",
   "execution_count": 47,
   "id": "e9bd106b",
   "metadata": {},
   "outputs": [],
   "source": [
    "stripe = np.ones((100,40,3))\n",
    "stripe[:,:,0] = stripe[:,:,0]*color_dictionary['DN'][0]\n",
    "stripe[:,:,1] = stripe[:,:,1]*color_dictionary['DN'][1]\n",
    "stripe[:,:,2] = stripe[:,:,2]*color_dictionary['DN'][2]"
   ]
  },
  {
   "cell_type": "code",
   "execution_count": 49,
   "id": "6511102c",
   "metadata": {},
   "outputs": [
    {
     "data": {
      "image/png": "[encoded data removed]",
      "text/plain": [
       "<Figure size 432x288 with 1 Axes>"
      ]
     },
     "metadata": {
      "needs_background": "light"
     },
     "output_type": "display_data"
    }
   ],
   "source": [
    "plt.imshow(stripe/255)\n",
    "plt.show()"
   ]
  },
  {
   "cell_type": "code",
   "execution_count": null,
   "id": "b255c14f",
   "metadata": {},
   "outputs": [],
   "source": []
  }
 ],
 "metadata": {
  "kernelspec": {
   "display_name": "Python 3 (ipykernel)",
   "language": "python",
   "name": "python3"
  },
  "language_info": {
   "codemirror_mode": {
    "name": "ipython",
    "version": 3
   },
   "file_extension": ".py",
   "mimetype": "text/x-python",
   "name": "python",
   "nbconvert_exporter": "python",
   "pygments_lexer": "ipython3",
   "version": "3.9.7"
  },
  "varInspector": {
   "cols": {
    "lenName": 16,
    "lenType": 16,
    "lenVar": 40
   },
   "kernels_config": {
    "python": {
     "delete_cmd_postfix": "",
     "delete_cmd_prefix": "del ",
     "library": "var_list.py",
     "varRefreshCmd": "print(var_dic_list())"
    },
    "r": {
     "delete_cmd_postfix": ") ",
     "delete_cmd_prefix": "rm(",
     "library": "var_list.r",
     "varRefreshCmd": "cat(var_dic_list()) "
    }
   },
   "types_to_exclude": [
    "module",
    "function",
    "builtin_function_or_method",
    "instance",
    "_Feature"
   ],
   "window_display": false
  }
 },
 "nbformat": 4,
 "nbformat_minor": 5
}
