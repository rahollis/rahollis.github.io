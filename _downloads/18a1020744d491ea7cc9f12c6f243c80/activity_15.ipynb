{
 "cells": [
  {
   "cell_type": "code",
   "execution_count": null,
   "id": "442d1d2c",
   "metadata": {},
   "outputs": [],
   "source": [
    "\"\"\"RUN THIS CELL\"\"\"\n",
    "import matplotlib.pyplot as plt\n",
    "from math import sqrt\n",
    "import numpy as np"
   ]
  },
  {
   "cell_type": "markdown",
   "id": "72545749",
   "metadata": {},
   "source": [
    "# Activity 15 - Applications of Least Squares\n",
    "\n",
    "### Least Squares\n",
    "\n",
    "In this problem we will be finding polynomial curves of best fit.  Consider the following data.\n",
    "\n",
    "|$x$ | $y$|\n",
    "|----|----|\n",
    "|-3  | 56 |\n",
    "|-2  | 40 |\n",
    "|-1  | 21 |\n",
    "|0   | 14 |\n",
    "|1   | 8  |\n",
    "|5   | -9 |\n",
    "|6   | -1 |\n",
    "\n",
    "Let's begin by plotting the data."
   ]
  },
  {
   "cell_type": "code",
   "execution_count": null,
   "id": "0c64c3b2",
   "metadata": {},
   "outputs": [],
   "source": [
    "x = [-3,-2,-1,0,1,5,6]\n",
    "y = [56,40,21,14,8,-9,-1]\n",
    "plt.plot(x,y,'ro')\n",
    "plt.show()"
   ]
  },
  {
   "cell_type": "markdown",
   "id": "043d4330",
   "metadata": {},
   "source": [
    "Now to find the line of best fit $ y=mx+b $, the first step is to set up the coefficient matrix and enter it here."
   ]
  },
  {
   "cell_type": "code",
   "execution_count": null,
   "id": "f5157ae2",
   "metadata": {},
   "outputs": [],
   "source": [
    "A = np.matrix([[-3,1],[-2,1],[-1,1],[0,1],[1,1],[5,1],[6,1]])"
   ]
  },
  {
   "cell_type": "markdown",
   "id": "f99d08b6",
   "metadata": {},
   "source": [
    "Instead of the projection method, we will use a more specialized method called the pseudoinverse method.  This method requires two things:\n",
    "1. The matrix must be tall and narrow (more rows than columns),\n",
    "2. The columns must be linearly independent.\n",
    "\n",
    "The first step is to multiply both sides of the equation by $ A^T $ to convert it into a consistent square system $$ A^TAx = A^Tb $$"
   ]
  },
  {
   "cell_type": "code",
   "execution_count": null,
   "id": "7cabebc9",
   "metadata": {},
   "outputs": [],
   "source": [
    "b = np.matrix(y).T\n",
    "ATA = A.T*A\n",
    "ATb = A.T*b"
   ]
  },
  {
   "cell_type": "markdown",
   "id": "ea89928a",
   "metadata": {},
   "source": [
    "Next, we will solve this system by multiplying both sides by the inverse of $ A^TA $.  If either of the two requirements listed above are not met, then $ A^TA $ will not be invertible and we would have to solve the system using row operations."
   ]
  },
  {
   "cell_type": "code",
   "execution_count": null,
   "id": "05a8760b",
   "metadata": {},
   "outputs": [],
   "source": [
    "x_ls = np.linalg.inv(ATA)*ATb\n",
    "print(x_ls)"
   ]
  },
  {
   "cell_type": "markdown",
   "id": "6dbaf238",
   "metadata": {},
   "source": [
    "Now let's add this line to our graph."
   ]
  },
  {
   "cell_type": "code",
   "execution_count": null,
   "id": "56924c56",
   "metadata": {},
   "outputs": [],
   "source": [
    "# x and y values for the line of best fit\n",
    "line_x = [0.1*t-3 for t in range(91)]\n",
    "line_y = [x_ls[0,0]*x+x_ls[1,0] for x in line_x]\n",
    "# original data\n",
    "x = [-3,-2,-1,0,1,5,6]\n",
    "y = [56,40,21,14,8,-9,-1]\n",
    "# both graphed together\n",
    "plt.plot(x,y,'ro',line_x,line_y)\n",
    "plt.show()"
   ]
  },
  {
   "cell_type": "markdown",
   "id": "df947361",
   "metadata": {},
   "source": [
    "**Exercise:**  Now use this method to find the parabola of best fit for the same data."
   ]
  },
  {
   "cell_type": "code",
   "execution_count": null,
   "id": "3c944f43",
   "metadata": {},
   "outputs": [],
   "source": []
  }
 ],
 "metadata": {
  "kernelspec": {
   "display_name": "Python 3 (ipykernel)",
   "language": "python",
   "name": "python3"
  },
  "language_info": {
   "codemirror_mode": {
    "name": "ipython",
    "version": 3
   },
   "file_extension": ".py",
   "mimetype": "text/x-python",
   "name": "python",
   "nbconvert_exporter": "python",
   "pygments_lexer": "ipython3",
   "version": "3.9.7"
  },
  "latex_envs": {
   "LaTeX_envs_menu_present": true,
   "autoclose": false,
   "autocomplete": false,
   "bibliofile": "biblio.bib",
   "cite_by": "apalike",
   "current_citInitial": 1,
   "eqLabelWithNumbers": true,
   "eqNumInitial": 1,
   "hotkeys": {
    "equation": "Ctrl-E",
    "itemize": "Ctrl-I"
   },
   "labels_anchors": false,
   "latex_user_defs": false,
   "report_style_numbering": false,
   "user_envs_cfg": false
  },
  "varInspector": {
   "cols": {
    "lenName": 16,
    "lenType": 16,
    "lenVar": 40
   },
   "kernels_config": {
    "python": {
     "delete_cmd_postfix": "",
     "delete_cmd_prefix": "del ",
     "library": "var_list.py",
     "varRefreshCmd": "print(var_dic_list())"
    },
    "r": {
     "delete_cmd_postfix": ") ",
     "delete_cmd_prefix": "rm(",
     "library": "var_list.r",
     "varRefreshCmd": "cat(var_dic_list()) "
    }
   },
   "types_to_exclude": [
    "module",
    "function",
    "builtin_function_or_method",
    "instance",
    "_Feature"
   ],
   "window_display": false
  }
 },
 "nbformat": 4,
 "nbformat_minor": 5
}
