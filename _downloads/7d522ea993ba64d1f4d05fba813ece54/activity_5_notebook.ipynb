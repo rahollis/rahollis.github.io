{
 "cells": [
  {
   "cell_type": "markdown",
   "id": "913b5f66",
   "metadata": {},
   "source": [
    "# Matrices in Python\n",
    "\n",
    "The objective of this activity is for you to become comfortable working with matrices in Python to do computations that would take much longer to do by hand.  The objective is not to train you on state-of-the-art computational tools or to teach you the details for how Python does computations.\n",
    "\n",
    "*For this activity I suggest you keep a cheat sheet of all the matrices, their dimensions, and their data type (Matrix, matrix, or array).*"
   ]
  },
  {
   "cell_type": "markdown",
   "id": "1888998b",
   "metadata": {},
   "source": [
    "## Creating a matrix in Python\n",
    "\n",
    "There are several ways to do this, each with their advantages and disadvantages.\n",
    "\n",
    "### Using SymPy\n",
    "\n",
    "`SymPy` is a Python library for doing symbolic computations.  The main reason for using SymPy for matrix computations is access to the `rref` method.  A more minor reason to use SymPy is aesthetically pleasing way it renders matrices."
   ]
  },
  {
   "cell_type": "code",
   "execution_count": null,
   "id": "339410a4",
   "metadata": {},
   "outputs": [],
   "source": [
    "import sympy as sp"
   ]
  },
  {
   "cell_type": "markdown",
   "id": "74b24625",
   "metadata": {},
   "source": [
    "To create a matrix, use the `Matrix` function.  Please note that the capital M is necessary."
   ]
  },
  {
   "cell_type": "code",
   "execution_count": null,
   "id": "bd502eb5",
   "metadata": {},
   "outputs": [],
   "source": [
    "A = sp.Matrix([[1,2,3,4],[5,6,7,8],[9,10,11,12]])\n",
    "A"
   ]
  },
  {
   "cell_type": "markdown",
   "id": "92c0a21e",
   "metadata": {},
   "source": [
    "We can get the reduced row echelon form by using the `rref` method.  This will return two things, the actual echelon form as a matrix, and the locations of the pivots."
   ]
  },
  {
   "cell_type": "code",
   "execution_count": null,
   "id": "abee2cc1",
   "metadata": {},
   "outputs": [],
   "source": [
    "A.rref()"
   ]
  },
  {
   "cell_type": "markdown",
   "id": "db58add8",
   "metadata": {},
   "source": [
    "If you just want the matrix, add a `[0]` to the end of the command."
   ]
  },
  {
   "cell_type": "code",
   "execution_count": null,
   "id": "8f61b78a",
   "metadata": {},
   "outputs": [],
   "source": [
    "A.rref()[0]"
   ]
  },
  {
   "cell_type": "markdown",
   "id": "903cbce2",
   "metadata": {},
   "source": [
    "**Exercise:** Solve the following system of linear equations.\n",
    "\\begin{align*} w - 2x + 3y - z &= -14 \\\\ 4w + x + y - 2z &= -6 \\\\ 3w - z &= -4 \\\\ -x + y + z &= 3 \\end{align*}"
   ]
  },
  {
   "cell_type": "markdown",
   "id": "9aafcacd",
   "metadata": {},
   "source": [
    "### Using NumPy\n",
    "\n",
    "`NumPy` is a Python library for numerical computations.  The advantages of using NumPy for matrix computations is that it has much more capabilities than SymPy.  We will explore more of the capabilities of NumPy later in the semester.  NumPy supports two data objects for matrix computations, `Matrix` and `array`."
   ]
  },
  {
   "cell_type": "code",
   "execution_count": null,
   "id": "01111368",
   "metadata": {},
   "outputs": [],
   "source": [
    "import numpy as np"
   ]
  },
  {
   "cell_type": "markdown",
   "id": "92072014",
   "metadata": {},
   "source": [
    "Creating a matrix object using the `matrix` command can be done in several ways.  The first way is exactly the same as SymPy."
   ]
  },
  {
   "cell_type": "code",
   "execution_count": null,
   "id": "c13aba19",
   "metadata": {},
   "outputs": [],
   "source": [
    "B = np.matrix([[4,2,1],[9,3,1],[1,1,2],[5,1,7]])\n",
    "print(B)"
   ]
  },
  {
   "cell_type": "markdown",
   "id": "e2d78a67",
   "metadata": {},
   "source": [
    "Another way to create a matrix is to input the data in a different way."
   ]
  },
  {
   "cell_type": "code",
   "execution_count": null,
   "id": "b70ebfe8",
   "metadata": {},
   "outputs": [],
   "source": [
    "C = np.matrix('1,1,1;1,0,1;0,1,1')\n",
    "print(C)"
   ]
  },
  {
   "cell_type": "markdown",
   "id": "668a264f",
   "metadata": {},
   "source": [
    "You can also create a matrix using the `array` command, using the same syntax as SymPy."
   ]
  },
  {
   "cell_type": "code",
   "execution_count": null,
   "id": "0d8c56c8",
   "metadata": {},
   "outputs": [],
   "source": [
    "D = np.array([[6,7],[-7,10]])\n",
    "print(D)"
   ]
  },
  {
   "cell_type": "markdown",
   "id": "ae219083",
   "metadata": {},
   "source": [
    "Here are some more ways to create matrices in NumPy."
   ]
  },
  {
   "cell_type": "code",
   "execution_count": null,
   "id": "593f06c1",
   "metadata": {},
   "outputs": [],
   "source": [
    "I = np.eye(3)\n",
    "print(I)"
   ]
  },
  {
   "cell_type": "code",
   "execution_count": null,
   "id": "a6adbea2",
   "metadata": {},
   "outputs": [],
   "source": [
    "Z = np.zeros((3,4))\n",
    "print(Z)"
   ]
  },
  {
   "cell_type": "code",
   "execution_count": null,
   "id": "01d3e155",
   "metadata": {},
   "outputs": [],
   "source": [
    "O = np.ones((3,4))\n",
    "print(O)"
   ]
  },
  {
   "cell_type": "code",
   "execution_count": null,
   "id": "c4c1d570",
   "metadata": {},
   "outputs": [],
   "source": [
    "R = np.random.random((3,3))\n",
    "print(R)"
   ]
  },
  {
   "cell_type": "code",
   "execution_count": null,
   "id": "3f23813d",
   "metadata": {},
   "outputs": [],
   "source": [
    "N = np.random.randint(0,3,(3,4))\n",
    "print(N)"
   ]
  },
  {
   "cell_type": "markdown",
   "id": "81aee304",
   "metadata": {},
   "source": [
    "## Arithmetic\n",
    "\n",
    "#### Adding and subtracting\n",
    "\n",
    "When it comes to these operations, all these methods for storing matrices are equivalent."
   ]
  },
  {
   "cell_type": "code",
   "execution_count": null,
   "id": "b5a982be",
   "metadata": {},
   "outputs": [],
   "source": [
    "A+O"
   ]
  },
  {
   "cell_type": "code",
   "execution_count": null,
   "id": "2ce444db",
   "metadata": {},
   "outputs": [],
   "source": [
    "print(Z+N)"
   ]
  },
  {
   "cell_type": "code",
   "execution_count": null,
   "id": "5b3ca25c",
   "metadata": {},
   "outputs": [],
   "source": [
    "print(C-I)"
   ]
  },
  {
   "cell_type": "markdown",
   "id": "3fd85d95",
   "metadata": {},
   "source": [
    "### Multiplication\n",
    "\n",
    "However, when it comes to multiplication, there is a major difference between `matrix` objects and `array` objects.  When you multiply `sympy.Matrix` or `numpy.matrix` objects, the normal rules apply, but when you multiply `numpy.array` objects together, the multiplication is done entrywise and thus requires the arrays to be the same shape."
   ]
  },
  {
   "cell_type": "markdown",
   "id": "19d4a56c",
   "metadata": {},
   "source": [
    "#### Multiplying `matrix` or `Matrix` objects"
   ]
  },
  {
   "cell_type": "code",
   "execution_count": null,
   "id": "24fb270a",
   "metadata": {},
   "outputs": [],
   "source": [
    "C*A"
   ]
  },
  {
   "cell_type": "code",
   "execution_count": null,
   "id": "962b2365",
   "metadata": {},
   "outputs": [],
   "source": [
    "print(B*C)"
   ]
  },
  {
   "cell_type": "code",
   "execution_count": null,
   "id": "3d6ad725",
   "metadata": {},
   "outputs": [],
   "source": [
    "print(C*I)"
   ]
  },
  {
   "cell_type": "markdown",
   "id": "bf64d72b",
   "metadata": {},
   "source": [
    "#### Multiplying by an `array` object"
   ]
  },
  {
   "cell_type": "code",
   "execution_count": null,
   "id": "2feff745",
   "metadata": {},
   "outputs": [],
   "source": [
    "print(R*I)"
   ]
  },
  {
   "cell_type": "code",
   "execution_count": null,
   "id": "8e5eefe4",
   "metadata": {},
   "outputs": [],
   "source": [
    "print(O*N)"
   ]
  },
  {
   "cell_type": "code",
   "execution_count": null,
   "id": "dde31bd3",
   "metadata": {},
   "outputs": [],
   "source": [
    "print(Z*N)"
   ]
  },
  {
   "cell_type": "markdown",
   "id": "abe17633",
   "metadata": {},
   "source": [
    "## Additional features\n",
    "\n",
    "#### Transpose"
   ]
  },
  {
   "cell_type": "code",
   "execution_count": null,
   "id": "2e0b91d6",
   "metadata": {},
   "outputs": [],
   "source": [
    "A.T"
   ]
  },
  {
   "cell_type": "code",
   "execution_count": null,
   "id": "6b9d824c",
   "metadata": {},
   "outputs": [],
   "source": [
    "print(np.transpose(B))"
   ]
  },
  {
   "cell_type": "code",
   "execution_count": null,
   "id": "8b46c843",
   "metadata": {},
   "outputs": [],
   "source": [
    "print(np.transpose(N))"
   ]
  },
  {
   "cell_type": "markdown",
   "id": "ee65e609",
   "metadata": {},
   "source": [
    "#### Inverse"
   ]
  },
  {
   "cell_type": "code",
   "execution_count": null,
   "id": "6037fafa",
   "metadata": {},
   "outputs": [],
   "source": [
    "print(np.linalg.inv(C))"
   ]
  },
  {
   "cell_type": "code",
   "execution_count": null,
   "id": "9bced9ac",
   "metadata": {},
   "outputs": [],
   "source": [
    "print(np.linalg.inv(R))"
   ]
  },
  {
   "cell_type": "markdown",
   "id": "a1927c1e",
   "metadata": {},
   "source": [
    "#### Solve a system of linear equations"
   ]
  },
  {
   "cell_type": "code",
   "execution_count": null,
   "id": "042f96cc",
   "metadata": {},
   "outputs": [],
   "source": [
    "b = np.matrix('1;2;3')\n",
    "print(b)"
   ]
  },
  {
   "cell_type": "code",
   "execution_count": null,
   "id": "4f49ea29",
   "metadata": {},
   "outputs": [],
   "source": [
    "np.linalg.solve(C,b)"
   ]
  },
  {
   "cell_type": "code",
   "execution_count": null,
   "id": "beb106c7",
   "metadata": {},
   "outputs": [],
   "source": [
    "np.linalg.inv(C)*b"
   ]
  },
  {
   "cell_type": "markdown",
   "id": "98819141",
   "metadata": {},
   "source": [
    "At this point, I encourage you to familiarize yourself with the tools described in this activity."
   ]
  },
  {
   "cell_type": "code",
   "execution_count": null,
   "id": "5b2daf85",
   "metadata": {},
   "outputs": [],
   "source": []
  }
 ],
 "metadata": {
  "kernelspec": {
   "display_name": "Python 3 (ipykernel)",
   "language": "python",
   "name": "python3"
  },
  "language_info": {
   "codemirror_mode": {
    "name": "ipython",
    "version": 3
   },
   "file_extension": ".py",
   "mimetype": "text/x-python",
   "name": "python",
   "nbconvert_exporter": "python",
   "pygments_lexer": "ipython3",
   "version": "3.9.7"
  },
  "varInspector": {
   "cols": {
    "lenName": 16,
    "lenType": 16,
    "lenVar": 40
   },
   "kernels_config": {
    "python": {
     "delete_cmd_postfix": "",
     "delete_cmd_prefix": "del ",
     "library": "var_list.py",
     "varRefreshCmd": "print(var_dic_list())"
    },
    "r": {
     "delete_cmd_postfix": ") ",
     "delete_cmd_prefix": "rm(",
     "library": "var_list.r",
     "varRefreshCmd": "cat(var_dic_list()) "
    }
   },
   "types_to_exclude": [
    "module",
    "function",
    "builtin_function_or_method",
    "instance",
    "_Feature"
   ],
   "window_display": false
  }
 },
 "nbformat": 4,
 "nbformat_minor": 5
}
