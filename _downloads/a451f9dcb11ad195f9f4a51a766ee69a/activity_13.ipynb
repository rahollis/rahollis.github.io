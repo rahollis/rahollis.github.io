{
 "cells": [
  {
   "cell_type": "markdown",
   "id": "1cad0d1b",
   "metadata": {},
   "source": [
    "# Project 13 - Singular Value Decomposition"
   ]
  },
  {
   "cell_type": "code",
   "execution_count": null,
   "id": "9b2f67b3",
   "metadata": {},
   "outputs": [],
   "source": [
    "'''Before anything else, run this cell.'''\n",
    "\n",
    "import numpy as np\n",
    "import matplotlib.pyplot as plt\n",
    "from math import sin,cos,pi"
   ]
  },
  {
   "cell_type": "markdown",
   "id": "1789f181",
   "metadata": {},
   "source": [
    "### Consider the linear transformation $ T\\colon \\mathbb{R}^2 \\rightarrow \\mathbb{R}^2 $ with matrix representation\n",
    "$$\n",
    "A = \\left[\\begin{array}{cc} 2 & 2 \\\\ -1 & 1 \\end{array}\\right].\n",
    "$$\n",
    "\n",
    "Enter the matrix in the cell below."
   ]
  },
  {
   "cell_type": "code",
   "execution_count": null,
   "id": "cca46dd3",
   "metadata": {},
   "outputs": [],
   "source": [
    "A = np.matrix()"
   ]
  },
  {
   "cell_type": "markdown",
   "id": "2ff5f9c4",
   "metadata": {},
   "source": [
    "We are going to explore how the function transforms 2D space by observing what it does to the unit circle.  The first step is the represent the unit circle as a collection of points."
   ]
  },
  {
   "cell_type": "code",
   "execution_count": null,
   "id": "b5ee7b46",
   "metadata": {},
   "outputs": [],
   "source": [
    "'''This cell will generate 201 points around the unit circle and store those points as the columns of the matrix C.'''\n",
    "\n",
    "theta = [i*pi/100 for i in range(201)]\n",
    "x = [cos(th) for th in theta]\n",
    "y = [sin(th) for th in theta]\n",
    "C = np.matrix([x,y])"
   ]
  },
  {
   "cell_type": "markdown",
   "id": "0b0717fb",
   "metadata": {},
   "source": [
    "The next step is the transform the unit circle by multiplying the points stored in $ C $ by the matrix representation $ A $."
   ]
  },
  {
   "cell_type": "code",
   "execution_count": null,
   "id": "5765ccdc",
   "metadata": {},
   "outputs": [],
   "source": [
    "'''This cell multiplies A and C and stores the product in the variable AC.'''\n",
    "\n",
    "AC = A*C"
   ]
  },
  {
   "cell_type": "markdown",
   "id": "47343bdb",
   "metadata": {},
   "source": [
    "The final step is to plot the transformed points stored in $ AC $."
   ]
  },
  {
   "cell_type": "code",
   "execution_count": null,
   "id": "af12c660",
   "metadata": {},
   "outputs": [],
   "source": [
    "plt.figure(figsize=(5,5))\n",
    "plt.plot(AC[0],AC[1],'r.')\n",
    "plt.show()"
   ]
  },
  {
   "cell_type": "markdown",
   "id": "96b2ee28",
   "metadata": {},
   "source": [
    "**Question:** How would you describe this shape to someone who does not have the picture to look at?  Be as detailed as you can."
   ]
  },
  {
   "cell_type": "markdown",
   "id": "8cf30111",
   "metadata": {},
   "source": [
    "### Now repeat the process for the transformation with matrix representation\n",
    "$$\n",
    "B = \\left[\\begin{array}{cc} -1 & 5 \\\\ 4 & 3 \\end{array}\\right].\n",
    "$$"
   ]
  },
  {
   "cell_type": "code",
   "execution_count": null,
   "id": "ec6e6456",
   "metadata": {},
   "outputs": [],
   "source": []
  },
  {
   "cell_type": "markdown",
   "id": "e126c835",
   "metadata": {},
   "source": [
    "**Question:** How would your description of this graph differ from your description of the first graph?  Can you quantify that difference?"
   ]
  },
  {
   "cell_type": "code",
   "execution_count": null,
   "id": "ca5c7984",
   "metadata": {},
   "outputs": [],
   "source": []
  }
 ],
 "metadata": {
  "kernelspec": {
   "display_name": "Python 3 (ipykernel)",
   "language": "python",
   "name": "python3"
  },
  "language_info": {
   "codemirror_mode": {
    "name": "ipython",
    "version": 3
   },
   "file_extension": ".py",
   "mimetype": "text/x-python",
   "name": "python",
   "nbconvert_exporter": "python",
   "pygments_lexer": "ipython3",
   "version": "3.9.7"
  },
  "latex_envs": {
   "LaTeX_envs_menu_present": true,
   "autoclose": false,
   "autocomplete": false,
   "bibliofile": "biblio.bib",
   "cite_by": "apalike",
   "current_citInitial": 1,
   "eqLabelWithNumbers": true,
   "eqNumInitial": 1,
   "hotkeys": {
    "equation": "Ctrl-E",
    "itemize": "Ctrl-I"
   },
   "labels_anchors": false,
   "latex_user_defs": false,
   "report_style_numbering": false,
   "user_envs_cfg": false
  },
  "varInspector": {
   "cols": {
    "lenName": 16,
    "lenType": 16,
    "lenVar": 40
   },
   "kernels_config": {
    "python": {
     "delete_cmd_postfix": "",
     "delete_cmd_prefix": "del ",
     "library": "var_list.py",
     "varRefreshCmd": "print(var_dic_list())"
    },
    "r": {
     "delete_cmd_postfix": ") ",
     "delete_cmd_prefix": "rm(",
     "library": "var_list.r",
     "varRefreshCmd": "cat(var_dic_list()) "
    }
   },
   "types_to_exclude": [
    "module",
    "function",
    "builtin_function_or_method",
    "instance",
    "_Feature"
   ],
   "window_display": false
  }
 },
 "nbformat": 4,
 "nbformat_minor": 5
}
